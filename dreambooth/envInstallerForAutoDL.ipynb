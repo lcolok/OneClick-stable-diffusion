{
  "cells": [
    {
      "cell_type": "code",
      "execution_count": null,
      "id": "3a509f01-a191-4fef-806d-81b638fb2736",
      "metadata": {
        "collapsed": true
      },
      "outputs": [],
      "source": [
        "import site\n",
        "print(site.getsitepackages())\n",
        "\n",
        "!cp -r /root/content/usr/local/lib/python3.8/dist-packages /usr/local/lib/python3.8/"
      ]
    },
    {
      "cell_type": "code",
      "execution_count": null,
      "id": "ca0bf827-bffa-4462-8da3-db6b5982b8ab",
      "metadata": {
        "collapsed": true
      },
      "outputs": [],
      "source": [
        "!pip install torchvision"
      ]
    },
    {
      "cell_type": "code",
      "execution_count": null,
      "id": "99059787-9648-44ba-8e15-a022a5a7187f",
      "metadata": {
        "collapsed": true
      },
      "outputs": [],
      "source": [
        "!pip uninstall -y xformers\n",
        "!pip install xformers"
      ]
    },
    {
      "cell_type": "code",
      "execution_count": null,
      "id": "a5669d1b-1601-455c-9407-64cb1e852da9",
      "metadata": {
        "collapsed": true
      },
      "outputs": [],
      "source": [
        "!pip uninstall -y diffusers\n",
        "!git clone --branch updt https://github.com/TheLastBen/diffusers\n",
        "!pip install /root/content/diffusers"
      ]
    },
    {
      "cell_type": "code",
      "execution_count": null,
      "id": "1ea8b0f7-d962-41c3-9eef-1dec675cd1b7",
      "metadata": {
        "collapsed": true
      },
      "outputs": [],
      "source": [
        "!cd $site_packages_dir && ls -l"
      ]
    },
    {
      "cell_type": "code",
      "execution_count": null,
      "id": "271ec155-0913-47a0-ab80-4344e12b86a8",
      "metadata": {
        "collapsed": true
      },
      "outputs": [],
      "source": [
        "dep_dir = '/root/content/Dependencies'\n",
        "!7z x -y $dep_dir/Dependencies.7z.001 -o$dep_dir"
      ]
    },
    {
      "cell_type": "code",
      "execution_count": null,
      "id": "98c46de3-44c9-4602-949a-e88a7282978d",
      "metadata": {
        "collapsed": true
      },
      "outputs": [],
      "source": [
        "python_install_dir = '/root/miniconda3/envs/py3.10.6/lib/python3.10/site-packages'\n",
        "!cp -r $dep_dir/usr/local/lib/python3.8/dist-packages $python_install_dir"
      ]
    },
    {
      "cell_type": "code",
      "execution_count": null,
      "id": "89cf89c2-d70e-4dd3-bd74-c6d097c5c9b2",
      "metadata": {
        "collapsed": true
      },
      "outputs": [],
      "source": [
        "import os\n",
        "import site\n",
        "\n",
        "dep_dir = '/root/content/Dependencies'\n",
        "\n",
        "site_packages_dir = site.getsitepackages()[0]  # \u83b7\u53d6\u7b2c\u4e00\u4e2a site-packages \u76ee\u5f55\n",
        "python_install_dir = os.path.dirname(site_packages_dir)  # \u83b7\u53d6\u5b89\u88c5\u76ee\u5f55\n",
        "print(python_install_dir)\n",
        "!cp -r $dep_dir/usr/local/lib/python3.8/dist-packages $python_install_dir"
      ]
    },
    {
      "cell_type": "code",
      "execution_count": null,
      "id": "61a609db-45df-48a8-acc8-065330e3cac6",
      "metadata": {
        "collapsed": true
      },
      "outputs": [],
      "source": [
        "# \u6362pip\u534e\u4e3a\u4e91\u6e90\n",
        "!pip config set global.index-url https://mirrors.huaweicloud.com/repository/pypi/simple"
      ]
    },
    {
      "cell_type": "code",
      "execution_count": null,
      "id": "7fe8b142-3d89-4488-873a-e5dff07fcd9b",
      "metadata": {
        "collapsed": true
      },
      "outputs": [],
      "source": [
        "# \u901a\u8fc7\u81ea\u5df1\u7f16\u8bd1\u7684\u65b9\u5f0f\u5b89\u88c5Xformers\n",
        "\n",
        "import sys\n",
        "\n",
        "sys.path.append(\"../\")  # \u56e0\u4e3afunc\u4e0eipynb\u4f4d\u4e8e\u540c\u4e00\u4e2a\u76ee\u5f55\u4e0b\uff0c\u6240\u4ee5\u8981\u5f80\u4e0a\u4e00\u5c42\u8def\u5f84\u7d22\u5f15\n",
        "from func.env import setProxyCLI\n",
        "cb = setProxyCLI()\n",
        "proxy = cb[\"proxy\"]\n",
        "region = cb[\"region\"]\n",
        "proxyURL = cb[\"proxyURL\"]\n",
        "\n",
        "# \u672c\u5730\u6784\u5efaxformers\n",
        "\n",
        "!$proxy && cd /root/content && \\\n",
        "git clone https://github.com/facebookresearch/xformers.git && \\\n",
        "cd xformers && \\\n",
        "git submodule update --init --recursive && \\\n",
        "pip install -r requirements.txt && \\\n",
        "pip install --no-deps -e . && \\\n",
        "python setup.py bdist_wheel --universal # \u7f16\u8bd1\u5b8c\u6210\u540e\uff0c\u4f60\u53ef\u4ee5\u5bfc\u51fa\u5305\u5e76\u4e14\u4fdd\u5b58\u4e0b\u6765\u4ee5\u540e\u7528\uff0c\u5b58\u653e\u5728 /root/content/xformers/dist \u76ee\u5f55\u4e0brsivexformers"
      ]
    },
    {
      "cell_type": "code",
      "execution_count": null,
      "id": "4abd3418-77ef-48b6-b9af-14a8c32c0bbc",
      "metadata": {
        "collapsed": true
      },
      "outputs": [],
      "source": [
        "# \uff08\u63a8\u8350\uff09\u4f7f\u7528\u4e8c\u8fdb\u5236\u6587\u4ef6\uff1a\u6211\u4eec\u4e3a Linux \u548c\u6700\u65b0\u7684 PyTorch \u7248\u672c\u63d0\u4f9b\u4e8c\u8fdb\u5236\u6587\u4ef6\u3002\u5728conda \u4e2d\u5b89\u88c5 pytorch\u540e\uff0c\u4f7f\u7528 conda \u5b89\u88c5 xFormers\uff1a\n",
        "\n",
        "import sys\n",
        "\n",
        "sys.path.append(\"../\")  # \u56e0\u4e3afunc\u4e0eipynb\u4f4d\u4e8e\u540c\u4e00\u4e2a\u76ee\u5f55\u4e0b\uff0c\u6240\u4ee5\u8981\u5f80\u4e0a\u4e00\u5c42\u8def\u5f84\u7d22\u5f15\n",
        "from func.env import setProxyCLI\n",
        "cb = setProxyCLI()\n",
        "proxy = cb[\"proxy\"]\n",
        "region = cb[\"region\"]\n",
        "proxyURL = cb[\"proxyURL\"]\n",
        "\n",
        "\n",
        "!$proxy && . activate && conda activate py3.10.6 && conda install -y xformers -c xformers/label/dev"
      ]
    },
    {
      "cell_type": "code",
      "execution_count": null,
      "id": "0fe0d658-4afd-405c-9b97-76deb9bc1ee2",
      "metadata": {
        "collapsed": true
      },
      "outputs": [],
      "source": [
        "import xformers\n",
        "xformers.__version__"
      ]
    },
    {
      "cell_type": "code",
      "execution_count": null,
      "id": "efea1a4b-8d4b-4965-991e-6f34a41b7e6f",
      "metadata": {
        "collapsed": true
      },
      "outputs": [],
      "source": [
        "!nvidia-smi"
      ]
    },
    {
      "cell_type": "code",
      "execution_count": null,
      "id": "4b448ff8-4966-43ae-9e8d-03eb5757fc31",
      "metadata": {
        "collapsed": true
      },
      "outputs": [],
      "source": [
        "!cd /root/content/xformers/dist && ls && pip install xformers-0.0.15+e773f9d.d20221220-cp38-cp38-linux_x86_64.whl\n"
      ]
    },
    {
      "cell_type": "code",
      "execution_count": null,
      "id": "4b2d6a40-68a2-48e8-ba68-90b3631d5ea7",
      "metadata": {
        "collapsed": true
      },
      "outputs": [],
      "source": [
        "!pip uninstall -y xformers"
      ]
    },
    {
      "cell_type": "code",
      "execution_count": null,
      "id": "309f2c20-4c65-4099-8c87-1bdd48726ded",
      "metadata": {
        "collapsed": true
      },
      "outputs": [],
      "source": [
        "!pip install /root/content/xformers/dist/xformers-0.0.15+e773f9d.d20221220-cp38-cp38-linux_x86_64.whl"
      ]
    },
    {
      "cell_type": "code",
      "execution_count": null,
      "id": "ecf3505a-d8d8-4f98-b5e0-5187fecfd5ef",
      "metadata": {
        "collapsed": true
      },
      "outputs": [],
      "source": [
        "!pip uninstall -y triton && pip install triton==2.0.0.dev20221120"
      ]
    }
  ],
  "metadata": {
    "kernelspec": {
      "display_name": "Python 3 (ipykernel)",
      "language": "python",
      "name": "python3"
    },
    "language_info": {
      "codemirror_mode": {
        "name": "ipython",
        "version": 3
      },
      "file_extension": ".py",
      "mimetype": "text/x-python",
      "name": "python",
      "nbconvert_exporter": "python",
      "pygments_lexer": "ipython3",
      "version": "3.8.10"
    }
  },
  "nbformat": 4,
  "nbformat_minor": 5
}