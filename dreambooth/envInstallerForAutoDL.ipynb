{
 "cells": [
  {
   "cell_type": "code",
   "execution_count": null,
   "id": "3a509f01-a191-4fef-806d-81b638fb2736",
   "metadata": {},
   "outputs": [],
   "source": [
    "import site\n",
    "print(site.getsitepackages())\n",
    "\n",
    "!cp -r /root/content/usr/local/lib/python3.8/dist-packages /usr/local/lib/python3.8/"
   ]
  },
  {
   "cell_type": "code",
   "execution_count": null,
   "id": "ca0bf827-bffa-4462-8da3-db6b5982b8ab",
   "metadata": {},
   "outputs": [],
   "source": [
    "!pip install torchvision"
   ]
  },
  {
   "cell_type": "code",
   "execution_count": null,
   "id": "99059787-9648-44ba-8e15-a022a5a7187f",
   "metadata": {},
   "outputs": [],
   "source": [
    "!pip uninstall -y xformers\n",
    "!pip install xformers"
   ]
  },
  {
   "cell_type": "code",
   "execution_count": null,
   "id": "a5669d1b-1601-455c-9407-64cb1e852da9",
   "metadata": {},
   "outputs": [],
   "source": [
    "!pip uninstall -y diffusers\n",
    "!git clone --branch updt https://github.com/TheLastBen/diffusers\n",
    "!pip install /root/content/diffusers"
   ]
  },
  {
   "cell_type": "code",
   "execution_count": null,
   "id": "89cf89c2-d70e-4dd3-bd74-c6d097c5c9b2",
   "metadata": {},
   "outputs": [],
   "source": [
    "import os\n",
    "import site\n",
    "\n",
    "dep_dir = '/root/content/Dependencies'\n",
    "\n",
    "site_packages_dir = site.getsitepackages()[0]  # 获取第一个 site-packages 目录\n",
    "python_install_dir = os.path.dirname(site_packages_dir)  # 获取安装目录\n",
    "print(python_install_dir)\n",
    "!cp -r $dep_dir/usr/local/lib/python3.8/dist-packages $python_install_dir"
   ]
  },
  {
   "cell_type": "code",
   "execution_count": null,
   "id": "1ea8b0f7-d962-41c3-9eef-1dec675cd1b7",
   "metadata": {},
   "outputs": [],
   "source": [
    "!cd $site_packages_dir && ls -l"
   ]
  },
  {
   "cell_type": "code",
   "execution_count": null,
   "id": "271ec155-0913-47a0-ab80-4344e12b86a8",
   "metadata": {},
   "outputs": [],
   "source": [
    "dep_dir = '/root/content/Dependencies'\n",
    "!7z x -y $dep_dir/Dependencies.7z.001 -o$dep_dir"
   ]
  },
  {
   "cell_type": "code",
   "execution_count": null,
   "id": "61a609db-45df-48a8-acc8-065330e3cac6",
   "metadata": {},
   "outputs": [],
   "source": [
    "# 换pip华为云源\n",
    "!pip config set global.index-url https://mirrors.huaweicloud.com/repository/pypi/simple"
   ]
  },
  {
   "cell_type": "code",
   "execution_count": 6,
   "id": "7fe8b142-3d89-4488-873a-e5dff07fcd9b",
   "metadata": {},
   "outputs": [
    {
     "name": "stdout",
     "output_type": "stream",
     "text": [
      "\u001b[1;33mPing程序运行耗时\u001b[0m: \u001b[1;32m3毫秒\u001b[0m\n",
      "Ping通该IP与端口：192.168.1.174:12798，正在使用【内蒙】代理\n"
     ]
    },
    {
     "name": "stderr",
     "output_type": "stream",
     "text": [
      "ping: alchemist-experience: Name or service not known\n"
     ]
    },
    {
     "name": "stdout",
     "output_type": "stream",
     "text": [
      "Looking in indexes: https://mirrors.huaweicloud.com/repository/pypi/simple\n",
      "Requirement already satisfied: torch>=1.12 in /root/miniconda3/lib/python3.8/site-packages (from -r requirements.txt (line 3)) (1.13.1)\n",
      "Requirement already satisfied: numpy in /root/miniconda3/lib/python3.8/site-packages (from -r requirements.txt (line 4)) (1.23.1)\n",
      "Requirement already satisfied: pyre-extensions==0.0.23 in /root/miniconda3/lib/python3.8/site-packages (from -r requirements.txt (line 5)) (0.0.23)\n",
      "Requirement already satisfied: einops in /root/miniconda3/lib/python3.8/site-packages (from -r requirements.txt (line 7)) (0.6.0)\n",
      "Requirement already satisfied: typing-inspect in /root/miniconda3/lib/python3.8/site-packages (from pyre-extensions==0.0.23->-r requirements.txt (line 5)) (0.8.0)\n",
      "Requirement already satisfied: typing-extensions in /root/miniconda3/lib/python3.8/site-packages (from pyre-extensions==0.0.23->-r requirements.txt (line 5)) (4.4.0)\n",
      "Requirement already satisfied: nvidia-cuda-nvrtc-cu11==11.7.99 in /root/miniconda3/lib/python3.8/site-packages (from torch>=1.12->-r requirements.txt (line 3)) (11.7.99)\n",
      "Requirement already satisfied: nvidia-cuda-runtime-cu11==11.7.99 in /root/miniconda3/lib/python3.8/site-packages (from torch>=1.12->-r requirements.txt (line 3)) (11.7.99)\n",
      "Requirement already satisfied: nvidia-cudnn-cu11==8.5.0.96 in /root/miniconda3/lib/python3.8/site-packages (from torch>=1.12->-r requirements.txt (line 3)) (8.5.0.96)\n",
      "Requirement already satisfied: nvidia-cublas-cu11==11.10.3.66 in /root/miniconda3/lib/python3.8/site-packages (from torch>=1.12->-r requirements.txt (line 3)) (11.10.3.66)\n",
      "Requirement already satisfied: setuptools in /root/miniconda3/lib/python3.8/site-packages (from nvidia-cublas-cu11==11.10.3.66->torch>=1.12->-r requirements.txt (line 3)) (52.0.0.post20210125)\n",
      "Requirement already satisfied: wheel in /root/miniconda3/lib/python3.8/site-packages (from nvidia-cublas-cu11==11.10.3.66->torch>=1.12->-r requirements.txt (line 3)) (0.36.2)\n",
      "Requirement already satisfied: mypy-extensions>=0.3.0 in /root/miniconda3/lib/python3.8/site-packages (from typing-inspect->pyre-extensions==0.0.23->-r requirements.txt (line 5)) (0.4.3)\n",
      "\u001b[33mWARNING: Running pip as the 'root' user can result in broken permissions and conflicting behaviour with the system package manager. It is recommended to use a virtual environment instead: https://pip.pypa.io/warnings/venv\u001b[0m\u001b[33m\n",
      "\u001b[0mLooking in indexes: https://mirrors.huaweicloud.com/repository/pypi/simple\n",
      "Obtaining file:///root/autodl-tmp/content/xformers\n",
      "  Preparing metadata (setup.py) ... \u001b[?25ldone\n",
      "\u001b[?25hInstalling collected packages: xformers\n",
      "  Running setup.py develop for xformers\n"
     ]
    }
   ],
   "source": [
    "# 通过自己编译的方式安装Xformers\n",
    "\n",
    "import sys\n",
    "\n",
    "sys.path.append(\"../\")  # 因为func与ipynb位于同一个目录下，所以要往上一层路径索引\n",
    "from func.env import setProxyCLI\n",
    "cb = setProxyCLI()\n",
    "proxy = cb[\"proxy\"]\n",
    "region = cb[\"region\"]\n",
    "proxyURL = cb[\"proxyURL\"]\n",
    "\n",
    "# 本地构建xformers\n",
    "\n",
    "!$proxy && cd /root/content && \\\n",
    "git clone https://github.com/facebookresearch/xformers.git && \\\n",
    "cd xformers && \\\n",
    "git submodule update --init --recursive && \\\n",
    "pip install -r requirements.txt && \\\n",
    "pip install --no-deps -e . && \\\n",
    "python setup.py bdist_wheel --universal # 编译完成后，你可以导出包并且保存下来以后用，存放在 /root/content/xformers/dist 目录下rsivexformers"
   ]
  },
  {
   "cell_type": "code",
   "execution_count": 67,
   "id": "4abd3418-77ef-48b6-b9af-14a8c32c0bbc",
   "metadata": {},
   "outputs": [
    {
     "name": "stdout",
     "output_type": "stream",
     "text": [
      "\u001b[1;33mPing程序运行耗时\u001b[0m: \u001b[1;32m5毫秒\u001b[0m\n",
      "Ping通该IP与端口：192.168.1.174:12798，正在使用【内蒙】代理\n"
     ]
    },
    {
     "name": "stderr",
     "output_type": "stream",
     "text": [
      "ping: alchemist-experience: Name or service not known\n"
     ]
    },
    {
     "name": "stdout",
     "output_type": "stream",
     "text": [
      "Collecting package metadata (current_repodata.json): done\n",
      "Solving environment: failed with initial frozen solve. Retrying with flexible solve.\n",
      "Solving environment: failed with repodata from current_repodata.json, will retry with next repodata source.\n",
      "Collecting package metadata (repodata.json): done\n",
      "Solving environment: failed with initial frozen solve. Retrying with flexible solve.\n",
      "Solving environment: / \n",
      "Found conflicts! Looking for incompatible packages.\n",
      "This can take several minutes.  Press CTRL-C to abort.\n",
      "                                                                               failed\n",
      "\n",
      "UnsatisfiableError: The following specifications were found\n",
      "to be incompatible with the existing python installation in your environment:\n",
      "\n",
      "Specifications:\n",
      "\n",
      "  - xformers -> python[version='>=3.10,<3.11.0a0|>=3.9,<3.10.0a0']\n",
      "\n",
      "Your python: python=3.8\n",
      "\n",
      "If python is on the left-most side of the chain, that's the version you've asked for.\n",
      "When python appears to the right, that indicates that the thing on the left is somehow\n",
      "not available for the python version you are constrained to. Note that conda will not\n",
      "change your python version to a different minor version unless you explicitly specify\n",
      "that.\n",
      "\n",
      "The following specifications were found to be incompatible with your system:\n",
      "\n",
      "  - feature:/linux-64::__glibc==2.31=0\n",
      "  - python=3.8 -> libgcc-ng[version='>=11.2.0'] -> __glibc[version='>=2.17']\n",
      "\n",
      "Your installed version is: 2.31\n",
      "\n",
      "\n"
     ]
    }
   ],
   "source": [
    "# （推荐）使用二进制文件：我们为 Linux 和最新的 PyTorch 版本提供二进制文件。在conda 中安装 pytorch后，使用 conda 安装 xFormers：\n",
    "\n",
    "import sys\n",
    "\n",
    "sys.path.append(\"../\")  # 因为func与ipynb位于同一个目录下，所以要往上一层路径索引\n",
    "from func.env import setProxyCLI\n",
    "cb = setProxyCLI()\n",
    "proxy = cb[\"proxy\"]\n",
    "region = cb[\"region\"]\n",
    "proxyURL = cb[\"proxyURL\"]\n",
    "\n",
    "\n",
    "!$proxy && . activate && conda install xformers -c xformers/label/dev"
   ]
  },
  {
   "cell_type": "code",
   "execution_count": 1,
   "id": "0fe0d658-4afd-405c-9b97-76deb9bc1ee2",
   "metadata": {},
   "outputs": [
    {
     "ename": "ModuleNotFoundError",
     "evalue": "No module named 'xformers'",
     "output_type": "error",
     "traceback": [
      "\u001b[0;31m---------------------------------------------------------------------------\u001b[0m",
      "\u001b[0;31mModuleNotFoundError\u001b[0m                       Traceback (most recent call last)",
      "Input \u001b[0;32mIn [1]\u001b[0m, in \u001b[0;36m<cell line: 1>\u001b[0;34m()\u001b[0m\n\u001b[0;32m----> 1\u001b[0m \u001b[38;5;28;01mimport\u001b[39;00m \u001b[38;5;21;01mxformers\u001b[39;00m\n\u001b[1;32m      2\u001b[0m xformers\u001b[38;5;241m.\u001b[39m__version__\n",
      "\u001b[0;31mModuleNotFoundError\u001b[0m: No module named 'xformers'"
     ]
    }
   ],
   "source": [
    "import xformers\n",
    "xformers.__version__"
   ]
  },
  {
   "cell_type": "code",
   "execution_count": 62,
   "id": "efea1a4b-8d4b-4965-991e-6f34a41b7e6f",
   "metadata": {},
   "outputs": [
    {
     "name": "stdout",
     "output_type": "stream",
     "text": [
      "Tue Dec 20 01:14:31 2022       \n",
      "+-----------------------------------------------------------------------------+\n",
      "| NVIDIA-SMI 515.76       Driver Version: 515.76       CUDA Version: 11.7     |\n",
      "|-------------------------------+----------------------+----------------------+\n",
      "| GPU  Name        Persistence-M| Bus-Id        Disp.A | Volatile Uncorr. ECC |\n",
      "| Fan  Temp  Perf  Pwr:Usage/Cap|         Memory-Usage | GPU-Util  Compute M. |\n",
      "|                               |                      |               MIG M. |\n",
      "|===============================+======================+======================|\n",
      "|   0  NVIDIA RTX A5000    On   | 00000000:01:00.0 Off |                  Off |\n",
      "| 30%   29C    P8    17W / 230W |      2MiB / 24564MiB |      0%      Default |\n",
      "|                               |                      |                  N/A |\n",
      "+-------------------------------+----------------------+----------------------+\n",
      "                                                                               \n",
      "+-----------------------------------------------------------------------------+\n",
      "| Processes:                                                                  |\n",
      "|  GPU   GI   CI        PID   Type   Process name                  GPU Memory |\n",
      "|        ID   ID                                                   Usage      |\n",
      "|=============================================================================|\n",
      "|  No running processes found                                                 |\n",
      "+-----------------------------------------------------------------------------+\n"
     ]
    }
   ],
   "source": [
    "!nvidia-smi"
   ]
  },
  {
   "cell_type": "code",
   "execution_count": 50,
   "id": "4b448ff8-4966-43ae-9e8d-03eb5757fc31",
   "metadata": {},
   "outputs": [
    {
     "name": "stdout",
     "output_type": "stream",
     "text": [
      "xformers-0.0.15+e773f9d.d20221220-cp38-cp38-linux_x86_64.whl\n",
      "\u001b[31mERROR: Exception:\n",
      "Traceback (most recent call last):\n",
      "  File \"/root/miniconda3/lib/python3.8/site-packages/pip/_internal/cli/base_command.py\", line 160, in exc_logging_wrapper\n",
      "    status = run_func(*args)\n",
      "  File \"/root/miniconda3/lib/python3.8/site-packages/pip/_internal/cli/req_command.py\", line 247, in wrapper\n",
      "    return func(self, options, args)\n",
      "  File \"/root/miniconda3/lib/python3.8/site-packages/pip/_internal/commands/install.py\", line 335, in run\n",
      "    build_tracker = self.enter_context(get_build_tracker())\n",
      "  File \"/root/miniconda3/lib/python3.8/site-packages/pip/_internal/cli/command_context.py\", line 27, in enter_context\n",
      "    return self._main_context.enter_context(context_provider)\n",
      "  File \"/root/miniconda3/lib/python3.8/contextlib.py\", line 425, in enter_context\n",
      "    result = _cm_type.__enter__(cm)\n",
      "  File \"/root/miniconda3/lib/python3.8/contextlib.py\", line 113, in __enter__\n",
      "    return next(self.gen)\n",
      "  File \"/root/miniconda3/lib/python3.8/site-packages/pip/_internal/operations/build/build_tracker.py\", line 46, in get_build_tracker\n",
      "    root = ctx.enter_context(TempDirectory(kind=\"build-tracker\")).path\n",
      "  File \"/root/miniconda3/lib/python3.8/site-packages/pip/_internal/utils/temp_dir.py\", line 125, in __init__\n",
      "    path = self._create(kind)\n",
      "  File \"/root/miniconda3/lib/python3.8/site-packages/pip/_internal/utils/temp_dir.py\", line 164, in _create\n",
      "    path = os.path.realpath(tempfile.mkdtemp(prefix=f\"pip-{kind}-\"))\n",
      "  File \"/root/miniconda3/lib/python3.8/tempfile.py\", line 347, in mkdtemp\n",
      "    prefix, suffix, dir, output_type = _sanitize_params(prefix, suffix, dir)\n",
      "  File \"/root/miniconda3/lib/python3.8/tempfile.py\", line 117, in _sanitize_params\n",
      "    dir = gettempdir()\n",
      "  File \"/root/miniconda3/lib/python3.8/tempfile.py\", line 286, in gettempdir\n",
      "    tempdir = _get_default_tempdir()\n",
      "  File \"/root/miniconda3/lib/python3.8/tempfile.py\", line 218, in _get_default_tempdir\n",
      "    raise FileNotFoundError(_errno.ENOENT,\n",
      "FileNotFoundError: [Errno 2] No usable temporary directory found in ['/tmp', '/var/tmp', '/usr/tmp', '/root/content/xformers/dist']\u001b[0m\u001b[31m\n",
      "\u001b[0m"
     ]
    }
   ],
   "source": [
    "!cd /root/content/xformers/dist && ls && pip install xformers-0.0.15+e773f9d.d20221220-cp38-cp38-linux_x86_64.whl\n"
   ]
  },
  {
   "cell_type": "code",
   "execution_count": null,
   "id": "4b2d6a40-68a2-48e8-ba68-90b3631d5ea7",
   "metadata": {},
   "outputs": [
    {
     "name": "stdout",
     "output_type": "stream",
     "text": [
      "Found existing installation: xformers 0.0.15+e773f9d.d20221220\n",
      "Uninstalling xformers-0.0.15+e773f9d.d20221220:\n",
      "  Successfully uninstalled xformers-0.0.15+e773f9d.d20221220\n",
      "\u001b[33mWARNING: Running pip as the 'root' user can result in broken permissions and conflicting behaviour with the system package manager. It is recommended to use a virtual environment instead: https://pip.pypa.io/warnings/venv\u001b[0m\u001b[33m\n",
      "\u001b[0m"
     ]
    }
   ],
   "source": [
    "!pip uninstall -y xformers"
   ]
  },
  {
   "cell_type": "code",
   "execution_count": 81,
   "id": "309f2c20-4c65-4099-8c87-1bdd48726ded",
   "metadata": {},
   "outputs": [
    {
     "name": "stdout",
     "output_type": "stream",
     "text": [
      "Looking in indexes: https://mirrors.huaweicloud.com/repository/pypi/simple\n",
      "Processing /root/content/xformers/dist/xformers-0.0.15+e773f9d.d20221220-cp38-cp38-linux_x86_64.whl\n",
      "Requirement already satisfied: numpy in /root/miniconda3/lib/python3.8/site-packages (from xformers==0.0.15+e773f9d.d20221220) (1.23.1)\n",
      "Requirement already satisfied: pyre-extensions==0.0.23 in /root/miniconda3/lib/python3.8/site-packages (from xformers==0.0.15+e773f9d.d20221220) (0.0.23)\n",
      "Requirement already satisfied: torch>=1.12 in /root/miniconda3/lib/python3.8/site-packages (from xformers==0.0.15+e773f9d.d20221220) (1.13.1)\n",
      "Requirement already satisfied: einops in /root/miniconda3/lib/python3.8/site-packages (from xformers==0.0.15+e773f9d.d20221220) (0.6.0)\n",
      "Requirement already satisfied: typing-extensions in /root/miniconda3/lib/python3.8/site-packages (from pyre-extensions==0.0.23->xformers==0.0.15+e773f9d.d20221220) (4.4.0)\n",
      "Requirement already satisfied: typing-inspect in /root/miniconda3/lib/python3.8/site-packages (from pyre-extensions==0.0.23->xformers==0.0.15+e773f9d.d20221220) (0.8.0)\n",
      "Requirement already satisfied: nvidia-cublas-cu11==11.10.3.66 in /root/miniconda3/lib/python3.8/site-packages (from torch>=1.12->xformers==0.0.15+e773f9d.d20221220) (11.10.3.66)\n",
      "Requirement already satisfied: nvidia-cudnn-cu11==8.5.0.96 in /root/miniconda3/lib/python3.8/site-packages (from torch>=1.12->xformers==0.0.15+e773f9d.d20221220) (8.5.0.96)\n",
      "Requirement already satisfied: nvidia-cuda-nvrtc-cu11==11.7.99 in /root/miniconda3/lib/python3.8/site-packages (from torch>=1.12->xformers==0.0.15+e773f9d.d20221220) (11.7.99)\n",
      "Requirement already satisfied: nvidia-cuda-runtime-cu11==11.7.99 in /root/miniconda3/lib/python3.8/site-packages (from torch>=1.12->xformers==0.0.15+e773f9d.d20221220) (11.7.99)\n",
      "Requirement already satisfied: setuptools in /root/miniconda3/lib/python3.8/site-packages (from nvidia-cublas-cu11==11.10.3.66->torch>=1.12->xformers==0.0.15+e773f9d.d20221220) (52.0.0.post20210125)\n",
      "Requirement already satisfied: wheel in /root/miniconda3/lib/python3.8/site-packages (from nvidia-cublas-cu11==11.10.3.66->torch>=1.12->xformers==0.0.15+e773f9d.d20221220) (0.36.2)\n",
      "Requirement already satisfied: mypy-extensions>=0.3.0 in /root/miniconda3/lib/python3.8/site-packages (from typing-inspect->pyre-extensions==0.0.23->xformers==0.0.15+e773f9d.d20221220) (0.4.3)\n",
      "Installing collected packages: xformers\n",
      "Successfully installed xformers-0.0.15+e773f9d.d20221220\n",
      "\u001b[33mWARNING: Running pip as the 'root' user can result in broken permissions and conflicting behaviour with the system package manager. It is recommended to use a virtual environment instead: https://pip.pypa.io/warnings/venv\u001b[0m\u001b[33m\n",
      "\u001b[0m"
     ]
    }
   ],
   "source": [
    "!pip install /root/content/xformers/dist/xformers-0.0.15+e773f9d.d20221220-cp38-cp38-linux_x86_64.whl"
   ]
  },
  {
   "cell_type": "code",
   "execution_count": 60,
   "id": "ecf3505a-d8d8-4f98-b5e0-5187fecfd5ef",
   "metadata": {},
   "outputs": [
    {
     "name": "stdout",
     "output_type": "stream",
     "text": [
      "\u001b[33mWARNING: Skipping triton as it is not installed.\u001b[0m\u001b[33m\n",
      "\u001b[0m\u001b[33mWARNING: Running pip as the 'root' user can result in broken permissions and conflicting behaviour with the system package manager. It is recommended to use a virtual environment instead: https://pip.pypa.io/warnings/venv\u001b[0m\u001b[33m\n",
      "\u001b[0mLooking in indexes: https://mirrors.huaweicloud.com/repository/pypi/simple\n",
      "Collecting triton==2.0.0.dev20221120\n",
      "  Using cached https://mirrors.huaweicloud.com/repository/pypi/packages/34/59/0a4831c026fa328826c12c85b62b73059cf1058c57dcaaea0abf95eee728/triton-2.0.0.dev20221120-cp38-cp38-manylinux_2_17_x86_64.manylinux2014_x86_64.whl (18.7 MB)\n",
      "Requirement already satisfied: cmake in /root/miniconda3/lib/python3.8/site-packages (from triton==2.0.0.dev20221120) (3.25.0)\n",
      "Requirement already satisfied: filelock in /root/miniconda3/lib/python3.8/site-packages (from triton==2.0.0.dev20221120) (3.8.2)\n",
      "Requirement already satisfied: torch in /root/miniconda3/lib/python3.8/site-packages (from triton==2.0.0.dev20221120) (1.13.1)\n",
      "Requirement already satisfied: nvidia-cublas-cu11==11.10.3.66 in /root/miniconda3/lib/python3.8/site-packages (from torch->triton==2.0.0.dev20221120) (11.10.3.66)\n",
      "Requirement already satisfied: nvidia-cuda-nvrtc-cu11==11.7.99 in /root/miniconda3/lib/python3.8/site-packages (from torch->triton==2.0.0.dev20221120) (11.7.99)\n",
      "Requirement already satisfied: nvidia-cuda-runtime-cu11==11.7.99 in /root/miniconda3/lib/python3.8/site-packages (from torch->triton==2.0.0.dev20221120) (11.7.99)\n",
      "Requirement already satisfied: typing-extensions in /root/miniconda3/lib/python3.8/site-packages (from torch->triton==2.0.0.dev20221120) (4.4.0)\n",
      "Requirement already satisfied: nvidia-cudnn-cu11==8.5.0.96 in /root/miniconda3/lib/python3.8/site-packages (from torch->triton==2.0.0.dev20221120) (8.5.0.96)\n",
      "Requirement already satisfied: setuptools in /root/miniconda3/lib/python3.8/site-packages (from nvidia-cublas-cu11==11.10.3.66->torch->triton==2.0.0.dev20221120) (52.0.0.post20210125)\n",
      "Requirement already satisfied: wheel in /root/miniconda3/lib/python3.8/site-packages (from nvidia-cublas-cu11==11.10.3.66->torch->triton==2.0.0.dev20221120) (0.36.2)\n",
      "Installing collected packages: triton\n",
      "Successfully installed triton-2.0.0.dev20221120\n",
      "\u001b[33mWARNING: Running pip as the 'root' user can result in broken permissions and conflicting behaviour with the system package manager. It is recommended to use a virtual environment instead: https://pip.pypa.io/warnings/venv\u001b[0m\u001b[33m\n",
      "\u001b[0m"
     ]
    }
   ],
   "source": [
    "!pip uninstall -y triton && pip install triton==2.0.0.dev20221120"
   ]
  }
 ],
 "metadata": {
  "kernelspec": {
   "display_name": "Python 3 (ipykernel)",
   "language": "python",
   "name": "python3"
  },
  "language_info": {
   "codemirror_mode": {
    "name": "ipython",
    "version": 3
   },
   "file_extension": ".py",
   "mimetype": "text/x-python",
   "name": "python",
   "nbconvert_exporter": "python",
   "pygments_lexer": "ipython3",
   "version": "3.8.10"
  }
 },
 "nbformat": 4,
 "nbformat_minor": 5
}
