{
  "cells": [
    {
      "cell_type": "markdown",
      "id": "734dcb25-c750-41b7-a776-5519e71fedd6",
      "metadata": {},
      "source": [
        "# \u628atools/git_tools\u4e2d\u7684git.py\u590d\u5236\u4e00\u4efd\u5230OneClick-stable-diffusion\u6587\u4ef6\u5939\u540c\u7ea7\u76ee\u5f55\u4e0b"
      ],
      "outputs": [],
      "execution_count": null
    },
    {
      "cell_type": "code",
      "execution_count": null,
      "id": "be73e234-73d3-46a9-a5b4-aa47e841fc52",
      "metadata": {},
      "outputs": [],
      "source": [
        "import subprocess\n",
        "import os\n",
        "\n",
        "# \u5b9a\u4e49get_thisrepo_root\u51fd\u6570\uff0c\u83b7\u53d6\u5f53\u524drepo\u6240\u5728\u7684\u7236\u76ee\u5f55\n",
        "def get_thisrepo_root():\n",
        "    # \u8c03\u7528\u547d\u4ee4\u884c\u5de5\u5177git rev-parse\uff0c\u83b7\u53d6git\u9879\u76ee\u7684\u6839\u76ee\u5f55\n",
        "    git_root = subprocess.run(\n",
        "        [\"git\", \"rev-parse\", \"--show-toplevel\"],\n",
        "        capture_output=True,\n",
        "        text=True,\n",
        "    ).stdout.strip()\n",
        "\n",
        "    # \u83b7\u53d6\u6839\u76ee\u5f55\u7684\u7236\u76ee\u5f55\n",
        "    parent_dir = os.path.dirname(git_root)\n",
        "    \n",
        "    return parent_dir\n",
        "\n",
        "# \u5b9a\u4e49get_git_py_dir\u51fd\u6570\uff0c\u904d\u5386\u76ee\u5f55\uff0c\u627e\u5230\u4e0egitPushHelper.py\u4f4d\u4e8e\u540c\u4e00\u76ee\u5f55\u4e0b\u7684git.py\n",
        "def get_git_py_dir(root_dir):\n",
        "    # \u904d\u5386root_dir\u76ee\u5f55\u4e2d\u7684\u6240\u6709\u6587\u4ef6\u548c\u5b50\u76ee\u5f55\n",
        "    for root, dirs, files in os.walk(root_dir, topdown=True):\n",
        "        # \u5982\u679c\u5f53\u524d\u76ee\u5f55\u4e2d\u6709\u540d\u4e3agit.py\u7684\u6587\u4ef6\n",
        "        if 'git.py' in files:\n",
        "            # \u83b7\u53d6gitPushHelper.py\u6587\u4ef6\u7684\u8def\u5f84\n",
        "            git_push_helper_path = os.path.join(root, 'gitPushHelper.py')\n",
        "            # \u5982\u679cgitPushHelper.py\u6587\u4ef6\u5b58\u5728\n",
        "            if os.path.exists(git_push_helper_path):\n",
        "                # \u83b7\u53d6git.py\u6587\u4ef6\u7684\u8def\u5f84\n",
        "                git_py_path = os.path.join(root, 'git.py')\n",
        "                # \u5982\u679cgitPushHelper.py\u548cgit.py\u6587\u4ef6\u5728\u540c\u4e00\u76ee\u5f55\u4e2d\uff0c\u5219\u8fd4\u56degit.py\u6587\u4ef6\u7684\u8def\u5f84\n",
        "                if os.path.dirname(git_push_helper_path) == os.path.dirname(git_py_path):\n",
        "                    return git_py_path\n",
        "\n",
        "# \u83b7\u53d6\u6839\u76ee\u5f55\n",
        "root_dir=get_thisrepo_root()\n",
        "# \u83b7\u53d6git.py\u8def\u5f84\n",
        "git_py_dir=get_git_py_dir(root_dir)\n",
        "\n",
        "# \u628agit.py\u590d\u5236\u5230OneClick-stable-diffusion\u6587\u4ef6\u5939\u540c\u7ea7\u76ee\u5f55\u4e0b\n",
        "import shutil\n",
        "shutil.copy(git_py_dir, root_dir)"
      ]
    },
    {
      "cell_type": "code",
      "execution_count": null,
      "id": "1cef3a67-ecff-4ae0-8331-bb65989d42c0",
      "metadata": {},
      "outputs": [],
      "source": []
    }
  ],
  "metadata": {
    "kernelspec": {
      "display_name": "Python 3 (ipykernel)",
      "language": "python",
      "name": "python3"
    },
    "language_info": {
      "codemirror_mode": {
        "name": "ipython",
        "version": 3
      },
      "file_extension": ".py",
      "mimetype": "text/x-python",
      "name": "python",
      "nbconvert_exporter": "python",
      "pygments_lexer": "ipython3",
      "version": "3.8.13"
    }
  },
  "nbformat": 4,
  "nbformat_minor": 5
}