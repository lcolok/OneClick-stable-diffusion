{
 "cells": [
  {
   "cell_type": "markdown",
   "id": "e58ad1f2-1df4-45dd-9676-83295afd3ba7",
   "metadata": {
    "tags": []
   },
   "source": [
    "# <i class=\"fa fa-plane-departure\"></i> 学术加速\n",
    "首先要进行学术加速，这有利于拉取资源，详情请看：https://www.autodl.com/docs/network_turbo/  "
   ]
  },
  {
   "cell_type": "code",
   "execution_count": 1,
   "id": "6e5dde11-3f7f-4de4-adaa-0b4789b43e4f",
   "metadata": {
    "jupyter": {
     "source_hidden": true
    },
    "tags": []
   },
   "outputs": [
    {
     "data": {
      "application/vnd.jupyter.widget-view+json": {
       "model_id": "d5aa72e8bb8241aaa9a3c29c2ec208d6",
       "version_major": 2,
       "version_minor": 0
      },
      "text/plain": [
       "Button(button_style='info', description='在使用【内蒙】代理', style=ButtonStyle(), tooltip='请点击下方的区名')"
      ]
     },
     "metadata": {},
     "output_type": "display_data"
    },
    {
     "data": {
      "application/vnd.jupyter.widget-view+json": {
       "model_id": "f000bd1f5b9844cc919d3feab4fe54cd",
       "version_major": 2,
       "version_minor": 0
      },
      "text/plain": [
       "Button(description='芜湖', style=ButtonStyle(), tooltip='Click me')"
      ]
     },
     "metadata": {},
     "output_type": "display_data"
    },
    {
     "data": {
      "application/vnd.jupyter.widget-view+json": {
       "model_id": "0d9f5bc615984302bec58e78877e60f0",
       "version_major": 2,
       "version_minor": 0
      },
      "text/plain": [
       "Button(description='北京', style=ButtonStyle(), tooltip='Click me')"
      ]
     },
     "metadata": {},
     "output_type": "display_data"
    },
    {
     "data": {
      "application/vnd.jupyter.widget-view+json": {
       "model_id": "a4ad8dc1390c49e591feecd5f796b183",
       "version_major": 2,
       "version_minor": 0
      },
      "text/plain": [
       "Button(button_style='success', description='内蒙', icon='check', style=ButtonStyle(), tooltip='Click me')"
      ]
     },
     "metadata": {},
     "output_type": "display_data"
    },
    {
     "data": {
      "application/vnd.jupyter.widget-view+json": {
       "model_id": "7d8513c0bbb945dc80d970fa9ef652c5",
       "version_major": 2,
       "version_minor": 0
      },
      "text/plain": [
       "Button(description='泉州', style=ButtonStyle(), tooltip='Click me')"
      ]
     },
     "metadata": {},
     "output_type": "display_data"
    },
    {
     "data": {
      "application/vnd.jupyter.widget-view+json": {
       "model_id": "da09dd621f01430aa3fe6d6a074c85d2",
       "version_major": 2,
       "version_minor": 0
      },
      "text/plain": [
       "Button(description='南京', style=ButtonStyle(), tooltip='Click me')"
      ]
     },
     "metadata": {},
     "output_type": "display_data"
    },
    {
     "data": {
      "application/vnd.jupyter.widget-view+json": {
       "model_id": "8d6a5ac104cb4c7e93e2cb1f65a27282",
       "version_major": 2,
       "version_minor": 0
      },
      "text/plain": [
       "Button(description='佛山', style=ButtonStyle(), tooltip='Click me')"
      ]
     },
     "metadata": {},
     "output_type": "display_data"
    }
   ],
   "source": [
    "from func.env import setProxy\n",
    "cb=setProxy()\n",
    "proxy=cb['proxy']\n",
    "region=cb['region']"
   ]
  },
  {
   "cell_type": "markdown",
   "id": "9db8eb01-5058-4da8-826d-7d4397154f1f",
   "metadata": {
    "tags": []
   },
   "source": [
    "# <i class=\"fa fa-download\"></i> 更新"
   ]
  },
  {
   "cell_type": "markdown",
   "id": "faed2f54-62d6-4a9d-86d8-ab8983014114",
   "metadata": {},
   "source": [
    "更新OneClick-stale-diffusion本体"
   ]
  },
  {
   "cell_type": "code",
   "execution_count": 2,
   "id": "00dd9b50-bdfe-4b88-8c94-acd210229c98",
   "metadata": {
    "jupyter": {
     "source_hidden": true
    },
    "scrolled": true,
    "tags": []
   },
   "outputs": [
    {
     "name": "stdout",
     "output_type": "stream",
     "text": [
      "Already up to date.\n"
     ]
    }
   ],
   "source": [
    "!{proxy} &&\\\n",
    "cd /root/OneClick-stable-diffusion/ &&\\\n",
    "git pull"
   ]
  },
  {
   "cell_type": "markdown",
   "id": "5fea26e7-51b2-475d-b1f3-5879f18368bd",
   "metadata": {},
   "source": [
    "# <i class=\"fa fa-running\"></i> 移动SD路径————从根目录到autodl-tmp\n",
    "因为默认的系统盘只有25G，如果装上各种拓展和模型，很快就塞爆，所以建议首先把stable-diffusion-webui移动到autodl-tmp目录下，这里有50G的空间，而且这样做也方便当机器被占用时进行跨实例拷贝数据"
   ]
  },
  {
   "cell_type": "code",
   "execution_count": 3,
   "id": "b0c35408-f527-40a4-a8b0-6adfddc92a26",
   "metadata": {
    "jupyter": {
     "source_hidden": true
    },
    "tags": []
   },
   "outputs": [
    {
     "name": "stdout",
     "output_type": "stream",
     "text": [
      "/root/stable-diffusion-webui\n",
      "目标路径已经存在，因此删除系统盘中的SD\n"
     ]
    }
   ],
   "source": [
    "%run ./ipynb/moveSD-root-to-autodl-tmp.ipynb"
   ]
  },
  {
   "cell_type": "markdown",
   "id": "0f3d234f-bdb5-4277-ac67-d1715f086e22",
   "metadata": {
    "tags": []
   },
   "source": [
    "# <i class=\"fa fa-download\"></i> 更新SD拓展"
   ]
  },
  {
   "cell_type": "markdown",
   "id": "b0583c1c-3f42-4ddb-8e35-ea71860f487d",
   "metadata": {},
   "source": [
    "更新stable-diffusion-webui/extensions目录下所有拓展"
   ]
  },
  {
   "cell_type": "code",
   "execution_count": 4,
   "id": "3b09a11d-453a-411e-8a25-67a8a7e9d039",
   "metadata": {
    "scrolled": true,
    "tags": []
   },
   "outputs": [
    {
     "name": "stdout",
     "output_type": "stream",
     "text": [
      "Already up to date.\n"
     ]
    },
    {
     "name": "stderr",
     "output_type": "stream",
     "text": [
      "error: Your local changes to the following files would be overwritten by merge:\n",
      "\tREADME.md\n",
      "Please commit your changes or stash them before you merge.\n",
      "Aborting\n"
     ]
    },
    {
     "name": "stdout",
     "output_type": "stream",
     "text": [
      "Updating 8f0dcd6..3c1874f\n",
      "Already up to date.\n",
      "Already up to date.\n"
     ]
    }
   ],
   "source": [
    "%run ./ipynb/OneClick-update-extensions.ipynb"
   ]
  },
  {
   "cell_type": "markdown",
   "id": "21dba517-304a-4773-9012-3728af317638",
   "metadata": {},
   "source": [
    "# <i class=\"fa fa-running\"></i> 移动.cache路径，并构建软链接————从根目录到autodl-tmp\n",
    "因为默认的系统盘只有25G，如果装上各种拓展和模型，第一次运行webUI的时候，会下载huggingface的相关模型到根目录中的.cache目录下，而且这是一个隐藏目录，无法通过GUI界面管理文件，随着webUI的运行（生成的图片足够多，不知道为何也会增加.cache的占用），系统盘很快就塞爆，所以建议首先把.cache移动到autodl-tmp目录下，这里有50G的空间，而且这样做也方便当机器被占用时进行跨实例拷贝数据"
   ]
  },
  {
   "cell_type": "code",
   "execution_count": 5,
   "id": "ac532e3b-e4a7-4779-b41b-042c89c80d94",
   "metadata": {
    "tags": []
   },
   "outputs": [
    {
     "name": "stdout",
     "output_type": "stream",
     "text": [
      "/root/.cache\n",
      "目标路径已经存在，因此删除系统盘中的.cache\n"
     ]
    }
   ],
   "source": [
    "%run ./ipynb/moveCache-root-to-autodl-tmp.ipynb"
   ]
  },
  {
   "cell_type": "markdown",
   "id": "57b1b901-e2bb-408f-a4a4-daec891b2c35",
   "metadata": {},
   "source": [
    "# <i class=\"fa fa-download\"></i> 下载模型与VAE\n",
    "在默认的网络环境下模型与VAE的拉取速度足够快，也方便更新和替换新的模型，且镜像部署完成之后再下载，好处是在于镜像总体包体小，重置速度快，抢占显卡资源也能领先一步"
   ]
  },
  {
   "cell_type": "code",
   "execution_count": null,
   "id": "7f82ddd8-ca59-4afa-8c92-b60c209a7bb0",
   "metadata": {
    "jupyter": {
     "source_hidden": true
    }
   },
   "outputs": [],
   "source": [
    "%run ./ipynb/wgetDownloadModels.ipynb"
   ]
  },
  {
   "cell_type": "markdown",
   "id": "7ea0af26-9c23-4ebe-8a87-3547f1ec6fa8",
   "metadata": {},
   "source": [
    "# <i class=\"fa fa-rocket\"></i> 启动Stable Diffusion WebUI"
   ]
  },
  {
   "cell_type": "code",
   "execution_count": null,
   "id": "9f9056f3-8399-40c3-94ad-0e7affc73e1b",
   "metadata": {
    "jupyter": {
     "source_hidden": true
    },
    "tags": []
   },
   "outputs": [],
   "source": [
    "%run ./ipynb/OneClick-stable-diffusion.ipynb"
   ]
  }
 ],
 "metadata": {
  "kernelspec": {
   "display_name": "Python 3 (ipykernel)",
   "language": "python",
   "name": "python3"
  },
  "language_info": {
   "codemirror_mode": {
    "name": "ipython",
    "version": 3
   },
   "file_extension": ".py",
   "mimetype": "text/x-python",
   "name": "python",
   "nbconvert_exporter": "python",
   "pygments_lexer": "ipython3",
   "version": "3.8.10"
  },
  "vscode": {
   "interpreter": {
    "hash": "880c3558e6781ed78ae681c8be1c12c7ba5e8b199b4925da813f0ee410863399"
   }
  }
 },
 "nbformat": 4,
 "nbformat_minor": 5
}
