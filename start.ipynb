{
  "cells": [
    {
      "cell_type": "markdown",
      "id": "e58ad1f2-1df4-45dd-9676-83295afd3ba7",
      "metadata": {
        "tags": []
      },
      "source": [
        "# <i class=\"fa fa-plane-departure\"></i> \u5b66\u672f\u52a0\u901f\n",
        "\u9996\u5148\u8981\u8fdb\u884c\u5b66\u672f\u52a0\u901f\uff0c\u8fd9\u6709\u5229\u4e8e\u62c9\u53d6\u8d44\u6e90\uff0c\u8be6\u60c5\u8bf7\u770b\uff1ahttps://www.autodl.com/docs/network_turbo/  "
      ]
    },
    {
      "cell_type": "code",
      "execution_count": null,
      "id": "6e5dde11-3f7f-4de4-adaa-0b4789b43e4f",
      "metadata": {
        "jupyter": {
          "source_hidden": true
        },
        "tags": []
      },
      "outputs": [],
      "source": [
        "from func.env import setProxy\n",
        "cb=setProxy()\n",
        "proxy=cb['proxy']\n",
        "region=cb['region']"
      ]
    },
    {
      "cell_type": "markdown",
      "id": "9db8eb01-5058-4da8-826d-7d4397154f1f",
      "metadata": {
        "tags": []
      },
      "source": [
        "# <i class=\"fa fa-download\"></i> \u66f4\u65b0"
      ]
    },
    {
      "cell_type": "markdown",
      "id": "faed2f54-62d6-4a9d-86d8-ab8983014114",
      "metadata": {},
      "source": [
        "\u66f4\u65b0OneClick-stale-diffusion\u672c\u4f53"
      ]
    },
    {
      "cell_type": "code",
      "execution_count": null,
      "id": "00dd9b50-bdfe-4b88-8c94-acd210229c98",
      "metadata": {
        "jupyter": {
          "source_hidden": true
        },
        "scrolled": true,
        "tags": []
      },
      "outputs": [],
      "source": [
        "!{proxy} &&\\\n",
        "cd /root/OneClick-stable-diffusion/ &&\\\n",
        "git pull"
      ]
    },
    {
      "cell_type": "markdown",
      "id": "5fea26e7-51b2-475d-b1f3-5879f18368bd",
      "metadata": {},
      "source": [
        "# <i class=\"fa fa-running\"></i> \u79fb\u52a8SD\u8def\u5f84\u2014\u2014\u2014\u2014\u4ece\u6839\u76ee\u5f55\u5230autodl-tmp\n",
        "\u56e0\u4e3a\u9ed8\u8ba4\u7684\u7cfb\u7edf\u76d8\u53ea\u670925G\uff0c\u5982\u679c\u88c5\u4e0a\u5404\u79cd\u62d3\u5c55\u548c\u6a21\u578b\uff0c\u5f88\u5feb\u5c31\u585e\u7206\uff0c\u6240\u4ee5\u5efa\u8bae\u9996\u5148\u628astable-diffusion-webui\u79fb\u52a8\u5230autodl-tmp\u76ee\u5f55\u4e0b\uff0c\u8fd9\u91cc\u670950G\u7684\u7a7a\u95f4\uff0c\u800c\u4e14\u8fd9\u6837\u505a\u4e5f\u65b9\u4fbf\u5f53\u673a\u5668\u88ab\u5360\u7528\u65f6\u8fdb\u884c\u8de8\u5b9e\u4f8b\u62f7\u8d1d\u6570\u636e"
      ]
    },
    {
      "cell_type": "code",
      "execution_count": null,
      "id": "b0c35408-f527-40a4-a8b0-6adfddc92a26",
      "metadata": {
        "jupyter": {
          "source_hidden": true
        },
        "tags": []
      },
      "outputs": [],
      "source": [
        "%run ./ipynb/moveSD-root-to-autodl-tmp.ipynb"
      ]
    },
    {
      "cell_type": "markdown",
      "id": "0f3d234f-bdb5-4277-ac67-d1715f086e22",
      "metadata": {
        "tags": []
      },
      "source": [
        "# <i class=\"fa fa-download\"></i> \u66f4\u65b0SD\u62d3\u5c55"
      ]
    },
    {
      "cell_type": "markdown",
      "id": "b0583c1c-3f42-4ddb-8e35-ea71860f487d",
      "metadata": {},
      "source": [
        "\u66f4\u65b0stable-diffusion-webui/extensions\u76ee\u5f55\u4e0b\u6240\u6709\u62d3\u5c55"
      ]
    },
    {
      "cell_type": "code",
      "execution_count": null,
      "id": "3b09a11d-453a-411e-8a25-67a8a7e9d039",
      "metadata": {
        "scrolled": true,
        "tags": []
      },
      "outputs": [],
      "source": [
        "%run ./ipynb/OneClick-update-extensions.ipynb"
      ]
    },
    {
      "cell_type": "markdown",
      "id": "21dba517-304a-4773-9012-3728af317638",
      "metadata": {},
      "source": [
        "# <i class=\"fa fa-running\"></i> \u79fb\u52a8.cache\u8def\u5f84\uff0c\u5e76\u6784\u5efa\u8f6f\u94fe\u63a5\u2014\u2014\u2014\u2014\u4ece\u6839\u76ee\u5f55\u5230autodl-tmp\n",
        "\u56e0\u4e3a\u9ed8\u8ba4\u7684\u7cfb\u7edf\u76d8\u53ea\u670925G\uff0c\u5982\u679c\u88c5\u4e0a\u5404\u79cd\u62d3\u5c55\u548c\u6a21\u578b\uff0c\u7b2c\u4e00\u6b21\u8fd0\u884cwebUI\u7684\u65f6\u5019\uff0c\u4f1a\u4e0b\u8f7dhuggingface\u7684\u76f8\u5173\u6a21\u578b\u5230\u6839\u76ee\u5f55\u4e2d\u7684.cache\u76ee\u5f55\u4e0b\uff0c\u800c\u4e14\u8fd9\u662f\u4e00\u4e2a\u9690\u85cf\u76ee\u5f55\uff0c\u65e0\u6cd5\u901a\u8fc7GUI\u754c\u9762\u7ba1\u7406\u6587\u4ef6\uff0c\u968f\u7740webUI\u7684\u8fd0\u884c\uff08\u751f\u6210\u7684\u56fe\u7247\u8db3\u591f\u591a\uff0c\u4e0d\u77e5\u9053\u4e3a\u4f55\u4e5f\u4f1a\u589e\u52a0.cache\u7684\u5360\u7528\uff09\uff0c\u7cfb\u7edf\u76d8\u5f88\u5feb\u5c31\u585e\u7206\uff0c\u6240\u4ee5\u5efa\u8bae\u9996\u5148\u628a.cache\u79fb\u52a8\u5230autodl-tmp\u76ee\u5f55\u4e0b\uff0c\u8fd9\u91cc\u670950G\u7684\u7a7a\u95f4\uff0c\u800c\u4e14\u8fd9\u6837\u505a\u4e5f\u65b9\u4fbf\u5f53\u673a\u5668\u88ab\u5360\u7528\u65f6\u8fdb\u884c\u8de8\u5b9e\u4f8b\u62f7\u8d1d\u6570\u636e"
      ]
    },
    {
      "cell_type": "code",
      "execution_count": null,
      "id": "ac532e3b-e4a7-4779-b41b-042c89c80d94",
      "metadata": {
        "tags": []
      },
      "outputs": [],
      "source": [
        "%run ./ipynb/moveCache-root-to-autodl-tmp.ipynb"
      ]
    },
    {
      "cell_type": "markdown",
      "id": "57b1b901-e2bb-408f-a4a4-daec891b2c35",
      "metadata": {},
      "source": [
        "# <i class=\"fa fa-download\"></i> \u4e0b\u8f7d\u6a21\u578b\u4e0eVAE\n",
        "\u5728\u9ed8\u8ba4\u7684\u7f51\u7edc\u73af\u5883\u4e0b\u6a21\u578b\u4e0eVAE\u7684\u62c9\u53d6\u901f\u5ea6\u8db3\u591f\u5feb\uff0c\u4e5f\u65b9\u4fbf\u66f4\u65b0\u548c\u66ff\u6362\u65b0\u7684\u6a21\u578b\uff0c\u4e14\u955c\u50cf\u90e8\u7f72\u5b8c\u6210\u4e4b\u540e\u518d\u4e0b\u8f7d\uff0c\u597d\u5904\u662f\u5728\u4e8e\u955c\u50cf\u603b\u4f53\u5305\u4f53\u5c0f\uff0c\u91cd\u7f6e\u901f\u5ea6\u5feb\uff0c\u62a2\u5360\u663e\u5361\u8d44\u6e90\u4e5f\u80fd\u9886\u5148\u4e00\u6b65"
      ]
    },
    {
      "cell_type": "code",
      "execution_count": null,
      "id": "7f82ddd8-ca59-4afa-8c92-b60c209a7bb0",
      "metadata": {
        "tags": []
      },
      "outputs": [],
      "source": [
        "# %run ./ipynb/wgetDownloadModels.ipynb"
      ]
    },
    {
      "cell_type": "markdown",
      "id": "7ea0af26-9c23-4ebe-8a87-3547f1ec6fa8",
      "metadata": {},
      "source": [
        "# <i class=\"fa fa-rocket\"></i> \u542f\u52a8Stable Diffusion WebUI"
      ]
    },
    {
      "cell_type": "code",
      "execution_count": null,
      "id": "9f9056f3-8399-40c3-94ad-0e7affc73e1b",
      "metadata": {
        "jupyter": {
          "source_hidden": true
        },
        "tags": []
      },
      "outputs": [],
      "source": [
        "%run ./ipynb/OneClick-stable-diffusion.ipynb"
      ]
    }
  ],
  "metadata": {
    "kernelspec": {
      "display_name": "Python 3 (ipykernel)",
      "language": "python",
      "name": "python3"
    },
    "language_info": {
      "codemirror_mode": {
        "name": "ipython",
        "version": 3
      },
      "file_extension": ".py",
      "mimetype": "text/x-python",
      "name": "python",
      "nbconvert_exporter": "python",
      "pygments_lexer": "ipython3",
      "version": "3.8.10"
    },
    "vscode": {
      "interpreter": {
        "hash": "880c3558e6781ed78ae681c8be1c12c7ba5e8b199b4925da813f0ee410863399"
      }
    }
  },
  "nbformat": 4,
  "nbformat_minor": 5
}