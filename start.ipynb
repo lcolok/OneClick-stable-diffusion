{
 "cells": [
  {
   "cell_type": "markdown",
   "id": "e58ad1f2-1df4-45dd-9676-83295afd3ba7",
   "metadata": {
    "tags": []
   },
   "source": [
    "# <i class=\"fa fa-plane-departure\"></i> 学术加速\n",
    "首先要进行学术加速，这有利于拉取资源，详情请看：https://www.autodl.com/docs/network_turbo/  "
   ]
  },
  {
   "cell_type": "code",
   "execution_count": 1,
   "id": "6e5dde11-3f7f-4de4-adaa-0b4789b43e4f",
   "metadata": {
    "tags": []
   },
   "outputs": [
    {
     "data": {
      "application/vnd.jupyter.widget-view+json": {
       "model_id": "2dc00094f5344a4bae4f717b481fcbb2",
       "version_major": 2,
       "version_minor": 0
      },
      "text/plain": [
       "Button(button_style='info', description='在使用【北京】代理', style=ButtonStyle(), tooltip='请点击下方的区名')"
      ]
     },
     "metadata": {},
     "output_type": "display_data"
    },
    {
     "data": {
      "application/vnd.jupyter.widget-view+json": {
       "model_id": "6db13216e9334451a1a58de6d13ce125",
       "version_major": 2,
       "version_minor": 0
      },
      "text/plain": [
       "Button(description='芜湖', style=ButtonStyle(), tooltip='Click me')"
      ]
     },
     "metadata": {},
     "output_type": "display_data"
    },
    {
     "data": {
      "application/vnd.jupyter.widget-view+json": {
       "model_id": "65d0cd92b18147fa874bc019aeb9c33f",
       "version_major": 2,
       "version_minor": 0
      },
      "text/plain": [
       "Button(button_style='success', description='北京', icon='check', style=ButtonStyle(), tooltip='Click me')"
      ]
     },
     "metadata": {},
     "output_type": "display_data"
    },
    {
     "data": {
      "application/vnd.jupyter.widget-view+json": {
       "model_id": "aac59f345ea848a6b98aed44c89fa7f3",
       "version_major": 2,
       "version_minor": 0
      },
      "text/plain": [
       "Button(description='内蒙', style=ButtonStyle(), tooltip='Click me')"
      ]
     },
     "metadata": {},
     "output_type": "display_data"
    },
    {
     "data": {
      "application/vnd.jupyter.widget-view+json": {
       "model_id": "9136fea71a7b4e3aa9fbe18fe9f84fc3",
       "version_major": 2,
       "version_minor": 0
      },
      "text/plain": [
       "Button(description='泉州', style=ButtonStyle(), tooltip='Click me')"
      ]
     },
     "metadata": {},
     "output_type": "display_data"
    },
    {
     "data": {
      "application/vnd.jupyter.widget-view+json": {
       "model_id": "a03f38c6ffae42b089d6c87154deb45a",
       "version_major": 2,
       "version_minor": 0
      },
      "text/plain": [
       "Button(description='南京', style=ButtonStyle(), tooltip='Click me')"
      ]
     },
     "metadata": {},
     "output_type": "display_data"
    },
    {
     "data": {
      "application/vnd.jupyter.widget-view+json": {
       "model_id": "7a5e43476b6e46c2bd345938a25935e9",
       "version_major": 2,
       "version_minor": 0
      },
      "text/plain": [
       "Button(description='佛山', style=ButtonStyle(), tooltip='Click me')"
      ]
     },
     "metadata": {},
     "output_type": "display_data"
    }
   ],
   "source": [
    "from func.env import setProxy\n",
    "cb=setProxy()\n",
    "proxy=cb['proxy']\n",
    "region=cb['region']"
   ]
  },
  {
   "cell_type": "markdown",
   "id": "9db8eb01-5058-4da8-826d-7d4397154f1f",
   "metadata": {
    "tags": []
   },
   "source": [
    "# <i class=\"fa fa-download\"></i> 更新"
   ]
  },
  {
   "cell_type": "markdown",
   "id": "faed2f54-62d6-4a9d-86d8-ab8983014114",
   "metadata": {},
   "source": [
    "更新OneClick-stale-diffusion本体"
   ]
  },
  {
   "cell_type": "code",
   "execution_count": 2,
   "id": "00dd9b50-bdfe-4b88-8c94-acd210229c98",
   "metadata": {
    "scrolled": true,
    "tags": []
   },
   "outputs": [
    {
     "name": "stdout",
     "output_type": "stream",
     "text": [
      "Already up to date.\n"
     ]
    }
   ],
   "source": [
    "!{proxy} &&\\\n",
    "cd /root/OneClick-stable-diffusion/ &&\\\n",
    "git pull"
   ]
  },
  {
   "cell_type": "markdown",
   "id": "5fea26e7-51b2-475d-b1f3-5879f18368bd",
   "metadata": {},
   "source": [
    "# 移动SD路径————从根目录到autodl-tmp\n",
    "因为默认的系统盘只有25G，如果装上各种拓展和模型，很快就塞爆，所以建议首先把stable-diffusion-webui移动到autodl-tmp目录下，这里有50G的空间，而且这样做也方便当机器被占用时进行跨实例拷贝数据"
   ]
  },
  {
   "cell_type": "code",
   "execution_count": 3,
   "id": "b0c35408-f527-40a4-a8b0-6adfddc92a26",
   "metadata": {},
   "outputs": [
    {
     "data": {
      "application/vnd.jupyter.widget-view+json": {
       "model_id": "21344b63fd6f40d18b279879c77259ae",
       "version_major": 2,
       "version_minor": 0
      },
      "text/plain": [
       "Button(button_style='success', description='移动成功!', icon='running', style=ButtonStyle(), tooltip='Description'…"
      ]
     },
     "metadata": {},
     "output_type": "display_data"
    }
   ],
   "source": [
    "%run ./ipynb/moveSD-root-to-autodl-tmp.ipynb"
   ]
  },
  {
   "cell_type": "markdown",
   "id": "7ea0af26-9c23-4ebe-8a87-3547f1ec6fa8",
   "metadata": {},
   "source": [
    "## 启动Stable Diffusion WebUI"
   ]
  },
  {
   "cell_type": "code",
   "execution_count": 4,
   "id": "9f9056f3-8399-40c3-94ad-0e7affc73e1b",
   "metadata": {
    "tags": []
   },
   "outputs": [
    {
     "data": {
      "application/vnd.jupyter.widget-view+json": {
       "model_id": "8dc002242ffc44ea9ffd1e4203c0e0b4",
       "version_major": 2,
       "version_minor": 0
      },
      "text/plain": [
       "Button(style=ButtonStyle())"
      ]
     },
     "metadata": {},
     "output_type": "display_data"
    },
    {
     "name": "stdout",
     "output_type": "stream",
     "text": [
      "本机GPU为【2080 Ti】，对应的英伟达架构名为【sm75】，已安装匹配【sm75】架构的Xformers预编译包\n"
     ]
    },
    {
     "data": {
      "application/vnd.jupyter.widget-view+json": {
       "model_id": "c1f5443a4484457c902419abd7e5dc66",
       "version_major": 2,
       "version_minor": 0
      },
      "text/plain": [
       "Button(button_style='success', description='已经预装', icon='check', style=ButtonStyle(), tooltip='Description')"
      ]
     },
     "metadata": {},
     "output_type": "display_data"
    },
    {
     "data": {
      "application/vnd.jupyter.widget-view+json": {
       "model_id": "736d0dfaa3a04d358150ac2f2b191c59",
       "version_major": 2,
       "version_minor": 0
      },
      "text/plain": [
       "Button(description='安装中文语言包', style=ButtonStyle())"
      ]
     },
     "metadata": {},
     "output_type": "display_data"
    },
    {
     "name": "stdout",
     "output_type": "stream",
     "text": [
      "Exception on process, rc= 2 output= None\n",
      "已经挂载【北京】proxy\n",
      "可以使用Xformers\n",
      "https_proxy=http://100.72.64.19:12798\n",
      "http_proxy=http://100.72.64.19:12798\n",
      "/bin/bash: line 0: cd: /root/stable-diffusion-webui: No such file or directory\n"
     ]
    }
   ],
   "source": [
    "%run ./ipynb/OneClick-stable-diffusion.ipynb"
   ]
  }
 ],
 "metadata": {
  "kernelspec": {
   "display_name": "Python 3 (ipykernel)",
   "language": "python",
   "name": "python3"
  },
  "language_info": {
   "codemirror_mode": {
    "name": "ipython",
    "version": 3
   },
   "file_extension": ".py",
   "mimetype": "text/x-python",
   "name": "python",
   "nbconvert_exporter": "python",
   "pygments_lexer": "ipython3",
   "version": "3.8.10"
  },
  "vscode": {
   "interpreter": {
    "hash": "880c3558e6781ed78ae681c8be1c12c7ba5e8b199b4925da813f0ee410863399"
   }
  }
 },
 "nbformat": 4,
 "nbformat_minor": 5
}
