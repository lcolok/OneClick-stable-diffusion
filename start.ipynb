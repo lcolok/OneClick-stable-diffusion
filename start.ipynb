{
 "cells": [
  {
   "cell_type": "markdown",
   "id": "e58ad1f2-1df4-45dd-9676-83295afd3ba7",
   "metadata": {
    "tags": []
   },
   "source": [
    "# <i class=\"fa fa-plane-departure\"></i> 学术加速\n",
    "首先要进行学术加速，这有利于拉取资源，详情请看：https://www.autodl.com/docs/network_turbo/  "
   ]
  },
  {
   "cell_type": "code",
   "execution_count": null,
   "id": "6e5dde11-3f7f-4de4-adaa-0b4789b43e4f",
   "metadata": {
    "jupyter": {
     "source_hidden": true
    },
    "tags": []
   },
   "outputs": [],
   "source": [
    "from func.env import setProxy\n",
    "cb=setProxy()\n",
    "proxy=cb['proxy']\n",
    "region=cb['region']"
   ]
  },
  {
   "cell_type": "markdown",
   "id": "9db8eb01-5058-4da8-826d-7d4397154f1f",
   "metadata": {
    "tags": []
   },
   "source": [
    "# <i class=\"fa fa-download\"></i> 更新"
   ]
  },
  {
   "cell_type": "markdown",
   "id": "faed2f54-62d6-4a9d-86d8-ab8983014114",
   "metadata": {},
   "source": [
    "更新OneClick-stale-diffusion本体"
   ]
  },
  {
   "cell_type": "code",
   "execution_count": null,
   "id": "00dd9b50-bdfe-4b88-8c94-acd210229c98",
   "metadata": {
    "jupyter": {
     "source_hidden": true
    },
    "scrolled": true,
    "tags": []
   },
   "outputs": [],
   "source": [
    "!{proxy} &&\\\n",
    "cd /root/OneClick-stable-diffusion/ &&\\\n",
    "git pull"
   ]
  },
  {
   "cell_type": "markdown",
   "id": "911c56ec-1449-42c7-b07b-deef6fcd8357",
   "metadata": {},
   "source": [
    "# <i class=\"fa fa-list\"></i> 所有脚本列表"
   ]
  },
  {
   "cell_type": "code",
   "execution_count": null,
   "id": "7b555d90-df6c-4f66-a539-39d862e6bc8a",
   "metadata": {
    "jupyter": {
     "source_hidden": true
    }
   },
   "outputs": [],
   "source": [
    "from ipywidgets import interact, widgets\n",
    "from IPython.display import display, clear_output\n",
    "from IPython.core.interactiveshell import InteractiveShell\n",
    "InteractiveShell.ast_node_interactivity = \"all\"\n",
    "\n",
    "ipynbDict = {\n",
    "    'oneClick_SD_WebUI':{\n",
    "        'description':'启动 SD WebUI',\n",
    "        'dirpath':'./ipynb/OneClick-stable-diffusion.ipynb'\n",
    "    },\n",
    "    '2':{\n",
    "        'description':'启动 SD WebUI',\n",
    "        'dirpath':'./ipynb/OneClick-stable-diffusion.ipynb'\n",
    "    }\n",
    "}\n",
    "\n",
    "ipynbBtnDict=[]\n",
    "\n",
    "def btn_eventhandle(obj):\n",
    "    for eachone in ipynbBtnDict:\n",
    "        eachone.close()\n",
    "    output = %run $dirpath\n",
    "    display(output)\n",
    "    \n",
    "for key in ipynbDict:\n",
    "    ipynb=ipynbDict[key]\n",
    "    description = ipynb['description']\n",
    "    dirpath = ipynb['dirpath']\n",
    "    btn = widgets.Button(\n",
    "        value=False,\n",
    "        description=description,\n",
    "        disabled=False,\n",
    "        button_style='',  # 'success', 'info', 'warning', 'danger' or ''\n",
    "        tooltip='Click me',\n",
    "        icon='globe', # (FontAwesome names without the `fa-` prefix)\n",
    "    )\n",
    "    btn.on_click(btn_eventhandle)\n",
    "    ipynbBtnDict.append(btn)\n",
    "    display(btn)\n",
    "    \n",
    "# for eachBtn in ipynbBtnDict:\n",
    "#     display(eachBtn)\n",
    "\n",
    "# %run ./ipynb/OneClick-stable-diffusion.ipynb"
   ]
  },
  {
   "cell_type": "markdown",
   "id": "7ea0af26-9c23-4ebe-8a87-3547f1ec6fa8",
   "metadata": {},
   "source": [
    "## 一键启动Stable Diffusion WebUI"
   ]
  },
  {
   "cell_type": "code",
   "execution_count": null,
   "id": "9f9056f3-8399-40c3-94ad-0e7affc73e1b",
   "metadata": {
    "jupyter": {
     "source_hidden": true
    },
    "tags": []
   },
   "outputs": [],
   "source": [
    "%run ./ipynb/OneClick-stable-diffusion.ipynb"
   ]
  }
 ],
 "metadata": {
  "kernelspec": {
   "display_name": "Python 3.10.6 ('py3.10.6': conda)",
   "language": "python",
   "name": "python3"
  },
  "language_info": {
   "codemirror_mode": {
    "name": "ipython",
    "version": 3
   },
   "file_extension": ".py",
   "mimetype": "text/x-python",
   "name": "python",
   "nbconvert_exporter": "python",
   "pygments_lexer": "ipython3",
   "version": "3.10.6"
  },
  "vscode": {
   "interpreter": {
    "hash": "880c3558e6781ed78ae681c8be1c12c7ba5e8b199b4925da813f0ee410863399"
   }
  }
 },
 "nbformat": 4,
 "nbformat_minor": 5
}
