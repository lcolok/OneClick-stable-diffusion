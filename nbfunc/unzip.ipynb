{
  "cells": [
    {
      "cell_type": "code",
      "execution_count": null,
      "id": "2bfe6e89-63f8-433e-a8b4-daf6596ff07f",
      "metadata": {},
      "outputs": [],
      "source": [
        "import os\n",
        "import random\n",
        "import string\n",
        "import time\n",
        "\n",
        "def zstd_unzip(zstd_path,target_path):\n",
        "    real_path = os.path.realpath(zstd_path)\n",
        "    target_parent_dir = os.path.dirname(target_path)\n",
        "    if (not os.path.exists(target_parent_dir)):\n",
        "        os.makedirs(target_parent_dir)\n",
        "    temp_name = ''.join(random.choices(string.ascii_letters + string.digits, k=10)) + \".tar\"\n",
        "    if not real_path.endswith(\".zst\"):\n",
        "        print(\"Not a valid zstd file.\")\n",
        "        return\n",
        "    if os.path.exists(target_path):\n",
        "        print(\"The target file already exists, skip.\")\n",
        "        return\n",
        "    start_time = time.time()\n",
        "    !zstd -d $real_path -o $temp_name\n",
        "    if not os.path.isfile(temp_name):\n",
        "        print(\"Error: Failed to decompress zstd file.\")\n",
        "        return\n",
        "    if not temp_name.endswith(\".tar\"):\n",
        "        print(\"Not a valid tar file.\")\n",
        "        return\n",
        "    !tar -xvf $temp_name -C $(dirname $target_path)\n",
        "    os.remove(temp_name)\n",
        "    end_time = time.time()\n",
        "    print(\"Total time taken: \", end_time - start_time)\n"
      ]
    }
  ],
  "metadata": {
    "kernelspec": {
      "display_name": "Python 3 (ipykernel)",
      "language": "python",
      "name": "python3"
    },
    "language_info": {
      "codemirror_mode": {
        "name": "ipython",
        "version": 3
      },
      "file_extension": ".py",
      "mimetype": "text/x-python",
      "name": "python",
      "nbconvert_exporter": "python",
      "pygments_lexer": "ipython3",
      "version": "3.8.15"
    }
  },
  "nbformat": 4,
  "nbformat_minor": 5
}