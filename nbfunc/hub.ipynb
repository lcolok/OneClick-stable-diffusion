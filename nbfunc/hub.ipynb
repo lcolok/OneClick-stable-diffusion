{
  "cells": [
    {
      "cell_type": "markdown",
      "id": "2d827d86-e79e-4efa-846e-445f6d0f2830",
      "metadata": {},
      "source": [
        "##  <i class=\"fa fa-spinner\"></i> \u88c5\u8f7d\u81ea\u5b9a\u4e49\u6a21\u5757\n",
        "\u628a\u5f53\u524drepo\u6839\u76ee\u5f55\u52a0\u5165 Python \u641c\u7d22\u6a21\u5757\u7684\u8def\u5f84\u5217\u8868\uff0c\u5e76\u6c42\u5f97\u6839\u76ee\u5f55"
      ]
    },
    {
      "cell_type": "code",
      "execution_count": null,
      "id": "9ead598c-86e1-4bec-b958-5019efc045f3",
      "metadata": {},
      "outputs": [],
      "source": [
        "import os,sys\n",
        "\n",
        "def find_repo_root():\n",
        "    # \u83b7\u53d6\u5f53\u524d\u811a\u672c\u7684\u7edd\u5bf9\u8def\u5f84\n",
        "    try:\n",
        "        # \u5982\u679c\u5f53\u524d\u8fd0\u884c\u73af\u5883\u662f Jupyter Notebook\uff0c\u4f7f\u7528\u5f53\u524d\u5de5\u4f5c\u76ee\u5f55\n",
        "        script_path = os.path.abspath('.')\n",
        "    except NameError:\n",
        "        # \u5426\u5219\uff0c\u4f7f\u7528 __file__ \u53d8\u91cf\n",
        "        script_path = os.path.abspath(__file__)\n",
        "    # \u5224\u65ad\u5f53\u524d\u811a\u672c\u76ee\u5f55\u662f\u5426\u5b58\u5728`.git`\u6587\u4ef6\u5939\n",
        "    if os.path.isdir(os.path.join(script_path, '.git')):\n",
        "        return script_path\n",
        "    # \u521d\u59cb\u5316\u5b58\u50a8\u7ed3\u679c\u7684\u53d8\u91cf\n",
        "    result = None\n",
        "    # \u5faa\u73af\u6c42\u5f53\u524d\u8def\u5f84\u7684\u7236\u76ee\u5f55\uff0c\u76f4\u5230\u627e\u5230`.git`\u6587\u4ef6\u5939\n",
        "    while True:\n",
        "        # \u5c06\u5f53\u524d\u8def\u5f84\u7684\u7236\u76ee\u5f55\u8d4b\u503c\u7ed9\u5f53\u524d\u8def\u5f84\n",
        "        script_path = os.path.dirname(script_path)\n",
        "        # \u5224\u65ad\u5f53\u524d\u8def\u5f84\u662f\u5426\u5b58\u5728`.git`\u6587\u4ef6\u5939\n",
        "        if os.path.isdir(os.path.join(script_path, '.git')):\n",
        "            # \u5982\u679c\u5b58\u5728\uff0c\u5c06\u5f53\u524d\u8def\u5f84\u5b58\u50a8\u5728\u7ed3\u679c\u53d8\u91cf\u4e2d\n",
        "            result = script_path\n",
        "        # \u5224\u65ad\u5f53\u524d\u8def\u5f84\u662f\u5426\u4e3a\u6839\u76ee\u5f55\uff08\u5373\u662f\u5426\u5df2\u7ecf\u641c\u7d22\u5230\u6700\u5916\u5c42\uff09\n",
        "        if script_path == '/':\n",
        "            # \u5982\u679c\u662f\uff0c\u8fd4\u56de\u7ed3\u679c\u53d8\u91cf\u7684\u503c\n",
        "            return result\n",
        "        \n",
        "repo_root_dir=find_repo_root()\n",
        "sys.path.append(repo_root_dir)\n",
        "# \u83b7\u53d6repo\u6240\u5728\u7684\u6839\u76ee\u5f55\n",
        "root_dir = os.path.dirname(repo_root_dir)"
      ]
    },
    {
      "cell_type": "markdown",
      "id": "95a1d406-aded-49b9-a54a-ec4e471fd7a0",
      "metadata": {},
      "source": [
        "## \u52a0\u8f7d\u51fd\u6570"
      ]
    },
    {
      "cell_type": "code",
      "execution_count": null,
      "id": "75129a00-573e-4c1c-8f32-3c8b43587dd2",
      "metadata": {},
      "outputs": [],
      "source": [
        "nbfunc_dir = os.path.join(repo_root_dir, \"nbfunc\")\n",
        "for file_name in os.listdir(nbfunc_dir):\n",
        "    if file_name == \"hub.ipynb\":  # \u8df3\u8fc7\u6587\u4ef6\u540d\u4e3a hub.ipynb \u7684\u6587\u4ef6\n",
        "        continue\n",
        "    if file_name.endswith(\".ipynb\"):\n",
        "        file_path = os.path.join(nbfunc_dir, file_name)\n",
        "        # print(file_path)\n",
        "        %run $file_path"
      ]
    },
    {
      "cell_type": "code",
      "execution_count": null,
      "id": "b24f4fee-0db3-46cb-b5be-052caa4d4a7c",
      "metadata": {},
      "outputs": [],
      "source": []
    }
  ],
  "metadata": {
    "kernelspec": {
      "display_name": "Python 3 (ipykernel)",
      "language": "python",
      "name": "python3"
    },
    "language_info": {
      "codemirror_mode": {
        "name": "ipython",
        "version": 3
      },
      "file_extension": ".py",
      "mimetype": "text/x-python",
      "name": "python",
      "nbconvert_exporter": "python",
      "pygments_lexer": "ipython3",
      "version": "3.8.15"
    }
  },
  "nbformat": 4,
  "nbformat_minor": 5
}