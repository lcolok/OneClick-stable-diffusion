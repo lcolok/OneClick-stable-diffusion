{
  "cells": [
    {
      "cell_type": "code",
      "execution_count": null,
      "id": "f5c99fa5-e92c-4a4b-863f-bca1176d63ba",
      "metadata": {},
      "outputs": [],
      "source": [
        "def getExtDir():\n",
        "    global webUIDir, extDir\n",
        "    try:\n",
        "        webUIDir,extDir\n",
        "    except:\n",
        "        webUIDir = find_file('/', 'stable-diffusion-webui')\n",
        "        extDir = find_file(webUIDir, 'extensions')\n",
        "    return extDir"
      ]
    }
  ],
  "metadata": {
    "kernelspec": {
      "display_name": "Python 3 (ipykernel)",
      "language": "python",
      "name": "python3"
    },
    "language_info": {
      "codemirror_mode": {
        "name": "ipython",
        "version": 3
      },
      "file_extension": ".py",
      "mimetype": "text/x-python",
      "name": "python",
      "nbconvert_exporter": "python",
      "pygments_lexer": "ipython3",
      "version": "3.8.15"
    }
  },
  "nbformat": 4,
  "nbformat_minor": 5
}
