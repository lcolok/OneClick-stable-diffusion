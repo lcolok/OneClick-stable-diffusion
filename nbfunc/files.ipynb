{
  "cells": [
    {
      "cell_type": "code",
      "execution_count": null,
      "id": "3cc6c8c8-713d-4e74-9f85-5617c91fc03c",
      "metadata": {},
      "outputs": [],
      "source": [
        "import os\n",
        "\n",
        "def remove_extension(file_name):\n",
        "    _, ext = os.path.splitext(file_name)\n",
        "    while ext:\n",
        "        file_name = os.path.splitext(file_name)[0]\n",
        "        _, ext = os.path.splitext(file_name)\n",
        "    return file_name"
      ]
    }
  ],
  "metadata": {
    "kernelspec": {
      "display_name": "Python 3 (ipykernel)",
      "language": "python",
      "name": "python3"
    },
    "language_info": {
      "codemirror_mode": {
        "name": "ipython",
        "version": 3
      },
      "file_extension": ".py",
      "mimetype": "text/x-python",
      "name": "python",
      "nbconvert_exporter": "python",
      "pygments_lexer": "ipython3",
      "version": "3.8.15"
    }
  },
  "nbformat": 4,
  "nbformat_minor": 5
}