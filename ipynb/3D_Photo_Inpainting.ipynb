{
  "cells": [
    {
      "cell_type": "markdown",
      "metadata": {
        "id": "IY-s3ZpHBeAU"
      },
      "source": [
        "**[CVPR 2020] 3D Photography using Context-aware Layered Depth Inpainting**\n",
        "\n",
        "[project website](https://shihmengli.github.io/3D-Photo-Inpainting/)  \n",
        "[GitHub link](https://github.com/vt-vl-lab/3d-photo-inpainting)"
      ],
      "outputs": [],
      "execution_count": null
    },
    {
      "cell_type": "markdown",
      "metadata": {},
      "source": [
        "## <i class=\"fa fa-plane-departure\"></i> \u5b66\u672f\u52a0\u901f\n",
        "\u9996\u5148\u8981\u8fdb\u884c\u5b66\u672f\u52a0\u901f\uff0c\u8fd9\u6709\u5229\u4e8e\u62c9\u53d6\u8d44\u6e90\uff0c\u8be6\u60c5\u8bf7\u770b\uff1ahttps://www.autodl.com/docs/network_turbo/  "
      ],
      "outputs": [],
      "execution_count": null
    },
    {
      "cell_type": "code",
      "execution_count": null,
      "metadata": {},
      "outputs": [],
      "source": [
        "import sys\n",
        "sys.path.append('../') # \u56e0\u4e3afunc\u4e0eipynb\u4f4d\u4e8e\u540c\u4e00\u4e2a\u76ee\u5f55\u4e0b\uff0c\u6240\u4ee5\u8981\u5f80\u4e0a\u4e00\u5c42\u8def\u5f84\u7d22\u5f15\n",
        "from func.env import setProxy\n",
        "cb=setProxy()\n",
        "proxy=cb['proxy']\n",
        "region=cb['region']"
      ]
    },
    {
      "cell_type": "markdown",
      "metadata": {},
      "source": [
        "# \u590d\u523bnewColab\u4e0a\u7684\u865a\u62df\u73af\u5883"
      ],
      "outputs": [],
      "execution_count": null
    },
    {
      "cell_type": "code",
      "execution_count": null,
      "metadata": {},
      "outputs": [],
      "source": [
        "from subprocess import getoutput\n",
        "from IPython.display import display,clear_output\n",
        "\n",
        "s = getoutput('conda info --env')\n",
        "if 'newColab' not in s:\n",
        "    print('\u5f53\u524d\u7cfb\u7edf\u4e2d\u6ca1\u6709newColab\u7684\u865a\u62df\u73af\u5883\uff0c\u6b63\u5728\u5b89\u88c5')\n",
        "    # \u521b\u5efaConda\u65b0\u7684\u865a\u62df\u73af\u5883\n",
        "    # \u6784\u5efa\u4e00\u4e2a\u865a\u62df\u73af\u5883\uff0c\u540d\u4e3a: newColab\n",
        "    # \u66f4\u65b0bashrc\u4e2d\u7684\u73af\u5883\u53d8\u91cf\n",
        "    !source activate &&\\\n",
        "    conda create -n newColab python=3.8.10 -y &&\\\n",
        "    conda init bash && source /root/.bashrc\n",
        "else:\n",
        "    print('\u5df2\u7ecf\u5b89\u88c5\u4e86newColab\u73af\u5883')\n",
        "    # !source activate &&\\\n",
        "    # conda activate py3.10.6 &&\\\n",
        "    # conda install ipykernel &&\\\n",
        "    # ipython kernel install --user --name=py3.10.6 --display-name \"Python3.10.6\" # \u8bbe\u7f6ekernel\uff0c--user\u8868\u793a\u5f53\u524d\u7528\u6237\uff0c--name\u4e3a\u865a\u62df\u73af\u5883\u540d\u79f0\uff0c--display-name\u4e3a\u7b14\u8bb0\u672c\u663e\u793a\u540d\u79f0\n",
        "    \n",
        "    \n",
        "# Ubuntu18.04\u4e0b\u89e3\u51b3Qt\u51fa\u73b0qt.qpa.plugin:Could not load the Qt platform plugin \u201cxcb\u201c\u95ee\u9898 \n",
        "# https://blog.csdn.net/LOVEmy134611/article/details/107212845\n",
        "# \u539f\u56e0\u5c31\u5728\u4e8e\u8fd9\u4e2a3D Photo Inpainting \u4f9d\u8d56\u4e8eX server (linux \u64cd\u4f5c\u7cfb\u7edf\u91cc\u9762\u56fe\u5f62\u63a5\u53e3\u670d\u52a1\u5668\u7684\u7b80\u79f0)\n",
        "# \u800c\u4e00\u822c\u670d\u52a1\u5668\u8fd0\u884c\u5728\u5b57\u7b26\u7ec8\u7aef\u7ea7\u522b\uff0c\u5e76\u6ca1\u6709\u542f\u52a8\u56fe\u5f62\u7528\u6237\u754c\u9762 \uff0c\u56e0\u6b64\u4ea7\u751f\u65e0\u6cd5\u8fde\u63a5\u5230X display\u670d\u52a1\u7684\u9519\u8bef\u3002\n",
        "# \u5728 xvfb\uff08X virtual framebuffer\uff09\u4e2d\u8fd0\u884c\u5bf9\u5e94\u7684\u7a0b\u5e8f\uff0c xvfb\u80fd\u591f\u76f4\u63a5\u5904\u7406\u56fe\u5f62\u5316\u529f\u80fd\uff0c\u7ed9\u5e94\u7528\u7a0b\u5e8f\u63d0\u4f9b\u4e00\u4e2a\u865a\u62df\u7684X server\u3002\n",
        "\n",
        "!source activate &&\\\n",
        "conda activate newColab &&\\\n",
        "$proxy &&\\\n",
        "apt-get update &&\\\n",
        "apt-get install xvfb -y\n",
        "\n",
        "#\u4f46\u662f\u8fd9\u6837\u8fd8\u4f1a\u62a5\u51fa\u8fd9\u6837\u7684\u8b66\u544a\uff1a\uff08\u53ef\u9009\u62e9\u6267\u884c\uff09\n",
        "# WARNING: could not determine DPI\n",
        "# WARNING: QStandardPaths: XDG_RUNTIME_DIR not set, defaulting to '/tmp/runtime-root'\n",
        "# \u89e3\u51b3\u65b9\u6848\uff1ahttps://blog.csdn.net/weixin_41194129/article/details/120399123\n",
        "# vim ~/.bashrc \u56de\u8f66\uff0c\u53bb\u5230\u6700\u540e\u4e00\u884c\uff0c\u6309i\u8fdb\u5165\u7f16\u8f91\u72b6\u6001\n",
        "# \u590d\u5236\u4e0b\u9762\u4e24\u53e5\n",
        "# export XDG_RUNTIME_DIR=/usr/lib/\n",
        "# export RUNLEVEL=3\n",
        "# \u6309ESC\uff0c\u7136\u540e\u8f93\u5165:wq\u9000\u51fa\u7f16\u8f91\n",
        "# \u7136\u540e\u5237\u65b0\u5168\u5c40\u53d8\u91cf\n",
        "# source /etc/profile\n",
        "\n",
        "\n",
        "\n",
        "# apt-get install -y libglfw3-dev python3-pyqt5 pyqt5-dev-tools &&\\\n",
        "# pip install --user pyqt5\n",
        "# apt-get install libxcb-xinerama0 &&\\ \n",
        "# apt install libxkbcommon-x11-0 &&\\\n",
        "\n",
        "!source activate &&\\\n",
        "conda activate newColab &&\\\n",
        "$proxy &&\\\n",
        "pip install scipy pyyaml pyqt5 matplotlib\n",
        "    \n",
        "# pip install -r /root/requirements.txt\n",
        "    \n",
        "# clear_output(wait=True)\n",
        "print(\"Done!\")\n",
        "\n"
      ]
    },
    {
      "cell_type": "markdown",
      "metadata": {
        "id": "LPQ0EWxgvMIc"
      },
      "source": [
        "- **Prepare environment**\n"
      ],
      "outputs": [],
      "execution_count": null
    },
    {
      "cell_type": "code",
      "execution_count": null,
      "metadata": {
        "colab": {
          "base_uri": "https://localhost:8080/",
          "height": 765
        },
        "id": "5o-EIMeaghU0",
        "outputId": "338213a6-fd98-4320-a07d-3ec55640123f"
      },
      "outputs": [],
      "source": [
        "!source activate &&\\\n",
        "conda activate newColab &&\\\n",
        "$proxy &&\\\n",
        "conda install -y pytorch==1.4.0 torchvision==0.5.0 -c pytorch &&\\\n",
        "pip install opencv-python==4.2.0.32 \\\n",
        "vispy==0.6.4 \\\n",
        "moviepy==1.0.2 \\\n",
        "transforms3d==0.3.1 \\\n",
        "networkx==2.3 \\\n",
        "scikit-image &&\\\n",
        "apt install sed"
      ]
    },
    {
      "cell_type": "markdown",
      "metadata": {
        "id": "c-g7AeLMvY0R"
      },
      "source": [
        "- **Download script and pretrained model**\n"
      ],
      "outputs": [],
      "execution_count": null
    },
    {
      "cell_type": "code",
      "execution_count": null,
      "metadata": {
        "colab": {
          "base_uri": "https://localhost:8080/",
          "height": 901
        },
        "id": "cOFIBkWrBlNM",
        "outputId": "4e1f3e23-96e0-4baf-dd33-bff9d7dd6c6d"
      },
      "outputs": [],
      "source": [
        "#\u5df2\u7ecf\u901a\u8fc7\u955c\u50cf\u5185\u7f6e\u4e86\n",
        "\n",
        "%cd /root/\n",
        "# !git clone https://github.com/vt-vl-lab/3d-photo-inpainting.git\n",
        "%cd 3d-photo-inpainting\n",
        "# !$proxy && sh download.sh"
      ]
    },
    {
      "cell_type": "markdown",
      "metadata": {
        "id": "D_Fg_aMeDnmd"
      },
      "source": [
        "- **Switch off off-screen rendering**"
      ],
      "outputs": [],
      "execution_count": null
    },
    {
      "cell_type": "code",
      "execution_count": null,
      "metadata": {
        "id": "S9TmdOBRDXcV"
      },
      "outputs": [],
      "source": [
        "!cd /root/autodl-tmp/3d-photo-inpainting &&\\\n",
        "sed -i 's/offscreen_rendering: True/offscreen_rendering: False/g' argument.yml"
      ]
    },
    {
      "cell_type": "markdown",
      "metadata": {
        "id": "cCN8L7GiDpZA"
      },
      "source": [
        "- **Please upload `.jpg` files to `/content/3d-photo-inpainting-master/image/`**\n",
        "  - You can run this step multiple times to upload multiple `.jpg` files."
      ],
      "outputs": [],
      "execution_count": null
    },
    {
      "cell_type": "code",
      "execution_count": null,
      "metadata": {
        "colab": {
          "base_uri": "https://localhost:8080/",
          "height": 131,
          "resources": {
            "http://localhost:8080/nbextensions/google.colab/files.js": {
              "data": "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",
              "headers": [
                [
                  "content-type",
                  "application/javascript"
                ]
              ],
              "ok": true,
              "status": 200,
              "status_text": ""
            }
          }
        },
        "id": "n-Kl6fo1oows",
        "outputId": "f9f25a18-b8a5-49eb-f196-3775f0125050"
      },
      "outputs": [],
      "source": [
        "%cd image\n",
        "# from google.Colab import files\n",
        "# uploaded = files.upload()\n",
        "# for fn in uploaded.keys():\n",
        "#   print('User uploaded file \"{name}\" with length {length} bytes'.format(\n",
        "#       name=fn, length=len(uploaded[fn])))\n",
        "%cd .."
      ]
    },
    {
      "cell_type": "markdown",
      "metadata": {
        "id": "wyLFopwVDzUg"
      },
      "source": [
        "- **Execute the 3D Photo Inpainting**\n",
        "  - Note: The 3D photo generation process usually takes about 2-3 minutes or more depending on the available computing resources."
      ],
      "outputs": [],
      "execution_count": null
    },
    {
      "cell_type": "markdown",
      "metadata": {},
      "source": [
        "# \u8fd0\u884c\u7a0b\u5e8f\n",
        "\u6709\u51e0\u70b9\u9700\u8981\u6ce8\u610f\uff1a  \n",
        "main.py\u811a\u672c\u91cc\u9762\u6709\u4e00\u53e5\u8bdd\u8981\u624b\u52a8\u4fee\u6539\uff1aconfig = yaml.load(open(args.config, 'r'),Loader=yaml.FullLoader)  \n",
        "\u5b83\u53ef\u80fd\u4e0e\u8f93\u5165\u56fe\u50cf\u683c\u5f0f\u6709\u5173\u3002\u9ed8\u8ba4\u4e3a jpg\u3002\u5982\u679c\u4f60\u4f7f\u7528 png \u90a3\u4e48\u4f60\u9700\u8981\u4fee\u6539 argument.yml \u2192 img_format: '.png'"
      ],
      "outputs": [],
      "execution_count": null
    },
    {
      "cell_type": "code",
      "execution_count": null,
      "metadata": {
        "colab": {
          "base_uri": "https://localhost:8080/",
          "height": 1000
        },
        "id": "i5-MWEjfBjYx",
        "outputId": "6f799439-43c0-4985-9f9b-5c2a44fb709f"
      },
      "outputs": [],
      "source": [
        "# \u91cd\u542f\u670d\u52a1\u7684\u65f6\u5019Xvfb\u6709\u53ef\u80fd\u5df2\u7ecf\u5728\u8fd0\u884c\uff0c\u6240\u4ee5\u8981\u5bf9Xvfb\u7a0b\u5e8f\u8fdb\u884c\u5173\u95ed\n",
        "!pkill Xvfb\n",
        "\n",
        "!source activate &&\\\n",
        "conda activate newColab &&\\\n",
        "$proxy &&\\\n",
        "cd /root/autodl-tmp/3d-photo-inpainting/ &&\\\n",
        "xvfb-run python main.py --config argument.yml"
      ]
    },
    {
      "cell_type": "markdown",
      "metadata": {
        "id": "wPvkMT0msIJB"
      },
      "source": [
        "- **The results are stored in the following directories**\n",
        "  - Corresponding depth map estimated by [MiDaS](https://github.com/intel-isl/MiDaS.git) \n",
        "      - E.g. ```/content/3d-photo-inpainting/depth/moon.npy```\n",
        "  - Inpainted 3D mesh\n",
        "      - E.g. ```/content/3d-photo-inpainting/mesh/moon.ply```\n",
        "  - Rendered videos with zoom-in motion\n",
        "      - E.g. ```/content/3d-photo-inpainting/video/moon_zoom-in.mp4```\n",
        "  - Rendered videos with swing motion\n",
        "      - E.g. ```/content/3d-photo-inpainting/video/moon_swing.mp4```\n",
        "  - Rendered videos with circle motion\n",
        "      - E.g. ```/content/3d-photo-inpainting/video/moon_circle.mp4```\n",
        "  \n",
        "    ![](https://drive.google.com/uc?id=1xBiZAeGfhsoAsG08N5UM8-f993p0G5HF)"
      ],
      "outputs": [],
      "execution_count": null
    }
  ],
  "metadata": {
    "accelerator": "GPU",
    "colab": {
      "provenance": [],
      "toc_visible": true
    },
    "kernelspec": {
      "display_name": "Python 3 (ipykernel)",
      "language": "python",
      "name": "python3"
    },
    "language_info": {
      "codemirror_mode": {
        "name": "ipython",
        "version": 3
      },
      "file_extension": ".py",
      "mimetype": "text/x-python",
      "name": "python",
      "nbconvert_exporter": "python",
      "pygments_lexer": "ipython3",
      "version": "3.8.10"
    }
  },
  "nbformat": 4,
  "nbformat_minor": 4
}