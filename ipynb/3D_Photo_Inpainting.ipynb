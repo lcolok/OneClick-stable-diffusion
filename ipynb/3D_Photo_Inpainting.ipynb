{
 "cells": [
  {
   "cell_type": "markdown",
   "metadata": {
    "id": "IY-s3ZpHBeAU"
   },
   "source": [
    "**[CVPR 2020] 3D Photography using Context-aware Layered Depth Inpainting**\n",
    "\n",
    "[project website](https://shihmengli.github.io/3D-Photo-Inpainting/)  \n",
    "[GitHub link](https://github.com/vt-vl-lab/3d-photo-inpainting)"
   ]
  },
  {
   "cell_type": "markdown",
   "metadata": {
    "tags": []
   },
   "source": [
    "## <i class=\"fa fa-plane-departure\"></i> 学术加速\n",
    "首先要进行学术加速，这有利于拉取资源，详情请看：https://www.autodl.com/docs/network_turbo/  "
   ]
  },
  {
   "cell_type": "code",
   "execution_count": 2,
   "metadata": {
    "tags": []
   },
   "outputs": [
    {
     "data": {
      "application/vnd.jupyter.widget-view+json": {
       "model_id": "f94bfaefa8894cb8bed4e80d8ed2e093",
       "version_major": 2,
       "version_minor": 0
      },
      "text/plain": [
       "Button(button_style='info', description='在使用【内蒙】代理', style=ButtonStyle(), tooltip='请点击下方的区名')"
      ]
     },
     "metadata": {},
     "output_type": "display_data"
    },
    {
     "data": {
      "application/vnd.jupyter.widget-view+json": {
       "model_id": "c5463d9d840d4ea28d40ff43540fdd99",
       "version_major": 2,
       "version_minor": 0
      },
      "text/plain": [
       "Button(description='芜湖', style=ButtonStyle(), tooltip='Click me')"
      ]
     },
     "metadata": {},
     "output_type": "display_data"
    },
    {
     "data": {
      "application/vnd.jupyter.widget-view+json": {
       "model_id": "19a2615a9a114a97843f080ca45afa2e",
       "version_major": 2,
       "version_minor": 0
      },
      "text/plain": [
       "Button(description='北京', style=ButtonStyle(), tooltip='Click me')"
      ]
     },
     "metadata": {},
     "output_type": "display_data"
    },
    {
     "data": {
      "application/vnd.jupyter.widget-view+json": {
       "model_id": "2a2663a5d3104dbf80a0419084af81d6",
       "version_major": 2,
       "version_minor": 0
      },
      "text/plain": [
       "Button(button_style='success', description='内蒙', icon='check', style=ButtonStyle(), tooltip='Click me')"
      ]
     },
     "metadata": {},
     "output_type": "display_data"
    },
    {
     "data": {
      "application/vnd.jupyter.widget-view+json": {
       "model_id": "c68927dd318a4420be1929be3c71a179",
       "version_major": 2,
       "version_minor": 0
      },
      "text/plain": [
       "Button(description='泉州', style=ButtonStyle(), tooltip='Click me')"
      ]
     },
     "metadata": {},
     "output_type": "display_data"
    },
    {
     "data": {
      "application/vnd.jupyter.widget-view+json": {
       "model_id": "a1a12dc95ee24fb9925831d1971c283a",
       "version_major": 2,
       "version_minor": 0
      },
      "text/plain": [
       "Button(description='南京', style=ButtonStyle(), tooltip='Click me')"
      ]
     },
     "metadata": {},
     "output_type": "display_data"
    },
    {
     "data": {
      "application/vnd.jupyter.widget-view+json": {
       "model_id": "24f1b76c82c849e0850ca468cacac19d",
       "version_major": 2,
       "version_minor": 0
      },
      "text/plain": [
       "Button(description='佛山', style=ButtonStyle(), tooltip='Click me')"
      ]
     },
     "metadata": {},
     "output_type": "display_data"
    }
   ],
   "source": [
    "import sys\n",
    "sys.path.append('../') # 因为func与ipynb位于同一个目录下，所以要往上一层路径索引\n",
    "from func.env import setProxy\n",
    "cb=setProxy()\n",
    "proxy=cb['proxy']\n",
    "region=cb['region']"
   ]
  },
  {
   "cell_type": "markdown",
   "metadata": {},
   "source": [
    "# 复刻newColab上的虚拟环境"
   ]
  },
  {
   "cell_type": "code",
   "execution_count": 3,
   "metadata": {},
   "outputs": [
    {
     "name": "stdout",
     "output_type": "stream",
     "text": [
      "当前系统中没有newColab的虚拟环境，正在安装\n",
      "Collecting package metadata (current_repodata.json): done\n",
      "Solving environment: failed with repodata from current_repodata.json, will retry with next repodata source.\n",
      "Collecting package metadata (repodata.json): done\n",
      "Solving environment: done\n",
      "\n",
      "\n",
      "==> WARNING: A newer version of conda exists. <==\n",
      "  current version: 4.10.3\n",
      "  latest version: 22.9.0\n",
      "\n",
      "Please update conda by running\n",
      "\n",
      "    $ conda update -n base -c defaults conda\n",
      "\n",
      "\n",
      "\n",
      "## Package Plan ##\n",
      "\n",
      "  environment location: /root/miniconda3/envs/newColab\n",
      "\n",
      "  added / updated specs:\n",
      "    - python=3.8.10\n",
      "\n",
      "\n",
      "The following packages will be downloaded:\n",
      "\n",
      "    package                    |            build\n",
      "    ---------------------------|-----------------\n",
      "    _libgcc_mutex-0.1          |             main           3 KB  https://mirrors.ustc.edu.cn/anaconda/pkgs/main\n",
      "    _openmp_mutex-5.1          |            1_gnu          21 KB  https://mirrors.ustc.edu.cn/anaconda/pkgs/main\n",
      "    ca-certificates-2022.10.11 |       h06a4308_0         124 KB  https://mirrors.ustc.edu.cn/anaconda/pkgs/main\n",
      "    certifi-2022.9.24          |   py38h06a4308_0         154 KB  https://mirrors.ustc.edu.cn/anaconda/pkgs/main\n",
      "    ld_impl_linux-64-2.38      |       h1181459_1         654 KB  https://mirrors.ustc.edu.cn/anaconda/pkgs/main\n",
      "    libffi-3.3                 |       he6710b0_2          50 KB  https://mirrors.ustc.edu.cn/anaconda/pkgs/main\n",
      "    libgcc-ng-11.2.0           |       h1234567_1         5.3 MB  https://mirrors.ustc.edu.cn/anaconda/pkgs/main\n",
      "    libgomp-11.2.0             |       h1234567_1         474 KB  https://mirrors.ustc.edu.cn/anaconda/pkgs/main\n",
      "    libstdcxx-ng-11.2.0        |       h1234567_1         4.7 MB  https://mirrors.ustc.edu.cn/anaconda/pkgs/main\n",
      "    ncurses-6.3                |       h5eee18b_3         781 KB  https://mirrors.ustc.edu.cn/anaconda/pkgs/main\n",
      "    openssl-1.1.1s             |       h7f8727e_0         3.6 MB  https://mirrors.ustc.edu.cn/anaconda/pkgs/main\n",
      "    pip-22.2.2                 |   py38h06a4308_0         2.3 MB  https://mirrors.ustc.edu.cn/anaconda/pkgs/main\n",
      "    python-3.8.10              |       h12debd9_8        57.7 MB  https://mirrors.ustc.edu.cn/anaconda/pkgs/main\n",
      "    readline-8.2               |       h5eee18b_0         357 KB  https://mirrors.ustc.edu.cn/anaconda/pkgs/main\n",
      "    setuptools-65.5.0          |   py38h06a4308_0         1.1 MB  https://mirrors.ustc.edu.cn/anaconda/pkgs/main\n",
      "    sqlite-3.39.3              |       h5082296_0         1.1 MB  https://mirrors.ustc.edu.cn/anaconda/pkgs/main\n",
      "    tk-8.6.12                  |       h1ccaba5_0         3.0 MB  https://mirrors.ustc.edu.cn/anaconda/pkgs/main\n",
      "    wheel-0.37.1               |     pyhd3eb1b0_0          33 KB  https://mirrors.ustc.edu.cn/anaconda/pkgs/main\n",
      "    xz-5.2.6                   |       h5eee18b_0         394 KB  https://mirrors.ustc.edu.cn/anaconda/pkgs/main\n",
      "    zlib-1.2.13                |       h5eee18b_0         103 KB  https://mirrors.ustc.edu.cn/anaconda/pkgs/main\n",
      "    ------------------------------------------------------------\n",
      "                                           Total:        81.9 MB\n",
      "\n",
      "The following NEW packages will be INSTALLED:\n",
      "\n",
      "  _libgcc_mutex      anaconda/pkgs/main/linux-64::_libgcc_mutex-0.1-main\n",
      "  _openmp_mutex      anaconda/pkgs/main/linux-64::_openmp_mutex-5.1-1_gnu\n",
      "  ca-certificates    anaconda/pkgs/main/linux-64::ca-certificates-2022.10.11-h06a4308_0\n",
      "  certifi            anaconda/pkgs/main/linux-64::certifi-2022.9.24-py38h06a4308_0\n",
      "  ld_impl_linux-64   anaconda/pkgs/main/linux-64::ld_impl_linux-64-2.38-h1181459_1\n",
      "  libffi             anaconda/pkgs/main/linux-64::libffi-3.3-he6710b0_2\n",
      "  libgcc-ng          anaconda/pkgs/main/linux-64::libgcc-ng-11.2.0-h1234567_1\n",
      "  libgomp            anaconda/pkgs/main/linux-64::libgomp-11.2.0-h1234567_1\n",
      "  libstdcxx-ng       anaconda/pkgs/main/linux-64::libstdcxx-ng-11.2.0-h1234567_1\n",
      "  ncurses            anaconda/pkgs/main/linux-64::ncurses-6.3-h5eee18b_3\n",
      "  openssl            anaconda/pkgs/main/linux-64::openssl-1.1.1s-h7f8727e_0\n",
      "  pip                anaconda/pkgs/main/linux-64::pip-22.2.2-py38h06a4308_0\n",
      "  python             anaconda/pkgs/main/linux-64::python-3.8.10-h12debd9_8\n",
      "  readline           anaconda/pkgs/main/linux-64::readline-8.2-h5eee18b_0\n",
      "  setuptools         anaconda/pkgs/main/linux-64::setuptools-65.5.0-py38h06a4308_0\n",
      "  sqlite             anaconda/pkgs/main/linux-64::sqlite-3.39.3-h5082296_0\n",
      "  tk                 anaconda/pkgs/main/linux-64::tk-8.6.12-h1ccaba5_0\n",
      "  wheel              anaconda/pkgs/main/noarch::wheel-0.37.1-pyhd3eb1b0_0\n",
      "  xz                 anaconda/pkgs/main/linux-64::xz-5.2.6-h5eee18b_0\n",
      "  zlib               anaconda/pkgs/main/linux-64::zlib-1.2.13-h5eee18b_0\n",
      "\n",
      "\n",
      "\n",
      "Downloading and Extracting Packages\n",
      "libstdcxx-ng-11.2.0  | 4.7 MB    | ##################################### | 100% \n",
      "zlib-1.2.13          | 103 KB    | ##################################### | 100% \n",
      "xz-5.2.6             | 394 KB    | ##################################### | 100% \n",
      "libgcc-ng-11.2.0     | 5.3 MB    | ##################################### | 100% \n",
      "_libgcc_mutex-0.1    | 3 KB      | ##################################### | 100% \n",
      "sqlite-3.39.3        | 1.1 MB    | ##################################### | 100% \n",
      "openssl-1.1.1s       | 3.6 MB    | ##################################### | 100% \n",
      "python-3.8.10        | 57.7 MB   | ##################################### | 100% \n",
      "tk-8.6.12            | 3.0 MB    | ##################################### | 100% \n",
      "wheel-0.37.1         | 33 KB     | ##################################### | 100% \n",
      "readline-8.2         | 357 KB    | ##################################### | 100% \n",
      "pip-22.2.2           | 2.3 MB    | ##################################### | 100% \n",
      "ncurses-6.3          | 781 KB    | ##################################### | 100% \n",
      "certifi-2022.9.24    | 154 KB    | ##################################### | 100% \n",
      "ld_impl_linux-64-2.3 | 654 KB    | ##################################### | 100% \n",
      "setuptools-65.5.0    | 1.1 MB    | ##################################### | 100% \n",
      "ca-certificates-2022 | 124 KB    | ##################################### | 100% \n",
      "_openmp_mutex-5.1    | 21 KB     | ##################################### | 100% \n",
      "libffi-3.3           | 50 KB     | ##################################### | 100% \n",
      "libgomp-11.2.0       | 474 KB    | ##################################### | 100% \n",
      "Preparing transaction: done\n",
      "Verifying transaction: done\n",
      "Executing transaction: done\n",
      "#\n",
      "# To activate this environment, use\n",
      "#\n",
      "#     $ conda activate newColab\n",
      "#\n",
      "# To deactivate an active environment, use\n",
      "#\n",
      "#     $ conda deactivate\n",
      "\n",
      "no change     /root/miniconda3/condabin/conda\n",
      "no change     /root/miniconda3/bin/conda\n",
      "no change     /root/miniconda3/bin/conda-env\n",
      "no change     /root/miniconda3/bin/activate\n",
      "no change     /root/miniconda3/bin/deactivate\n",
      "no change     /root/miniconda3/etc/profile.d/conda.sh\n",
      "no change     /root/miniconda3/etc/fish/conf.d/conda.fish\n",
      "no change     /root/miniconda3/shell/condabin/Conda.psm1\n",
      "no change     /root/miniconda3/shell/condabin/conda-hook.ps1\n",
      "no change     /root/miniconda3/lib/python3.8/site-packages/xontrib/conda.xsh\n",
      "no change     /root/miniconda3/etc/profile.d/conda.csh\n",
      "modified      /root/.bashrc\n",
      "\n",
      "==> For changes to take effect, close and re-open your current shell. <==\n",
      "\n",
      "+--------------------------------------------------AutoDL--------------------------------------------------------+\n",
      "\u001b[32m目录说明:\u001b[0m\n",
      "╔═════════════════╦══════╦════╦═════════════════════════════════════════════════════════════════════════╗\n",
      "║目录             ║名称  ║速度║说明                                                                     ║\n",
      "╠═════════════════╬══════╬════╬═════════════════════════════════════════════════════════════════════════╣\n",
      "║/                ║系统盘║快  ║实例关机数据不会丢失，可存放代码等。会随保存镜像一起保存。               ║\n",
      "║/root/autodl-tmp ║数据盘║快  ║实例关机数据不会丢失，可存放读写IO要求高的数据。但不会随保存镜像一起保存 ║\n",
      "║/root/autodl-nas ║网盘  ║慢  ║可以实现多实例间的文件同步共享，不受实例开关机和保存镜像的影响。         ║\n",
      "╚═════════════════╩══════╩════╩═════════════════════════════════════════════════════════════════════════╝\n",
      "\u001b[32mCPU\u001b[0m ：15 核心\n",
      "\u001b[32m内存\u001b[0m：80 GB\n",
      "\u001b[32mGPU \u001b[0m：NVIDIA GeForce RTX 3090, 1\n",
      "\u001b[32m存储\u001b[0m：\n",
      "\u001b[32m  系统盘/               \u001b[0m：3% 584M/25G\n",
      "\u001b[32m  数据盘/root/autodl-tmp\u001b[0m：4% 1.8G/50G\n",
      "\u001b[32m  网  盘/root/autodl-nas\u001b[0m：23% 4.5G/20G\n",
      "+----------------------------------------------------------------------------------------------------------------+\n",
      "\u001b[31m*注意: \u001b[0m\n",
      "\u001b[31m1.系统盘较小请将大的数据存放于数据盘或网盘中，重置系统时数据盘和网盘中的数据不受影响\u001b[0m\n",
      "\u001b[31m2.清理系统盘请参考：https://www.autodl.com/docs/qa/\u001b[0m\n",
      "Get:1 https://repo.huaweicloud.com/ubuntu focal InRelease [265 kB]\n",
      "Get:2 https://repo.huaweicloud.com/ubuntu focal-backports InRelease [108 kB]   \n",
      "Get:3 https://repo.huaweicloud.com/ubuntu focal-proposed InRelease [267 kB]    \n",
      "Get:4 https://repo.huaweicloud.com/ubuntu focal-security InRelease [114 kB]    \n",
      "Get:5 https://repo.huaweicloud.com/ubuntu focal-updates InRelease [114 kB]     \n",
      "Get:6 https://repo.huaweicloud.com/ubuntu focal/restricted Sources [7,198 B]   \n",
      "Get:7 https://repo.huaweicloud.com/ubuntu focal/universe Sources [12.3 MB]     \n",
      "Get:8 https://repo.huaweicloud.com/ubuntu focal/main Sources [1,079 kB]        \n",
      "Get:9 https://repo.huaweicloud.com/ubuntu focal/multiverse Sources [208 kB]    \n",
      "Get:10 https://repo.huaweicloud.com/ubuntu focal/multiverse amd64 Packages [177 kB]\n",
      "Get:11 https://repo.huaweicloud.com/ubuntu focal/main amd64 Packages [1,275 kB]\n",
      "Get:12 https://repo.huaweicloud.com/ubuntu focal/universe amd64 Packages [11.3 MB]\n",
      "Get:13 https://repo.huaweicloud.com/ubuntu focal/restricted amd64 Packages [33.4 kB]\n",
      "Get:14 https://repo.huaweicloud.com/ubuntu focal-backports/universe Sources [10.7 kB]\n",
      "Get:15 https://repo.huaweicloud.com/ubuntu focal-backports/main Sources [10.9 kB]\n",
      "Get:16 https://repo.huaweicloud.com/ubuntu focal-backports/main amd64 Packages [55.2 kB]\n",
      "Get:17 https://repo.huaweicloud.com/ubuntu focal-backports/universe amd64 Packages [27.5 kB]\n",
      "Get:18 https://repo.huaweicloud.com/ubuntu focal-proposed/universe Sources [17.0 kB]\n",
      "Get:19 https://repo.huaweicloud.com/ubuntu focal-proposed/restricted Sources [11.0 kB]\n",
      "Get:20 https://repo.huaweicloud.com/ubuntu focal-proposed/main Sources [53.9 kB]\n",
      "Get:21 https://repo.huaweicloud.com/ubuntu focal-proposed/restricted amd64 Packages [262 kB]\n",
      "Get:22 https://repo.huaweicloud.com/ubuntu focal-proposed/universe amd64 Packages [65.8 kB]\n",
      "Get:23 https://repo.huaweicloud.com/ubuntu focal-proposed/main amd64 Packages [228 kB]\n",
      "Get:24 https://repo.huaweicloud.com/ubuntu focal-security/universe Sources [179 kB]\n",
      "Get:25 https://repo.huaweicloud.com/ubuntu focal-security/restricted Sources [55.0 kB]\n",
      "Get:26 https://repo.huaweicloud.com/ubuntu focal-security/multiverse Sources [12.0 kB]\n",
      "Get:27 https://repo.huaweicloud.com/ubuntu focal-security/main Sources [318 kB]\n",
      "Get:28 https://repo.huaweicloud.com/ubuntu focal-security/restricted amd64 Packages [1,710 kB]\n",
      "Get:29 https://repo.huaweicloud.com/ubuntu focal-security/multiverse amd64 Packages [27.5 kB]\n",
      "Get:30 https://repo.huaweicloud.com/ubuntu focal-security/main amd64 Packages [2,312 kB]\n",
      "Get:31 https://repo.huaweicloud.com/ubuntu focal-security/universe amd64 Packages [963 kB]\n",
      "Get:32 https://repo.huaweicloud.com/ubuntu focal-updates/main Sources [663 kB] \n",
      "Get:33 https://repo.huaweicloud.com/ubuntu focal-updates/restricted Sources [55.2 kB]\n",
      "Get:34 https://repo.huaweicloud.com/ubuntu focal-updates/multiverse Sources [23.4 kB]\n",
      "Get:35 https://repo.huaweicloud.com/ubuntu focal-updates/universe Sources [369 kB]\n",
      "Get:36 https://repo.huaweicloud.com/ubuntu focal-updates/main amd64 Packages [2,786 kB]\n",
      "Get:37 https://repo.huaweicloud.com/ubuntu focal-updates/restricted amd64 Packages [1,834 kB]\n",
      "Get:38 https://repo.huaweicloud.com/ubuntu focal-updates/multiverse amd64 Packages [30.2 kB]\n",
      "Get:39 https://repo.huaweicloud.com/ubuntu focal-updates/universe amd64 Packages [1,262 kB]\n",
      "Ign:40 https://developer.download.nvidia.cn/compute/machine-learning/repos/ubuntu2004/x86_64  InRelease\n",
      "Get:41 https://developer.download.nvidia.cn/compute/machine-learning/repos/ubuntu2004/x86_64  Release [564 B]\n",
      "Get:42 https://developer.download.nvidia.cn/compute/machine-learning/repos/ubuntu2004/x86_64  Release.gpg [833 B]\n",
      "Get:43 https://developer.download.nvidia.cn/compute/machine-learning/repos/ubuntu2004/x86_64  Packages [2,445 B]\n",
      "Fetched 40.6 MB in 17s (2,449 kB/s)    \n",
      "Reading package lists... Done\n",
      "Reading package lists... Done\n",
      "Building dependency tree       \n",
      "Reading state information... Done\n",
      "The following additional packages will be installed:\n",
      "  libfontenc1 libunwind8 libxaw7 libxfont2 libxkbfile1 libxmu6 libxmuu1\n",
      "  x11-xkb-utils xauth xfonts-base xfonts-encodings xfonts-utils xserver-common\n",
      "The following NEW packages will be installed:\n",
      "  libfontenc1 libunwind8 libxaw7 libxfont2 libxkbfile1 libxmu6 libxmuu1\n",
      "  x11-xkb-utils xauth xfonts-base xfonts-encodings xfonts-utils xserver-common\n",
      "  xvfb\n",
      "0 upgraded, 14 newly installed, 0 to remove and 140 not upgraded.\n",
      "Need to get 7,997 kB of archives.\n",
      "After this operation, 12.9 MB of additional disk space will be used.\n",
      "Get:1 https://repo.huaweicloud.com/ubuntu focal/main amd64 libxmuu1 amd64 2:1.1.3-0ubuntu1 [9,728 B]\n",
      "Get:2 https://repo.huaweicloud.com/ubuntu focal/main amd64 xauth amd64 1:1.1-0ubuntu1 [25.0 kB]\n",
      "Get:3 https://repo.huaweicloud.com/ubuntu focal/main amd64 libfontenc1 amd64 1:1.1.4-0ubuntu1 [14.0 kB]\n",
      "Get:4 https://repo.huaweicloud.com/ubuntu focal/main amd64 libunwind8 amd64 1.2.1-9build1 [47.6 kB]\n",
      "Get:5 https://repo.huaweicloud.com/ubuntu focal/main amd64 libxmu6 amd64 2:1.1.3-0ubuntu1 [45.8 kB]\n",
      "Get:6 https://repo.huaweicloud.com/ubuntu focal/main amd64 libxaw7 amd64 2:1.0.13-1 [173 kB]\n",
      "Get:7 https://repo.huaweicloud.com/ubuntu focal/main amd64 libxfont2 amd64 1:2.0.3-1 [91.7 kB]\n",
      "Get:8 https://repo.huaweicloud.com/ubuntu focal/main amd64 libxkbfile1 amd64 1:1.1.0-1 [65.3 kB]\n",
      "Get:9 https://repo.huaweicloud.com/ubuntu focal/main amd64 x11-xkb-utils amd64 7.7+5 [158 kB]\n",
      "Get:10 https://repo.huaweicloud.com/ubuntu focal/main amd64 xfonts-encodings all 1:1.0.5-0ubuntu1 [573 kB]\n",
      "Get:11 https://repo.huaweicloud.com/ubuntu focal/main amd64 xfonts-utils amd64 1:7.7+6 [91.5 kB]\n",
      "Get:12 https://repo.huaweicloud.com/ubuntu focal/main amd64 xfonts-base all 1:1.0.5 [5,896 kB]\n",
      "Get:13 https://repo.huaweicloud.com/ubuntu focal-security/main amd64 xserver-common all 2:1.20.13-1ubuntu1~20.04.3 [26.7 kB]\n",
      "Get:14 https://repo.huaweicloud.com/ubuntu focal-security/universe amd64 xvfb amd64 2:1.20.13-1ubuntu1~20.04.3 [779 kB]\n",
      "Fetched 7,997 kB in 1s (9,928 kB/s)\n",
      "debconf: delaying package configuration, since apt-utils is not installed\n",
      "Selecting previously unselected package libxmuu1:amd64.\n",
      "(Reading database ... 45046 files and directories currently installed.)\n",
      "Preparing to unpack .../00-libxmuu1_2%3a1.1.3-0ubuntu1_amd64.deb ...\n",
      "Unpacking libxmuu1:amd64 (2:1.1.3-0ubuntu1) ...\n",
      "Selecting previously unselected package xauth.\n",
      "Preparing to unpack .../01-xauth_1%3a1.1-0ubuntu1_amd64.deb ...\n",
      "Unpacking xauth (1:1.1-0ubuntu1) ...\n",
      "Selecting previously unselected package libfontenc1:amd64.\n",
      "Preparing to unpack .../02-libfontenc1_1%3a1.1.4-0ubuntu1_amd64.deb ...\n",
      "Unpacking libfontenc1:amd64 (1:1.1.4-0ubuntu1) ...\n",
      "Selecting previously unselected package libunwind8:amd64.\n",
      "Preparing to unpack .../03-libunwind8_1.2.1-9build1_amd64.deb ...\n",
      "Unpacking libunwind8:amd64 (1.2.1-9build1) ...\n",
      "Selecting previously unselected package libxmu6:amd64.\n",
      "Preparing to unpack .../04-libxmu6_2%3a1.1.3-0ubuntu1_amd64.deb ...\n",
      "Unpacking libxmu6:amd64 (2:1.1.3-0ubuntu1) ...\n",
      "Selecting previously unselected package libxaw7:amd64.\n",
      "Preparing to unpack .../05-libxaw7_2%3a1.0.13-1_amd64.deb ...\n",
      "Unpacking libxaw7:amd64 (2:1.0.13-1) ...\n",
      "Selecting previously unselected package libxfont2:amd64.\n",
      "Preparing to unpack .../06-libxfont2_1%3a2.0.3-1_amd64.deb ...\n",
      "Unpacking libxfont2:amd64 (1:2.0.3-1) ...\n",
      "Selecting previously unselected package libxkbfile1:amd64.\n",
      "Preparing to unpack .../07-libxkbfile1_1%3a1.1.0-1_amd64.deb ...\n",
      "Unpacking libxkbfile1:amd64 (1:1.1.0-1) ...\n",
      "Selecting previously unselected package x11-xkb-utils.\n",
      "Preparing to unpack .../08-x11-xkb-utils_7.7+5_amd64.deb ...\n",
      "Unpacking x11-xkb-utils (7.7+5) ...\n",
      "Selecting previously unselected package xfonts-encodings.\n",
      "Preparing to unpack .../09-xfonts-encodings_1%3a1.0.5-0ubuntu1_all.deb ...\n",
      "Unpacking xfonts-encodings (1:1.0.5-0ubuntu1) ...\n",
      "Selecting previously unselected package xfonts-utils.\n",
      "Preparing to unpack .../10-xfonts-utils_1%3a7.7+6_amd64.deb ...\n",
      "Unpacking xfonts-utils (1:7.7+6) ...\n",
      "Selecting previously unselected package xfonts-base.\n",
      "Preparing to unpack .../11-xfonts-base_1%3a1.0.5_all.deb ...\n",
      "Unpacking xfonts-base (1:1.0.5) ...\n",
      "Selecting previously unselected package xserver-common.\n",
      "Preparing to unpack .../12-xserver-common_2%3a1.20.13-1ubuntu1~20.04.3_all.deb ...\n",
      "Unpacking xserver-common (2:1.20.13-1ubuntu1~20.04.3) ...\n",
      "Selecting previously unselected package xvfb.\n",
      "Preparing to unpack .../13-xvfb_2%3a1.20.13-1ubuntu1~20.04.3_amd64.deb ...\n",
      "Unpacking xvfb (2:1.20.13-1ubuntu1~20.04.3) ...\n",
      "Setting up libxmu6:amd64 (2:1.1.3-0ubuntu1) ...\n",
      "Setting up libxaw7:amd64 (2:1.0.13-1) ...\n",
      "Setting up libunwind8:amd64 (1.2.1-9build1) ...\n",
      "Setting up libfontenc1:amd64 (1:1.1.4-0ubuntu1) ...\n",
      "Setting up xfonts-encodings (1:1.0.5-0ubuntu1) ...\n",
      "Setting up libxkbfile1:amd64 (1:1.1.0-1) ...\n",
      "Setting up libxfont2:amd64 (1:2.0.3-1) ...\n",
      "Setting up libxmuu1:amd64 (2:1.1.3-0ubuntu1) ...\n",
      "Setting up x11-xkb-utils (7.7+5) ...\n",
      "Setting up xfonts-utils (1:7.7+6) ...\n",
      "Setting up xfonts-base (1:1.0.5) ...\n",
      "Setting up xauth (1:1.1-0ubuntu1) ...\n",
      "Setting up xserver-common (2:1.20.13-1ubuntu1~20.04.3) ...\n",
      "Setting up xvfb (2:1.20.13-1ubuntu1~20.04.3) ...\n",
      "Processing triggers for fontconfig (2.13.1-2ubuntu3) ...\n",
      "Processing triggers for libc-bin (2.31-0ubuntu9.7) ...\n",
      "Looking in indexes: https://repo.huaweicloud.com/repository/pypi/simple\n",
      "Collecting scipy\n",
      "  Downloading https://repo.huaweicloud.com/repository/pypi/packages/56/af/6a2b90fe280e89466d84747054667f74b84a8304f75931a173090919991f/scipy-1.9.3-cp38-cp38-manylinux_2_17_x86_64.manylinux2014_x86_64.whl (33.8 MB)\n",
      "\u001b[2K     \u001b[90m━━━━━━━━━━━━━━━━━━━━━━━━━━━━━━━━━━━━━━━━\u001b[0m \u001b[32m33.8/33.8 MB\u001b[0m \u001b[31m39.4 MB/s\u001b[0m eta \u001b[36m0:00:00\u001b[0m00:01\u001b[0m00:01\u001b[0m\n",
      "\u001b[?25hCollecting pyyaml\n",
      "  Downloading https://repo.huaweicloud.com/repository/pypi/packages/d7/42/7ad4b6d67a16229496d4f6e74201bdbebcf4bc1e87d5a70c9297d4961bd2/PyYAML-6.0-cp38-cp38-manylinux_2_5_x86_64.manylinux1_x86_64.manylinux_2_12_x86_64.manylinux2010_x86_64.whl (701 kB)\n",
      "\u001b[2K     \u001b[90m━━━━━━━━━━━━━━━━━━━━━━━━━━━━━━━━━━━━━━\u001b[0m \u001b[32m701.2/701.2 kB\u001b[0m \u001b[31m58.1 MB/s\u001b[0m eta \u001b[36m0:00:00\u001b[0m\n",
      "\u001b[?25hCollecting pyqt5\n",
      "  Downloading https://repo.huaweicloud.com/repository/pypi/packages/22/0d/4ea05714826a5f6478dc2845cd94ad76dce3c4c0ead0842b06cacd4e3492/PyQt5-5.15.7-cp37-abi3-manylinux1_x86_64.whl (8.4 MB)\n",
      "\u001b[2K     \u001b[90m━━━━━━━━━━━━━━━━━━━━━━━━━━━━━━━━━━━━━━━━\u001b[0m \u001b[32m8.4/8.4 MB\u001b[0m \u001b[31m27.8 MB/s\u001b[0m eta \u001b[36m0:00:00\u001b[0m00:01\u001b[0m00:01\u001b[0m\n",
      "\u001b[?25hCollecting matplotlib\n",
      "  Downloading https://repo.huaweicloud.com/repository/pypi/packages/e3/4d/ec9404380b50a1eefa2b492909613ad5cb67226eb9910b089ea6e36dafaf/matplotlib-3.6.2-cp38-cp38-manylinux_2_12_x86_64.manylinux2010_x86_64.whl (9.4 MB)\n",
      "\u001b[2K     \u001b[90m━━━━━━━━━━━━━━━━━━━━━━━━━━━━━━━━━━━━━━━━\u001b[0m \u001b[32m9.4/9.4 MB\u001b[0m \u001b[31m29.2 MB/s\u001b[0m eta \u001b[36m0:00:00\u001b[0m00:01\u001b[0m00:01\u001b[0m\n",
      "\u001b[?25hCollecting numpy<1.26.0,>=1.18.5\n",
      "  Downloading https://repo.huaweicloud.com/repository/pypi/packages/56/df/2f6016171ebce9875e7de0292a2131bea86e0340607a313a04b332d35c8e/numpy-1.23.4-cp38-cp38-manylinux_2_17_x86_64.manylinux2014_x86_64.whl (17.1 MB)\n",
      "\u001b[2K     \u001b[90m━━━━━━━━━━━━━━━━━━━━━━━━━━━━━━━━━━━━━━━━\u001b[0m \u001b[32m17.1/17.1 MB\u001b[0m \u001b[31m55.5 MB/s\u001b[0m eta \u001b[36m0:00:00\u001b[0m00:01\u001b[0m00:01\u001b[0m\n",
      "\u001b[?25hCollecting PyQt5-sip<13,>=12.11\n",
      "  Downloading https://repo.huaweicloud.com/repository/pypi/packages/41/b5/473fbe697cfe01b5389c968ba16bbcb6fa4080f594661ed44e8cc3ea5f7a/PyQt5_sip-12.11.0-cp38-cp38-manylinux1_x86_64.whl (361 kB)\n",
      "\u001b[2K     \u001b[90m━━━━━━━━━━━━━━━━━━━━━━━━━━━━━━━━━━━━━━\u001b[0m \u001b[32m361.4/361.4 kB\u001b[0m \u001b[31m60.7 MB/s\u001b[0m eta \u001b[36m0:00:00\u001b[0m\n",
      "\u001b[?25hCollecting PyQt5-Qt5>=5.15.0\n",
      "  Downloading https://repo.huaweicloud.com/repository/pypi/packages/83/d4/241a6a518d0bcf0a9fcdcbad5edfed18d43e884317eab8d5230a2b27e206/PyQt5_Qt5-5.15.2-py3-none-manylinux2014_x86_64.whl (59.9 MB)\n",
      "\u001b[2K     \u001b[90m━━━━━━━━━━━━━━━━━━━━━━━━━━━━━━━━━━━━━━━━\u001b[0m \u001b[32m59.9/59.9 MB\u001b[0m \u001b[31m15.8 MB/s\u001b[0m eta \u001b[36m0:00:00\u001b[0m00:01\u001b[0m00:01\u001b[0m\n",
      "\u001b[?25hCollecting cycler>=0.10\n",
      "  Downloading https://repo.huaweicloud.com/repository/pypi/packages/5c/f9/695d6bedebd747e5eb0fe8fad57b72fdf25411273a39791cde838d5a8f51/cycler-0.11.0-py3-none-any.whl (6.4 kB)\n",
      "Collecting pyparsing>=2.2.1\n",
      "  Downloading https://repo.huaweicloud.com/repository/pypi/packages/6c/10/a7d0fa5baea8fe7b50f448ab742f26f52b80bfca85ac2be9d35cdd9a3246/pyparsing-3.0.9-py3-none-any.whl (98 kB)\n",
      "\u001b[2K     \u001b[90m━━━━━━━━━━━━━━━━━━━━━━━━━━━━━━━━━━━━━━━━\u001b[0m \u001b[32m98.3/98.3 kB\u001b[0m \u001b[31m25.9 MB/s\u001b[0m eta \u001b[36m0:00:00\u001b[0m\n",
      "\u001b[?25hCollecting contourpy>=1.0.1\n",
      "  Downloading https://repo.huaweicloud.com/repository/pypi/packages/3c/ef/c5bdaf0394e68cf8f266f4939e6365d9fffbf68899819cc07382525318a0/contourpy-1.0.6-cp38-cp38-manylinux_2_17_x86_64.manylinux2014_x86_64.whl (295 kB)\n",
      "\u001b[2K     \u001b[90m━━━━━━━━━━━━━━━━━━━━━━━━━━━━━━━━━━━━━━\u001b[0m \u001b[32m296.0/296.0 kB\u001b[0m \u001b[31m57.3 MB/s\u001b[0m eta \u001b[36m0:00:00\u001b[0m\n",
      "\u001b[?25hCollecting pillow>=6.2.0\n",
      "  Downloading https://repo.huaweicloud.com/repository/pypi/packages/56/02/2c8fde18b251c6ce2061b23b4fa04f3e71d386c725a09753bad19649e1b1/Pillow-9.3.0-cp38-cp38-manylinux_2_28_x86_64.whl (3.3 MB)\n",
      "\u001b[2K     \u001b[90m━━━━━━━━━━━━━━━━━━━━━━━━━━━━━━━━━━━━━━━━\u001b[0m \u001b[32m3.3/3.3 MB\u001b[0m \u001b[31m42.5 MB/s\u001b[0m eta \u001b[36m0:00:00\u001b[0m00:01\u001b[0m00:01\u001b[0m\n",
      "\u001b[?25hCollecting packaging>=20.0\n",
      "  Downloading https://repo.huaweicloud.com/repository/pypi/packages/3c/77/e2362b676dc5008d81be423070dd9577fa03be5da2ba1105811900fda546/packaging-21.0-py3-none-any.whl (40 kB)\n",
      "\u001b[2K     \u001b[90m━━━━━━━━━━━━━━━━━━━━━━━━━━━━━━━━━━━━━━━━\u001b[0m \u001b[32m40.4/40.4 kB\u001b[0m \u001b[31m12.6 MB/s\u001b[0m eta \u001b[36m0:00:00\u001b[0m\n",
      "\u001b[?25hCollecting kiwisolver>=1.0.1\n",
      "  Downloading https://repo.huaweicloud.com/repository/pypi/packages/86/7a/6b438da7534dacd232ed4e19f74f4edced2cda9494d7e6536f54edfdf4a5/kiwisolver-1.4.4-cp38-cp38-manylinux_2_5_x86_64.manylinux1_x86_64.whl (1.2 MB)\n",
      "\u001b[2K     \u001b[90m━━━━━━━━━━━━━━━━━━━━━━━━━━━━━━━━━━━━━━━━\u001b[0m \u001b[32m1.2/1.2 MB\u001b[0m \u001b[31m86.9 MB/s\u001b[0m eta \u001b[36m0:00:00\u001b[0m\n",
      "\u001b[?25hCollecting python-dateutil>=2.7\n",
      "  Downloading https://repo.huaweicloud.com/repository/pypi/packages/d4/70/d60450c3dd48ef87586924207ae8907090de0b306af2bce5d134d78615cb/python_dateutil-2.8.1-py2.py3-none-any.whl (227 kB)\n",
      "\u001b[2K     \u001b[90m━━━━━━━━━━━━━━━━━━━━━━━━━━━━━━━━━━━━━━\u001b[0m \u001b[32m227.2/227.2 kB\u001b[0m \u001b[31m43.3 MB/s\u001b[0m eta \u001b[36m0:00:00\u001b[0m\n",
      "\u001b[?25hCollecting fonttools>=4.22.0\n",
      "  Downloading https://repo.huaweicloud.com/repository/pypi/packages/99/e2/90421047dfd94ed78064b41345d63985c576dc98b7c87bec92a1a8cb88e5/fonttools-4.37.1-py3-none-any.whl (957 kB)\n",
      "\u001b[2K     \u001b[90m━━━━━━━━━━━━━━━━━━━━━━━━━━━━━━━━━━━━━━\u001b[0m \u001b[32m957.2/957.2 kB\u001b[0m \u001b[31m57.3 MB/s\u001b[0m eta \u001b[36m0:00:00\u001b[0m\n",
      "\u001b[?25hCollecting six>=1.5\n",
      "  Downloading https://repo.huaweicloud.com/repository/pypi/packages/d9/5a/e7c31adbe875f2abbb91bd84cf2dc52d792b5a01506781dbcf25c91daf11/six-1.16.0-py2.py3-none-any.whl (11 kB)\n",
      "Installing collected packages: PyQt5-Qt5, six, pyyaml, PyQt5-sip, pyparsing, pillow, numpy, kiwisolver, fonttools, cycler, scipy, python-dateutil, pyqt5, packaging, contourpy, matplotlib\n",
      "Successfully installed PyQt5-Qt5-5.15.2 PyQt5-sip-12.11.0 contourpy-1.0.6 cycler-0.11.0 fonttools-4.37.1 kiwisolver-1.4.4 matplotlib-3.6.2 numpy-1.23.4 packaging-21.0 pillow-9.3.0 pyparsing-3.0.9 pyqt5-5.15.7 python-dateutil-2.8.1 pyyaml-6.0 scipy-1.9.3 six-1.16.0\n",
      "\u001b[33mWARNING: Running pip as the 'root' user can result in broken permissions and conflicting behaviour with the system package manager. It is recommended to use a virtual environment instead: https://pip.pypa.io/warnings/venv\u001b[0m\u001b[33m\n",
      "\u001b[0mDone!\n"
     ]
    }
   ],
   "source": [
    "from subprocess import getoutput\n",
    "from IPython.display import display,clear_output\n",
    "\n",
    "s = getoutput('conda info --env')\n",
    "if 'newColab' not in s:\n",
    "    print('当前系统中没有newColab的虚拟环境，正在安装')\n",
    "    # 创建Conda新的虚拟环境\n",
    "    # 构建一个虚拟环境，名为: newColab\n",
    "    # 更新bashrc中的环境变量\n",
    "    !source activate &&\\\n",
    "    conda create -n newColab python=3.8.10 -y &&\\\n",
    "    conda init bash && source /root/.bashrc\n",
    "else:\n",
    "    print('已经安装了newColab环境')\n",
    "    # !source activate &&\\\n",
    "    # conda activate py3.10.6 &&\\\n",
    "    # conda install ipykernel &&\\\n",
    "    # ipython kernel install --user --name=py3.10.6 --display-name \"Python3.10.6\" # 设置kernel，--user表示当前用户，--name为虚拟环境名称，--display-name为笔记本显示名称\n",
    "    \n",
    "    \n",
    "# Ubuntu18.04下解决Qt出现qt.qpa.plugin:Could not load the Qt platform plugin “xcb“问题 \n",
    "# https://blog.csdn.net/LOVEmy134611/article/details/107212845\n",
    "# 原因就在于这个3D Photo Inpainting 依赖于X server (linux 操作系统里面图形接口服务器的简称)\n",
    "# 而一般服务器运行在字符终端级别，并没有启动图形用户界面 ，因此产生无法连接到X display服务的错误。\n",
    "# 在 xvfb（X virtual framebuffer）中运行对应的程序， xvfb能够直接处理图形化功能，给应用程序提供一个虚拟的X server。\n",
    "\n",
    "!source activate &&\\\n",
    "conda activate newColab &&\\\n",
    "$proxy &&\\\n",
    "apt-get update &&\\\n",
    "apt-get install xvfb -y\n",
    "\n",
    "#但是这样还会报出这样的警告：（可选择执行）\n",
    "# WARNING: could not determine DPI\n",
    "# WARNING: QStandardPaths: XDG_RUNTIME_DIR not set, defaulting to '/tmp/runtime-root'\n",
    "# 解决方案：https://blog.csdn.net/weixin_41194129/article/details/120399123\n",
    "# vim ~/.bashrc 回车，去到最后一行，按i进入编辑状态\n",
    "# 复制下面两句\n",
    "# export XDG_RUNTIME_DIR=/usr/lib/\n",
    "# export RUNLEVEL=3\n",
    "# 按ESC，然后输入:wq退出编辑\n",
    "# 然后刷新全局变量\n",
    "# source /etc/profile\n",
    "\n",
    "\n",
    "\n",
    "# apt-get install -y libglfw3-dev python3-pyqt5 pyqt5-dev-tools &&\\\n",
    "# pip install --user pyqt5\n",
    "# apt-get install libxcb-xinerama0 &&\\ \n",
    "# apt install libxkbcommon-x11-0 &&\\\n",
    "\n",
    "!source activate &&\\\n",
    "conda activate newColab &&\\\n",
    "$proxy &&\\\n",
    "pip install scipy pyyaml pyqt5 matplotlib\n",
    "    \n",
    "# pip install -r /root/requirements.txt\n",
    "    \n",
    "# clear_output(wait=True)\n",
    "print(\"Done!\")\n",
    "\n"
   ]
  },
  {
   "cell_type": "markdown",
   "metadata": {
    "id": "LPQ0EWxgvMIc"
   },
   "source": [
    "- **Prepare environment**\n"
   ]
  },
  {
   "cell_type": "code",
   "execution_count": 12,
   "metadata": {
    "colab": {
     "base_uri": "https://localhost:8080/",
     "height": 765
    },
    "id": "5o-EIMeaghU0",
    "outputId": "338213a6-fd98-4320-a07d-3ec55640123f",
    "tags": []
   },
   "outputs": [
    {
     "name": "stdout",
     "output_type": "stream",
     "text": [
      "Collecting package metadata (current_repodata.json): done\n",
      "Solving environment: done\n",
      "\n",
      "\n",
      "==> WARNING: A newer version of conda exists. <==\n",
      "  current version: 4.10.3\n",
      "  latest version: 22.9.0\n",
      "\n",
      "Please update conda by running\n",
      "\n",
      "    $ conda update -n base -c defaults conda\n",
      "\n",
      "\n",
      "\n",
      "# All requested packages already installed.\n",
      "\n",
      "Looking in indexes: https://repo.huaweicloud.com/repository/pypi/simple\n",
      "Requirement already satisfied: opencv-python==4.2.0.32 in /root/miniconda3/envs/newColab/lib/python3.8/site-packages (4.2.0.32)\n",
      "Requirement already satisfied: vispy==0.6.4 in /root/miniconda3/envs/newColab/lib/python3.8/site-packages (0.6.4)\n",
      "Requirement already satisfied: moviepy==1.0.2 in /root/miniconda3/envs/newColab/lib/python3.8/site-packages (1.0.2)\n",
      "Requirement already satisfied: transforms3d==0.3.1 in /root/miniconda3/envs/newColab/lib/python3.8/site-packages (0.3.1)\n",
      "Requirement already satisfied: networkx==2.3 in /root/miniconda3/envs/newColab/lib/python3.8/site-packages (2.3)\n",
      "Collecting scikit-image\n",
      "  Downloading https://repo.huaweicloud.com/repository/pypi/packages/96/11/878ee6757f75835c396fbdd934ca8e1a1681553ac0925fbf77065c9618e5/scikit_image-0.19.3-cp38-cp38-manylinux_2_17_x86_64.manylinux2014_x86_64.whl (14.0 MB)\n",
      "\u001b[2K     \u001b[90m━━━━━━━━━━━━━━━━━━━━━━━━━━━━━━━━━━━━━━━━\u001b[0m \u001b[32m14.0/14.0 MB\u001b[0m \u001b[31m64.3 MB/s\u001b[0m eta \u001b[36m0:00:00\u001b[0m00:01\u001b[0m00:01\u001b[0m\n",
      "\u001b[?25hRequirement already satisfied: numpy>=1.17.3 in /root/miniconda3/envs/newColab/lib/python3.8/site-packages (from opencv-python==4.2.0.32) (1.23.4)\n",
      "Requirement already satisfied: freetype-py in /root/miniconda3/envs/newColab/lib/python3.8/site-packages (from vispy==0.6.4) (2.3.0)\n",
      "Requirement already satisfied: imageio-ffmpeg>=0.2.0 in /root/miniconda3/envs/newColab/lib/python3.8/site-packages (from moviepy==1.0.2) (0.4.7)\n",
      "Requirement already satisfied: requests<3.0,>=2.8.1 in /root/miniconda3/envs/newColab/lib/python3.8/site-packages (from moviepy==1.0.2) (2.28.1)\n",
      "Requirement already satisfied: imageio<3.0,>=2.5 in /root/miniconda3/envs/newColab/lib/python3.8/site-packages (from moviepy==1.0.2) (2.22.4)\n",
      "Requirement already satisfied: tqdm<5.0,>=4.11.2 in /root/miniconda3/envs/newColab/lib/python3.8/site-packages (from moviepy==1.0.2) (4.63.1)\n",
      "Requirement already satisfied: decorator<5.0,>=4.0.2 in /root/miniconda3/envs/newColab/lib/python3.8/site-packages (from moviepy==1.0.2) (4.4.2)\n",
      "Requirement already satisfied: proglog<=1.0.0 in /root/miniconda3/envs/newColab/lib/python3.8/site-packages (from moviepy==1.0.2) (0.1.10)\n",
      "Requirement already satisfied: packaging>=20.0 in /root/miniconda3/envs/newColab/lib/python3.8/site-packages (from scikit-image) (21.0)\n",
      "Requirement already satisfied: pillow!=7.1.0,!=7.1.1,!=8.3.0,>=6.1.0 in /root/miniconda3/envs/newColab/lib/python3.8/site-packages (from scikit-image) (9.3.0)\n",
      "Collecting PyWavelets>=1.1.1\n",
      "  Downloading https://repo.huaweicloud.com/repository/pypi/packages/4b/20/04a0a3e43a45a459c2bcde756833b2eca9430729e89d65da35f70e99e997/PyWavelets-1.3.0-cp38-cp38-manylinux_2_17_x86_64.manylinux2014_x86_64.whl (6.9 MB)\n",
      "\u001b[2K     \u001b[90m━━━━━━━━━━━━━━━━━━━━━━━━━━━━━━━━━━━━━━━━\u001b[0m \u001b[32m6.9/6.9 MB\u001b[0m \u001b[31m69.0 MB/s\u001b[0m eta \u001b[36m0:00:00\u001b[0m:00:01\u001b[0m00:01\u001b[0m\n",
      "\u001b[?25hCollecting tifffile>=2019.7.26\n",
      "  Downloading https://repo.huaweicloud.com/repository/pypi/packages/45/84/31e59ef72ac4149bb27ab9ccb3aa2b0d294abd97cf61dafd599bddf50a69/tifffile-2022.8.12-py3-none-any.whl (208 kB)\n",
      "\u001b[2K     \u001b[90m━━━━━━━━━━━━━━━━━━━━━━━━━━━━━━━━━━━━━━\u001b[0m \u001b[32m208.5/208.5 kB\u001b[0m \u001b[31m40.9 MB/s\u001b[0m eta \u001b[36m0:00:00\u001b[0m\n",
      "\u001b[?25hRequirement already satisfied: scipy>=1.4.1 in /root/miniconda3/envs/newColab/lib/python3.8/site-packages (from scikit-image) (1.9.3)\n",
      "Requirement already satisfied: pyparsing>=2.0.2 in /root/miniconda3/envs/newColab/lib/python3.8/site-packages (from packaging>=20.0->scikit-image) (3.0.9)\n",
      "Requirement already satisfied: certifi>=2017.4.17 in /root/miniconda3/envs/newColab/lib/python3.8/site-packages (from requests<3.0,>=2.8.1->moviepy==1.0.2) (2022.9.24)\n",
      "Requirement already satisfied: urllib3<1.27,>=1.21.1 in /root/miniconda3/envs/newColab/lib/python3.8/site-packages (from requests<3.0,>=2.8.1->moviepy==1.0.2) (1.26.12)\n",
      "Requirement already satisfied: charset-normalizer<3,>=2 in /root/miniconda3/envs/newColab/lib/python3.8/site-packages (from requests<3.0,>=2.8.1->moviepy==1.0.2) (2.1.1)\n",
      "Requirement already satisfied: idna<4,>=2.5 in /root/miniconda3/envs/newColab/lib/python3.8/site-packages (from requests<3.0,>=2.8.1->moviepy==1.0.2) (3.4)\n",
      "Installing collected packages: tifffile, PyWavelets, scikit-image\n",
      "Successfully installed PyWavelets-1.3.0 scikit-image-0.19.3 tifffile-2022.8.12\n",
      "\u001b[33mWARNING: Running pip as the 'root' user can result in broken permissions and conflicting behaviour with the system package manager. It is recommended to use a virtual environment instead: https://pip.pypa.io/warnings/venv\u001b[0m\u001b[33m\n",
      "Reading package lists... Done\n",
      "Building dependency tree       \n",
      "Reading state information... Done\n",
      "sed is already the newest version (4.7-1).\n",
      "0 upgraded, 0 newly installed, 0 to remove and 140 not upgraded.\n"
     ]
    }
   ],
   "source": [
    "!source activate &&\\\n",
    "conda activate newColab &&\\\n",
    "$proxy &&\\\n",
    "conda install -y pytorch==1.4.0 torchvision==0.5.0 -c pytorch &&\\\n",
    "pip install opencv-python==4.2.0.32 \\\n",
    "vispy==0.6.4 \\\n",
    "moviepy==1.0.2 \\\n",
    "transforms3d==0.3.1 \\\n",
    "networkx==2.3 \\\n",
    "scikit-image &&\\\n",
    "apt install sed"
   ]
  },
  {
   "cell_type": "markdown",
   "metadata": {
    "id": "c-g7AeLMvY0R"
   },
   "source": [
    "- **Download script and pretrained model**\n"
   ]
  },
  {
   "cell_type": "code",
   "execution_count": 4,
   "metadata": {
    "colab": {
     "base_uri": "https://localhost:8080/",
     "height": 901
    },
    "id": "cOFIBkWrBlNM",
    "outputId": "4e1f3e23-96e0-4baf-dd33-bff9d7dd6c6d"
   },
   "outputs": [
    {
     "name": "stdout",
     "output_type": "stream",
     "text": [
      "/root\n",
      "/root/3d-photo-inpainting\n"
     ]
    }
   ],
   "source": [
    "#已经通过镜像内置了\n",
    "\n",
    "%cd /root/\n",
    "# !git clone https://github.com/vt-vl-lab/3d-photo-inpainting.git\n",
    "%cd 3d-photo-inpainting\n",
    "# !$proxy && sh download.sh"
   ]
  },
  {
   "cell_type": "markdown",
   "metadata": {
    "id": "D_Fg_aMeDnmd"
   },
   "source": [
    "- **Switch off off-screen rendering**"
   ]
  },
  {
   "cell_type": "code",
   "execution_count": 14,
   "metadata": {
    "id": "S9TmdOBRDXcV"
   },
   "outputs": [],
   "source": [
    "!cd /root/autodl-tmp/3d-photo-inpainting &&\\\n",
    "sed -i 's/offscreen_rendering: True/offscreen_rendering: False/g' argument.yml"
   ]
  },
  {
   "cell_type": "markdown",
   "metadata": {
    "id": "cCN8L7GiDpZA"
   },
   "source": [
    "- **Please upload `.jpg` files to `/content/3d-photo-inpainting-master/image/`**\n",
    "  - You can run this step multiple times to upload multiple `.jpg` files."
   ]
  },
  {
   "cell_type": "code",
   "execution_count": 6,
   "metadata": {
    "colab": {
     "base_uri": "https://localhost:8080/",
     "height": 131,
     "resources": {
      "http://localhost:8080/nbextensions/google.colab/files.js": {
       "data": "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",
       "headers": [
        [
         "content-type",
         "application/javascript"
        ]
       ],
       "ok": true,
       "status": 200,
       "status_text": ""
      }
     }
    },
    "id": "n-Kl6fo1oows",
    "outputId": "f9f25a18-b8a5-49eb-f196-3775f0125050"
   },
   "outputs": [
    {
     "name": "stdout",
     "output_type": "stream",
     "text": [
      "/root/3d-photo-inpainting/image\n",
      "/root/3d-photo-inpainting\n"
     ]
    }
   ],
   "source": [
    "%cd image\n",
    "# from google.Colab import files\n",
    "# uploaded = files.upload()\n",
    "# for fn in uploaded.keys():\n",
    "#   print('User uploaded file \"{name}\" with length {length} bytes'.format(\n",
    "#       name=fn, length=len(uploaded[fn])))\n",
    "%cd .."
   ]
  },
  {
   "cell_type": "markdown",
   "metadata": {
    "id": "wyLFopwVDzUg"
   },
   "source": [
    "- **Execute the 3D Photo Inpainting**\n",
    "  - Note: The 3D photo generation process usually takes about 2-3 minutes or more depending on the available computing resources."
   ]
  },
  {
   "cell_type": "markdown",
   "metadata": {},
   "source": [
    "# 运行程序\n",
    "有几点需要注意：  \n",
    "main.py脚本里面有一句话要手动修改：config = yaml.load(open(args.config, 'r'),Loader=yaml.FullLoader)  \n",
    "它可能与输入图像格式有关。默认为 jpg。如果你使用 png 那么你需要修改 argument.yml → img_format: '.png'"
   ]
  },
  {
   "cell_type": "code",
   "execution_count": 16,
   "metadata": {
    "colab": {
     "base_uri": "https://localhost:8080/",
     "height": 1000
    },
    "id": "i5-MWEjfBjYx",
    "outputId": "6f799439-43c0-4985-9f9b-5c2a44fb709f"
   },
   "outputs": [
    {
     "name": "stdout",
     "output_type": "stream",
     "text": [
      "/root/autodl-tmp/3d-photo-inpainting/mesh.py:965: SyntaxWarning: \"is not\" with a literal. Did you mean \"!=\"?\n",
      "  passive_background = 10 if 10 is not None else background_thickness\n",
      "/root/autodl-tmp/3d-photo-inpainting/mesh.py:966: SyntaxWarning: \"is not\" with a literal. Did you mean \"!=\"?\n",
      "  passive_context = 1 if 1 is not None else context_thickness\n",
      "running on device 0\n",
      "  0%|                                                     | 0/1 [00:00<?, ?it/s]Current Source ==>  00121\n",
      "Running depth extraction at 1668760904.9922106\n",
      "BoostingMonocularDepth/inputs/*.jpg\n",
      "device: cuda\n",
      "Namespace(Final=True, R0=False, R20=False, colorize_results=False, data_dir='inputs/', depthNet=0, max_res=inf, net_receptive_field_size=None, output_dir='outputs', output_resolution=1, pix2pixsize=1024, savepatchs=0, savewholeest=0)\n",
      "----------------- Options ---------------\n",
      "                    Final: True                          \t[default: False]\n",
      "                       R0: False                         \n",
      "                      R20: False                         \n",
      "             aspect_ratio: 1.0                           \n",
      "               batch_size: 1                             \n",
      "          checkpoints_dir: ./pix2pix/checkpoints         \n",
      "         colorize_results: False                         \n",
      "                crop_size: 672                           \n",
      "                 data_dir: inputs/                       \t[default: None]\n",
      "                 dataroot: None                          \n",
      "             dataset_mode: depthmerge                    \n",
      "                 depthNet: 0                             \t[default: None]\n",
      "                direction: AtoB                          \n",
      "          display_winsize: 256                           \n",
      "                    epoch: latest                        \n",
      "                     eval: False                         \n",
      "            generatevideo: None                          \n",
      "                  gpu_ids: 0                             \n",
      "                init_gain: 0.02                          \n",
      "                init_type: normal                        \n",
      "                 input_nc: 2                             \n",
      "                  isTrain: False                         \t[default: None]\n",
      "                load_iter: 0                             \t[default: 0]\n",
      "                load_size: 672                           \n",
      "         max_dataset_size: 10000                         \n",
      "                  max_res: inf                           \n",
      "                    model: pix2pix4depth                 \n",
      "               n_layers_D: 3                             \n",
      "                     name: void                          \n",
      "                      ndf: 64                            \n",
      "                     netD: basic                         \n",
      "                     netG: unet_1024                     \n",
      " net_receptive_field_size: None                          \n",
      "                      ngf: 64                            \n",
      "               no_dropout: False                         \n",
      "                  no_flip: False                         \n",
      "                     norm: none                          \n",
      "                 num_test: 50                            \n",
      "              num_threads: 4                             \n",
      "               output_dir: outputs                       \t[default: None]\n",
      "                output_nc: 1                             \n",
      "        output_resolution: None                          \n",
      "                    phase: test                          \n",
      "              pix2pixsize: None                          \n",
      "               preprocess: resize_and_crop               \n",
      "                savecrops: None                          \n",
      "             savewholeest: None                          \n",
      "           serial_batches: False                         \n",
      "                   suffix:                               \n",
      "                  verbose: False                         \n",
      "----------------- End -------------------\n",
      "initialize network with normal\n",
      "loading the model from ./pix2pix/checkpoints/mergemodel/latest_net_G.pth\n",
      "Loading weights:  midas/model.pt\n",
      "Downloading: \"https://github.com/facebookresearch/WSL-Images/archive/main.zip\" to /root/.cache/torch/hub/main.zip\n",
      "Downloading: \"https://download.pytorch.org/models/ig_resnext101_32x8-c38310e5.pth\" to /root/.cache/torch/checkpoints/ig_resnext101_32x8-c38310e5.pth\n",
      " 74%|████████████████████████████▎         | 253M/340M [15:47<1:08:50, 22.0kB/s]^C\n",
      " 74%|██████████████████████████████▌          | 253M/340M [15:48<05:25, 279kB/s]\n",
      "Traceback (most recent call last):\n",
      "  File \"run.py\", line 580, in <module>\n",
      "    run(dataset_, option_)\n",
      "  File \"run.py\", line 59, in run\n",
      "    midasmodel = MidasNet(midas_model_path, non_negative=True)\n",
      "  File \"/root/autodl-tmp/3d-photo-inpainting/BoostingMonocularDepth/midas/models/midas_net.py\", line 30, in __init__\n",
      "    self.pretrained, self.scratch = _make_encoder(features, use_pretrained)\n",
      "  File \"/root/autodl-tmp/3d-photo-inpainting/BoostingMonocularDepth/midas/models/blocks.py\", line 6, in _make_encoder\n",
      "    pretrained = _make_pretrained_resnext101_wsl(use_pretrained)\n",
      "  File \"/root/autodl-tmp/3d-photo-inpainting/BoostingMonocularDepth/midas/models/blocks.py\", line 26, in _make_pretrained_resnext101_wsl\n",
      "    resnet = torch.hub.load(\"facebookresearch/WSL-Images:main\", \"resnext101_32x8d_wsl\")\n",
      "  File \"/root/miniconda3/envs/newColab/lib/python3.8/site-packages/torch/hub.py\", line 366, in load\n",
      "    model = entry(*args, **kwargs)\n",
      "  File \"/root/.cache/torch/hub/facebookresearch_WSL-Images_main/hubconf.py\", line 39, in resnext101_32x8d_wsl\n",
      "    return _resnext('resnext101_32x8d', Bottleneck, [3, 4, 23, 3], True, progress, **kwargs)\n",
      "  File \"/root/.cache/torch/hub/facebookresearch_WSL-Images_main/hubconf.py\", line 24, in _resnext\n",
      "    state_dict = load_state_dict_from_url(model_urls[arch], progress=progress)\n",
      "  File \"/root/miniconda3/envs/newColab/lib/python3.8/site-packages/torch/hub.py\", line 492, in load_state_dict_from_url\n",
      "    download_url_to_file(url, cached_file, hash_prefix, progress=progress)\n",
      "  File \"/root/miniconda3/envs/newColab/lib/python3.8/site-packages/torch/hub.py\", line 413, in download_url_to_file\n",
      "    buffer = u.read(8192)\n",
      "  File \"/root/miniconda3/envs/newColab/lib/python3.8/http/client.py\", line 455, in read\n",
      "    n = self.readinto(b)\n",
      "  File \"/root/miniconda3/envs/newColab/lib/python3.8/http/client.py\", line 499, in readinto\n",
      "    n = self.fp.readinto(b)\n",
      "  File \"/root/miniconda3/envs/newColab/lib/python3.8/socket.py\", line 669, in readinto\n",
      "    return self._sock.recv_into(b)\n",
      "  File \"/root/miniconda3/envs/newColab/lib/python3.8/ssl.py\", line 1241, in recv_into\n",
      "    return self.read(nbytes, buffer)\n",
      "  File \"/root/miniconda3/envs/newColab/lib/python3.8/ssl.py\", line 1099, in read\n",
      "    return self._sslobj.read(len, buffer)\n",
      "KeyboardInterrupt\n"
     ]
    }
   ],
   "source": [
    "# 重启服务的时候Xvfb有可能已经在运行，所以要对Xvfb程序进行关闭\n",
    "!pkill Xvfb\n",
    "\n",
    "!source activate &&\\\n",
    "conda activate newColab &&\\\n",
    "$proxy &&\\\n",
    "cd /root/autodl-tmp/3d-photo-inpainting/ &&\\\n",
    "xvfb-run python main.py --config argument.yml"
   ]
  },
  {
   "cell_type": "markdown",
   "metadata": {
    "id": "wPvkMT0msIJB"
   },
   "source": [
    "- **The results are stored in the following directories**\n",
    "  - Corresponding depth map estimated by [MiDaS](https://github.com/intel-isl/MiDaS.git) \n",
    "      - E.g. ```/content/3d-photo-inpainting/depth/moon.npy```\n",
    "  - Inpainted 3D mesh\n",
    "      - E.g. ```/content/3d-photo-inpainting/mesh/moon.ply```\n",
    "  - Rendered videos with zoom-in motion\n",
    "      - E.g. ```/content/3d-photo-inpainting/video/moon_zoom-in.mp4```\n",
    "  - Rendered videos with swing motion\n",
    "      - E.g. ```/content/3d-photo-inpainting/video/moon_swing.mp4```\n",
    "  - Rendered videos with circle motion\n",
    "      - E.g. ```/content/3d-photo-inpainting/video/moon_circle.mp4```\n",
    "  \n",
    "    ![](https://drive.google.com/uc?id=1xBiZAeGfhsoAsG08N5UM8-f993p0G5HF)"
   ]
  }
 ],
 "metadata": {
  "accelerator": "GPU",
  "colab": {
   "provenance": [],
   "toc_visible": true
  },
  "kernelspec": {
   "display_name": "Python 3 (ipykernel)",
   "language": "python",
   "name": "python3"
  },
  "language_info": {
   "codemirror_mode": {
    "name": "ipython",
    "version": 3
   },
   "file_extension": ".py",
   "mimetype": "text/x-python",
   "name": "python",
   "nbconvert_exporter": "python",
   "pygments_lexer": "ipython3",
   "version": "3.8.10"
  }
 },
 "nbformat": 4,
 "nbformat_minor": 4
}
