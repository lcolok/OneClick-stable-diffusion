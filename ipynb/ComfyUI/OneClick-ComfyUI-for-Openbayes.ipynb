{
 "cells": [
  {
   "cell_type": "markdown",
   "id": "21d7e8a1-2486-4574-b71e-af90301d5cde",
   "metadata": {},
   "source": [
    "# 欢迎语\n",
    "更新日志"
   ]
  },
  {
   "cell_type": "markdown",
   "id": "293b985b-51ef-4a53-80ae-dbccacab9bba",
   "metadata": {},
   "source": [
    "## <i class=\"fa fa-repeat\"></i> 切换pip软件源"
   ]
  },
  {
   "cell_type": "code",
   "execution_count": 1,
   "id": "bf8e99a2-bd79-4e4d-933c-7328b03fd976",
   "metadata": {
    "execution": {
     "iopub.execute_input": "2023-03-25T06:28:48.109235Z",
     "iopub.status.busy": "2023-03-25T06:28:48.108836Z",
     "iopub.status.idle": "2023-03-25T06:28:52.695101Z",
     "shell.execute_reply": "2023-03-25T06:28:52.694012Z",
     "shell.execute_reply.started": "2023-03-25T06:28:48.109201Z"
    }
   },
   "outputs": [
    {
     "name": "stdout",
     "output_type": "stream",
     "text": [
      "[\"global.index-url='https://pypi.tuna.tsinghua.edu.cn/simple'\"]\n",
      "[\"global.index-url='https://pypi.tuna.tsinghua.edu.cn/simple'\", \"global.trusted-host='pypi.tuna.tsinghua.edu.cn'\"]\n",
      "pip软件源切换成功！\n"
     ]
    }
   ],
   "source": [
    "import os\n",
    "import subprocess\n",
    "\n",
    "def check_pip_list():\n",
    "    output = !pip config list\n",
    "    print(output)\n",
    "    if \"global.index-url='https://pypi.tuna.tsinghua.edu.cn/simple'\" in output and \"global.trusted-host='pypi.tuna.tsinghua.edu.cn'\" in output:\n",
    "        return True\n",
    "    else:\n",
    "        return False\n",
    "if not check_pip_list():\n",
    "    # 查找pip.conf文件\n",
    "    pip_conf_file = os.popen(\"find / -name 'pip.conf'\").read().strip()\n",
    "    # 直接覆盖pip.conf文件\n",
    "    with open(pip_conf_file, 'w') as f:\n",
    "        f.write(\"[global]\\nindex-url = https://pypi.tuna.tsinghua.edu.cn/simple\\ntrusted-host = pypi.tuna.tsinghua.edu.cn\")\n",
    "        # f.write(\"\")\n",
    "    # 验证修改是否成功\n",
    "    if check_pip_list():\n",
    "        print(\"pip软件源切换成功！\")\n",
    "    else:\n",
    "        print(\"pip软件源切换失败，请检查脚本是否正确运行。\")\n",
    "else:\n",
    "    print(\"pip软件源本来就是清华源，无需切换\")"
   ]
  },
  {
   "cell_type": "code",
   "execution_count": 2,
   "id": "bca173ad-978e-428d-babf-f78945900971",
   "metadata": {
    "execution": {
     "iopub.execute_input": "2023-03-25T06:28:52.697472Z",
     "iopub.status.busy": "2023-03-25T06:28:52.697142Z",
     "iopub.status.idle": "2023-03-25T06:28:57.289451Z",
     "shell.execute_reply": "2023-03-25T06:28:57.288099Z",
     "shell.execute_reply.started": "2023-03-25T06:28:52.697439Z"
    }
   },
   "outputs": [],
   "source": [
    "new_channels = [\n",
    "    \"https://mirrors.tuna.tsinghua.edu.cn/anaconda/cloud/msys2/\",\n",
    "    \"https://mirrors.tuna.tsinghua.edu.cn/anaconda/cloud/conda-forge/\",\n",
    "    \"https://mirrors.tuna.tsinghua.edu.cn/anaconda/pkgs/free/\",\n",
    "    \"https://mirrors.tuna.tsinghua.edu.cn/anaconda/pkgs/main/\",\n",
    "    \"https://mirrors.tuna.tsinghua.edu.cn/anaconda/cloud/peterjc123/\",\n",
    "    \"https://mirrors.tuna.tsinghua.edu.cn/anaconda/cloud/pytorch/\"\n",
    "]\n",
    "\n",
    "current_channels = !conda config --show channels\n",
    "current_channels = ('').join(current_channels).split()\n",
    "\n",
    "# print(current_channels)\n",
    "\n",
    "for channel in new_channels:\n",
    "    if channel in current_channels:\n",
    "        print(f\"此channel已经在列表中：{channel}\")\n",
    "    else:\n",
    "        !conda config --add channels $channel\n",
    "        \n",
    "!conda config --set show_channel_urls yes"
   ]
  },
  {
   "cell_type": "markdown",
   "id": "65a366f3-49d3-4213-b1a9-dc63d189dc8f",
   "metadata": {},
   "source": [
    "##  <i class=\"fa fa-spinner\"></i> 装载自定义模块\n",
    "把当前repo根目录加入 Python 搜索模块的路径列表，并求得根目录"
   ]
  },
  {
   "cell_type": "code",
   "execution_count": 3,
   "id": "3414367f-c3d8-4ae9-9944-a0f47c50cc27",
   "metadata": {
    "execution": {
     "iopub.execute_input": "2023-03-25T06:28:57.291256Z",
     "iopub.status.busy": "2023-03-25T06:28:57.291070Z",
     "iopub.status.idle": "2023-03-25T06:28:57.535387Z",
     "shell.execute_reply": "2023-03-25T06:28:57.534721Z",
     "shell.execute_reply.started": "2023-03-25T06:28:57.291237Z"
    }
   },
   "outputs": [
    {
     "name": "stdout",
     "output_type": "stream",
     "text": [
      "当前运行环境： OpenBayes\n",
      "内容路径： /openbayes/home/content\n",
      "当前运行环境： OpenBayes\n",
      "内容路径： /openbayes/home/content\n",
      "/output/OneClick-stable-diffusion\n",
      "当前运行环境： OpenBayes\n",
      "内容路径： /openbayes/home/content\n",
      "proxy不在globals\n"
     ]
    }
   ],
   "source": [
    "import os,sys\n",
    "\n",
    "def find_repo_root():\n",
    "    # 获取当前脚本的绝对路径\n",
    "    try:\n",
    "        # 如果当前运行环境是 Jupyter Notebook，使用当前工作目录\n",
    "        script_path = os.path.abspath('.')\n",
    "    except NameError:\n",
    "        # 否则，使用 __file__ 变量\n",
    "        script_path = os.path.abspath(__file__)\n",
    "    # 判断当前脚本目录是否存在`.git`文件夹\n",
    "    if os.path.isdir(os.path.join(script_path, '.git')):\n",
    "        return script_path\n",
    "    # 初始化存储结果的变量\n",
    "    result = None\n",
    "    # 循环求当前路径的父目录，直到找到`.git`文件夹\n",
    "    while True:\n",
    "        # 将当前路径的父目录赋值给当前路径\n",
    "        script_path = os.path.dirname(script_path)\n",
    "        # 判断当前路径是否存在`.git`文件夹\n",
    "        if os.path.isdir(os.path.join(script_path, '.git')):\n",
    "            # 如果存在，将当前路径存储在结果变量中\n",
    "            result = script_path\n",
    "        # 判断当前路径是否为根目录（即是否已经搜索到最外层）\n",
    "        if script_path == '/':\n",
    "            # 如果是，返回结果变量的值\n",
    "            return result\n",
    "        \n",
    "repo_root_dir=find_repo_root()\n",
    "sys.path.append(repo_root_dir)\n",
    "# print(repo_root_dir)\n",
    "# 获取repo所在的根目录\n",
    "root_dir = os.path.dirname(repo_root_dir)\n",
    "# 获取当前环境名称与当前环境content路径\n",
    "from func.env import detect_environment\n",
    "env_cb = detect_environment()\n",
    "env_name = env_cb['env_name']\n",
    "content_path = env_cb['content_path']\n",
    "\n",
    "# 装载nbfunc中的hub涉及的所有ipynb函数\n",
    "%cd $repo_root_dir\n",
    "%run ./nbfunc/hub.ipynb\n",
    "\n",
    "initGit()"
   ]
  },
  {
   "cell_type": "markdown",
   "id": "28b56e9b-65f6-4260-af96-a4f671bbd34b",
   "metadata": {},
   "source": [
    "## <i class=\"fa fa-arrow-down\"></i> 安装必要依赖"
   ]
  },
  {
   "cell_type": "code",
   "execution_count": 4,
   "id": "a12f85f3-9e06-4d46-b30b-689dffe8d41f",
   "metadata": {
    "execution": {
     "iopub.execute_input": "2023-03-25T06:28:57.536549Z",
     "iopub.status.busy": "2023-03-25T06:28:57.536305Z",
     "iopub.status.idle": "2023-03-25T06:29:11.430113Z",
     "shell.execute_reply": "2023-03-25T06:29:11.429543Z",
     "shell.execute_reply.started": "2023-03-25T06:28:57.536529Z"
    }
   },
   "outputs": [
    {
     "name": "stdout",
     "output_type": "stream",
     "text": [
      "Get:1 https://deb.nodesource.com/node_14.x bionic InRelease [4584 B]\n",
      "Get:2 https://deb.nodesource.com/node_14.x bionic/main amd64 Packages [776 B]\n",
      "Hit:3 http://mirrors.tuna.tsinghua.edu.cn/ubuntu bionic InRelease\n",
      "Get:4 http://mirrors.tuna.tsinghua.edu.cn/ubuntu bionic-backports InRelease [83.3 kB]\n",
      "Get:5 http://mirrors.tuna.tsinghua.edu.cn/ubuntu bionic-updates InRelease [88.7 kB]\n",
      "Get:6 http://mirrors.tuna.tsinghua.edu.cn/ubuntu bionic-security InRelease [88.7 kB]\n",
      "Get:7 http://mirrors.tuna.tsinghua.edu.cn/ubuntu bionic-updates/main amd64 Packages [3640 kB]\n",
      "Get:8 http://mirrors.tuna.tsinghua.edu.cn/ubuntu bionic-updates/restricted amd64 Packages [1503 kB]\n",
      "Get:9 http://mirrors.tuna.tsinghua.edu.cn/ubuntu bionic-updates/multiverse amd64 Packages [30.8 kB]\n",
      "Get:10 http://mirrors.tuna.tsinghua.edu.cn/ubuntu bionic-updates/universe amd64 Packages [2381 kB]\n",
      "Get:11 http://mirrors.tuna.tsinghua.edu.cn/ubuntu bionic-security/main amd64 Packages [3219 kB]\n",
      "Get:12 http://mirrors.tuna.tsinghua.edu.cn/ubuntu bionic-security/multiverse amd64 Packages [23.7 kB]\n",
      "Get:13 http://mirrors.tuna.tsinghua.edu.cn/ubuntu bionic-security/restricted amd64 Packages [1462 kB]\n",
      "Get:14 http://mirrors.tuna.tsinghua.edu.cn/ubuntu bionic-security/universe amd64 Packages [1608 kB]\n",
      "Fetched 14.1 MB in 8s (1788 kB/s)                                              \n",
      "Reading package lists... Done\n",
      "Reading package lists... Done\n",
      "Building dependency tree       \n",
      "Reading state information... Done\n",
      "The following additional packages will be installed:\n",
      "  libidn11\n",
      "The following NEW packages will be installed:\n",
      "  iputils-ping libidn11\n",
      "0 upgraded, 2 newly installed, 0 to remove and 64 not upgraded.\n",
      "Need to get 101 kB of archives.\n",
      "After this operation, 364 kB of additional disk space will be used.\n",
      "Get:1 http://mirrors.tuna.tsinghua.edu.cn/ubuntu bionic-updates/main amd64 libidn11 amd64 1.33-2.1ubuntu1.2 [46.6 kB]\n",
      "Get:2 http://mirrors.tuna.tsinghua.edu.cn/ubuntu bionic-updates/main amd64 iputils-ping amd64 3:20161105-1ubuntu3 [54.2 kB]\n",
      "Fetched 101 kB in 2s (45.0 kB/s)      \n",
      "debconf: unable to initialize frontend: Dialog\n",
      "debconf: (No usable dialog-like program is installed, so the dialog based frontend cannot be used. at /usr/share/perl5/Debconf/FrontEnd/Dialog.pm line 76, <> line 2.)\n",
      "debconf: falling back to frontend: Readline\n",
      "Selecting previously unselected package libidn11:amd64.\n",
      "(Reading database ... 52166 files and directories currently installed.)\n",
      "Preparing to unpack .../libidn11_1.33-2.1ubuntu1.2_amd64.deb ...\n",
      "Unpacking libidn11:amd64 (1.33-2.1ubuntu1.2) ...\n",
      "Selecting previously unselected package iputils-ping.\n",
      "Preparing to unpack .../iputils-ping_3%3a20161105-1ubuntu3_amd64.deb ...\n",
      "Unpacking iputils-ping (3:20161105-1ubuntu3) ...\n",
      "Setting up libidn11:amd64 (1.33-2.1ubuntu1.2) ...\n",
      "Setting up iputils-ping (3:20161105-1ubuntu3) ...\n",
      "Processing triggers for libc-bin (2.27-3ubuntu1.6) ...\n"
     ]
    }
   ],
   "source": [
    "import subprocess\n",
    "\n",
    "libraries_to_install = [\n",
    "\n",
    "]\n",
    "\n",
    "tools_to_install = [\n",
    "    \"iputils-ping\",\n",
    "]\n",
    "\n",
    "installed_libraries = subprocess.run([\"pip\", \"freeze\"], capture_output=True).stdout.decode().split(\"\\n\")\n",
    "\n",
    "# 尝试安装所有未安装的库\n",
    "for library in libraries_to_install:\n",
    "    if library == \"black[jupyter]\" and any(\"black\" in installed_library for installed_library in installed_libraries):\n",
    "        print(f\"【 {library} 】已经安装，跳过安装\")\n",
    "        continue\n",
    "    elif not any(library in installed_library for installed_library in installed_libraries):\n",
    "        !pip install $library\n",
    "    else:\n",
    "        print(f\"【 {library} 】已经安装，跳过安装\")\n",
    "        \n",
    "# 尝试安装所有未安装的工具\n",
    "update_needed = False\n",
    "for tool in tools_to_install:\n",
    "    exit_code = subprocess.run([\"dpkg\", \"-s\", tool], capture_output=True).returncode\n",
    "    if exit_code != 0:\n",
    "        update_needed = True\n",
    "        break\n",
    "    else:\n",
    "        print(f\"【 {tool} 】已经安装，跳过安装\")\n",
    "if update_needed:\n",
    "    !apt-get update\n",
    "    for tool in tools_to_install:\n",
    "        exit_code = subprocess.run([\"dpkg\", \"-s\", tool], capture_output=True).returncode\n",
    "        if exit_code != 0:\n",
    "            !apt-get install -y $tool"
   ]
  },
  {
   "cell_type": "markdown",
   "id": "83025d61-3547-416b-a519-bad97f36f915",
   "metadata": {},
   "source": [
    "# 基础配置"
   ]
  },
  {
   "cell_type": "code",
   "execution_count": 5,
   "id": "2ce2fae8-24a6-400c-94ca-fd6cba45685f",
   "metadata": {
    "execution": {
     "iopub.execute_input": "2023-03-25T06:29:11.431058Z",
     "iopub.status.busy": "2023-03-25T06:29:11.430892Z",
     "iopub.status.idle": "2023-03-25T06:29:11.433973Z",
     "shell.execute_reply": "2023-03-25T06:29:11.433462Z",
     "shell.execute_reply.started": "2023-03-25T06:29:11.431042Z"
    }
   },
   "outputs": [],
   "source": [
    "#需要安装ipywidgets，此镜像已经安装了对应的依赖包\n",
    "# !conda install -c conda-forge jupyterlab \n",
    "# !conda install -c conda-forge ipywidgets\n",
    "# !conda install -c conda-forge ipython\n",
    "# !conda install -c conda-forge ipympl\n",
    "\n",
    "# 实现显示/隐藏代码块的步骤：\n",
    "# 安装jupyter_contrib_nbextentions\n",
    "# （Ref: https://jupyter-contrib-nbextensions.readthedocs.io/en/latest/install.html#install-the-python-package）\n",
    "# conda安装命令：conda install -c conda-forge jupyter_contrib_nbextensions\n",
    "# python安装命令：pip install jupyter_contrib_nbextensions\n",
    "\n",
    "# 安装jupyter_nbextentions_contributor，以便在Jupyter Notebook页面设置nbextentions\n",
    "# （Ref: https://github.com/Jupyter-contrib/jupyter_nbextensions_configurator）\n",
    "# conda安装命令：conda install -c conda-forge jupyter_nbextensions_configurator\n",
    "# python安装命令：pip install jupyter_nbextensions_configurator\n",
    "\n",
    "# !apt-get update && apt install net-tools"
   ]
  },
  {
   "cell_type": "markdown",
   "id": "a586155e-1ce7-4cb9-b94e-c044fd85e15f",
   "metadata": {},
   "source": [
    "## <i class=\"fa fa-plane-departure\"></i> 学术加速\n",
    "首先要进行学术加速，这有利于拉取资源，详情请看：https://www.autodl.com/docs/network_turbo/  "
   ]
  },
  {
   "cell_type": "code",
   "execution_count": 6,
   "id": "ef32d892-2010-4a1c-b429-7ad98a1ac17a",
   "metadata": {
    "execution": {
     "iopub.execute_input": "2023-03-25T06:29:11.434681Z",
     "iopub.status.busy": "2023-03-25T06:29:11.434528Z",
     "iopub.status.idle": "2023-03-25T06:29:12.018378Z",
     "shell.execute_reply": "2023-03-25T06:29:12.017917Z",
     "shell.execute_reply.started": "2023-03-25T06:29:11.434668Z"
    }
   },
   "outputs": [
    {
     "data": {
      "application/vnd.jupyter.widget-view+json": {
       "model_id": "51375ccdb33344b4a1d79ab351e2f606",
       "version_major": 2,
       "version_minor": 0
      },
      "text/plain": [
       "Button(button_style='info', description='在使用【自供】代理', style=ButtonStyle(), tooltip='请点击下方的区名')"
      ]
     },
     "metadata": {},
     "output_type": "display_data"
    },
    {
     "data": {
      "application/vnd.jupyter.widget-view+json": {
       "model_id": "ddb73fda02d94b24942e15fe2662fa1c",
       "version_major": 2,
       "version_minor": 0
      },
      "text/plain": [
       "Button(button_style='success', description='自供', icon='check', style=ButtonStyle(), tooltip='Click me')"
      ]
     },
     "metadata": {},
     "output_type": "display_data"
    },
    {
     "name": "stdout",
     "output_type": "stream",
     "text": [
      "export http_proxy=http://localhost:7779 && export https_proxy=http://localhost:7779\n",
      "http://localhost:7779\n"
     ]
    }
   ],
   "source": [
    "# from func.env import setProxy\n",
    "# try:\n",
    "#     proxy,region\n",
    "# except NameError:\n",
    "#     sp = setProxy()\n",
    "#     proxy = sp['proxy']\n",
    "#     region = sp['region']\n",
    "%cd $repo_root_dir\n",
    "%run ./nbfunc/hub.ipynb\n",
    "selProxy(True,'自供')\n",
    "print(proxy)\n",
    "print(proxyURL)"
   ]
  },
  {
   "cell_type": "markdown",
   "id": "d111957d-aad7-4d8c-91cd-6489d95dfecf",
   "metadata": {},
   "source": [
    "## 设置Git使用代理访问GitHub"
   ]
  },
  {
   "cell_type": "code",
   "execution_count": 7,
   "id": "36d585b5-662c-4f92-8b71-aa253f453fe4",
   "metadata": {
    "execution": {
     "iopub.execute_input": "2023-03-25T06:29:12.020043Z",
     "iopub.status.busy": "2023-03-25T06:29:12.019849Z",
     "iopub.status.idle": "2023-03-25T06:29:12.456664Z",
     "shell.execute_reply": "2023-03-25T06:29:12.455536Z",
     "shell.execute_reply.started": "2023-03-25T06:29:12.020028Z"
    }
   },
   "outputs": [
    {
     "name": "stdout",
     "output_type": "stream",
     "text": [
      "Git代理已成功设置。\n"
     ]
    }
   ],
   "source": [
    "def set_git_proxy(proxyURL):\n",
    "    # 设置Git在使用HTTP协议访问GitHub时使用代理服务器\n",
    "    !git config --global http.https://github.com.proxy $proxyURL\n",
    "\n",
    "    # 设置Git在使用HTTPS协议访问GitHub时使用代理服务器\n",
    "    !git config --global https.https://github.com.proxy $proxyURL\n",
    "\n",
    "    # 验证是否设置成功\n",
    "    result = !git config --list\n",
    "    # print(result)\n",
    "    result = [str(item) for item in result] # 将结果转换为字符串列表\n",
    "    http_proxy = f'http.https://github.com.proxy={proxyURL}'\n",
    "    https_proxy = f'https.https://github.com.proxy={proxyURL}'\n",
    "    if http_proxy in result and https_proxy in result:\n",
    "        print('Git代理已成功设置。')\n",
    "    else:\n",
    "        print('Git代理设置失败。')\n",
    "\n",
    "set_git_proxy(proxyURL)"
   ]
  },
  {
   "cell_type": "markdown",
   "id": "328c9e45-6087-44b2-a5d2-53230d0454f0",
   "metadata": {},
   "source": [
    "## <i class=\"fa fa-star\"></i> Notebook环境切换\n",
    "在JupyterLab的Notebook中使用新的Conda环境"
   ]
  },
  {
   "cell_type": "code",
   "execution_count": 8,
   "id": "85cfa22d-8437-4508-87cf-57f7d13dcfc2",
   "metadata": {
    "execution": {
     "iopub.execute_input": "2023-03-25T06:29:12.460341Z",
     "iopub.status.busy": "2023-03-25T06:29:12.459767Z",
     "iopub.status.idle": "2023-03-25T06:29:12.989634Z",
     "shell.execute_reply": "2023-03-25T06:29:12.989006Z",
     "shell.execute_reply.started": "2023-03-25T06:29:12.460299Z"
    },
    "scrolled": true
   },
   "outputs": [
    {
     "name": "stdout",
     "output_type": "stream",
     "text": [
      "# conda environments:\n",
      "#\n",
      "base                     /usr/local\n",
      "\n",
      "已经安装了base环境\n"
     ]
    },
    {
     "data": {
      "application/vnd.jupyter.widget-view+json": {
       "model_id": "adfcf3e083dd40fbb285f652da0cc4f6",
       "version_major": 2,
       "version_minor": 0
      },
      "text/plain": [
       "Button(button_style='success', description='环境部署成功!', icon='check', style=ButtonStyle(), tooltip='Description'…"
      ]
     },
     "execution_count": 8,
     "metadata": {},
     "output_type": "execute_result"
    }
   ],
   "source": [
    "from subprocess import getoutput\n",
    "from IPython.display import clear_output\n",
    "import ipywidgets as widgets\n",
    "\n",
    "python_version = '3.10.6'\n",
    "\n",
    "if env_name == 'AutoDL':\n",
    "    custom_env_name = 'py' + python_version\n",
    "elif env_name == 'OpenBayes':\n",
    "    custom_env_name = 'base'\n",
    "\n",
    "s = getoutput('conda info --env')\n",
    "print(s)\n",
    "if custom_env_name not in s:\n",
    "    print(f'当前系统中没有{custom_env_name}环境，正在安装')\n",
    "    # 创建Conda新的虚拟环境\n",
    "    # 构建一个虚拟环境\n",
    "    # 更新bashrc中的环境变量\n",
    "    # 在 /openbayes/home 下创建一个新的环境：https://openbayes.com/docs/gear/conda/#%E4%BD%BF%E7%94%A8-conda-%E5%88%9B%E5%BB%BA%E6%96%B0%E7%9A%84%E7%8E%AF%E5%A2%83\n",
    "    python_install_args = [\n",
    "        'source /usr/local/etc/profile.d/conda.sh','&&',\n",
    "        f'cd {root_dir}','&&',\n",
    "        f'conda create -p {custom_env_name} python={python_version} -y','&&',\n",
    "        'conda init bash','&&',\n",
    "        'source /root/.bashrc -y'\n",
    "    ]\n",
    "    \n",
    "    # !source /usr/local/etc/profile.d/conda.sh &&\\\n",
    "    # conda create -n $custom_env_name python=$python_version -y &&\\\n",
    "    # conda init bash && source /root/.bashrc -y\n",
    "    \n",
    "    python_install_cmd = (\" \").join(python_install_args)\n",
    "    !$python_install_cmd\n",
    "    \n",
    "else:\n",
    "    print(f'已经安装了{custom_env_name}环境')\n",
    "\n",
    "# clear_output(wait=True)\n",
    "# print(\"Done!\")\n",
    "\n",
    "widgets.Button(\n",
    "    value=False,\n",
    "    description='环境部署成功!',\n",
    "    disabled=False,\n",
    "    button_style='success', # 'success', 'info', 'warning', 'danger' or ''\n",
    "    tooltip='Description',\n",
    "    icon='check' # (FontAwesome names without the `fa-` prefix)\n",
    ")"
   ]
  },
  {
   "cell_type": "markdown",
   "id": "9f43e005-13ec-4107-8b21-6dc110514f9e",
   "metadata": {},
   "source": [
    "## 交代Base_args"
   ]
  },
  {
   "cell_type": "code",
   "execution_count": 11,
   "id": "37c9c95f-2a89-463e-abcb-e2b7ce107033",
   "metadata": {
    "execution": {
     "iopub.execute_input": "2023-03-25T06:30:23.498711Z",
     "iopub.status.busy": "2023-03-25T06:30:23.498338Z",
     "iopub.status.idle": "2023-03-25T06:30:24.281688Z",
     "shell.execute_reply": "2023-03-25T06:30:24.280543Z",
     "shell.execute_reply.started": "2023-03-25T06:30:23.498679Z"
    },
    "tags": []
   },
   "outputs": [
    {
     "name": "stdout",
     "output_type": "stream",
     "text": [
      "The path of the environment 'base' is /usr/local\n"
     ]
    }
   ],
   "source": [
    "from func.env import setProxy\n",
    "import subprocess\n",
    "\n",
    "def find_conda_env(name):\n",
    "    # Get a list of all conda environments on the system\n",
    "    output = subprocess.run([\"conda\", \"env\", \"list\"], capture_output=True)\n",
    "    envs = output.stdout.decode().split(\"\\n\")\n",
    "\n",
    "    # Find the path of the environment\n",
    "    for env in envs:\n",
    "        if name in env:\n",
    "            path = env.split()[-1]\n",
    "            print(f\"The path of the environment '{name}' is {path}\")\n",
    "            return path\n",
    "    else:\n",
    "        print(f\"Environment '{name}' not found.\")\n",
    "        return None\n",
    "\n",
    "\n",
    "\n",
    "try:\n",
    "    proxy,region\n",
    "except NameError:\n",
    "    cb=setProxy()\n",
    "    proxy=cb['proxy']\n",
    "    region=cb['region']\n",
    "    clear_output(wait=True)\n",
    "\n",
    "custom_env_dir = find_conda_env(custom_env_name)\n",
    "\n",
    "base_args = [\n",
    "    'source activate','&&',\n",
    "    f'conda activate {custom_env_dir}','&&',\n",
    "    proxy,'&&'\n",
    "       ]"
   ]
  },
  {
   "cell_type": "markdown",
   "id": "d9eb5f41-4e14-4789-bf98-82fd8d7df6d5",
   "metadata": {},
   "source": [
    "### 从源代码的方式安装triton"
   ]
  },
  {
   "cell_type": "code",
   "execution_count": null,
   "id": "fb16b332-9f7e-47ba-ad31-58787c9db902",
   "metadata": {
    "execution": {
     "iopub.status.busy": "2023-03-25T06:29:13.101181Z",
     "iopub.status.idle": "2023-03-25T06:29:13.101379Z",
     "shell.execute_reply": "2023-03-25T06:29:13.101284Z",
     "shell.execute_reply.started": "2023-03-25T06:29:13.101274Z"
    },
    "scrolled": true
   },
   "outputs": [],
   "source": [
    "# triton_repo_dir = os.path.join(root_dir,'triton')\n",
    "\n",
    "# if not os.path.exists(triton_repo_dir):\n",
    "#     !cd $root_dir &&\\\n",
    "#     git clone https://github.com/openai/triton.git\n",
    "\n",
    "# !cd $root_dir &&\\\n",
    "# cd triton/python &&\\\n",
    "# pip install cmake &&\\\n",
    "# pip -v install -e ."
   ]
  },
  {
   "cell_type": "markdown",
   "id": "826f655a-689c-4930-bb58-bdad78e89435",
   "metadata": {},
   "source": [
    "### 通过PIP安装triton的最新nightly release"
   ]
  },
  {
   "cell_type": "code",
   "execution_count": 12,
   "id": "8304cca8-d28f-4dcf-904b-c8a715e8d973",
   "metadata": {
    "execution": {
     "iopub.execute_input": "2023-03-25T06:30:27.540429Z",
     "iopub.status.busy": "2023-03-25T06:30:27.540017Z",
     "iopub.status.idle": "2023-03-25T06:30:30.287160Z",
     "shell.execute_reply": "2023-03-25T06:30:30.286156Z",
     "shell.execute_reply.started": "2023-03-25T06:30:27.540392Z"
    },
    "tags": []
   },
   "outputs": [
    {
     "name": "stdout",
     "output_type": "stream",
     "text": [
      "source activate && conda activate /usr/local && export http_proxy=http://localhost:7779 && export https_proxy=http://localhost:7779 && python -m pip install --user -U --pre triton\n",
      "Looking in indexes: https://pypi.tuna.tsinghua.edu.cn/simple\n",
      "Requirement already satisfied: triton in /root/.pylibs/lib/python3.8/site-packages (2.0.0.post1)\n",
      "Requirement already satisfied: filelock in /root/.pylibs/lib/python3.8/site-packages (from triton) (3.10.0)\n",
      "Requirement already satisfied: torch in /usr/local/lib/python3.8/site-packages (from triton) (1.13.1+cu117)\n",
      "Requirement already satisfied: cmake in /root/.pylibs/lib/python3.8/site-packages (from triton) (3.26.0)\n",
      "Requirement already satisfied: lit in /root/.pylibs/lib/python3.8/site-packages (from triton) (16.0.0rc4)\n",
      "Requirement already satisfied: typing-extensions in /usr/local/lib/python3.8/site-packages (from torch->triton) (4.4.0)\n",
      "\u001b[33mWARNING: Running pip as the 'root' user can result in broken permissions and conflicting behaviour with the system package manager. It is recommended to use a virtual environment instead: https://pip.pypa.io/warnings/venv\u001b[0m\u001b[33m\n",
      "\u001b[0m"
     ]
    }
   ],
   "source": [
    "triton_install_args = base_args[:]\n",
    "triton_install_args += [\n",
    "    'python -m pip install --user -U --pre triton'\n",
    "]\n",
    "triton_install_cmd = (\" \").join(triton_install_args)\n",
    "print(triton_install_cmd)\n",
    "!$triton_install_cmd"
   ]
  },
  {
   "cell_type": "markdown",
   "id": "bb636268-b393-48f2-81a7-4059b0ab8678",
   "metadata": {},
   "source": [
    "## <i class=\"fa fa-bolt\"></i> 安装Xformers和triton"
   ]
  },
  {
   "cell_type": "markdown",
   "id": "dfb660d1-1354-4604-9952-47421f256b5c",
   "metadata": {},
   "source": [
    "大幅减少计算时间和显存占用，代价是生成的图每个都有点变化，强烈推荐安装!  \n",
    "但不同核心代号的显卡需要不同的编译包，不能混用  \n",
    "当然此笔记会帮你自动检测这台机器是否适合安装，而且会自动帮你安装合适的编译包"
   ]
  },
  {
   "cell_type": "markdown",
   "id": "83adc99b-bea1-4e9f-9153-2cbcc281e14b",
   "metadata": {},
   "source": [
    "### 从源代码的方式安装Xformers"
   ]
  },
  {
   "cell_type": "code",
   "execution_count": 17,
   "id": "16a8be98-7ca6-4788-b691-53f1086e3363",
   "metadata": {
    "execution": {
     "iopub.execute_input": "2023-03-25T06:36:26.016873Z",
     "iopub.status.busy": "2023-03-25T06:36:26.016452Z",
     "iopub.status.idle": "2023-03-25T06:36:28.404686Z",
     "shell.execute_reply": "2023-03-25T06:36:28.403500Z",
     "shell.execute_reply.started": "2023-03-25T06:36:26.016836Z"
    },
    "scrolled": true,
    "tags": []
   },
   "outputs": [
    {
     "name": "stdout",
     "output_type": "stream",
     "text": [
      "source activate && conda activate /usr/local && export http_proxy=http://localhost:7779 && export https_proxy=http://localhost:7779 && python -V && python -m xformers.info\n",
      "memory_efficient_attention.cutlassF memory_efficient_attention.cutlassB memory_efficient_attention.flshattF memory_efficient_attention.flshattB memory_efficient_attention.smallkF memory_efficient_attention.smallkB memory_efficient_attention.tritonflashattF memory_efficient_attention.tritonflashattB swiglu.fused.p.cpp is_triton_available is_functorch_available pytorch.version pytorch.cuda gpu.compute_capability gpu.name build.info build.cuda_version build.python_version build.torch_version build.env.TORCH_CUDA_ARCH_LIST build.env.XFORMERS_BUILD_TYPE build.env.XFORMERS_ENABLE_DEBUG_ASSERTIONS build.env.NVCC_FLAGS build.env.XFORMERS_PACKAGE_FROM source.privacy\n",
      "Xformers可以正常运行，无需另外安装或编译\n"
     ]
    }
   ],
   "source": [
    "import subprocess,os,time\n",
    "'''\n",
    "执行!python -m xformers.info命令会返回类似以下格式的信息，请参考\n",
    "\n",
    "xFormers 0.0.16+bc08bbc.d20230122\n",
    "memory_efficient_attention.cutlassF:               available\n",
    "memory_efficient_attention.cutlassB:               available\n",
    "memory_efficient_attention.flshattF:               available\n",
    "memory_efficient_attention.flshattB:               available\n",
    "memory_efficient_attention.smallkF:                available\n",
    "memory_efficient_attention.smallkB:                available\n",
    "memory_efficient_attention.tritonflashattF:        available\n",
    "memory_efficient_attention.tritonflashattB:        available\n",
    "swiglu.fused.p.cpp:                                available\n",
    "is_triton_available:                               True\n",
    "is_functorch_available:                            False\n",
    "pytorch.version:                                   1.12.1+cu113\n",
    "pytorch.cuda:                                      available\n",
    "gpu.compute_capability:                            8.6\n",
    "gpu.name:                                          NVIDIA GeForce RTX 3090\n",
    "build.info:                                        available\n",
    "build.cuda_version:                                1103\n",
    "build.python_version:                              3.8.13\n",
    "build.torch_version:                               1.12.1+cu113\n",
    "build.env.TORCH_CUDA_ARCH_LIST:                    None\n",
    "build.env.XFORMERS_BUILD_TYPE:                     None\n",
    "build.env.XFORMERS_ENABLE_DEBUG_ASSERTIONS:        None\n",
    "build.env.NVCC_FLAGS:                              None\n",
    "build.env.XFORMERS_PACKAGE_FROM:                   None\n",
    "source.privacy:                                    open source\n",
    "'''\n",
    "\n",
    "def get_python_version_and_parse():\n",
    "    # Get the current python version\n",
    "    version = subprocess.run(['python', '-V'], stdout=subprocess.PIPE).stdout.decode().strip()\n",
    "    version = version.split(' ')[1]\n",
    "    major, minor, patch = version.split('.')\n",
    "    # formatted_version = f'cp{major}{minor[0]}{patch[0]}'\n",
    "    formatted_version = f'cp{major}{minor[0]}'\n",
    "    return formatted_version\n",
    "\n",
    "\n",
    "def get_xformers_info():\n",
    "    get_xformers_info_args = base_args[:]\n",
    "    get_xformers_info_args += [\n",
    "        # f'cd {comfyUIDir}','&&',\n",
    "        # 'git pull','&&',\n",
    "        # 'git checkout d8f8bcb','&&'\n",
    "        'python -V',\n",
    "        '&&',\n",
    "        # 'conda config --append channels conda-forge','&&',\n",
    "        # 'conda install --yes --file requirements.txt','&&',\n",
    "        'python -m xformers.info'\n",
    "    ]\n",
    "    get_xformers_info_cmd = (\" \").join(get_xformers_info_args)\n",
    "    print(get_xformers_info_cmd)\n",
    "    output = !$get_xformers_info_cmd\n",
    "    output = '\\n'.join(output)\n",
    "    info = {}\n",
    "    for line in output.strip().split('\\n'):\n",
    "        if ':' in line:\n",
    "            key, value = line.split(':', 1)\n",
    "            info[key.strip()] = value.strip()\n",
    "    return info\n",
    "\n",
    "def check_xformers_info(validate_rules):\n",
    "    info = get_xformers_info()\n",
    "    print((\" \").join(info))\n",
    "    for key, value in validate_rules.items():\n",
    "        if info.get(key) != value:\n",
    "            if isinstance(value, bool):\n",
    "                if str(value) != info.get(key):\n",
    "                    return False\n",
    "            else:\n",
    "                return False\n",
    "    return True\n",
    "\n",
    "def find_xformers_whl_and_install(root):\n",
    "    py_short_ver = get_python_version_and_parse()\n",
    "    whl_name = f'xformers*{py_short_ver}*.whl'\n",
    "    whl_path_list = !find $root -name $whl_name\n",
    "    whl_path_list = list(filter(lambda x: x.endswith('.whl'), whl_path_list))\n",
    "    print(whl_path_list)\n",
    "    if whl_path_list:\n",
    "        \n",
    "        whl_path = whl_path_list[0]\n",
    "        # subprocess.run(['pip', 'install', whl_path], stdout=subprocess.PIPE)\n",
    "        !pip install $whl_path --user \n",
    "        return whl_path\n",
    "    else:\n",
    "        return None\n",
    "\n",
    "validate_rules = {\n",
    "    'is_triton_available': True,\n",
    "    'pytorch.cuda': 'available',\n",
    "}\n",
    "\n",
    "# 首先判断本机是否已经安装了可以运行的Xformers\n",
    "\n",
    "if check_xformers_info(validate_rules):\n",
    "    print('Xformers可以正常运行，无需另外安装或编译')\n",
    "else:\n",
    "    # 寻找Xformers预编译wheel，并安装返回列表中的第一个wheel\n",
    "    for i in range(0, 5):  # 在input中进行搜索\n",
    "        whl_path = find_xformers_whl_and_install(f'/input{i}')\n",
    "        if whl_path:\n",
    "            break\n",
    "        else:\n",
    "            continue\n",
    "    "
   ]
  },
  {
   "cell_type": "code",
   "execution_count": null,
   "id": "a2b66506-0c02-4968-a374-a88e9c357729",
   "metadata": {
    "execution": {
     "iopub.status.busy": "2023-03-25T06:29:13.104324Z",
     "iopub.status.idle": "2023-03-25T06:29:13.104514Z",
     "shell.execute_reply": "2023-03-25T06:29:13.104424Z",
     "shell.execute_reply.started": "2023-03-25T06:29:13.104414Z"
    }
   },
   "outputs": [],
   "source": [
    "# # 安装完再次验证Xformers是否能正常运作：\n",
    "# if check_xformers_info(validate_rules):\n",
    "#     print(f'安装后可以正常运行，无需重新编译')\n",
    "# else:\n",
    "#     print('需要在本机进行Xformers的编译')\n",
    "#     # (Optional) Makes the build much faster\n",
    "#     !pip install ninja\n",
    "#     # Set TORCH_CUDA_ARCH_LIST if running and building on different GPU types\n",
    "#     # !pip install -v -U git+https://github.com/facebookresearch/xformers.git@main#egg=xformers\n",
    "\n",
    "#     xformers_repo_dir = os.path.join(root_dir,'xformers')\n",
    "\n",
    "#     if not os.path.exists(xformers_repo_dir):\n",
    "#         !cd $root_dir &&\\\n",
    "#         git clone https://github.com/facebookresearch/xformers.git\n",
    "\n",
    "#     # 记录一次编译所需耗时为 6m 17.51s\n",
    "#     !cd $root_dir &&\\\n",
    "#     cd xformers &&\\\n",
    "#     git show-ref main &&\\\n",
    "#     git symbolic-ref -q HEAD &&\\\n",
    "#     git submodule update --init --recursive -q &&\\\n",
    "#     python setup.py egg_info &&\\\n",
    "#     cd xformers.egg-info &&\\\n",
    "#     pip install -r requires.txt &&\\\n",
    "#     cd .. &&\\\n",
    "#     git rev-parse HEAD &&\\\n",
    "#     python setup.py bdist_wheel\n",
    "\n",
    "#     # 安装完成后，找到对应的whl，使用pip进行安装\n",
    "#     find_xformers_whl_and_install('/')"
   ]
  },
  {
   "cell_type": "markdown",
   "id": "3e392e78-580b-4d14-9fd7-26bcb2fdca7e",
   "metadata": {},
   "source": [
    "## <i class=\"fa fa-download\"></i> 更新本体与环境"
   ]
  },
  {
   "cell_type": "markdown",
   "id": "6545b20b-dd16-4c0b-ac59-a31398cd7f28",
   "metadata": {},
   "source": [
    "更新ComfyUI本体与环境命令"
   ]
  },
  {
   "cell_type": "code",
   "execution_count": 20,
   "id": "0b241f44-0787-4838-a159-553dd667a192",
   "metadata": {
    "execution": {
     "iopub.execute_input": "2023-03-25T06:39:59.183831Z",
     "iopub.status.busy": "2023-03-25T06:39:59.183423Z",
     "iopub.status.idle": "2023-03-25T06:39:59.188799Z",
     "shell.execute_reply": "2023-03-25T06:39:59.187888Z",
     "shell.execute_reply.started": "2023-03-25T06:39:59.183796Z"
    },
    "tags": []
   },
   "outputs": [],
   "source": [
    "comfyUIDir = os.path.join(root_dir,'ComfyUI')"
   ]
  },
  {
   "cell_type": "code",
   "execution_count": 23,
   "id": "d7c84343-104b-4d97-bad4-66f37b14c3cc",
   "metadata": {
    "execution": {
     "iopub.execute_input": "2023-03-25T06:40:22.223638Z",
     "iopub.status.busy": "2023-03-25T06:40:22.223207Z",
     "iopub.status.idle": "2023-03-25T06:40:25.536890Z",
     "shell.execute_reply": "2023-03-25T06:40:25.536041Z",
     "shell.execute_reply.started": "2023-03-25T06:40:22.223603Z"
    },
    "scrolled": true,
    "tags": []
   },
   "outputs": [
    {
     "data": {
      "application/vnd.jupyter.widget-view+json": {
       "model_id": "f249b6879b3e405bba7fd9eda937cfc7",
       "version_major": 2,
       "version_minor": 0
      },
      "text/plain": [
       "Button(style=ButtonStyle(), tooltip='')"
      ]
     },
     "metadata": {},
     "output_type": "display_data"
    },
    {
     "name": "stdout",
     "output_type": "stream",
     "text": [
      "source activate && conda activate /usr/local && export http_proxy=http://localhost:7779 && export https_proxy=http://localhost:7779 && cd /output/ComfyUI && git pull && python -V && python -m pip install -r requirements.txt --user\n",
      "Already up to date.\n",
      "Python 3.8.15\n",
      "Looking in indexes: https://pypi.tuna.tsinghua.edu.cn/simple\n",
      "Requirement already satisfied: torch in /usr/local/lib/python3.8/site-packages (from -r requirements.txt (line 1)) (1.13.1+cu117)\n",
      "Requirement already satisfied: torchdiffeq in /root/.pylibs/lib/python3.8/site-packages (from -r requirements.txt (line 2)) (0.2.3)\n",
      "Requirement already satisfied: torchsde in /root/.pylibs/lib/python3.8/site-packages (from -r requirements.txt (line 3)) (0.2.5)\n",
      "Requirement already satisfied: einops in /root/.pylibs/lib/python3.8/site-packages (from -r requirements.txt (line 4)) (0.3.0)\n",
      "Requirement already satisfied: open-clip-torch in /root/.pylibs/lib/python3.8/site-packages (from -r requirements.txt (line 5)) (2.16.0)\n",
      "Requirement already satisfied: transformers in /root/.pylibs/lib/python3.8/site-packages (from -r requirements.txt (line 6)) (4.15.0)\n",
      "Requirement already satisfied: safetensors in /root/.pylibs/lib/python3.8/site-packages (from -r requirements.txt (line 7)) (0.2.7)\n",
      "Requirement already satisfied: pytorch_lightning in /root/.pylibs/lib/python3.8/site-packages (from -r requirements.txt (line 8)) (1.7.6)\n",
      "Requirement already satisfied: aiohttp in /root/.pylibs/lib/python3.8/site-packages (from -r requirements.txt (line 9)) (3.8.4)\n",
      "Requirement already satisfied: accelerate in /root/.pylibs/lib/python3.8/site-packages (from -r requirements.txt (line 10)) (0.12.0)\n",
      "Requirement already satisfied: pyyaml in /usr/local/lib/python3.8/site-packages (from -r requirements.txt (line 11)) (6.0)\n",
      "Requirement already satisfied: typing-extensions in /usr/local/lib/python3.8/site-packages (from torch->-r requirements.txt (line 1)) (4.4.0)\n",
      "Requirement already satisfied: scipy>=1.4.0 in /usr/local/lib/python3.8/site-packages (from torchdiffeq->-r requirements.txt (line 2)) (1.10.0)\n",
      "Requirement already satisfied: boltons>=20.2.1 in /root/.pylibs/lib/python3.8/site-packages (from torchsde->-r requirements.txt (line 3)) (23.0.0)\n",
      "Requirement already satisfied: numpy>=1.19.* in /root/.pylibs/lib/python3.8/site-packages (from torchsde->-r requirements.txt (line 3)) (1.23.3)\n",
      "Requirement already satisfied: trampoline>=0.1.2 in /root/.pylibs/lib/python3.8/site-packages (from torchsde->-r requirements.txt (line 3)) (0.1.2)\n",
      "Requirement already satisfied: ftfy in /root/.pylibs/lib/python3.8/site-packages (from open-clip-torch->-r requirements.txt (line 5)) (6.1.1)\n",
      "Requirement already satisfied: huggingface-hub in /root/.pylibs/lib/python3.8/site-packages (from open-clip-torch->-r requirements.txt (line 5)) (0.13.2)\n",
      "Requirement already satisfied: torchvision in /usr/local/lib/python3.8/site-packages (from open-clip-torch->-r requirements.txt (line 5)) (0.14.1+cu117)\n",
      "Requirement already satisfied: protobuf<4 in /usr/local/lib/python3.8/site-packages (from open-clip-torch->-r requirements.txt (line 5)) (3.20.3)\n",
      "Requirement already satisfied: timm in /root/.pylibs/lib/python3.8/site-packages (from open-clip-torch->-r requirements.txt (line 5)) (0.4.12)\n",
      "Requirement already satisfied: sentencepiece in /root/.pylibs/lib/python3.8/site-packages (from open-clip-torch->-r requirements.txt (line 5)) (0.1.97)\n",
      "Requirement already satisfied: regex in /root/.pylibs/lib/python3.8/site-packages (from open-clip-torch->-r requirements.txt (line 5)) (2022.10.31)\n",
      "Requirement already satisfied: tqdm in /usr/local/lib/python3.8/site-packages (from open-clip-torch->-r requirements.txt (line 5)) (4.64.1)\n",
      "Requirement already satisfied: packaging>=20.0 in /usr/local/lib/python3.8/site-packages (from transformers->-r requirements.txt (line 6)) (23.0)\n",
      "Requirement already satisfied: filelock in /root/.pylibs/lib/python3.8/site-packages (from transformers->-r requirements.txt (line 6)) (3.10.0)\n",
      "Requirement already satisfied: sacremoses in /root/.pylibs/lib/python3.8/site-packages (from transformers->-r requirements.txt (line 6)) (0.0.53)\n",
      "Requirement already satisfied: tokenizers<0.11,>=0.10.1 in /root/.pylibs/lib/python3.8/site-packages (from transformers->-r requirements.txt (line 6)) (0.10.3)\n",
      "Requirement already satisfied: requests in /root/.pylibs/lib/python3.8/site-packages (from transformers->-r requirements.txt (line 6)) (2.25.1)\n",
      "Requirement already satisfied: torchmetrics>=0.7.0 in /root/.pylibs/lib/python3.8/site-packages (from pytorch_lightning->-r requirements.txt (line 8)) (0.11.4)\n",
      "Requirement already satisfied: tensorboard>=2.9.1 in /root/.pylibs/lib/python3.8/site-packages (from pytorch_lightning->-r requirements.txt (line 8)) (2.12.0)\n",
      "Requirement already satisfied: pyDeprecate>=0.3.1 in /root/.pylibs/lib/python3.8/site-packages (from pytorch_lightning->-r requirements.txt (line 8)) (0.3.1)\n",
      "Requirement already satisfied: fsspec[http]!=2021.06.0,>=2021.05.0 in /root/.pylibs/lib/python3.8/site-packages (from pytorch_lightning->-r requirements.txt (line 8)) (2023.3.0)\n",
      "Requirement already satisfied: async-timeout<5.0,>=4.0.0a3 in /root/.pylibs/lib/python3.8/site-packages (from aiohttp->-r requirements.txt (line 9)) (4.0.2)\n",
      "Requirement already satisfied: frozenlist>=1.1.1 in /root/.pylibs/lib/python3.8/site-packages (from aiohttp->-r requirements.txt (line 9)) (1.3.3)\n",
      "Requirement already satisfied: aiosignal>=1.1.2 in /root/.pylibs/lib/python3.8/site-packages (from aiohttp->-r requirements.txt (line 9)) (1.3.1)\n",
      "Requirement already satisfied: attrs>=17.3.0 in /usr/local/lib/python3.8/site-packages (from aiohttp->-r requirements.txt (line 9)) (22.2.0)\n",
      "Requirement already satisfied: charset-normalizer<4.0,>=2.0 in /usr/local/lib/python3.8/site-packages (from aiohttp->-r requirements.txt (line 9)) (2.0.4)\n",
      "Requirement already satisfied: multidict<7.0,>=4.5 in /root/.pylibs/lib/python3.8/site-packages (from aiohttp->-r requirements.txt (line 9)) (6.0.4)\n",
      "Requirement already satisfied: yarl<2.0,>=1.0 in /root/.pylibs/lib/python3.8/site-packages (from aiohttp->-r requirements.txt (line 9)) (1.8.2)\n",
      "Requirement already satisfied: psutil in /usr/local/lib/python3.8/site-packages (from accelerate->-r requirements.txt (line 10)) (5.9.4)\n",
      "Requirement already satisfied: wheel>=0.26 in /usr/local/lib/python3.8/site-packages (from tensorboard>=2.9.1->pytorch_lightning->-r requirements.txt (line 8)) (0.38.4)\n",
      "Requirement already satisfied: tensorboard-plugin-wit>=1.6.0 in /usr/local/lib/python3.8/site-packages (from tensorboard>=2.9.1->pytorch_lightning->-r requirements.txt (line 8)) (1.8.1)\n",
      "Requirement already satisfied: werkzeug>=1.0.1 in /usr/local/lib/python3.8/site-packages (from tensorboard>=2.9.1->pytorch_lightning->-r requirements.txt (line 8)) (2.2.2)\n",
      "Requirement already satisfied: google-auth<3,>=1.6.3 in /usr/local/lib/python3.8/site-packages (from tensorboard>=2.9.1->pytorch_lightning->-r requirements.txt (line 8)) (1.35.0)\n",
      "Requirement already satisfied: absl-py>=0.4 in /usr/local/lib/python3.8/site-packages (from tensorboard>=2.9.1->pytorch_lightning->-r requirements.txt (line 8)) (1.3.0)\n",
      "Requirement already satisfied: markdown>=2.6.8 in /usr/local/lib/python3.8/site-packages (from tensorboard>=2.9.1->pytorch_lightning->-r requirements.txt (line 8)) (3.4.1)\n",
      "Requirement already satisfied: setuptools>=41.0.0 in /usr/local/lib/python3.8/site-packages (from tensorboard>=2.9.1->pytorch_lightning->-r requirements.txt (line 8)) (65.6.3)\n",
      "Requirement already satisfied: tensorboard-data-server<0.8.0,>=0.7.0 in /root/.pylibs/lib/python3.8/site-packages (from tensorboard>=2.9.1->pytorch_lightning->-r requirements.txt (line 8)) (0.7.0)\n",
      "Requirement already satisfied: google-auth-oauthlib<0.5,>=0.4.1 in /usr/local/lib/python3.8/site-packages (from tensorboard>=2.9.1->pytorch_lightning->-r requirements.txt (line 8)) (0.4.6)\n",
      "Requirement already satisfied: grpcio>=1.48.2 in /usr/local/lib/python3.8/site-packages (from tensorboard>=2.9.1->pytorch_lightning->-r requirements.txt (line 8)) (1.51.1)\n",
      "Requirement already satisfied: urllib3<1.27,>=1.21.1 in /usr/local/lib/python3.8/site-packages (from requests->transformers->-r requirements.txt (line 6)) (1.26.13)\n",
      "Requirement already satisfied: idna<3,>=2.5 in /root/.pylibs/lib/python3.8/site-packages (from requests->transformers->-r requirements.txt (line 6)) (2.10)\n",
      "Requirement already satisfied: certifi>=2017.4.17 in /usr/local/lib/python3.8/site-packages (from requests->transformers->-r requirements.txt (line 6)) (2022.6.15)\n",
      "Requirement already satisfied: chardet<5,>=3.0.2 in /root/.pylibs/lib/python3.8/site-packages (from requests->transformers->-r requirements.txt (line 6)) (4.0.0)\n",
      "Requirement already satisfied: wcwidth>=0.2.5 in /usr/local/lib/python3.8/site-packages (from ftfy->open-clip-torch->-r requirements.txt (line 5)) (0.2.5)\n",
      "Requirement already satisfied: joblib in /usr/local/lib/python3.8/site-packages (from sacremoses->transformers->-r requirements.txt (line 6)) (1.2.0)\n",
      "Requirement already satisfied: click in /usr/local/lib/python3.8/site-packages (from sacremoses->transformers->-r requirements.txt (line 6)) (8.1.3)\n",
      "Requirement already satisfied: six in /usr/local/lib/python3.8/site-packages (from sacremoses->transformers->-r requirements.txt (line 6)) (1.16.0)\n",
      "Requirement already satisfied: pillow!=8.3.*,>=5.3.0 in /usr/local/lib/python3.8/site-packages (from torchvision->open-clip-torch->-r requirements.txt (line 5)) (9.4.0)\n",
      "Requirement already satisfied: cachetools<5.0,>=2.0.0 in /usr/local/lib/python3.8/site-packages (from google-auth<3,>=1.6.3->tensorboard>=2.9.1->pytorch_lightning->-r requirements.txt (line 8)) (4.2.4)\n",
      "Requirement already satisfied: pyasn1-modules>=0.2.1 in /usr/local/lib/python3.8/site-packages (from google-auth<3,>=1.6.3->tensorboard>=2.9.1->pytorch_lightning->-r requirements.txt (line 8)) (0.2.8)\n",
      "Requirement already satisfied: rsa<5,>=3.1.4 in /usr/local/lib/python3.8/site-packages (from google-auth<3,>=1.6.3->tensorboard>=2.9.1->pytorch_lightning->-r requirements.txt (line 8)) (4.9)\n",
      "Requirement already satisfied: requests-oauthlib>=0.7.0 in /usr/local/lib/python3.8/site-packages (from google-auth-oauthlib<0.5,>=0.4.1->tensorboard>=2.9.1->pytorch_lightning->-r requirements.txt (line 8)) (1.3.1)\n",
      "Requirement already satisfied: importlib-metadata>=4.4 in /usr/local/lib/python3.8/site-packages (from markdown>=2.6.8->tensorboard>=2.9.1->pytorch_lightning->-r requirements.txt (line 8)) (6.0.0)\n",
      "Requirement already satisfied: MarkupSafe>=2.1.1 in /usr/local/lib/python3.8/site-packages (from werkzeug>=1.0.1->tensorboard>=2.9.1->pytorch_lightning->-r requirements.txt (line 8)) (2.1.1)\n",
      "Requirement already satisfied: zipp>=0.5 in /usr/local/lib/python3.8/site-packages (from importlib-metadata>=4.4->markdown>=2.6.8->tensorboard>=2.9.1->pytorch_lightning->-r requirements.txt (line 8)) (3.11.0)\n",
      "Requirement already satisfied: pyasn1<0.5.0,>=0.4.6 in /usr/local/lib/python3.8/site-packages (from pyasn1-modules>=0.2.1->google-auth<3,>=1.6.3->tensorboard>=2.9.1->pytorch_lightning->-r requirements.txt (line 8)) (0.4.8)\n",
      "Requirement already satisfied: oauthlib>=3.0.0 in /usr/local/lib/python3.8/site-packages (from requests-oauthlib>=0.7.0->google-auth-oauthlib<0.5,>=0.4.1->tensorboard>=2.9.1->pytorch_lightning->-r requirements.txt (line 8)) (3.2.2)\n",
      "\u001b[33mWARNING: Running pip as the 'root' user can result in broken permissions and conflicting behaviour with the system package manager. It is recommended to use a virtual environment instead: https://pip.pypa.io/warnings/venv\u001b[0m\u001b[33m\n",
      "\u001b[0m"
     ]
    },
    {
     "data": {
      "application/vnd.jupyter.widget-view+json": {
       "model_id": "f249b6879b3e405bba7fd9eda937cfc7",
       "version_major": 2,
       "version_minor": 0
      },
      "text/plain": [
       "Button(button_style='warning', description='正在更新...', icon='upload', style=ButtonStyle(), tooltip='')"
      ]
     },
     "metadata": {},
     "output_type": "display_data"
    }
   ],
   "source": [
    "from IPython.display import display,clear_output\n",
    "clear_output()\n",
    "import ipywidgets as widgets\n",
    "from func.env import setProxy\n",
    "\n",
    "debugging=False\n",
    "\n",
    "alertBtn = widgets.Button(\n",
    "    value=False,\n",
    "    description='',\n",
    "    disabled=False,\n",
    "    button_style='', # 'success', 'info', 'warning', 'danger' or ''\n",
    "    tooltip='',\n",
    "    icon='' # (FontAwesome names without the `fa-` prefix)\n",
    ")\n",
    "\n",
    "\n",
    "display(alertBtn)\n",
    "    \n",
    "if os.path.exists(comfyUIDir):\n",
    "    \n",
    "    alertBtn.description='正在更新...'\n",
    "    alertBtn.button_style='warning'\n",
    "    alertBtn.icon='upload'\n",
    "    \n",
    "    update_sd_webui_args = base_args[:]\n",
    "    update_sd_webui_args += [\n",
    "        f'cd {compfyUIDir}','&&',\n",
    "        'git pull','&&',\n",
    "        # 'git checkout d8f8bcb','&&'\n",
    "        'python -V',\n",
    "        '&&',\n",
    "        # 'conda config --append channels conda-forge','&&',\n",
    "        # 'conda install --yes --file requirements.txt','&&',\n",
    "        'python -m pip install -r requirements.txt --user'\n",
    "    ]\n",
    "    update_sd_webui_cmd = (\" \").join(update_sd_webui_args)\n",
    "    print(update_sd_webui_cmd)\n",
    "    !$update_sd_webui_cmd\n",
    "\n",
    "    if debugging==False:\n",
    "        # clear_output()\n",
    "        display(alertBtn)\n",
    "    \n",
    "    alertBtn.description='更新完成!'\n",
    "    alertBtn.button_style='success'\n",
    "    alertBtn.icon='check'\n",
    "\n",
    "else:\n",
    "    alertBtn.description='安装ComfyUI...'\n",
    "    alertBtn.button_style='info'\n",
    "    alertBtn.icon='download'\n",
    "    sd_webui_download_args = base_args[:]\n",
    "    sd_webui_download_args += [\n",
    "        f'cd {root_dir}','&&',\n",
    "        'git clone https://github.com/comfyanonymous/ComfyUI',\n",
    "        '&&',\n",
    "        'cd ComfyUI','&&',\n",
    "        # 'git checkout d8f8bcb','&&'\n",
    "        'python -V',\n",
    "        '&&',\n",
    "        # 'conda config --append channels conda-forge','&&',\n",
    "        # 'conda install --yes --file requirements.txt','&&',\n",
    "        'python -m pip install -r requirements.txt --user'\n",
    "    ]\n",
    "    sd_webui_download_cmd = (\" \").join(sd_webui_download_args)\n",
    "    print(sd_webui_download_cmd)\n",
    "    !$sd_webui_download_cmd\n",
    "    \n",
    "#     r = !source activate &&\\\n",
    "#     conda activate py3.10.6 &&\\\n",
    "#     $proxy &&\\\n",
    "#     cd $comfyUIDir &&\\\n",
    "#     git pull &&\\\n",
    "#     python -V &&\\\n",
    "#     python -m pip install -r requirements.txt\n",
    "\n",
    "#     display(r)\n",
    "    \n",
    "#     if 'Already up to date.' in r:\n",
    "#         alertBtn.description='更新完成!'\n",
    "#         alertBtn.button_style='success'\n",
    "#         alertBtn.icon='check'\n",
    "#     else:\n",
    "#         alertBtn.description='更新失败!'\n",
    "#         alertBtn.button_style='danger'\n",
    "#         alertBtn.icon='exclamation'\n",
    "\n",
    "\n",
    "# clear_output(wait=True)"
   ]
  },
  {
   "cell_type": "code",
   "execution_count": 26,
   "id": "d1057c24-d2d6-406f-a064-4550a89ea655",
   "metadata": {
    "execution": {
     "iopub.execute_input": "2023-03-25T06:42:32.998914Z",
     "iopub.status.busy": "2023-03-25T06:42:32.998506Z",
     "iopub.status.idle": "2023-03-25T06:42:42.331389Z",
     "shell.execute_reply": "2023-03-25T06:42:42.330024Z",
     "shell.execute_reply.started": "2023-03-25T06:42:32.998880Z"
    },
    "scrolled": true,
    "tags": []
   },
   "outputs": [
    {
     "name": "stdout",
     "output_type": "stream",
     "text": [
      "Looking in indexes: https://pypi.tuna.tsinghua.edu.cn/simple\n",
      "Requirement already satisfied: transformers in /root/.pylibs/lib/python3.8/site-packages (4.15.0)\n",
      "Collecting transformers\n",
      "  Downloading https://pypi.tuna.tsinghua.edu.cn/packages/6d/9b/2f536f9e73390209e0b27b74691355dac494b7ec8154f3012fdc6debbae7/transformers-4.27.1-py3-none-any.whl (6.7 MB)\n",
      "\u001b[2K     \u001b[90m━━━━━━━━━━━━━━━━━━━━━━━━━━━━━━━━━━━━━━━━\u001b[0m \u001b[32m6.7/6.7 MB\u001b[0m \u001b[31m5.1 MB/s\u001b[0m eta \u001b[36m0:00:00\u001b[0m00:01\u001b[0m00:01\u001b[0mm\n",
      "\u001b[?25hRequirement already satisfied: filelock in /root/.pylibs/lib/python3.8/site-packages (from transformers) (3.10.0)\n",
      "Requirement already satisfied: packaging>=20.0 in /usr/local/lib/python3.8/site-packages (from transformers) (23.0)\n",
      "Requirement already satisfied: tqdm>=4.27 in /usr/local/lib/python3.8/site-packages (from transformers) (4.64.1)\n",
      "Requirement already satisfied: pyyaml>=5.1 in /usr/local/lib/python3.8/site-packages (from transformers) (6.0)\n",
      "Collecting tokenizers!=0.11.3,<0.14,>=0.11.1\n",
      "  Downloading https://pypi.tuna.tsinghua.edu.cn/packages/fa/33/acfd230f5c3e7d19bfae949dca45c230fbf1d4d6f62a0b2365caac17c37a/tokenizers-0.13.2-cp38-cp38-manylinux_2_17_x86_64.manylinux2014_x86_64.whl (7.6 MB)\n",
      "\u001b[2K     \u001b[90m━━━━━━━━━━━━━━━━━━━━━━━━━━━━━━━━━━━━━━━━\u001b[0m \u001b[32m7.6/7.6 MB\u001b[0m \u001b[31m3.9 MB/s\u001b[0m eta \u001b[36m0:00:00\u001b[0m00:01\u001b[0m00:01\u001b[0m\n",
      "\u001b[?25hRequirement already satisfied: regex!=2019.12.17 in /root/.pylibs/lib/python3.8/site-packages (from transformers) (2022.10.31)\n",
      "Requirement already satisfied: requests in /root/.pylibs/lib/python3.8/site-packages (from transformers) (2.25.1)\n",
      "Requirement already satisfied: numpy>=1.17 in /root/.pylibs/lib/python3.8/site-packages (from transformers) (1.23.3)\n",
      "Requirement already satisfied: huggingface-hub<1.0,>=0.11.0 in /root/.pylibs/lib/python3.8/site-packages (from transformers) (0.13.2)\n",
      "Requirement already satisfied: typing-extensions>=3.7.4.3 in /usr/local/lib/python3.8/site-packages (from huggingface-hub<1.0,>=0.11.0->transformers) (4.4.0)\n",
      "Requirement already satisfied: urllib3<1.27,>=1.21.1 in /usr/local/lib/python3.8/site-packages (from requests->transformers) (1.26.13)\n",
      "Requirement already satisfied: idna<3,>=2.5 in /root/.pylibs/lib/python3.8/site-packages (from requests->transformers) (2.10)\n",
      "Requirement already satisfied: certifi>=2017.4.17 in /usr/local/lib/python3.8/site-packages (from requests->transformers) (2022.6.15)\n",
      "Requirement already satisfied: chardet<5,>=3.0.2 in /root/.pylibs/lib/python3.8/site-packages (from requests->transformers) (4.0.0)\n",
      "Installing collected packages: tokenizers, transformers\n",
      "  Attempting uninstall: tokenizers\n",
      "    Found existing installation: tokenizers 0.10.3\n",
      "    Uninstalling tokenizers-0.10.3:\n",
      "      Successfully uninstalled tokenizers-0.10.3\n",
      "  Attempting uninstall: transformers\n",
      "    Found existing installation: transformers 4.15.0\n",
      "    Uninstalling transformers-4.15.0:\n",
      "      Successfully uninstalled transformers-4.15.0\n",
      "Successfully installed tokenizers-0.13.2 transformers-4.27.1\n",
      "\u001b[33mWARNING: Running pip as the 'root' user can result in broken permissions and conflicting behaviour with the system package manager. It is recommended to use a virtual environment instead: https://pip.pypa.io/warnings/venv\u001b[0m\u001b[33m\n",
      "\u001b[0m"
     ]
    }
   ],
   "source": [
    "!pip install transformers --upgrade"
   ]
  },
  {
   "cell_type": "markdown",
   "id": "680e4da1-af79-457e-ba6b-92120790e405",
   "metadata": {},
   "source": [
    "# 挂载各类到ComfyUI模型文件夹"
   ]
  },
  {
   "cell_type": "markdown",
   "id": "905de240-4fb6-4e9a-8084-92ec63473a6a",
   "metadata": {},
   "source": [
    "## 交代挂载方式：复制or创建软连接"
   ]
  },
  {
   "cell_type": "code",
   "execution_count": 31,
   "id": "c84c48d7-abe4-44a7-af57-4019518025dd",
   "metadata": {
    "execution": {
     "iopub.execute_input": "2023-03-25T07:47:09.403769Z",
     "iopub.status.busy": "2023-03-25T07:47:09.403405Z",
     "iopub.status.idle": "2023-03-25T07:47:09.541199Z",
     "shell.execute_reply": "2023-03-25T07:47:09.540686Z",
     "shell.execute_reply.started": "2023-03-25T07:47:09.403747Z"
    },
    "tags": []
   },
   "outputs": [
    {
     "name": "stdout",
     "output_type": "stream",
     "text": [
      "/output/OneClick-stable-diffusion\n",
      "当前运行环境： OpenBayes\n",
      "内容路径： /openbayes/home/content\n",
      "proxy在globals\n"
     ]
    }
   ],
   "source": [
    "%cd $repo_root_dir\n",
    "%run ./nbfunc/hub.ipynb\n",
    "copy_or_mount = True # True意味着只创建符号连接"
   ]
  },
  {
   "cell_type": "markdown",
   "id": "f195bdd5-3532-4345-a505-bc917736bc41",
   "metadata": {},
   "source": [
    "## 挂载.ckpt或.safetensors"
   ]
  },
  {
   "cell_type": "code",
   "execution_count": 32,
   "id": "2e96630c-c3c7-4c87-8016-f544b0a5c62b",
   "metadata": {
    "execution": {
     "iopub.execute_input": "2023-03-25T07:47:11.462931Z",
     "iopub.status.busy": "2023-03-25T07:47:11.462752Z",
     "iopub.status.idle": "2023-03-25T07:47:11.472317Z",
     "shell.execute_reply": "2023-03-25T07:47:11.471873Z",
     "shell.execute_reply.started": "2023-03-25T07:47:11.462915Z"
    },
    "tags": []
   },
   "outputs": [
    {
     "name": "stdout",
     "output_type": "stream",
     "text": [
      "不存在v2-1_768-nonema-pruned.ckpt\n",
      "/input4/chilloutmix_NiPrunedFp16.safetensors\n",
      "\u001b[1m\u001b[92m/output/ComfyUI/models/checkpoints/chilloutmix_NiPrunedFp16.safetensors\u001b[0m ➜ \u001b[34m/input4/chilloutmix_NiPrunedFp16.safetensors\u001b[0m\n",
      "创建符号链接完成！\n",
      "/input4/abyssorangemix3AOM3_aom3a3.safetensors\n",
      "\u001b[1m\u001b[92m/output/ComfyUI/models/checkpoints/abyssorangemix3AOM3_aom3a3.safetensors\u001b[0m ➜ \u001b[34m/input4/abyssorangemix3AOM3_aom3a3.safetensors\u001b[0m\n",
      "创建符号链接完成！\n",
      "不存在camelliamixLine_v10.safetensors\n",
      "不存在expmixLine_v20.safetensors\n",
      "不存在anything-v4.5-pruned-fp16.ckpt\n",
      "不存在anything-v4.0-pruned-fp16.safetensors\n",
      "不存在PVC-AO.safetensors\n",
      "不存在midjourneyPapercut_v1.ckpt\n",
      "/input2/orangemix.vae.pt\n",
      "\u001b[1m\u001b[92m/output/ComfyUI/models/vae/orangemix.vae.pt\u001b[0m ➜ \u001b[34m/input2/orangemix.vae.pt\u001b[0m\n",
      "创建符号链接完成！\n",
      "/input2/kl-f8-anime2.ckpt\n",
      "\u001b[1m\u001b[92m/output/ComfyUI/models/vae/kl-f8-anime2.ckpt\u001b[0m ➜ \u001b[34m/input2/kl-f8-anime2.ckpt\u001b[0m\n",
      "创建符号链接完成！\n"
     ]
    }
   ],
   "source": [
    "# Stable-diffusion 模型\n",
    "sd_models = [\n",
    "    'v2-1_768-nonema-pruned.ckpt',  # SD 2.1模型\n",
    "    'chilloutmix_NiPrunedFp16.safetensors',  # ChilloutMix·高清写实真人模型\n",
    "    'abyssorangemix3AOM3_aom3a3.safetensors',  # AOM3·二次元模型\n",
    "    'camelliamixLine_v10.safetensors',  # 二次元粗描边模型\n",
    "    'expmixLine_v20.safetensors',  # 二次元粗描边模型\n",
    "    'anything-v4.5-pruned-fp16.ckpt',  # Anything系列模型\n",
    "    'anything-v4.0-pruned-fp16.safetensors',  # Anything系列模型\n",
    "    'PVC-AO.safetensors',  # PVC手办模型\n",
    "    'midjourneyPapercut_v1.ckpt'  # PVC手办模型\n",
    "]\n",
    "\n",
    "# 遍历模型列表并创建符号链接\n",
    "for model in sd_models:\n",
    "    check_model_and_make_symbollink_general(model, './models/checkpoints', copy_or_mount,comfyUIDir)\n",
    "\n",
    "# VAE模型\n",
    "vae_models = [\n",
    "    'orangemix.vae.pt',\n",
    "    'kl-f8-anime2.ckpt'\n",
    "]\n",
    "\n",
    "# 遍历模型列表并创建符号链接\n",
    "for model in vae_models:\n",
    "    check_model_and_make_symbollink_general(model, './models/vae', copy_or_mount,comfyUIDir)"
   ]
  },
  {
   "cell_type": "markdown",
   "id": "671a2026-3792-4f38-94a5-fb0351eb928a",
   "metadata": {},
   "source": [
    "# <i class=\"fa fa-rocket\"></i> 启动Stable-Diffusion-WebUI"
   ]
  },
  {
   "cell_type": "code",
   "execution_count": 27,
   "id": "54abc048-058e-4d5a-b5de-dbb8419e3f44",
   "metadata": {
    "execution": {
     "iopub.execute_input": "2023-03-25T06:42:44.311650Z",
     "iopub.status.busy": "2023-03-25T06:42:44.311284Z",
     "iopub.status.idle": "2023-03-25T06:42:44.316990Z",
     "shell.execute_reply": "2023-03-25T06:42:44.315979Z",
     "shell.execute_reply.started": "2023-03-25T06:42:44.311616Z"
    },
    "tags": []
   },
   "outputs": [],
   "source": [
    "launch_args = base_args[:] + [\n",
    "    f'cd {comfyUIDir}','&&',\n",
    "    'python main.py'\n",
    "]"
   ]
  },
  {
   "cell_type": "code",
   "execution_count": null,
   "id": "18945cc3-c10b-4f8b-a3e2-7b5cd0e3e18e",
   "metadata": {},
   "outputs": [],
   "source": []
  }
 ],
 "metadata": {
  "kernelspec": {
   "display_name": "Python 3 (ipykernel)",
   "language": "python",
   "name": "python3"
  },
  "language_info": {
   "codemirror_mode": {
    "name": "ipython",
    "version": 3
   },
   "file_extension": ".py",
   "mimetype": "text/x-python",
   "name": "python",
   "nbconvert_exporter": "python",
   "pygments_lexer": "ipython3",
   "version": "3.8.15"
  },
  "toc-autonumbering": false,
  "toc-showmarkdowntxt": false,
  "toc-showtags": true,
  "vscode": {
   "interpreter": {
    "hash": "369f2c481f4da34e4445cda3fffd2e751bd1c4d706f27375911949ba6bb62e1c"
   }
  }
 },
 "nbformat": 4,
 "nbformat_minor": 5
}
