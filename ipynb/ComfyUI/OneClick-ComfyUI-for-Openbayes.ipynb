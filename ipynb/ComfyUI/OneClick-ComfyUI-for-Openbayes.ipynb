{
  "cells": [
    {
      "cell_type": "markdown",
      "id": "21d7e8a1-2486-4574-b71e-af90301d5cde",
      "metadata": {},
      "source": [
        "# \u6b22\u8fce\u8bed\n",
        "\u66f4\u65b0\u65e5\u5fd7"
      ]
    },
    {
      "cell_type": "markdown",
      "id": "293b985b-51ef-4a53-80ae-dbccacab9bba",
      "metadata": {},
      "source": [
        "## <i class=\"fa fa-repeat\"></i> \u5207\u6362pip\u8f6f\u4ef6\u6e90"
      ]
    },
    {
      "cell_type": "code",
      "execution_count": null,
      "id": "bf8e99a2-bd79-4e4d-933c-7328b03fd976",
      "metadata": {},
      "outputs": [],
      "source": [
        "import os\n",
        "import subprocess\n",
        "\n",
        "def check_pip_list():\n",
        "    output = !pip config list\n",
        "    print(output)\n",
        "    if \"global.index-url='https://pypi.tuna.tsinghua.edu.cn/simple'\" in output and \"global.trusted-host='pypi.tuna.tsinghua.edu.cn'\" in output:\n",
        "        return True\n",
        "    else:\n",
        "        return False\n",
        "if not check_pip_list():\n",
        "    # \u67e5\u627epip.conf\u6587\u4ef6\n",
        "    pip_conf_file = os.popen(\"find / -name 'pip.conf'\").read().strip()\n",
        "    # \u76f4\u63a5\u8986\u76d6pip.conf\u6587\u4ef6\n",
        "    with open(pip_conf_file, 'w') as f:\n",
        "        f.write(\"[global]\\nindex-url = https://pypi.tuna.tsinghua.edu.cn/simple\\ntrusted-host = pypi.tuna.tsinghua.edu.cn\")\n",
        "        # f.write(\"\")\n",
        "    # \u9a8c\u8bc1\u4fee\u6539\u662f\u5426\u6210\u529f\n",
        "    if check_pip_list():\n",
        "        print(\"pip\u8f6f\u4ef6\u6e90\u5207\u6362\u6210\u529f\uff01\")\n",
        "    else:\n",
        "        print(\"pip\u8f6f\u4ef6\u6e90\u5207\u6362\u5931\u8d25\uff0c\u8bf7\u68c0\u67e5\u811a\u672c\u662f\u5426\u6b63\u786e\u8fd0\u884c\u3002\")\n",
        "else:\n",
        "    print(\"pip\u8f6f\u4ef6\u6e90\u672c\u6765\u5c31\u662f\u6e05\u534e\u6e90\uff0c\u65e0\u9700\u5207\u6362\")"
      ]
    },
    {
      "cell_type": "code",
      "execution_count": null,
      "id": "bca173ad-978e-428d-babf-f78945900971",
      "metadata": {},
      "outputs": [],
      "source": [
        "new_channels = [\n",
        "    \"https://mirrors.tuna.tsinghua.edu.cn/anaconda/cloud/msys2/\",\n",
        "    \"https://mirrors.tuna.tsinghua.edu.cn/anaconda/cloud/conda-forge/\",\n",
        "    \"https://mirrors.tuna.tsinghua.edu.cn/anaconda/pkgs/free/\",\n",
        "    \"https://mirrors.tuna.tsinghua.edu.cn/anaconda/pkgs/main/\",\n",
        "    \"https://mirrors.tuna.tsinghua.edu.cn/anaconda/cloud/peterjc123/\",\n",
        "    \"https://mirrors.tuna.tsinghua.edu.cn/anaconda/cloud/pytorch/\"\n",
        "]\n",
        "\n",
        "current_channels = !conda config --show channels\n",
        "current_channels = ('').join(current_channels).split()\n",
        "\n",
        "# print(current_channels)\n",
        "\n",
        "for channel in new_channels:\n",
        "    if channel in current_channels:\n",
        "        print(f\"\u6b64channel\u5df2\u7ecf\u5728\u5217\u8868\u4e2d\uff1a{channel}\")\n",
        "    else:\n",
        "        !conda config --add channels $channel\n",
        "        \n",
        "!conda config --set show_channel_urls yes"
      ]
    },
    {
      "cell_type": "markdown",
      "id": "65a366f3-49d3-4213-b1a9-dc63d189dc8f",
      "metadata": {},
      "source": [
        "##  <i class=\"fa fa-spinner\"></i> \u88c5\u8f7d\u81ea\u5b9a\u4e49\u6a21\u5757\n",
        "\u628a\u5f53\u524drepo\u6839\u76ee\u5f55\u52a0\u5165 Python \u641c\u7d22\u6a21\u5757\u7684\u8def\u5f84\u5217\u8868\uff0c\u5e76\u6c42\u5f97\u6839\u76ee\u5f55"
      ]
    },
    {
      "cell_type": "code",
      "execution_count": null,
      "id": "3414367f-c3d8-4ae9-9944-a0f47c50cc27",
      "metadata": {},
      "outputs": [],
      "source": [
        "import os,sys\n",
        "\n",
        "def find_repo_root():\n",
        "    # \u83b7\u53d6\u5f53\u524d\u811a\u672c\u7684\u7edd\u5bf9\u8def\u5f84\n",
        "    try:\n",
        "        # \u5982\u679c\u5f53\u524d\u8fd0\u884c\u73af\u5883\u662f Jupyter Notebook\uff0c\u4f7f\u7528\u5f53\u524d\u5de5\u4f5c\u76ee\u5f55\n",
        "        script_path = os.path.abspath('.')\n",
        "    except NameError:\n",
        "        # \u5426\u5219\uff0c\u4f7f\u7528 __file__ \u53d8\u91cf\n",
        "        script_path = os.path.abspath(__file__)\n",
        "    # \u5224\u65ad\u5f53\u524d\u811a\u672c\u76ee\u5f55\u662f\u5426\u5b58\u5728`.git`\u6587\u4ef6\u5939\n",
        "    if os.path.isdir(os.path.join(script_path, '.git')):\n",
        "        return script_path\n",
        "    # \u521d\u59cb\u5316\u5b58\u50a8\u7ed3\u679c\u7684\u53d8\u91cf\n",
        "    result = None\n",
        "    # \u5faa\u73af\u6c42\u5f53\u524d\u8def\u5f84\u7684\u7236\u76ee\u5f55\uff0c\u76f4\u5230\u627e\u5230`.git`\u6587\u4ef6\u5939\n",
        "    while True:\n",
        "        # \u5c06\u5f53\u524d\u8def\u5f84\u7684\u7236\u76ee\u5f55\u8d4b\u503c\u7ed9\u5f53\u524d\u8def\u5f84\n",
        "        script_path = os.path.dirname(script_path)\n",
        "        # \u5224\u65ad\u5f53\u524d\u8def\u5f84\u662f\u5426\u5b58\u5728`.git`\u6587\u4ef6\u5939\n",
        "        if os.path.isdir(os.path.join(script_path, '.git')):\n",
        "            # \u5982\u679c\u5b58\u5728\uff0c\u5c06\u5f53\u524d\u8def\u5f84\u5b58\u50a8\u5728\u7ed3\u679c\u53d8\u91cf\u4e2d\n",
        "            result = script_path\n",
        "        # \u5224\u65ad\u5f53\u524d\u8def\u5f84\u662f\u5426\u4e3a\u6839\u76ee\u5f55\uff08\u5373\u662f\u5426\u5df2\u7ecf\u641c\u7d22\u5230\u6700\u5916\u5c42\uff09\n",
        "        if script_path == '/':\n",
        "            # \u5982\u679c\u662f\uff0c\u8fd4\u56de\u7ed3\u679c\u53d8\u91cf\u7684\u503c\n",
        "            return result\n",
        "        \n",
        "repo_root_dir=find_repo_root()\n",
        "sys.path.append(repo_root_dir)\n",
        "# print(repo_root_dir)\n",
        "# \u83b7\u53d6repo\u6240\u5728\u7684\u6839\u76ee\u5f55\n",
        "root_dir = os.path.dirname(repo_root_dir)\n",
        "# \u83b7\u53d6\u5f53\u524d\u73af\u5883\u540d\u79f0\u4e0e\u5f53\u524d\u73af\u5883content\u8def\u5f84\n",
        "from func.env import detect_environment\n",
        "env_cb = detect_environment()\n",
        "env_name = env_cb['env_name']\n",
        "content_path = env_cb['content_path']\n",
        "\n",
        "# \u88c5\u8f7dnbfunc\u4e2d\u7684hub\u6d89\u53ca\u7684\u6240\u6709ipynb\u51fd\u6570\n",
        "%cd $repo_root_dir\n",
        "%run ./nbfunc/hub.ipynb\n",
        "\n",
        "initGit()"
      ]
    },
    {
      "cell_type": "markdown",
      "id": "28b56e9b-65f6-4260-af96-a4f671bbd34b",
      "metadata": {},
      "source": [
        "## <i class=\"fa fa-arrow-down\"></i> \u5b89\u88c5\u5fc5\u8981\u4f9d\u8d56"
      ]
    },
    {
      "cell_type": "code",
      "execution_count": null,
      "id": "a12f85f3-9e06-4d46-b30b-689dffe8d41f",
      "metadata": {},
      "outputs": [],
      "source": [
        "import subprocess\n",
        "\n",
        "libraries_to_install = [\n",
        "\n",
        "]\n",
        "\n",
        "tools_to_install = [\n",
        "    \"iputils-ping\",\n",
        "]\n",
        "\n",
        "installed_libraries = subprocess.run([\"pip\", \"freeze\"], capture_output=True).stdout.decode().split(\"\\n\")\n",
        "\n",
        "# \u5c1d\u8bd5\u5b89\u88c5\u6240\u6709\u672a\u5b89\u88c5\u7684\u5e93\n",
        "for library in libraries_to_install:\n",
        "    if library == \"black[jupyter]\" and any(\"black\" in installed_library for installed_library in installed_libraries):\n",
        "        print(f\"\u3010 {library} \u3011\u5df2\u7ecf\u5b89\u88c5\uff0c\u8df3\u8fc7\u5b89\u88c5\")\n",
        "        continue\n",
        "    elif not any(library in installed_library for installed_library in installed_libraries):\n",
        "        !pip install $library --user\n",
        "    else:\n",
        "        print(f\"\u3010 {library} \u3011\u5df2\u7ecf\u5b89\u88c5\uff0c\u8df3\u8fc7\u5b89\u88c5\")\n",
        "        \n",
        "# \u5c1d\u8bd5\u5b89\u88c5\u6240\u6709\u672a\u5b89\u88c5\u7684\u5de5\u5177\n",
        "update_needed = False\n",
        "for tool in tools_to_install:\n",
        "    exit_code = subprocess.run([\"dpkg\", \"-s\", tool], capture_output=True).returncode\n",
        "    if exit_code != 0:\n",
        "        update_needed = True\n",
        "        break\n",
        "    else:\n",
        "        print(f\"\u3010 {tool} \u3011\u5df2\u7ecf\u5b89\u88c5\uff0c\u8df3\u8fc7\u5b89\u88c5\")\n",
        "if update_needed:\n",
        "    !apt-get update\n",
        "    for tool in tools_to_install:\n",
        "        exit_code = subprocess.run([\"dpkg\", \"-s\", tool], capture_output=True).returncode\n",
        "        if exit_code != 0:\n",
        "            !apt-get install -y $tool"
      ]
    },
    {
      "cell_type": "markdown",
      "id": "83025d61-3547-416b-a519-bad97f36f915",
      "metadata": {},
      "source": [
        "# \u57fa\u7840\u914d\u7f6e"
      ]
    },
    {
      "cell_type": "code",
      "execution_count": null,
      "id": "2ce2fae8-24a6-400c-94ca-fd6cba45685f",
      "metadata": {},
      "outputs": [],
      "source": [
        "#\u9700\u8981\u5b89\u88c5ipywidgets\uff0c\u6b64\u955c\u50cf\u5df2\u7ecf\u5b89\u88c5\u4e86\u5bf9\u5e94\u7684\u4f9d\u8d56\u5305\n",
        "# !conda install -c conda-forge jupyterlab \n",
        "# !conda install -c conda-forge ipywidgets\n",
        "# !conda install -c conda-forge ipython\n",
        "# !conda install -c conda-forge ipympl\n",
        "\n",
        "# \u5b9e\u73b0\u663e\u793a/\u9690\u85cf\u4ee3\u7801\u5757\u7684\u6b65\u9aa4\uff1a\n",
        "# \u5b89\u88c5jupyter_contrib_nbextentions\n",
        "# \uff08Ref: https://jupyter-contrib-nbextensions.readthedocs.io/en/latest/install.html#install-the-python-package\uff09\n",
        "# conda\u5b89\u88c5\u547d\u4ee4\uff1aconda install -c conda-forge jupyter_contrib_nbextensions\n",
        "# python\u5b89\u88c5\u547d\u4ee4\uff1apip install jupyter_contrib_nbextensions\n",
        "\n",
        "# \u5b89\u88c5jupyter_nbextentions_contributor\uff0c\u4ee5\u4fbf\u5728Jupyter Notebook\u9875\u9762\u8bbe\u7f6enbextentions\n",
        "# \uff08Ref: https://github.com/Jupyter-contrib/jupyter_nbextensions_configurator\uff09\n",
        "# conda\u5b89\u88c5\u547d\u4ee4\uff1aconda install -c conda-forge jupyter_nbextensions_configurator\n",
        "# python\u5b89\u88c5\u547d\u4ee4\uff1apip install jupyter_nbextensions_configurator\n",
        "\n",
        "# !apt-get update && apt install net-tools"
      ]
    },
    {
      "cell_type": "markdown",
      "id": "a586155e-1ce7-4cb9-b94e-c044fd85e15f",
      "metadata": {},
      "source": [
        "## <i class=\"fa fa-plane-departure\"></i> \u5b66\u672f\u52a0\u901f\n",
        "\u9996\u5148\u8981\u8fdb\u884c\u5b66\u672f\u52a0\u901f\uff0c\u8fd9\u6709\u5229\u4e8e\u62c9\u53d6\u8d44\u6e90\uff0c\u8be6\u60c5\u8bf7\u770b\uff1ahttps://www.autodl.com/docs/network_turbo/  "
      ]
    },
    {
      "cell_type": "code",
      "execution_count": null,
      "id": "ef32d892-2010-4a1c-b429-7ad98a1ac17a",
      "metadata": {},
      "outputs": [],
      "source": [
        "# from func.env import setProxy\n",
        "# try:\n",
        "#     proxy,region\n",
        "# except NameError:\n",
        "#     sp = setProxy()\n",
        "#     proxy = sp['proxy']\n",
        "#     region = sp['region']\n",
        "%cd $repo_root_dir\n",
        "%run ./nbfunc/hub.ipynb\n",
        "selProxy(True,'\u81ea\u4f9b')\n",
        "print(proxy)\n",
        "print(proxyURL)"
      ]
    },
    {
      "cell_type": "markdown",
      "id": "d111957d-aad7-4d8c-91cd-6489d95dfecf",
      "metadata": {},
      "source": [
        "## \u8bbe\u7f6eGit\u4f7f\u7528\u4ee3\u7406\u8bbf\u95eeGitHub"
      ]
    },
    {
      "cell_type": "code",
      "execution_count": null,
      "id": "36d585b5-662c-4f92-8b71-aa253f453fe4",
      "metadata": {},
      "outputs": [],
      "source": [
        "def set_git_proxy(proxyURL):\n",
        "    # \u8bbe\u7f6eGit\u5728\u4f7f\u7528HTTP\u534f\u8bae\u8bbf\u95eeGitHub\u65f6\u4f7f\u7528\u4ee3\u7406\u670d\u52a1\u5668\n",
        "    !git config --global http.https://github.com.proxy $proxyURL\n",
        "\n",
        "    # \u8bbe\u7f6eGit\u5728\u4f7f\u7528HTTPS\u534f\u8bae\u8bbf\u95eeGitHub\u65f6\u4f7f\u7528\u4ee3\u7406\u670d\u52a1\u5668\n",
        "    !git config --global https.https://github.com.proxy $proxyURL\n",
        "\n",
        "    # \u9a8c\u8bc1\u662f\u5426\u8bbe\u7f6e\u6210\u529f\n",
        "    result = !git config --list\n",
        "    # print(result)\n",
        "    result = [str(item) for item in result] # \u5c06\u7ed3\u679c\u8f6c\u6362\u4e3a\u5b57\u7b26\u4e32\u5217\u8868\n",
        "    http_proxy = f'http.https://github.com.proxy={proxyURL}'\n",
        "    https_proxy = f'https.https://github.com.proxy={proxyURL}'\n",
        "    if http_proxy in result and https_proxy in result:\n",
        "        print('Git\u4ee3\u7406\u5df2\u6210\u529f\u8bbe\u7f6e\u3002')\n",
        "    else:\n",
        "        print('Git\u4ee3\u7406\u8bbe\u7f6e\u5931\u8d25\u3002')\n",
        "\n",
        "set_git_proxy(proxyURL)"
      ]
    },
    {
      "cell_type": "markdown",
      "id": "328c9e45-6087-44b2-a5d2-53230d0454f0",
      "metadata": {},
      "source": [
        "## <i class=\"fa fa-star\"></i> Notebook\u73af\u5883\u5207\u6362\n",
        "\u5728JupyterLab\u7684Notebook\u4e2d\u4f7f\u7528\u65b0\u7684Conda\u73af\u5883"
      ]
    },
    {
      "cell_type": "code",
      "execution_count": null,
      "id": "85cfa22d-8437-4508-87cf-57f7d13dcfc2",
      "metadata": {
        "scrolled": true
      },
      "outputs": [],
      "source": [
        "from subprocess import getoutput\n",
        "from IPython.display import clear_output\n",
        "import ipywidgets as widgets\n",
        "\n",
        "python_version = '3.10.6'\n",
        "\n",
        "# if env_name == 'AutoDL':\n",
        "custom_env_name = 'py' + python_version\n",
        "# elif env_name == 'OpenBayes':\n",
        "#     custom_env_name = 'base'\n",
        "\n",
        "s = getoutput('conda info --env')\n",
        "print(s)\n",
        "if custom_env_name not in s:\n",
        "    print(f'\u5f53\u524d\u7cfb\u7edf\u4e2d\u6ca1\u6709{custom_env_name}\u73af\u5883\uff0c\u6b63\u5728\u5b89\u88c5')\n",
        "    # \u521b\u5efaConda\u65b0\u7684\u865a\u62df\u73af\u5883\n",
        "    # \u6784\u5efa\u4e00\u4e2a\u865a\u62df\u73af\u5883\n",
        "    # \u66f4\u65b0bashrc\u4e2d\u7684\u73af\u5883\u53d8\u91cf\n",
        "    # \u5728 /openbayes/home \u4e0b\u521b\u5efa\u4e00\u4e2a\u65b0\u7684\u73af\u5883\uff1ahttps://openbayes.com/docs/gear/conda/#%E4%BD%BF%E7%94%A8-conda-%E5%88%9B%E5%BB%BA%E6%96%B0%E7%9A%84%E7%8E%AF%E5%A2%83\n",
        "    python_install_args = [\n",
        "        'source /usr/local/etc/profile.d/conda.sh','&&',\n",
        "        f'cd {root_dir}','&&',\n",
        "        f'conda create -p {custom_env_name} python={python_version} -y','&&',\n",
        "        'conda init bash','&&',\n",
        "        'source /root/.bashrc -y'\n",
        "    ]\n",
        "    \n",
        "    # !source /usr/local/etc/profile.d/conda.sh &&\\\n",
        "    # conda create -n $custom_env_name python=$python_version -y &&\\\n",
        "    # conda init bash && source /root/.bashrc -y\n",
        "    \n",
        "    python_install_cmd = (\" \").join(python_install_args)\n",
        "    !$python_install_cmd\n",
        "    \n",
        "else:\n",
        "    print(f'\u5df2\u7ecf\u5b89\u88c5\u4e86{custom_env_name}\u73af\u5883')\n",
        "\n",
        "# clear_output(wait=True)\n",
        "# print(\"Done!\")\n",
        "\n",
        "widgets.Button(\n",
        "    value=False,\n",
        "    description='\u73af\u5883\u90e8\u7f72\u6210\u529f!',\n",
        "    disabled=False,\n",
        "    button_style='success', # 'success', 'info', 'warning', 'danger' or ''\n",
        "    tooltip='Description',\n",
        "    icon='check' # (FontAwesome names without the `fa-` prefix)\n",
        ")"
      ]
    },
    {
      "cell_type": "markdown",
      "id": "9f43e005-13ec-4107-8b21-6dc110514f9e",
      "metadata": {},
      "source": [
        "## \u4ea4\u4ee3Base_args"
      ]
    },
    {
      "cell_type": "code",
      "execution_count": null,
      "id": "37c9c95f-2a89-463e-abcb-e2b7ce107033",
      "metadata": {},
      "outputs": [],
      "source": [
        "from func.env import setProxy\n",
        "import subprocess\n",
        "\n",
        "def find_conda_env(name):\n",
        "    # Get a list of all conda environments on the system\n",
        "    output = subprocess.run([\"conda\", \"env\", \"list\"], capture_output=True)\n",
        "    envs = output.stdout.decode().split(\"\\n\")\n",
        "\n",
        "    # Find the path of the environment\n",
        "    for env in envs:\n",
        "        if name in env:\n",
        "            path = env.split()[-1]\n",
        "            print(f\"The path of the environment '{name}' is {path}\")\n",
        "            return path\n",
        "    else:\n",
        "        print(f\"Environment '{name}' not found.\")\n",
        "        return None\n",
        "\n",
        "\n",
        "\n",
        "try:\n",
        "    proxy,region\n",
        "except NameError:\n",
        "    cb=setProxy()\n",
        "    proxy=cb['proxy']\n",
        "    region=cb['region']\n",
        "    clear_output(wait=True)\n",
        "\n",
        "custom_env_dir = find_conda_env(custom_env_name)\n",
        "\n",
        "base_args = [\n",
        "    'source activate','&&',\n",
        "    f'conda activate {custom_env_dir}','&&',\n",
        "    proxy,'&&'\n",
        "       ]"
      ]
    },
    {
      "cell_type": "markdown",
      "id": "d9eb5f41-4e14-4789-bf98-82fd8d7df6d5",
      "metadata": {},
      "source": [
        "### \u4ece\u6e90\u4ee3\u7801\u7684\u65b9\u5f0f\u5b89\u88c5triton"
      ]
    },
    {
      "cell_type": "code",
      "execution_count": null,
      "id": "fb16b332-9f7e-47ba-ad31-58787c9db902",
      "metadata": {
        "scrolled": true
      },
      "outputs": [],
      "source": [
        "# triton_repo_dir = os.path.join(root_dir,'triton')\n",
        "\n",
        "# if not os.path.exists(triton_repo_dir):\n",
        "#     !cd $root_dir &&\\\n",
        "#     git clone https://github.com/openai/triton.git\n",
        "\n",
        "# !cd $root_dir &&\\\n",
        "# cd triton/python &&\\\n",
        "# pip install cmake &&\\\n",
        "# pip -v install -e ."
      ]
    },
    {
      "cell_type": "markdown",
      "id": "826f655a-689c-4930-bb58-bdad78e89435",
      "metadata": {},
      "source": [
        "### \u901a\u8fc7PIP\u5b89\u88c5triton\u7684\u6700\u65b0nightly release"
      ]
    },
    {
      "cell_type": "code",
      "execution_count": null,
      "id": "8304cca8-d28f-4dcf-904b-c8a715e8d973",
      "metadata": {},
      "outputs": [],
      "source": [
        "!{\" \".join(base_args + ['python -m pip install -U --pre triton'])}"
      ]
    },
    {
      "cell_type": "markdown",
      "id": "bb636268-b393-48f2-81a7-4059b0ab8678",
      "metadata": {},
      "source": [
        "## <i class=\"fa fa-bolt\"></i> \u5b89\u88c5Xformers\u548ctriton"
      ]
    },
    {
      "cell_type": "markdown",
      "id": "dfb660d1-1354-4604-9952-47421f256b5c",
      "metadata": {},
      "source": [
        "\u5927\u5e45\u51cf\u5c11\u8ba1\u7b97\u65f6\u95f4\u548c\u663e\u5b58\u5360\u7528\uff0c\u4ee3\u4ef7\u662f\u751f\u6210\u7684\u56fe\u6bcf\u4e2a\u90fd\u6709\u70b9\u53d8\u5316\uff0c\u5f3a\u70c8\u63a8\u8350\u5b89\u88c5!  \n",
        "\u4f46\u4e0d\u540c\u6838\u5fc3\u4ee3\u53f7\u7684\u663e\u5361\u9700\u8981\u4e0d\u540c\u7684\u7f16\u8bd1\u5305\uff0c\u4e0d\u80fd\u6df7\u7528  \n",
        "\u5f53\u7136\u6b64\u7b14\u8bb0\u4f1a\u5e2e\u4f60\u81ea\u52a8\u68c0\u6d4b\u8fd9\u53f0\u673a\u5668\u662f\u5426\u9002\u5408\u5b89\u88c5\uff0c\u800c\u4e14\u4f1a\u81ea\u52a8\u5e2e\u4f60\u5b89\u88c5\u5408\u9002\u7684\u7f16\u8bd1\u5305"
      ]
    },
    {
      "cell_type": "markdown",
      "id": "83adc99b-bea1-4e9f-9153-2cbcc281e14b",
      "metadata": {},
      "source": [
        "### \u4ece\u6e90\u4ee3\u7801\u7684\u65b9\u5f0f\u5b89\u88c5Xformers"
      ]
    },
    {
      "cell_type": "code",
      "execution_count": null,
      "id": "16a8be98-7ca6-4788-b691-53f1086e3363",
      "metadata": {
        "scrolled": true
      },
      "outputs": [],
      "source": [
        "import subprocess,os,time\n",
        "'''\n",
        "\u6267\u884c!python -m xformers.info\u547d\u4ee4\u4f1a\u8fd4\u56de\u7c7b\u4f3c\u4ee5\u4e0b\u683c\u5f0f\u7684\u4fe1\u606f\uff0c\u8bf7\u53c2\u8003\n",
        "\n",
        "xFormers 0.0.16+bc08bbc.d20230122\n",
        "memory_efficient_attention.cutlassF:               available\n",
        "memory_efficient_attention.cutlassB:               available\n",
        "memory_efficient_attention.flshattF:               available\n",
        "memory_efficient_attention.flshattB:               available\n",
        "memory_efficient_attention.smallkF:                available\n",
        "memory_efficient_attention.smallkB:                available\n",
        "memory_efficient_attention.tritonflashattF:        available\n",
        "memory_efficient_attention.tritonflashattB:        available\n",
        "swiglu.fused.p.cpp:                                available\n",
        "is_triton_available:                               True\n",
        "is_functorch_available:                            False\n",
        "pytorch.version:                                   1.12.1+cu113\n",
        "pytorch.cuda:                                      available\n",
        "gpu.compute_capability:                            8.6\n",
        "gpu.name:                                          NVIDIA GeForce RTX 3090\n",
        "build.info:                                        available\n",
        "build.cuda_version:                                1103\n",
        "build.python_version:                              3.8.13\n",
        "build.torch_version:                               1.12.1+cu113\n",
        "build.env.TORCH_CUDA_ARCH_LIST:                    None\n",
        "build.env.XFORMERS_BUILD_TYPE:                     None\n",
        "build.env.XFORMERS_ENABLE_DEBUG_ASSERTIONS:        None\n",
        "build.env.NVCC_FLAGS:                              None\n",
        "build.env.XFORMERS_PACKAGE_FROM:                   None\n",
        "source.privacy:                                    open source\n",
        "'''\n",
        "\n",
        "def get_python_version_and_parse():\n",
        "    # Get the current python version\n",
        "    version = subprocess.run(['python', '-V'], stdout=subprocess.PIPE).stdout.decode().strip()\n",
        "    version = version.split(' ')[1]\n",
        "    major, minor, patch = version.split('.')\n",
        "    # formatted_version = f'cp{major}{minor[0]}{patch[0]}'\n",
        "    formatted_version = f'cp{major}{minor[0]}'\n",
        "    return formatted_version\n",
        "\n",
        "\n",
        "def get_xformers_info():\n",
        "    get_xformers_info_args = base_args[:]\n",
        "    get_xformers_info_args += [\n",
        "        # f'cd {comfyUIDir}','&&',\n",
        "        # 'git pull','&&',\n",
        "        # 'git checkout d8f8bcb','&&'\n",
        "        'python -V',\n",
        "        '&&',\n",
        "        # 'conda config --append channels conda-forge','&&',\n",
        "        # 'conda install --yes --file requirements.txt','&&',\n",
        "        'python -m xformers.info'\n",
        "    ]\n",
        "    get_xformers_info_cmd = (\" \").join(get_xformers_info_args)\n",
        "    print(get_xformers_info_cmd)\n",
        "    output = !$get_xformers_info_cmd\n",
        "    output = '\\n'.join(output)\n",
        "    info = {}\n",
        "    for line in output.strip().split('\\n'):\n",
        "        if ':' in line:\n",
        "            key, value = line.split(':', 1)\n",
        "            info[key.strip()] = value.strip()\n",
        "    return info\n",
        "\n",
        "def check_xformers_info(validate_rules):\n",
        "    info = get_xformers_info()\n",
        "    print((\" \").join(info))\n",
        "    for key, value in validate_rules.items():\n",
        "        if info.get(key) != value:\n",
        "            if isinstance(value, bool):\n",
        "                if str(value) != info.get(key):\n",
        "                    return False\n",
        "            else:\n",
        "                return False\n",
        "    return True\n",
        "\n",
        "import re\n",
        "\n",
        "def find_xformers_whl_and_install(root):\n",
        "    py_short_ver = get_python_version_and_parse()\n",
        "    whl_name = f'xformers*{py_short_ver}*.whl'\n",
        "    whl_path_list = !find $root -name $whl_name\n",
        "    whl_path_list = list(filter(lambda x: x.endswith('.whl'), whl_path_list))\n",
        "    if whl_path_list:\n",
        "        whl_path_list = sorted(whl_path_list, key=lambda x: [int(d) if d.isdigit() else d for d in re.split(r'(\\d+)', x)])\n",
        "        whl_path = whl_path_list[-1]\n",
        "        !{\" \".join(base_args + [f'pip install {whl_path}'])}\n",
        "        return whl_path\n",
        "    else:\n",
        "        return None\n",
        "\n",
        "validate_rules = {\n",
        "    'is_triton_available': True,\n",
        "    'pytorch.cuda': 'available',\n",
        "}\n",
        "\n",
        "# \u9996\u5148\u5224\u65ad\u672c\u673a\u662f\u5426\u5df2\u7ecf\u5b89\u88c5\u4e86\u53ef\u4ee5\u8fd0\u884c\u7684Xformers\n",
        "\n",
        "if check_xformers_info(validate_rules):\n",
        "    print('Xformers\u53ef\u4ee5\u6b63\u5e38\u8fd0\u884c\uff0c\u65e0\u9700\u53e6\u5916\u5b89\u88c5\u6216\u7f16\u8bd1')\n",
        "else:\n",
        "    # \u5bfb\u627eXformers\u9884\u7f16\u8bd1wheel\uff0c\u5e76\u5b89\u88c5\u8fd4\u56de\u5217\u8868\u4e2d\u7684\u7b2c\u4e00\u4e2awheel\n",
        "    for i in range(0, 5):  # \u5728input\u4e2d\u8fdb\u884c\u641c\u7d22\n",
        "        whl_path = find_xformers_whl_and_install(f'/input{i}')\n",
        "        if whl_path:\n",
        "            break\n",
        "        else:\n",
        "            continue\n",
        "    "
      ]
    },
    {
      "cell_type": "code",
      "execution_count": null,
      "id": "a2b66506-0c02-4968-a374-a88e9c357729",
      "metadata": {
        "scrolled": true
      },
      "outputs": [],
      "source": [
        "# # \u5b89\u88c5\u5b8c\u518d\u6b21\u9a8c\u8bc1Xformers\u662f\u5426\u80fd\u6b63\u5e38\u8fd0\u4f5c\uff1a\n",
        "# if check_xformers_info(validate_rules):\n",
        "#     print(f'\u5b89\u88c5\u540e\u53ef\u4ee5\u6b63\u5e38\u8fd0\u884c\uff0c\u65e0\u9700\u91cd\u65b0\u7f16\u8bd1')\n",
        "# else:\n",
        "#     print('\u9700\u8981\u5728\u672c\u673a\u8fdb\u884cXformers\u7684\u7f16\u8bd1')\n",
        "#     # (Optional) Makes the build much faster\n",
        "#     !pip install ninja\n",
        "#     # Set TORCH_CUDA_ARCH_LIST if running and building on different GPU types\n",
        "#     # !pip install -v -U git+https://github.com/facebookresearch/xformers.git@main#egg=xformers\n",
        "\n",
        "#     xformers_repo_dir = os.path.join(root_dir,'xformers')\n",
        "\n",
        "#     if not os.path.exists(xformers_repo_dir):\n",
        "#         !cd $root_dir &&\\\n",
        "#         git clone https://github.com/facebookresearch/xformers.git\n",
        "\n",
        "#     # \u8bb0\u5f55\u4e00\u6b21\u7f16\u8bd1\u6240\u9700\u8017\u65f6\u4e3a 6m 17.51s\n",
        "#     !cd $root_dir &&\\\n",
        "#     cd xformers &&\\\n",
        "#     git show-ref main &&\\\n",
        "#     git symbolic-ref -q HEAD &&\\\n",
        "#     git submodule update --init --recursive -q &&\\\n",
        "#     python setup.py egg_info &&\\\n",
        "#     cd xformers.egg-info &&\\\n",
        "#     pip install -r requires.txt &&\\\n",
        "#     cd .. &&\\\n",
        "#     git rev-parse HEAD &&\\\n",
        "#     python setup.py bdist_wheel\n",
        "\n",
        "#     # \u5b89\u88c5\u5b8c\u6210\u540e\uff0c\u627e\u5230\u5bf9\u5e94\u7684whl\uff0c\u4f7f\u7528pip\u8fdb\u884c\u5b89\u88c5\n",
        "#     find_xformers_whl_and_install('/')"
      ]
    },
    {
      "cell_type": "markdown",
      "id": "3e392e78-580b-4d14-9fd7-26bcb2fdca7e",
      "metadata": {},
      "source": [
        "## <i class=\"fa fa-download\"></i> \u66f4\u65b0\u672c\u4f53\u4e0e\u73af\u5883"
      ]
    },
    {
      "cell_type": "markdown",
      "id": "6545b20b-dd16-4c0b-ac59-a31398cd7f28",
      "metadata": {},
      "source": [
        "\u66f4\u65b0ComfyUI\u672c\u4f53\u4e0e\u73af\u5883\u547d\u4ee4"
      ]
    },
    {
      "cell_type": "code",
      "execution_count": null,
      "id": "0b241f44-0787-4838-a159-553dd667a192",
      "metadata": {},
      "outputs": [],
      "source": [
        "comfyUIDir = os.path.join(root_dir,'ComfyUI')"
      ]
    },
    {
      "cell_type": "code",
      "execution_count": null,
      "id": "d7c84343-104b-4d97-bad4-66f37b14c3cc",
      "metadata": {
        "scrolled": true
      },
      "outputs": [],
      "source": [
        "from IPython.display import display,clear_output\n",
        "clear_output()\n",
        "import ipywidgets as widgets\n",
        "from func.env import setProxy\n",
        "\n",
        "debugging=False\n",
        "\n",
        "alertBtn = widgets.Button(\n",
        "    value=False,\n",
        "    description='',\n",
        "    disabled=False,\n",
        "    button_style='', # 'success', 'info', 'warning', 'danger' or ''\n",
        "    tooltip='',\n",
        "    icon='' # (FontAwesome names without the `fa-` prefix)\n",
        ")\n",
        "\n",
        "\n",
        "display(alertBtn)\n",
        "    \n",
        "if os.path.exists(comfyUIDir):\n",
        "    \n",
        "    alertBtn.description='\u6b63\u5728\u66f4\u65b0...'\n",
        "    alertBtn.button_style='warning'\n",
        "    alertBtn.icon='upload'\n",
        "    \n",
        "    update_sd_webui_args = base_args[:]\n",
        "    update_sd_webui_args += [\n",
        "        f'cd {comfyUIDir}','&&',\n",
        "        'git pull','&&',\n",
        "        # 'git checkout d8f8bcb','&&'\n",
        "        'python -V',\n",
        "        '&&',\n",
        "        # 'conda config --append channels conda-forge','&&',\n",
        "        # 'conda install --yes --file requirements.txt','&&',\n",
        "        'python -m pip install -r requirements.txt --user'\n",
        "    ]\n",
        "    update_sd_webui_cmd = (\" \").join(update_sd_webui_args)\n",
        "    print(update_sd_webui_cmd)\n",
        "    !$update_sd_webui_cmd\n",
        "\n",
        "    if debugging==False:\n",
        "        # clear_output()\n",
        "        display(alertBtn)\n",
        "    \n",
        "    alertBtn.description='\u66f4\u65b0\u5b8c\u6210!'\n",
        "    alertBtn.button_style='success'\n",
        "    alertBtn.icon='check'\n",
        "\n",
        "else:\n",
        "    alertBtn.description='\u5b89\u88c5ComfyUI...'\n",
        "    alertBtn.button_style='info'\n",
        "    alertBtn.icon='download'\n",
        "    sd_webui_download_args = base_args[:]\n",
        "    sd_webui_download_args += [\n",
        "        f'cd {root_dir}','&&',\n",
        "        'git clone https://github.com/comfyanonymous/ComfyUI',\n",
        "        '&&',\n",
        "        'cd ComfyUI','&&',\n",
        "        # 'git checkout d8f8bcb','&&'\n",
        "        'python -V',\n",
        "        '&&',\n",
        "        # 'conda config --append channels conda-forge','&&',\n",
        "        # 'conda install --yes --file requirements.txt','&&',\n",
        "        'python -m pip install -r requirements.txt --user'\n",
        "    ]\n",
        "    sd_webui_download_cmd = (\" \").join(sd_webui_download_args)\n",
        "    print(sd_webui_download_cmd)\n",
        "    !$sd_webui_download_cmd\n",
        "    \n",
        "#     r = !source activate &&\\\n",
        "#     conda activate py3.10.6 &&\\\n",
        "#     $proxy &&\\\n",
        "#     cd $comfyUIDir &&\\\n",
        "#     git pull &&\\\n",
        "#     python -V &&\\\n",
        "#     python -m pip install -r requirements.txt\n",
        "\n",
        "#     display(r)\n",
        "    \n",
        "#     if 'Already up to date.' in r:\n",
        "#         alertBtn.description='\u66f4\u65b0\u5b8c\u6210!'\n",
        "#         alertBtn.button_style='success'\n",
        "#         alertBtn.icon='check'\n",
        "#     else:\n",
        "#         alertBtn.description='\u66f4\u65b0\u5931\u8d25!'\n",
        "#         alertBtn.button_style='danger'\n",
        "#         alertBtn.icon='exclamation'\n",
        "\n",
        "\n",
        "# clear_output(wait=True)"
      ]
    },
    {
      "cell_type": "code",
      "execution_count": null,
      "id": "d1057c24-d2d6-406f-a064-4550a89ea655",
      "metadata": {
        "scrolled": true
      },
      "outputs": [],
      "source": [
        "!{\" \".join(base_args + ['pip install transformers --upgrade --user'])}"
      ]
    },
    {
      "cell_type": "markdown",
      "id": "905de240-4fb6-4e9a-8084-92ec63473a6a",
      "metadata": {},
      "source": [
        "## \u4ea4\u4ee3\u6302\u8f7d\u65b9\u5f0f\uff1a\u590d\u5236or\u521b\u5efa\u8f6f\u8fde\u63a5"
      ]
    },
    {
      "cell_type": "code",
      "execution_count": null,
      "id": "c84c48d7-abe4-44a7-af57-4019518025dd",
      "metadata": {},
      "outputs": [],
      "source": [
        "%cd $repo_root_dir\n",
        "%run ./nbfunc/hub.ipynb\n",
        "copy_or_mount = True # True\u610f\u5473\u7740\u53ea\u521b\u5efa\u7b26\u53f7\u8fde\u63a5"
      ]
    },
    {
      "cell_type": "markdown",
      "id": "b33c214b-3a50-4980-8e63-e06e796cbac4",
      "metadata": {},
      "source": [
        "# \u5b89\u88c5\u81ea\u5b9a\u4e49\u8282\u70b9"
      ]
    },
    {
      "cell_type": "markdown",
      "id": "b224635d-08b4-4979-a332-73d7d544480b",
      "metadata": {},
      "source": [
        "## ControlNet\u9884\u5904\u7406\u5668\u8282\u70b9"
      ]
    },
    {
      "cell_type": "code",
      "execution_count": null,
      "id": "83ad1c5c-436a-4f55-b030-ecdf2e53e54d",
      "metadata": {},
      "outputs": [],
      "source": [
        "custom_nodes_dir = os.path.join(comfyUIDir,'./custom_nodes')\n",
        "ccp_dir = os.path.join(custom_nodes_dir,'./comfy_controlnet_preprocessors')\n",
        "\n",
        "# dep_install_cmd = (' ').join(base_args[:] + [\n",
        "#     f'conda install -r {custom_nodes_dir}/requirements.txt --extra-index-url https://download.pytorch.org/whl/cu117 --no-warn-script-location'\n",
        "# ])\n",
        "                   \n",
        "# !$dep_install_cmd\n",
        "\n",
        "mmcv_dir = os.path.join(root_dir,'./mmcv')\n",
        "\n",
        "if not os.path.exists(mmcv_dir):\n",
        "    clone_mvcc_cmd = (' ').join(base_args[:] + [\n",
        "        f'cd {root_dir}','&&',\n",
        "        'git clone https://github.com/open-mmlab/mmcv.git'\n",
        "    ])\n",
        "    !$clone_mvcc_cmd\n",
        "\n",
        "mvcc_install_cmd = (' ').join(base_args[:] + [\n",
        "    f'cd {mmcv_dir}','&&',\n",
        "    'pip install -e . --user'\n",
        "])\n",
        "!$mvcc_install_cmd\n",
        "\n",
        "clone_ccp_cmd = (' ').join(base_args[:]+[\n",
        "    f'cd {custom_nodes_dir}','&&',\n",
        "    'git clone https://github.com/Fannovel16/comfy_controlnet_preprocessors'\n",
        "])\n",
        "\n",
        "!$clone_ccp_cmd\n",
        "\n",
        "if os.path.exists(ccp_dir):\n",
        "    # \u6a21\u578b\n",
        "    models = [\n",
        "        ('dpt_hybrid-midas-501f0c75.pt', './'),  # midas\u6a21\u578b\n",
        "        ('res101.pth', './'),  # res101.pth\u6a21\u578b\n",
        "        ('network-bsds500.pth', './'),  # hed\u6a21\u578b\n",
        "        ('mlsd_large_512_fp32.pth', './'),  # mlsd\u6a21\u578b\n",
        "        ('body_pose_model.pth', './'),  # body_pose_model\u6a21\u578b\n",
        "        ('hand_pose_model.pth', './'),  # hand_pose_model\u6a21\u578b\n",
        "        ('upernet_global_small.pth', './'),  # Segmentation\u7684preprocessor\u6a21\u578b\n",
        "        ('table5_pidinet.pth', './pidinet')\n",
        "    ]\n",
        "\n",
        "    # \u904d\u5386\u6a21\u578b\u5217\u8868\u5e76\u521b\u5efa\u7b26\u53f7\u94fe\u63a5\n",
        "    for model, directory in models:\n",
        "        check_model_and_make_symbollink_general(model, os.path.join('./ckpts',directory), copy_or_mount, ccp_dir)\n",
        "    \n",
        "install_cmd = (' ').join(base_args[:] + [\n",
        "    f'cd {ccp_dir}','&&',\n",
        "    'pip uninstall opencv-python -y','&&',\n",
        "    'pip install opencv-python --user','&&',\n",
        "    'conda install opencv -y','&&',\n",
        "    'python -V','&&',\n",
        "    'pwd','&&'\n",
        "    'python install.py'\n",
        "])\n",
        "\n",
        "print(install_cmd)\n",
        "\n",
        "!$install_cmd"
      ]
    },
    {
      "cell_type": "markdown",
      "id": "680e4da1-af79-457e-ba6b-92120790e405",
      "metadata": {},
      "source": [
        "# \u6302\u8f7d\u5404\u7c7b\u5230ComfyUI\u6a21\u578b\u6587\u4ef6\u5939"
      ]
    },
    {
      "cell_type": "markdown",
      "id": "f195bdd5-3532-4345-a505-bc917736bc41",
      "metadata": {},
      "source": [
        "## \u6302\u8f7d.ckpt\u6216.safetensors"
      ]
    },
    {
      "cell_type": "code",
      "execution_count": null,
      "id": "6906dc77-012f-4ad5-88d8-1941cfbb1de6",
      "metadata": {},
      "outputs": [],
      "source": [
        "import yaml\n",
        "\n",
        "def read_yaml_file(file_path):\n",
        "    with open(file_path, 'r') as f:\n",
        "        yaml_data = yaml.safe_load(f)\n",
        "    return yaml_data\n",
        "\n",
        "# \u8c03\u7528\u51fd\u6570\u5e76\u4f20\u5165YAML\u6587\u4ef6\u8def\u5f84\n",
        "models_yaml_path = os.path.join(repo_root_dir,'./configs/models_list/models.yaml')\n",
        "models_list = read_yaml_file(models_yaml_path)"
      ]
    },
    {
      "cell_type": "code",
      "execution_count": null,
      "id": "2e96630c-c3c7-4c87-8016-f544b0a5c62b",
      "metadata": {},
      "outputs": [],
      "source": [
        "# Stable-diffusion \u6a21\u578b\n",
        "sd_models = models_list['sd_models']\n",
        "\n",
        "# \u904d\u5386\u6a21\u578b\u5217\u8868\u5e76\u521b\u5efa\u7b26\u53f7\u94fe\u63a5\n",
        "for model in sd_models:\n",
        "    check_model_and_make_symbollink_general(model, './models/checkpoints', copy_or_mount,comfyUIDir)\n",
        "\n",
        "# VAE\u6a21\u578b\n",
        "vae_models = models_list['vae_models']\n",
        "\n",
        "# \u904d\u5386\u6a21\u578b\u5217\u8868\u5e76\u521b\u5efa\u7b26\u53f7\u94fe\u63a5\n",
        "for model in vae_models:\n",
        "    check_model_and_make_symbollink_general(model, './models/vae', copy_or_mount,comfyUIDir)"
      ]
    },
    {
      "cell_type": "markdown",
      "id": "ab85bfc6-63f4-4693-9b2d-2fb5acce90ce",
      "metadata": {},
      "source": [
        "# \u6302\u8f7dCLIP\u6a21\u578b"
      ]
    },
    {
      "cell_type": "markdown",
      "id": "4d91d500-e0f7-41bd-93d2-b025a648cbb9",
      "metadata": {},
      "source": [
        "## ViT-L\u6a21\u578b"
      ]
    },
    {
      "cell_type": "code",
      "execution_count": null,
      "id": "82e109f6-d86b-4683-9ce0-8f5de12099fe",
      "metadata": {},
      "outputs": [],
      "source": [
        "import os\n",
        "\n",
        "# torch_hub_checkpoints_dir = os.path.abspath(os.path.join(root_dir,'.torch/hub/checkpoints/'))\n",
        "# print(torch_hub_checkpoints_dir)\n",
        "\n",
        "# \u8be5\u6a21\u578b\u7684\u4e0b\u8f7d\u5730\u5740\u4e3a\uff1ahttps://storage.googleapis.com/sfr-vision-language-research/BLIP/models/model_large_caption.pth\n",
        "check_model_and_make_symbollink_general('model_large_caption.pth','.torch/hub/checkpoints/',copy_or_mount,root_dir)\n",
        "\n",
        "# Clip-Interrogator \u6a21\u578b\n",
        "vit_models = [\n",
        "    'ViT-L-14_openai_artists.safetensors',\n",
        "    'ViT-L-14_openai_flavors.safetensors',\n",
        "    'ViT-L-14_openai_mediums.safetensors',\n",
        "    'ViT-L-14_openai_movements.safetensors',\n",
        "    'ViT-L-14_openai_negative.safetensors',\n",
        "    'ViT-L-14_openai_trendings.safetensors',\n",
        "    # BLIP\n",
        "    'model_base_caption_capfilt_large.pth',\n",
        "    'ViT-L-14.pt',\n",
        "    'ViT-B-16.pt',\n",
        "    # Deepbooru\u6a21\u578b\n",
        "    'model-resnet_custom_v3.pt'\n",
        "]\n",
        "\n",
        "# \u904d\u5386\u6a21\u578b\u5217\u8868\u5e76\u521b\u5efa\u7b26\u53f7\u94fe\u63a5\n",
        "for model in vit_models:\n",
        "    check_model_and_make_symbollink_general(model, './models/clip', copy_or_mount, comfyUIDir)"
      ]
    },
    {
      "cell_type": "markdown",
      "id": "8a7759e5-e1d7-4bfe-a5cf-15b184ee4618",
      "metadata": {},
      "source": [
        "## \u6302\u8f7dTI\u00b7Embedding"
      ]
    },
    {
      "cell_type": "code",
      "execution_count": null,
      "id": "7c217df4-5e90-456d-b182-b60d24593d7a",
      "metadata": {},
      "outputs": [],
      "source": [
        "# \u5d4c\u5165\u6a21\u578b\n",
        "embeddings = models_list['embeddings']\n",
        "\n",
        "# \u904d\u5386\u6a21\u578b\u5217\u8868\u5e76\u521b\u5efa\u7b26\u53f7\u94fe\u63a5\n",
        "for model in embeddings:\n",
        "    check_model_and_make_symbollink_general(model, './models/embeddings', copy_or_mount, comfyUIDir)"
      ]
    },
    {
      "cell_type": "markdown",
      "id": "5f910188-6117-42a2-814a-3ffc2847458a",
      "metadata": {},
      "source": [
        "# \u6302\u8f7dLoRA\u6a21\u578b"
      ]
    },
    {
      "cell_type": "code",
      "execution_count": null,
      "id": "12ac8b21-ed6e-44e8-a224-5e747c3e221e",
      "metadata": {},
      "outputs": [],
      "source": [
        "import os\n",
        "\n",
        "def create_model_with_thumbnail(model_name, models_dir, use_symlink, repo_dir):\n",
        "    #\u5148\u590d\u5236LoRA\u6a21\u578b\n",
        "    input_dir = check_model_and_make_symbollink_general(model_name, models_dir, use_symlink, repo_dir)\n",
        "    \n",
        "    if input_dir:\n",
        "        file_name, ext = os.path.splitext(model_name)\n",
        "        thumbnail_name = file_name + '.png'\n",
        "        thumbnail_path = os.path.join(input_dir, thumbnail_name)\n",
        "\n",
        "        thumbnail_exts = ['png', 'jpg', 'jpeg', 'bmp', 'gif']\n",
        "        for ext in thumbnail_exts:\n",
        "            thumbnail_name = file_name + '.' + ext\n",
        "            thumbnail_path = os.path.join(input_dir, thumbnail_name)\n",
        "            if os.path.exists(thumbnail_path):\n",
        "                print(f'\u627e\u5230\u7f29\u7565\u56fe\uff1a{thumbnail_name}')\n",
        "                # \u518d\u590d\u5236\u7f29\u7565\u56fe\n",
        "                check_model_and_make_symbollink_general(thumbnail_name, models_dir, use_symlink, repo_dir)\n",
        "                return\n",
        "        print('\u672a\u627e\u5230\u7f29\u7565\u56fe')\n",
        "\n",
        "SD_orig_Lora_dir = './models/loras'\n",
        "# Additional_Networks_Lora_dir = './extensions/sd-webui-additional-networks/models/lora'\n",
        "\n",
        "# create_symlink(\n",
        "#     source_path = os.path.abspath(os.path.join(webUIDir,SD_orig_Lora_dir)),\n",
        "#     symlink_path = os.path.abspath(os.path.join(webUIDir,Additional_Networks_Lora_dir)),\n",
        "# )\n",
        "\n",
        "for i in [SD_orig_Lora_dir]:\n",
        "    # \u6a21\u578b\n",
        "    LoRA_models = models_list['LoRA_models']\n",
        "\n",
        "    # \u904d\u5386\u6a21\u578b\u5217\u8868\u5e76\u521b\u5efa\u6a21\u578b\n",
        "    for model in LoRA_models:\n",
        "        create_model_with_thumbnail(model, i, copy_or_mount,comfyUIDir)"
      ]
    },
    {
      "cell_type": "markdown",
      "id": "7209891a-ec35-43a3-908d-3b64dbfa0ef7",
      "metadata": {},
      "source": [
        "### Upscale\u6a21\u578b"
      ]
    },
    {
      "cell_type": "code",
      "execution_count": null,
      "id": "68dfcf1f-1497-4c64-8b7e-c16bb3ed08ca",
      "metadata": {},
      "outputs": [],
      "source": [
        "models_to_check = [\n",
        "    'SwinIR_4x.pth',\n",
        "    'RealESRGAN_x4plus.pth',\n",
        "    'BSRGAN.pth',\n",
        "    '4x_foolhardy_Remacri.pth',\n",
        "    'ESRGAN_4x.pth'\n",
        "]\n",
        "\n",
        "for model in models_to_check:\n",
        "    check_model_and_make_symbollink_general(model, './models/upscale_models', copy_or_mount, comfyUIDir)"
      ]
    },
    {
      "cell_type": "markdown",
      "id": "925fe9d7-9835-4dae-9ded-62cb167cd9ee",
      "metadata": {},
      "source": [
        "## \u90e8\u7f72ControlNet\u6a21\u578b\n",
        "\u89e3\u538bControlNet\u6a21\u578b\u5e76\u5728controlnet\u62d3\u5c55\u7684\u6a21\u578b\u76ee\u5f55\u4e0b\u521b\u5efa\u5bf9\u5e94\u6a21\u578b\u7684\u7b26\u53f7\u94fe\u63a5"
      ]
    },
    {
      "cell_type": "markdown",
      "id": "59b1d7a1-2560-40b8-abd8-ae88af6f61a8",
      "metadata": {},
      "source": [
        "### ControlNet\u7684preprocessors\u6a21\u578b"
      ]
    },
    {
      "cell_type": "code",
      "execution_count": null,
      "id": "0621e752-ca5b-4377-bf3c-5754d28f5e70",
      "metadata": {},
      "outputs": [],
      "source": [
        "# # \u6a21\u578b\n",
        "# models = [\n",
        "#     ('dpt_hybrid-midas-501f0c75.pt', 'midas'),  # midas\u6a21\u578b\n",
        "#     ('res101.pth', 'leres'),  # res101.pth\u6a21\u578b\n",
        "#     ('network-bsds500.pth', 'hed'),  # hed\u6a21\u578b\n",
        "#     ('mlsd_large_512_fp32.pth', 'mlsd'),  # mlsd\u6a21\u578b\n",
        "#     ('body_pose_model.pth', 'openpose'),  # body_pose_model\u6a21\u578b\n",
        "#     ('hand_pose_model.pth', 'openpose'),  # hand_pose_model\u6a21\u578b\n",
        "#     ('upernet_global_small.pth', 'uniformer')  # Segmentation\u7684preprocessor\u6a21\u578b\n",
        "# ]\n",
        "\n",
        "# # \u904d\u5386\u6a21\u578b\u5217\u8868\u5e76\u521b\u5efa\u7b26\u53f7\u94fe\u63a5\n",
        "# for model, directory in models:\n",
        "#     check_model_and_make_symbollink_general(model, f'./extensions/sd-webui-controlnet/annotator/{directory}', copy_or_mount)"
      ]
    },
    {
      "cell_type": "markdown",
      "id": "dcf9e9fe-3c9e-463b-bd1c-1fab1b704f0a",
      "metadata": {},
      "source": [
        "### ControlNet\u7684\u6a21\u578b"
      ]
    },
    {
      "cell_type": "code",
      "execution_count": null,
      "id": "4a13a509-24fb-4b4a-a89f-5636717b856b",
      "metadata": {},
      "outputs": [],
      "source": [
        "# \u6a21\u578b\u540d\u79f0\n",
        "controlnet_models = [\n",
        "    'control_canny-fp16.safetensors',\n",
        "    'control_depth-fp16.safetensors',\n",
        "    'control_hed-fp16.safetensors',\n",
        "    'control_mlsd-fp16.safetensors',\n",
        "    'control_normal-fp16.safetensors',\n",
        "    'control_openpose-fp16.safetensors',\n",
        "    'control_scribble-fp16.safetensors',\n",
        "    'control_seg-fp16.safetensors'\n",
        "]\n",
        "\n",
        "# \u904d\u5386\u6a21\u578b\u540d\u79f0\u5217\u8868\u5e76\u521b\u5efa\u7b26\u53f7\u94fe\u63a5\n",
        "for model_name in controlnet_models:\n",
        "    check_model_and_make_symbollink_general(model_name, './models/controlnet', copy_or_mount,comfyUIDir)"
      ]
    },
    {
      "cell_type": "markdown",
      "id": "c187ad46-aa7a-4ea0-8604-22db10973c1a",
      "metadata": {},
      "source": [
        "### T2I\u6a21\u578b"
      ]
    },
    {
      "cell_type": "code",
      "execution_count": null,
      "id": "6dde32af-1610-4865-83be-d3caa69193d0",
      "metadata": {},
      "outputs": [],
      "source": [
        "# \u6a21\u578b\u540d\u79f0\n",
        "t2i_models = [ \n",
        "    ('t2iadapter_canny_sd14v1.pth', 'sketch_adapter_v14.yaml'), \n",
        "    ('t2iadapter_sketch_sd14v1.pth', 'sketch_adapter_v14.yaml'),\n",
        "    ('t2iadapter_seg_sd14v1.pth', 'image_adapter_v14.yaml'),\n",
        "    ('t2iadapter_keypose_sd14v1.pth', 'image_adapter_v14.yaml'),  \n",
        "    ('t2iadapter_openpose_sd14v1.pth', 'image_adapter_v14.yaml'), \n",
        "    ('t2iadapter_color_sd14v1.pth', 't2iadapter_color_sd14v1.yaml'), \n",
        "    ('t2iadapter_style_sd14v1.pth', 't2iadapter_style_sd14v1.yaml')\n",
        "]\n",
        "\n",
        "def copy_and_rename_yaml(ref_yaml, model_name, target_dir):\n",
        "    \"\"\"\n",
        "    \u590d\u5236\u5e76\u91cd\u547d\u540d\u7ed9\u5b9a\u7684\u914d\u7f6e\u6587\u4ef6\u3002\n",
        "    \u5c06\u6e90\u6587\u4ef6\u590d\u5236\u5230\u76ee\u6807\u76ee\u5f55\uff0c\u91cd\u547d\u540d\u4e3a\u4e0e\u6a21\u578b\u540d\u79f0\u76f8\u540c\u7684\u540d\u79f0\uff08\u4e0d\u5305\u62ec\u6269\u5c55\u540d\uff09\u3002\n",
        "    Args:\n",
        "        ref_yaml (str): \u9700\u8981\u590d\u5236\u7684\u914d\u7f6e\u6587\u4ef6\u7684\u6587\u4ef6\u540d\u3002\n",
        "        model_name (str): \u76ee\u6807\u6a21\u578b\u7684\u540d\u79f0\u3002\n",
        "        target_dir (str): \u76ee\u6807\u76ee\u5f55\u7684\u8def\u5f84\u3002\n",
        "    \"\"\"\n",
        "    # \u4ece ref_yaml \u4e2d\u63d0\u53d6\u6587\u4ef6\u540d\u548c\u6269\u5c55\u540d\n",
        "    ref_name, ref_ext = os.path.splitext(ref_yaml)\n",
        "\n",
        "    # \u6784\u5efa\u76ee\u6807\u6587\u4ef6\u540d\n",
        "    target_name = os.path.splitext(model_name)[0] + ref_ext\n",
        "    target_path = os.path.join(target_dir, target_name)\n",
        "    \n",
        "    # \u68c0\u67e5\u76ee\u6807\u8def\u5f84\u662f\u5426\u5b58\u5728\u76f8\u5e94\u7684\u6587\u4ef6\n",
        "    if os.path.exists(target_path):\n",
        "        print(f\"{target_path} \u5df2\u7ecf\u5b58\u5728,\u8df3\u8fc7\u590d\u5236\")\n",
        "        return\n",
        "    \n",
        "    yaml_path = os.path.join(target_dir, ref_yaml)\n",
        "\n",
        "    # \u590d\u5236\u6e90\u6587\u4ef6\u5e76\u5c06\u5176\u91cd\u547d\u540d\u4e3a\u76ee\u6807\u6587\u4ef6\u540d\n",
        "    shutil.copyfile(yaml_path, target_path)\n",
        "\n",
        "# \u904d\u5386\u6a21\u578b\u540d\u79f0\u5217\u8868\u5e76\u521b\u5efa\u7b26\u53f7\u94fe\u63a5\n",
        "target_dir = os.path.join(comfyUIDir, './models/controlnet')\n",
        "\n",
        "for model_name, ref_yaml in t2i_models:\n",
        "    check_model_and_make_symbollink_general(model_name, target_dir, copy_or_mount, comfyUIDir)\n",
        "    # copy_and_rename_yaml(ref_yaml, model_name, target_dir)"
      ]
    },
    {
      "cell_type": "markdown",
      "id": "671a2026-3792-4f38-94a5-fb0351eb928a",
      "metadata": {},
      "source": [
        "# <i class=\"fa fa-rocket\"></i> \u542f\u52a8Stable-Diffusion-WebUI"
      ]
    },
    {
      "cell_type": "markdown",
      "id": "60088d0c-28ca-4c00-92ee-c38870c728b8",
      "metadata": {
        "id": "kkkkkkkkkkkkkk"
      },
      "source": [
        "### Run ComfyUI with localtunnel (Recommended Way)\n",
        "\n",
        "\n"
      ]
    },
    {
      "cell_type": "code",
      "execution_count": null,
      "id": "a7e5f339-b399-40cd-9a91-438ed117ad1f",
      "metadata": {
        "id": "jjjjjjjjjjjjj"
      },
      "outputs": [],
      "source": [
        "import shutil\n",
        "\n",
        "if shutil.which(\"lt\") is None:\n",
        "    print(\"Installing localtunnel...\")\n",
        "    !npm install -g localtunnel\n",
        "else:\n",
        "    print(\"Localtunnel is already installed.\")\n",
        "\n",
        "import threading\n",
        "import time\n",
        "import socket\n",
        "import os\n",
        "\n",
        "def iframe_thread(port, subdomain):\n",
        "    while True:\n",
        "        time.sleep(0.5)\n",
        "        sock = socket.socket(socket.AF_INET, socket.SOCK_STREAM)\n",
        "        result = sock.connect_ex(('127.0.0.1', port))\n",
        "        if result == 0:\n",
        "            break\n",
        "        sock.close()\n",
        "    print(\"\\nComfyUI finished loading, trying to launch localtunnel (if it gets stuck here localtunnel is having issues)\")\n",
        "    p = subprocess.Popen([\"lt\", \"--port\", \"{}\".format(port), \"--subdomain\", \"{}\".format(subdomain)], stdout=subprocess.PIPE)\n",
        "    for line in p.stdout:\n",
        "        print(line.decode(), end='')\n",
        "\n",
        "\n",
        "port = 8188\n",
        "subdomain = 'logicomfyui'\n",
        "\n",
        "launch_args = base_args[:] + [\n",
        "    f'cd {comfyUIDir}','&&',\n",
        "    'python main.py',\n",
        "    f'--port {port}',\n",
        "    # '--dont-print-server' # \u4f7f\u7528\u8fd9\u4e2aflag\u5c06\u4f1a\u628a\u670d\u52a1\u7aef\u7684\u6253\u5370\u9759\u97f3\n",
        "]\n",
        "\n",
        "launch_cmd = (\" \").join(launch_args)\n",
        "print(launch_cmd)\n",
        "        \n",
        "threading.Thread(target=iframe_thread, daemon=True, args=(port,subdomain)).start()\n",
        "\n",
        "!$launch_cmd\n",
        "# !python main.py --dont-print-server"
      ]
    },
    {
      "cell_type": "code",
      "execution_count": null,
      "id": "d8acfb1f-97e1-42e6-9775-74e93f36f39c",
      "metadata": {},
      "outputs": [],
      "source": []
    }
  ],
  "metadata": {
    "kernelspec": {
      "display_name": "Python 3 (ipykernel)",
      "language": "python",
      "name": "python3"
    },
    "language_info": {
      "codemirror_mode": {
        "name": "ipython",
        "version": 3
      },
      "file_extension": ".py",
      "mimetype": "text/x-python",
      "name": "python",
      "nbconvert_exporter": "python",
      "pygments_lexer": "ipython3",
      "version": "3.8.15"
    },
    "toc-autonumbering": false,
    "toc-showmarkdowntxt": false,
    "toc-showtags": true,
    "vscode": {
      "interpreter": {
        "hash": "369f2c481f4da34e4445cda3fffd2e751bd1c4d706f27375911949ba6bb62e1c"
      }
    }
  },
  "nbformat": 4,
  "nbformat_minor": 5
}