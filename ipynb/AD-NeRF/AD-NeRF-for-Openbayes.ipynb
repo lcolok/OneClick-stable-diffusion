{
  "cells": [
    {
      "cell_type": "markdown",
      "id": "abc714f9-bcb0-4f79-9e48-8881162c2c1c",
      "metadata": {},
      "source": [
        "##  <i class=\"fa fa-spinner\"></i> \u88c5\u8f7d\u81ea\u5b9a\u4e49\u6a21\u5757\n",
        "\u628a\u5f53\u524drepo\u6839\u76ee\u5f55\u52a0\u5165 Python \u641c\u7d22\u6a21\u5757\u7684\u8def\u5f84\u5217\u8868\uff0c\u5e76\u6c42\u5f97\u6839\u76ee\u5f55"
      ]
    },
    {
      "cell_type": "code",
      "execution_count": null,
      "id": "60c2b426-bb81-4c9f-a474-071615a7f070",
      "metadata": {},
      "outputs": [],
      "source": [
        "import os,sys\n",
        "def find_repo_root():\n",
        "    try:\n",
        "        script_path = os.path.abspath('.')\n",
        "    except NameError:\n",
        "        script_path = os.path.abspath(__file__)\n",
        "    result = None\n",
        "    while True:\n",
        "        script_path = os.path.dirname(script_path)\n",
        "        if os.path.isdir(os.path.join(script_path, '.git')):\n",
        "            result = script_path\n",
        "        if script_path == '/':\n",
        "            return result\n",
        "repo_root_dir=find_repo_root()\n",
        "sys.path.append(repo_root_dir)\n",
        "# \u83b7\u53d6repo\u6240\u5728\u7684\u6839\u76ee\u5f55\n",
        "root_dir = os.path.dirname(repo_root_dir)"
      ]
    },
    {
      "cell_type": "markdown",
      "id": "b65e7d25-98fb-464f-a17d-e5b7fbe3e6d4",
      "metadata": {},
      "source": [
        "## <i class=\"fa fa-wrench\"></i> \u5b89\u88c5\u5fc5\u8981\u4f9d\u8d56\u548c\u5de5\u5177"
      ]
    },
    {
      "cell_type": "code",
      "execution_count": null,
      "id": "8f75e625-dc19-4eea-a846-d0be1e2570e1",
      "metadata": {
        "scrolled": true
      },
      "outputs": [],
      "source": [
        "import subprocess\n",
        "\n",
        "libraries_to_install = [\n",
        "\n",
        "]\n",
        "\n",
        "tools_to_install = [\n",
        "    'wget',\n",
        "    'iputils-ping'\n",
        "]\n",
        "\n",
        "installed_libraries = subprocess.run([\"pip\", \"freeze\"], capture_output=True).stdout.decode().split(\"\\n\")\n",
        "\n",
        "# \u5c1d\u8bd5\u5b89\u88c5\u6240\u6709\u672a\u5b89\u88c5\u7684\u5e93\n",
        "for library in libraries_to_install:\n",
        "    if library == \"black[jupyter]\" and any(\"black\" in installed_library for installed_library in installed_libraries):\n",
        "        print(f\"\u3010 {library} \u3011\u5df2\u7ecf\u5b89\u88c5\uff0c\u8df3\u8fc7\u5b89\u88c5\")\n",
        "        continue\n",
        "    elif not any(library in installed_library for installed_library in installed_libraries):\n",
        "        !pip install $library\n",
        "    else:\n",
        "        print(f\"\u3010 {library} \u3011\u5df2\u7ecf\u5b89\u88c5\uff0c\u8df3\u8fc7\u5b89\u88c5\")\n",
        "\n",
        "# \u5c1d\u8bd5\u5b89\u88c5\u6240\u6709\u672a\u5b89\u88c5\u7684\u5de5\u5177\n",
        "update_needed = False\n",
        "for tool in tools_to_install:\n",
        "    exit_code = subprocess.run([\"dpkg\", \"-s\", tool], capture_output=True).returncode\n",
        "    if exit_code != 0:\n",
        "        update_needed = True\n",
        "        break\n",
        "    else:\n",
        "        print(f\"\u3010 {tool} \u3011\u5df2\u7ecf\u5b89\u88c5\uff0c\u8df3\u8fc7\u5b89\u88c5\")\n",
        "if update_needed:\n",
        "    !apt-get update\n",
        "    for tool in tools_to_install:\n",
        "        exit_code = subprocess.run([\"dpkg\", \"-s\", tool], capture_output=True).returncode\n",
        "        if exit_code != 0:\n",
        "            !apt-get install -y $tool"
      ]
    },
    {
      "cell_type": "markdown",
      "id": "587512e2-4654-43f1-a6ec-52e4c7420058",
      "metadata": {},
      "source": [
        "## <i class=\"fa fa-plane-departure\"></i> \u5b66\u672f\u52a0\u901f\n",
        "\u9996\u5148\u8981\u8fdb\u884c\u5b66\u672f\u52a0\u901f\uff0c\u8fd9\u6709\u5229\u4e8e\u62c9\u53d6\u8d44\u6e90\uff0c\u8be6\u60c5\u8bf7\u770b\uff1ahttps://www.autodl.com/docs/network_turbo/  "
      ]
    },
    {
      "cell_type": "code",
      "execution_count": null,
      "id": "3432779c-cafb-41ee-9365-2275045aee11",
      "metadata": {},
      "outputs": [],
      "source": [
        "import sys\n",
        "from func.env import setProxy\n",
        "cb=setProxy()\n",
        "proxy=cb['proxy']\n",
        "region=cb['region']"
      ]
    },
    {
      "cell_type": "markdown",
      "id": "8d24d977-7b33-4db9-b95f-efe1559cfa21",
      "metadata": {},
      "source": [
        "## <i class=\"fa fa-folder-plus\"></i> \u521b\u5efaContent\u6587\u4ef6\u5939\n",
        "\u521b\u5efaContent\u6587\u4ef6\u5939\u6765\u8fd8\u539fColab\u7684\u8fd0\u884c\u73af\u5883\uff0c\u4ee5\u51cf\u5c11\u4ee3\u7801\u603b\u4f53\u4fee\u6539\u91cf"
      ]
    },
    {
      "cell_type": "code",
      "execution_count": null,
      "id": "66efac2e-1613-48f7-8c45-35a997432d06",
      "metadata": {},
      "outputs": [],
      "source": [
        "import os\n",
        "\n",
        "def check_environment(output):\n",
        "    environments = {\n",
        "        \"AutoDL\": {\n",
        "            \"content_path\": \"/root/autodl-tmp/content\",\n",
        "            \"env_name\": \"AutoDL\"\n",
        "        },\n",
        "        \"OpenBayes\": {\n",
        "            \"content_path\": \"/openbayes/home/content\",\n",
        "            \"env_name\": \"OpenBayes\"\n",
        "        }\n",
        "    }\n",
        "    # \u68c0\u67e5\u8f93\u51fa\u662f\u5426\u5305\u542b\u5b57\u7b26\u4e32\"autodl\"\u6216\"openbayes\"\n",
        "    # for i in output:\n",
        "    if \"AutoDL\" in output:\n",
        "        return environments[\"AutoDL\"]\n",
        "    elif \"OpenBayes\" in output:\n",
        "        return environments[\"OpenBayes\"]\n",
        "    # \u5982\u679c\u8f93\u51fa\u4e2d\u6ca1\u6709\u5305\u542b\u4e0a\u8ff0\u5b57\u7b26\u4e32\uff0c\u5219\u8fd4\u56de\u7a7a\u5b57\u5178\n",
        "    return {}\n",
        "\n",
        "\n",
        "def detect_environment():\n",
        "    # \u521d\u59cb\u5316 content_path \u548c env_name \u53d8\u91cf\n",
        "    content_path = None\n",
        "    env_name = None\n",
        "\n",
        "    # \u5c06\u547d\u4ee4\u884c\u5b58\u50a8\u5728\u5217\u8868\u4e2d\n",
        "    commands = [\n",
        "        \"cd /openbayes/home && chmod +x /etc/welcome && /etc/welcome\",\n",
        "        \"chmod +x /etc/autodl-motd && /etc/autodl-motd\"\n",
        "    ]\n",
        "\n",
        "    # \u904d\u5386\u547d\u4ee4\u884c\u5217\u8868\uff0c\u6267\u884c\u547d\u4ee4\u5e76\u5b58\u50a8\u8f93\u51fa\n",
        "    for command in commands:\n",
        "        try:\n",
        "            import subprocess\n",
        "            # \u4f7f\u7528 subprocess \u6a21\u5757\u6267\u884c\u547d\u4ee4\n",
        "            r = subprocess.run(command, shell=True, stdout=subprocess.PIPE)\n",
        "            output = r.stdout\n",
        "            # \u5c06\u8f93\u51fa\u8f6c\u6362\u4e3a\u5b57\u7b26\u4e32\n",
        "            output = output.decode()\n",
        "            # print(output)\n",
        "            result = check_environment(output)\n",
        "            content_path = result[\"content_path\"]\n",
        "            env_name = result[\"env_name\"]\n",
        "            # \u5982\u679c\u68c0\u6d4b\u5230\u73af\u5883\uff0c\u5219\u9000\u51fa\u5faa\u73af\n",
        "            if content_path and env_name:\n",
        "                break\n",
        "        except Exception as e:\n",
        "            # print(\"\u65e0\u6cd5\u6267\u884c\u547d\u4ee4\uff1a\", e)\n",
        "            continue\n",
        "\n",
        "    # \u6253\u5370\u7ed3\u679c\n",
        "    if content_path and env_name:\n",
        "        print(\"\u5f53\u524d\u8fd0\u884c\u73af\u5883\uff1a\", env_name)\n",
        "        print(\"\u5185\u5bb9\u8def\u5f84\uff1a\", content_path)\n",
        "    else:\n",
        "        print(\"\u672a\u68c0\u6d4b\u5230\u5f53\u524d\u8fd0\u884c\u73af\u5883\")\n",
        "        \n",
        "    return {\n",
        "        \"content_path\":content_path,\n",
        "        \"env_name\":env_name\n",
        "    }\n",
        "\n",
        "\n",
        "content_path=detect_environment()[\"content_path\"]\n",
        "# \u5728\u6839\u76ee\u5f55\u4e0b\u521b\u5efaContent\u6587\u4ef6\u5939\n",
        "content_folder = content_path\n",
        "if not os.path.exists(content_folder):\n",
        "    os.makedirs(content_folder)"
      ]
    },
    {
      "cell_type": "code",
      "execution_count": null,
      "id": "27e8a0ff-d69f-493e-907c-4593f288f04b",
      "metadata": {},
      "outputs": [],
      "source": [
        "!cd $content_path &&\\\n",
        "git clone https://github.com/YudongGuo/AD-NeRF"
      ]
    },
    {
      "cell_type": "code",
      "execution_count": null,
      "id": "8273d095-b543-43c4-93d0-2bea892bf03b",
      "metadata": {
        "scrolled": true
      },
      "outputs": [],
      "source": [
        "!cd $content_path &&\\\n",
        "cd AD-NeRF &&\\\n",
        "conda env create -f environment.yml"
      ]
    },
    {
      "cell_type": "code",
      "execution_count": null,
      "id": "7029b978-50ec-4bcb-a55b-ebb1e1aad47a",
      "metadata": {},
      "outputs": [],
      "source": [
        "!cd $content_path &&\\\n",
        "source activate &&\\\n",
        "conda activate adnerf &&\\\n",
        "git clone https://github.com/facebookresearch/pytorch3d.git &&\\\n",
        "cd pytorch3d &&\\\n",
        "pip install -e ."
      ]
    },
    {
      "cell_type": "markdown",
      "id": "f86c49aa-5592-4fcf-b37c-8e48a0896952",
      "metadata": {},
      "source": [
        "## Put \"01_MorphableModel.mat\" to data_util/face_tracking/3DMM/; cd data_util/face_tracking; run"
      ]
    },
    {
      "cell_type": "code",
      "execution_count": null,
      "id": "52d42a10-741d-49e4-8a94-268542bff97c",
      "metadata": {},
      "outputs": [],
      "source": [
        "!cd $content_path &&\\\n",
        "source activate &&\\\n",
        "cd AD-NeRF/data_util/face_tracking/ &&\\\n",
        "python convert_BFM.py"
      ]
    },
    {
      "cell_type": "markdown",
      "id": "72aa6035-4948-4d5d-92cf-95c48e6fedbc",
      "metadata": {},
      "source": [
        "# \u8bad\u7ec3 AD-NeRF"
      ]
    },
    {
      "cell_type": "code",
      "execution_count": null,
      "id": "5b961d4c-13f6-4193-9d14-8d9d37ae88d4",
      "metadata": {},
      "outputs": [],
      "source": [
        "# \u5b9a\u4e49 id \u540d\n",
        "id = 'Obama'"
      ]
    },
    {
      "cell_type": "markdown",
      "id": "8614135b-ba88-4ba7-93a2-696e5750a8cc",
      "metadata": {},
      "source": [
        "## \u6570\u636e\u9884\u5904\u7406"
      ]
    },
    {
      "cell_type": "code",
      "execution_count": null,
      "id": "afac95e7-ef50-420a-84b8-c50ad37ffa57",
      "metadata": {
        "scrolled": true
      },
      "outputs": [],
      "source": [
        "!source activate &&\\\n",
        "conda activate adnerf &&\\\n",
        "cd $content_path &&\\\n",
        "cd AD-NeRF &&\\\n",
        "bash process_data.sh $id"
      ]
    },
    {
      "cell_type": "markdown",
      "id": "013d6c5d-b136-4bda-a8cf-0edab77498e5",
      "metadata": {},
      "source": [
        "## \u8bad\u7ec3\u4e24\u4e2a NeRF\uff08Head-NeRF \u548c Torso-NeRF\uff09"
      ]
    },
    {
      "cell_type": "markdown",
      "id": "217481b0-3c9b-42f2-a32a-6b51401604c9",
      "metadata": {},
      "source": [
        "### \u4f7f\u7528\u547d\u4ee4\u8bad\u7ec3 Head-NeRF"
      ]
    },
    {
      "cell_type": "code",
      "execution_count": null,
      "id": "2f081bc1-3c1d-4013-85e2-535a87ba46b5",
      "metadata": {},
      "outputs": [],
      "source": [
        "!source activate &&\\\n",
        "conda activate adnerf &&\\\n",
        "cd $content_path &&\\\n",
        "cd AD-NeRF &&\\\n",
        "python NeRFs/HeadNeRF/run_nerf.py --config dataset/$id/HeadNeRF_config.txt"
      ]
    },
    {
      "cell_type": "markdown",
      "id": "794c26d5-942e-4b90-a69b-e77cecb9abee",
      "metadata": {},
      "source": [
        "### \u5c06\u6700\u65b0\u7684\u8bad\u7ec3\u6a21\u578b\u4ece `dataset/$id/logs/$id_head` \u590d\u5236\u5230 `dataset/$id/logs/$id_com`"
      ]
    },
    {
      "cell_type": "code",
      "execution_count": null,
      "id": "52072baf-29bd-4973-bb1a-3f728ca81b98",
      "metadata": {},
      "outputs": [],
      "source": [
        "id_head = id + '_head'\n",
        "id_com = id + '_com'\n",
        "\n",
        "!cd $content_path &&\\\n",
        "cd AD-NeRF &&\\\n",
        "cp -r dataset/$id/logs/$id_head/* dataset/$id/logs/$id_com/"
      ]
    },
    {
      "cell_type": "markdown",
      "id": "2aaf3326-645d-4ba9-8910-4d4f433aa9ea",
      "metadata": {},
      "source": [
        "### \u4f7f\u7528\u547d\u4ee4\u8bad\u7ec3 Torso-NeRF"
      ]
    },
    {
      "cell_type": "code",
      "execution_count": null,
      "id": "39dc2845-2f2d-4b94-985e-bff38a1f6d59",
      "metadata": {},
      "outputs": [],
      "source": [
        "!source activate &&\\\n",
        "conda activate adnerf &&\\\n",
        "cd $content_path &&\\\n",
        "cd AD-NeRF &&\\\n",
        "python NeRFs/TorsoNeRF/run_nerf.py --config dataset/$id/TorsoNeRF_config.txt"
      ]
    },
    {
      "cell_type": "markdown",
      "id": "5fd25dd3-1b93-4a6d-a933-45c9c7520dac",
      "metadata": {},
      "source": [
        "# \u8fd0\u884c AD-NeRF \u8fdb\u884c\u6e32\u67d3"
      ]
    },
    {
      "cell_type": "code",
      "execution_count": null,
      "id": "02225837-567f-469c-acd8-5a9a43f4662d",
      "metadata": {},
      "outputs": [],
      "source": [
        "# \u7528\u97f3\u9891\u8f93\u5165\u91cd\u5efa\u539f\u59cb\u89c6\u9891\n",
        "!cd $content_path &&\\\n",
        "cd AD-NeRF &&\\\n",
        "source activate &&\\\n",
        "conda activate adnerf &&\\\n",
        "python NeRFs/TorsoNeRF/run_nerf.py --config dataset/$id/TorsoNeRFTest_config.txt --aud_file=dataset/$id/aud.npy --test_size=300"
      ]
    },
    {
      "cell_type": "code",
      "execution_count": null,
      "id": "73e7ac95-ebdd-4001-9e92-ea9f37d4514a",
      "metadata": {},
      "outputs": [],
      "source": [
        "# \u7528\u53e6\u4e00\u4e2a\u97f3\u9891\u8f93\u5165\u9a71\u52a8\u76ee\u6807\u4eba\u7269\n",
        "\n",
        "!python NeRFs/TorsoNeRF/run_nerf.py --config dataset/$id/TorsoNeRFTest_config.txt --aud_file=${deepspeechfile.npy} --test_size=-1"
      ]
    }
  ],
  "metadata": {
    "kernelspec": {
      "display_name": "Python 3 (ipykernel)",
      "language": "python",
      "name": "python3"
    },
    "language_info": {
      "codemirror_mode": {
        "name": "ipython",
        "version": 3
      },
      "file_extension": ".py",
      "mimetype": "text/x-python",
      "name": "python",
      "nbconvert_exporter": "python",
      "pygments_lexer": "ipython3",
      "version": "3.8.13"
    }
  },
  "nbformat": 4,
  "nbformat_minor": 5
}