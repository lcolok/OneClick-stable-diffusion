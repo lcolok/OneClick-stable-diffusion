{
  "cells": [
    {
      "cell_type": "markdown",
      "id": "5499fb7c-4904-4090-9002-bc78acc2e11f",
      "metadata": {},
      "source": [
        "# \u4e00\u952e\u5b89\u88c5\u62d3\u5c55\n",
        "\u5f25\u8865Stable Diffusion WebUI\u5f00\u542f\u4e86--share\u4e4b\u540e\uff0c\u4e0d\u80fd\u76f4\u63a5\u5728\u5e94\u7528\u4e2d\u8fdb\u884c\u62d3\u5c55\u5b89\u88c5\u7684\u7f3a\u9677"
      ]
    },
    {
      "cell_type": "markdown",
      "id": "e8ece6d4-3423-4815-bff9-e5ed9d3b35d6",
      "metadata": {
        "jp-MarkdownHeadingCollapsed": true,
        "tags": []
      },
      "source": [
        "## <i class=\"fa fa-palette\"></i> \u4e0b\u8f7d\u4e2a\u4eba\u6574\u7406\u7684Style\uff08\u53ef\u9009\uff09"
      ]
    },
    {
      "cell_type": "code",
      "execution_count": null,
      "id": "03beeabc-da55-47bb-95ef-9675127ee7ca",
      "metadata": {
        "tags": []
      },
      "outputs": [],
      "source": [
        "import os,sys\n",
        "sys.path.append('../') # \u628a\u4e0a\u7ea7\u8def\u5f84\u4e5f\u52a0\u5165\u5230\u7cfb\u7edf\u8def\u5f84\u4e2d\uff0c\u8fd9\u6837\u5c31\u80fd\u591f\u627e\u5230func\n",
        "from func.env import setProxy,getWebUIDir,getExtDir,findDir,findFile,getDirSize,styleURL\n",
        "import ipywidgets as widgets\n",
        "from subprocess import getoutput\n",
        "from IPython.display import display,clear_output\n",
        "\n",
        "extDir=getExtDir()\n",
        "webUIDir=getWebUIDir()\n",
        "\n",
        "try:\n",
        "    proxy,region\n",
        "except NameError:\n",
        "    cb=setProxy()\n",
        "    proxy=cb['proxy']\n",
        "    region=cb['region']\n",
        "    clear_output(wait=True)\n",
        "    \n",
        "alertBtn = widgets.Button(\n",
        "    value=False,\n",
        "    description='',\n",
        "    disabled=False,\n",
        "    button_style='', # 'success', 'info', 'warning', 'danger' or ''\n",
        "    tooltip='',\n",
        "    icon='' # (FontAwesome names without the `fa-` prefix)\n",
        ")\n",
        "\n",
        "display(alertBtn)\n",
        "\n",
        "stylesDir = os.path.join(webUIDir, 'styles.csv')\n",
        "if os.path.exists(stylesDir):\n",
        "    alertBtn.description='\u672c\u5730\u5df2\u6709Style\u6587\u4ef6'\n",
        "    alertBtn.button_style='info'\n",
        "    alertBtn.icon='check-circle'\n",
        "else:  \n",
        "    alertBtn.description='\u4e0b\u8f7d\u4e2d...'\n",
        "    alertBtn.button_style='warning'\n",
        "    alertBtn.icon='download'\n",
        "    \n",
        "    stdout = !$proxy &&\\\n",
        "    cd $webUIDir &&\\\n",
        "    wget $styleURL\n",
        "    # print(('\\n').join(stdout))\n",
        "    if '\u2018styles.csv\u2019 saved' in ('\\n').join(stdout):\n",
        "        alertBtn.description='\u4e0b\u8f7d\u5b8c\u6210!'\n",
        "        alertBtn.button_style='success'\n",
        "        alertBtn.icon='check'\n",
        "    else:\n",
        "        alertBtn.description='\u4e0b\u8f7d\u5931\u8d25!'\n",
        "        alertBtn.button_style='danger'\n",
        "        alertBtn.icon='exclamation-triangle'\n",
        "    \n",
        "# clear_output()\n",
        "# widgets.Button(\n",
        "#     value=False,\n",
        "#     description='\u4e0b\u8f7d\u5b8c\u6210!',\n",
        "#     disabled=False,\n",
        "#     button_style='success', # 'success', 'info', 'warning', 'danger' or ''\n",
        "#     tooltip='Description',\n",
        "#     icon='check' # (FontAwesome names without the `fa-` prefix)\n",
        "# )"
      ]
    },
    {
      "cell_type": "markdown",
      "id": "b2b6b189-6748-4b64-a9f5-aa5df2eca3af",
      "metadata": {
        "tags": []
      },
      "source": [
        "## \u5b89\u88c5depthmap2mask\uff08\u6df1\u5ea6\u56fe\u906e\u7f69\uff09\u62d3\u5c55\uff08\u53ef\u9009\uff09"
      ]
    },
    {
      "cell_type": "code",
      "execution_count": null,
      "id": "4d19aa84-c880-436e-a082-4c785f7d97a4",
      "metadata": {
        "tags": []
      },
      "outputs": [],
      "source": [
        "import os,sys\n",
        "sys.path.append('../') # \u628a\u4e0a\u7ea7\u8def\u5f84\u4e5f\u52a0\u5165\u5230\u7cfb\u7edf\u8def\u5f84\u4e2d\uff0c\u8fd9\u6837\u5c31\u80fd\u591f\u627e\u5230func\n",
        "from func.extensionsInstaller import install\n",
        "\n",
        "extURL='https://github.com/Extraltodeus/depthmap2mask'\n",
        "extFileSize=0\n",
        "\n",
        "install(extURL, extFileSize, forceReinstall=True)"
      ]
    },
    {
      "cell_type": "markdown",
      "id": "df58e3fb-1f1b-48a2-8640-97578904cff0",
      "metadata": {},
      "source": [
        "## \u5b89\u88c5\u9ad8\u5206\u8fa8\u7387\u4fee\u590d\u539f\u56fe\u8c03\u8282\u62d3\u5c55\uff08\u53ef\u9009\uff09"
      ]
    },
    {
      "cell_type": "code",
      "execution_count": null,
      "id": "af86bebd-53c3-4e62-ab28-5ff740deb418",
      "metadata": {
        "tags": []
      },
      "outputs": [],
      "source": [
        "import os,sys\n",
        "sys.path.append('../') # \u628a\u4e0a\u7ea7\u8def\u5f84\u4e5f\u52a0\u5165\u5230\u7cfb\u7edf\u8def\u5f84\u4e2d\uff0c\u8fd9\u6837\u5c31\u80fd\u591f\u627e\u5230func\n",
        "from func.extensionsInstaller import install\n",
        "\n",
        "extURL='https://github.com/klimaleksus/stable-diffusion-webui-conditioning-highres-fix'\n",
        "extFileSize=48653\n",
        "\n",
        "install(extURL, extFileSize, forceReinstall=True)"
      ]
    },
    {
      "cell_type": "markdown",
      "id": "f4da2910-02c8-4a18-9569-da8f6d0f54f4",
      "metadata": {
        "tags": []
      },
      "source": [
        "## <i class=\"fa fa-bed\"></i> \u5b89\u88c5Dreambooth\u62d3\u5c55\uff08\u53ef\u9009\uff09"
      ]
    },
    {
      "cell_type": "code",
      "execution_count": null,
      "id": "0e8993e1-9e76-458c-8fd5-f2bf27ee841c",
      "metadata": {
        "tags": []
      },
      "outputs": [],
      "source": [
        "import os,sys\n",
        "sys.path.append('../') # \u628a\u4e0a\u7ea7\u8def\u5f84\u4e5f\u52a0\u5165\u5230\u7cfb\u7edf\u8def\u5f84\u4e2d\uff0c\u8fd9\u6837\u5c31\u80fd\u591f\u627e\u5230func\n",
        "from func.extensionsInstaller import install\n",
        "from urllib.parse import urlparse\n",
        "\n",
        "extURL='https://github.com/d8ahazard/sd_dreambooth_extension'\n",
        "extFileSize=7413077\n",
        "\n",
        "install(extURL, extFileSize, forceReinstall=True)"
      ]
    },
    {
      "cell_type": "markdown",
      "id": "d654dd23-375f-486b-92fd-eaae7986a2b8",
      "metadata": {
        "tags": []
      },
      "source": [
        "## \u5b89\u88c5SD-latent-mirroring\uff08\u955c\u50cf\u6f5c\u7a7a\u95f4\u56fe\u50cf\uff09\u62d3\u5c55\uff08\u53ef\u9009\uff09"
      ]
    },
    {
      "cell_type": "code",
      "execution_count": null,
      "id": "51b17a60-fdfc-4a0a-83a7-441ec260e11d",
      "metadata": {
        "tags": []
      },
      "outputs": [],
      "source": [
        "import os,sys\n",
        "sys.path.append('../') # \u628a\u4e0a\u7ea7\u8def\u5f84\u4e5f\u52a0\u5165\u5230\u7cfb\u7edf\u8def\u5f84\u4e2d\uff0c\u8fd9\u6837\u5c31\u80fd\u591f\u627e\u5230func\n",
        "from func.extensionsInstaller import install\n",
        "from urllib.parse import urlparse\n",
        "\n",
        "extURL='https://github.com/dfaker/SD-latent-mirroring'\n",
        "extFileSize=58979\n",
        "\n",
        "install(extURL, extFileSize, forceReinstall=True)"
      ]
    }
  ],
  "metadata": {
    "kernelspec": {
      "display_name": "Python 3 (ipykernel)",
      "language": "python",
      "name": "python3"
    },
    "language_info": {
      "codemirror_mode": {
        "name": "ipython",
        "version": 3
      },
      "file_extension": ".py",
      "mimetype": "text/x-python",
      "name": "python",
      "nbconvert_exporter": "python",
      "pygments_lexer": "ipython3",
      "version": "3.8.10"
    }
  },
  "nbformat": 4,
  "nbformat_minor": 5
}