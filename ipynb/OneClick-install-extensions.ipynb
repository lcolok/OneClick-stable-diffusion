{
 "cells": [
  {
   "cell_type": "markdown",
   "id": "5499fb7c-4904-4090-9002-bc78acc2e11f",
   "metadata": {},
   "source": [
    "# 一键安装拓展\n",
    "弥补Stable Diffusion WebUI开启了--share之后，不能直接在应用中进行拓展安装的缺陷"
   ]
  },
  {
   "cell_type": "markdown",
   "id": "e8ece6d4-3423-4815-bff9-e5ed9d3b35d6",
   "metadata": {
    "tags": []
   },
   "source": [
    "## <i class=\"fa fa-palette\"></i> 下载个人整理的Style（可选）"
   ]
  },
  {
   "cell_type": "code",
   "execution_count": null,
   "id": "03beeabc-da55-47bb-95ef-9675127ee7ca",
   "metadata": {
    "jupyter": {
     "source_hidden": true
    },
    "tags": []
   },
   "outputs": [],
   "source": [
    "import os,sys\n",
    "sys.path.append('../') # 把上级路径也加入到系统路径中，这样就能够找到func\n",
    "from func.env import setProxy,getWebUIDir,getExtDir,findDir,findFile,getDirSize,styleURL\n",
    "import ipywidgets as widgets\n",
    "from subprocess import getoutput\n",
    "from IPython.display import display,clear_output\n",
    "\n",
    "extDir=getExtDir()\n",
    "webUIDir=getWebUIDir()\n",
    "\n",
    "try:\n",
    "    proxy,region\n",
    "except NameError:\n",
    "    cb=setProxy()\n",
    "    proxy=cb['proxy']\n",
    "    region=cb['region']\n",
    "    clear_output(wait=True)\n",
    "    \n",
    "alertBtn = widgets.Button(\n",
    "    value=False,\n",
    "    description='',\n",
    "    disabled=False,\n",
    "    button_style='', # 'success', 'info', 'warning', 'danger' or ''\n",
    "    tooltip='',\n",
    "    icon='' # (FontAwesome names without the `fa-` prefix)\n",
    ")\n",
    "\n",
    "display(alertBtn)\n",
    "\n",
    "stylesDir = os.path.join(webUIDir, 'styles.csv')\n",
    "if os.path.exists(stylesDir):\n",
    "    alertBtn.description='本地已有Style文件'\n",
    "    alertBtn.button_style='info'\n",
    "    alertBtn.icon='check-circle'\n",
    "else:  \n",
    "    alertBtn.description='下载中...'\n",
    "    alertBtn.button_style='warning'\n",
    "    alertBtn.icon='download'\n",
    "    \n",
    "    stdout = !$proxy &&\\\n",
    "    cd $webUIDir &&\\\n",
    "    wget $styleURL\n",
    "    # print(('\\n').join(stdout))\n",
    "    if '‘styles.csv’ saved' in ('\\n').join(stdout):\n",
    "        alertBtn.description='下载完成!'\n",
    "        alertBtn.button_style='success'\n",
    "        alertBtn.icon='check'\n",
    "    else:\n",
    "        alertBtn.description='下载失败!'\n",
    "        alertBtn.button_style='danger'\n",
    "        alertBtn.icon='exclamation-triangle'\n",
    "    \n",
    "# clear_output()\n",
    "# widgets.Button(\n",
    "#     value=False,\n",
    "#     description='下载完成!',\n",
    "#     disabled=False,\n",
    "#     button_style='success', # 'success', 'info', 'warning', 'danger' or ''\n",
    "#     tooltip='Description',\n",
    "#     icon='check' # (FontAwesome names without the `fa-` prefix)\n",
    "# )"
   ]
  },
  {
   "cell_type": "markdown",
   "id": "b2b6b189-6748-4b64-a9f5-aa5df2eca3af",
   "metadata": {
    "tags": []
   },
   "source": [
    "## 安装depthmap2mask（深度图遮罩）拓展（可选）"
   ]
  },
  {
   "cell_type": "code",
   "execution_count": null,
   "id": "4d19aa84-c880-436e-a082-4c785f7d97a4",
   "metadata": {
    "jupyter": {
     "source_hidden": true
    },
    "tags": []
   },
   "outputs": [],
   "source": [
    "import os,sys\n",
    "sys.path.append('../') # 把上级路径也加入到系统路径中，这样就能够找到func\n",
    "from func.extensionsInstaller import install\n",
    "\n",
    "extURL='https://github.com/Extraltodeus/depthmap2mask'\n",
    "extFileSize=94941\n",
    "\n",
    "install(extURL,extFileSize)"
   ]
  },
  {
   "cell_type": "markdown",
   "id": "df58e3fb-1f1b-48a2-8640-97578904cff0",
   "metadata": {},
   "source": [
    "## 安装高分辨率修复原图调节拓展（可选）"
   ]
  },
  {
   "cell_type": "code",
   "execution_count": null,
   "id": "af86bebd-53c3-4e62-ab28-5ff740deb418",
   "metadata": {
    "jupyter": {
     "source_hidden": true
    },
    "tags": []
   },
   "outputs": [],
   "source": [
    "import os,sys\n",
    "sys.path.append('../') # 把上级路径也加入到系统路径中，这样就能够找到func\n",
    "from func.extensionsInstaller import install\n",
    "\n",
    "extURL='https://github.com/klimaleksus/stable-diffusion-webui-conditioning-highres-fix'\n",
    "extFileSize=48653\n",
    "\n",
    "install(extURL,extFileSize)"
   ]
  },
  {
   "cell_type": "markdown",
   "id": "f4da2910-02c8-4a18-9569-da8f6d0f54f4",
   "metadata": {
    "tags": []
   },
   "source": [
    "## <i class=\"fa fa-bed\"></i> 安装Dreambooth拓展（可选）"
   ]
  },
  {
   "cell_type": "code",
   "execution_count": null,
   "id": "0e8993e1-9e76-458c-8fd5-f2bf27ee841c",
   "metadata": {
    "jupyter": {
     "source_hidden": true
    },
    "tags": []
   },
   "outputs": [],
   "source": [
    "import os,sys\n",
    "sys.path.append('../') # 把上级路径也加入到系统路径中，这样就能够找到func\n",
    "from func.extensionsInstaller import install\n",
    "from urllib.parse import urlparse\n",
    "\n",
    "extURL='https://github.com/d8ahazard/sd_dreambooth_extension'\n",
    "extFileSize=7413077\n",
    "\n",
    "install(extURL,extFileSize)"
   ]
  },
  {
   "cell_type": "markdown",
   "id": "d654dd23-375f-486b-92fd-eaae7986a2b8",
   "metadata": {
    "tags": []
   },
   "source": [
    "## 安装SD-latent-mirroring（镜像潜空间图像）拓展（可选）"
   ]
  },
  {
   "cell_type": "code",
   "execution_count": null,
   "id": "51b17a60-fdfc-4a0a-83a7-441ec260e11d",
   "metadata": {
    "jupyter": {
     "source_hidden": true
    },
    "tags": []
   },
   "outputs": [],
   "source": [
    "import os,sys\n",
    "sys.path.append('../') # 把上级路径也加入到系统路径中，这样就能够找到func\n",
    "from func.extensionsInstaller import install\n",
    "from urllib.parse import urlparse\n",
    "\n",
    "extURL='https://github.com/dfaker/SD-latent-mirroring'\n",
    "extFileSize=58979\n",
    "\n",
    "install(extURL,extFileSize)"
   ]
  }
 ],
 "metadata": {
  "kernelspec": {
   "display_name": "Python 3 (ipykernel)",
   "language": "python",
   "name": "python3"
  },
  "language_info": {
   "codemirror_mode": {
    "name": "ipython",
    "version": 3
   },
   "file_extension": ".py",
   "mimetype": "text/x-python",
   "name": "python",
   "nbconvert_exporter": "python",
   "pygments_lexer": "ipython3",
   "version": "3.8.10"
  }
 },
 "nbformat": 4,
 "nbformat_minor": 5
}
