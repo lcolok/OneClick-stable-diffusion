{
 "cells": [
  {
   "cell_type": "markdown",
   "id": "5499fb7c-4904-4090-9002-bc78acc2e11f",
   "metadata": {},
   "source": [
    "# 一键安装拓展\n",
    "弥补Stable Diffusion WebUI开启了--share之后，不能直接在应用中进行拓展安装的缺陷"
   ]
  },
  {
   "cell_type": "markdown",
   "id": "d32c2021-8d44-4002-b216-78210ac8e9f9",
   "metadata": {
    "tags": []
   },
   "source": [
    "## <i class=\"fa fa-language\"></i> 安装高分辨率修复原图调节拓展（可选）"
   ]
  },
  {
   "cell_type": "code",
   "execution_count": 7,
   "id": "4e6f72cd-63f0-42fb-ab3b-b287759b65e1",
   "metadata": {
    "scrolled": true,
    "tags": []
   },
   "outputs": [
    {
     "data": {
      "application/vnd.jupyter.widget-view+json": {
       "model_id": "",
       "version_major": 2,
       "version_minor": 0
      },
      "text/plain": [
       "Button(description='安装高分辨率修复原图调节拓展', style=ButtonStyle())"
      ]
     },
     "metadata": {},
     "output_type": "display_data"
    }
   ],
   "source": [
    "import os,sys\n",
    "sys.path.append('../') # 把上级路径也加入到系统路径中，这样就能够找到func\n",
    "from func.env import setProxy,webUIDir,extDir,findDir,getDirSize\n",
    "import ipywidgets as widgets\n",
    "from subprocess import getoutput\n",
    "from IPython.display import display,clear_output\n",
    "\n",
    "try:\n",
    "    proxy,region\n",
    "except NameError:\n",
    "    cb=setProxy()\n",
    "    proxy=cb['proxy']\n",
    "    region=cb['region']\n",
    "    clear_output(wait=True)\n",
    "\n",
    "btn = widgets.Button(\n",
    "    value=False,\n",
    "    description='安装高分辨率修复原图调节拓展',\n",
    "    disabled=False,\n",
    "    button_style='', # 'success', 'info', 'warning', 'danger' or ''\n",
    "    # tooltip='Description',\n",
    "    # icon='check' # (FontAwesome names without the `fa-` prefix)\n",
    ")\n",
    "\n",
    "def checkInstalled(zhLocalDir,firstInstall):\n",
    "    fileSize = getDirSize(zhLocalDir)\n",
    "    # print(fileSize)\n",
    "    if fileSize>=48722 :\n",
    "        if firstInstall==True:\n",
    "            btn.description='安装成功!'\n",
    "            btn.button_style='success'\n",
    "            btn.icon='check'\n",
    "        else:\n",
    "            btn.description='已经安装过'\n",
    "            btn.button_style='info'\n",
    "            btn.icon='check-circle'\n",
    "    else:\n",
    "        # !rm -rf {dirpath}\n",
    "        btn.description=\"安装失败\"\n",
    "        btn.button_style='danger'\n",
    "        btn.icon='exclamation-triangle'\n",
    "\n",
    "def install_language_pack(obj):\n",
    "    zhLocalDir = os.path.join(extDir,'stable-diffusion-webui-conditioning-highres-fix')\n",
    "    if os.path.exists(zhLocalDir):\n",
    "        checkInstalled(zhLocalDir,False)\n",
    "    else:\n",
    "        import subprocess\n",
    "        try:\n",
    "            btn.description='安装中...'\n",
    "            btn.button_style='warning'\n",
    "            btn.icon='download'\n",
    "            obj = subprocess.check_call(\n",
    "                f'{proxy} &&\\\n",
    "                cd {extDir} &&\\\n",
    "                git clone https://github.com/klimaleksus/stable-diffusion-webui-conditioning-highres-fix',\n",
    "                shell=True,\n",
    "                universal_newlines=True,\n",
    "                stdin=subprocess.PIPE, stdout=subprocess.PIPE, stderr=subprocess.STDOUT,\n",
    "            )\n",
    "            if obj==0:\n",
    "                checkInstalled(zhLocalDir,True)\n",
    "        except subprocess.CalledProcessError as e:\n",
    "            print(\"Exception on process, rc=\", e.returncode, \"output=\", e.output)\n",
    "\n",
    "# btn.on_click(install_language_pack)\n",
    "display(btn)\n",
    "install_language_pack(btn)"
   ]
  },
  {
   "cell_type": "markdown",
   "id": "e8ece6d4-3423-4815-bff9-e5ed9d3b35d6",
   "metadata": {},
   "source": [
    "## <i class=\"fa fa-palette\"></i> 下载个人整理的Style（可选）"
   ]
  },
  {
   "cell_type": "code",
   "execution_count": 8,
   "id": "03beeabc-da55-47bb-95ef-9675127ee7ca",
   "metadata": {
    "tags": []
   },
   "outputs": [
    {
     "data": {
      "application/vnd.jupyter.widget-view+json": {
       "model_id": "",
       "version_major": 2,
       "version_minor": 0
      },
      "text/plain": [
       "Button(style=ButtonStyle())"
      ]
     },
     "metadata": {},
     "output_type": "display_data"
    }
   ],
   "source": [
    "import os,sys\n",
    "sys.path.append('../') # 把上级路径也加入到系统路径中，这样就能够找到func\n",
    "from func.env import setProxy,webUIDir,extDir,findDir,findFile,getDirSize,styleURL\n",
    "import ipywidgets as widgets\n",
    "from subprocess import getoutput\n",
    "from IPython.display import display,clear_output\n",
    "\n",
    "try:\n",
    "    proxy,region\n",
    "except NameError:\n",
    "    cb=setProxy()\n",
    "    proxy=cb['proxy']\n",
    "    region=cb['region']\n",
    "    clear_output(wait=True)\n",
    "    \n",
    "alertBtn = widgets.Button(\n",
    "    value=False,\n",
    "    description='',\n",
    "    disabled=False,\n",
    "    button_style='', # 'success', 'info', 'warning', 'danger' or ''\n",
    "    tooltip='',\n",
    "    icon='' # (FontAwesome names without the `fa-` prefix)\n",
    ")\n",
    "\n",
    "display(alertBtn)\n",
    "\n",
    "stylesDir = os.path.join(webUIDir, 'styles.csv')\n",
    "if os.path.exists(stylesDir):\n",
    "    alertBtn.description='本地已有Style文件'\n",
    "    alertBtn.button_style='info'\n",
    "    alertBtn.icon='check-circle'\n",
    "else:  \n",
    "    alertBtn.description='下载中...'\n",
    "    alertBtn.button_style='warning'\n",
    "    alertBtn.icon='download'\n",
    "    \n",
    "    stdout = !$proxy &&\\\n",
    "    cd $webUIDir &&\\\n",
    "    wget $styleURL\n",
    "    # print(('\\n').join(stdout))\n",
    "    if '‘styles.csv’ saved' in ('\\n').join(stdout):\n",
    "        alertBtn.description='下载完成!'\n",
    "        alertBtn.button_style='success'\n",
    "        alertBtn.icon='check'\n",
    "    else:\n",
    "        alertBtn.description='下载失败!'\n",
    "        alertBtn.button_style='danger'\n",
    "        alertBtn.icon='exclamation-triangle'\n",
    "    \n",
    "# clear_output()\n",
    "# widgets.Button(\n",
    "#     value=False,\n",
    "#     description='下载完成!',\n",
    "#     disabled=False,\n",
    "#     button_style='success', # 'success', 'info', 'warning', 'danger' or ''\n",
    "#     tooltip='Description',\n",
    "#     icon='check' # (FontAwesome names without the `fa-` prefix)\n",
    "# )"
   ]
  }
 ],
 "metadata": {
  "kernelspec": {
   "display_name": "Python 3 (ipykernel)",
   "language": "python",
   "name": "python3"
  },
  "language_info": {
   "codemirror_mode": {
    "name": "ipython",
    "version": 3
   },
   "file_extension": ".py",
   "mimetype": "text/x-python",
   "name": "python",
   "nbconvert_exporter": "python",
   "pygments_lexer": "ipython3",
   "version": "3.8.10"
  }
 },
 "nbformat": 4,
 "nbformat_minor": 5
}
