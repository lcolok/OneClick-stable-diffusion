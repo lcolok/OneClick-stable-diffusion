{
 "cells": [
  {
   "cell_type": "markdown",
   "id": "0a5f24da-2520-4833-a4fe-2d03f08b8b1d",
   "metadata": {
    "tags": []
   },
   "source": [
    "# <i class=\"fa fa-download\"></i> 更新SD拓展"
   ]
  },
  {
   "cell_type": "markdown",
   "id": "c5cc33b3-6455-4376-ab25-aa14c8d12ceb",
   "metadata": {
    "tags": []
   },
   "source": [
    "更新stable-diffusion-webui/extensions目录下所有拓展"
   ]
  },
  {
   "cell_type": "code",
   "execution_count": null,
   "id": "7ba41f57-ffa5-4e51-80a6-9be9bfd18ed4",
   "metadata": {
    "jupyter": {
     "source_hidden": true
    },
    "tags": []
   },
   "outputs": [],
   "source": [
    "import os,sys\n",
    "sys.path.append('../') # 把上级路径也加入到系统路径中，这样就能够找到func\n",
    "from func.extensionsInstaller import update\n",
    "\n",
    "update()"
   ]
  }
 ],
 "metadata": {
  "kernelspec": {
   "display_name": "Python 3 (ipykernel)",
   "language": "python",
   "name": "python3"
  },
  "language_info": {
   "codemirror_mode": {
    "name": "ipython",
    "version": 3
   },
   "file_extension": ".py",
   "mimetype": "text/x-python",
   "name": "python",
   "nbconvert_exporter": "python",
   "pygments_lexer": "ipython3",
   "version": "3.8.10"
  }
 },
 "nbformat": 4,
 "nbformat_minor": 5
}
