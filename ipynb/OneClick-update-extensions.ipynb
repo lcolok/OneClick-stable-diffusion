{
  "cells": [
    {
      "cell_type": "markdown",
      "id": "0a5f24da-2520-4833-a4fe-2d03f08b8b1d",
      "metadata": {
        "tags": []
      },
      "source": [
        "# <i class=\"fa fa-download\"></i> \u66f4\u65b0SD\u62d3\u5c55"
      ]
    },
    {
      "cell_type": "markdown",
      "id": "c5cc33b3-6455-4376-ab25-aa14c8d12ceb",
      "metadata": {
        "tags": []
      },
      "source": [
        "\u66f4\u65b0stable-diffusion-webui/extensions\u76ee\u5f55\u4e0b\u6240\u6709\u62d3\u5c55"
      ]
    },
    {
      "cell_type": "code",
      "execution_count": null,
      "id": "7ba41f57-ffa5-4e51-80a6-9be9bfd18ed4",
      "metadata": {
        "jupyter": {
          "source_hidden": true
        },
        "tags": []
      },
      "outputs": [],
      "source": [
        "import os,sys\n",
        "sys.path.append('../') # \u628a\u4e0a\u7ea7\u8def\u5f84\u4e5f\u52a0\u5165\u5230\u7cfb\u7edf\u8def\u5f84\u4e2d\uff0c\u8fd9\u6837\u5c31\u80fd\u591f\u627e\u5230func\n",
        "from func.extensionsInstaller import update\n",
        "\n",
        "update()"
      ]
    }
  ],
  "metadata": {
    "kernelspec": {
      "display_name": "Python 3 (ipykernel)",
      "language": "python",
      "name": "python3"
    },
    "language_info": {
      "codemirror_mode": {
        "name": "ipython",
        "version": 3
      },
      "file_extension": ".py",
      "mimetype": "text/x-python",
      "name": "python",
      "nbconvert_exporter": "python",
      "pygments_lexer": "ipython3",
      "version": "3.8.10"
    }
  },
  "nbformat": 4,
  "nbformat_minor": 5
}