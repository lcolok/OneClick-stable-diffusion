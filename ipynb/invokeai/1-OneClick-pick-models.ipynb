{
  "cells": [
    {
      "cell_type": "markdown",
      "id": "7472a830-cbcf-46df-b7ee-54709f872786",
      "metadata": {
        "jp-MarkdownHeadingCollapsed": true
      },
      "source": [
        "##  <i class=\"fa fa-spinner\"></i> \u88c5\u8f7d\u81ea\u5b9a\u4e49\u6a21\u5757\n",
        "\u628a\u5f53\u524drepo\u6839\u76ee\u5f55\u52a0\u5165 Python \u641c\u7d22\u6a21\u5757\u7684\u8def\u5f84\u5217\u8868\uff0c\u5e76\u6c42\u5f97\u6839\u76ee\u5f55"
      ]
    },
    {
      "cell_type": "code",
      "execution_count": null,
      "id": "119e104c-69d4-4c03-b494-e583598eef10",
      "metadata": {},
      "outputs": [],
      "source": [
        "import os,sys\n",
        "\n",
        "def find_repo_root():\n",
        "    # \u83b7\u53d6\u5f53\u524d\u811a\u672c\u7684\u7edd\u5bf9\u8def\u5f84\n",
        "    try:\n",
        "        # \u5982\u679c\u5f53\u524d\u8fd0\u884c\u73af\u5883\u662f Jupyter Notebook\uff0c\u4f7f\u7528\u5f53\u524d\u5de5\u4f5c\u76ee\u5f55\n",
        "        script_path = os.path.abspath('.')\n",
        "    except NameError:\n",
        "        # \u5426\u5219\uff0c\u4f7f\u7528 __file__ \u53d8\u91cf\n",
        "        script_path = os.path.abspath(__file__)\n",
        "    # \u5224\u65ad\u5f53\u524d\u811a\u672c\u76ee\u5f55\u662f\u5426\u5b58\u5728`.git`\u6587\u4ef6\u5939\n",
        "    if os.path.isdir(os.path.join(script_path, '.git')):\n",
        "        return script_path\n",
        "    # \u521d\u59cb\u5316\u5b58\u50a8\u7ed3\u679c\u7684\u53d8\u91cf\n",
        "    result = None\n",
        "    # \u5faa\u73af\u6c42\u5f53\u524d\u8def\u5f84\u7684\u7236\u76ee\u5f55\uff0c\u76f4\u5230\u627e\u5230`.git`\u6587\u4ef6\u5939\n",
        "    while True:\n",
        "        # \u5c06\u5f53\u524d\u8def\u5f84\u7684\u7236\u76ee\u5f55\u8d4b\u503c\u7ed9\u5f53\u524d\u8def\u5f84\n",
        "        script_path = os.path.dirname(script_path)\n",
        "        # \u5224\u65ad\u5f53\u524d\u8def\u5f84\u662f\u5426\u5b58\u5728`.git`\u6587\u4ef6\u5939\n",
        "        if os.path.isdir(os.path.join(script_path, '.git')):\n",
        "            # \u5982\u679c\u5b58\u5728\uff0c\u5c06\u5f53\u524d\u8def\u5f84\u5b58\u50a8\u5728\u7ed3\u679c\u53d8\u91cf\u4e2d\n",
        "            result = script_path\n",
        "        # \u5224\u65ad\u5f53\u524d\u8def\u5f84\u662f\u5426\u4e3a\u6839\u76ee\u5f55\uff08\u5373\u662f\u5426\u5df2\u7ecf\u641c\u7d22\u5230\u6700\u5916\u5c42\uff09\n",
        "        if script_path == '/':\n",
        "            # \u5982\u679c\u662f\uff0c\u8fd4\u56de\u7ed3\u679c\u53d8\u91cf\u7684\u503c\n",
        "            return result\n",
        "        \n",
        "repo_root_dir=find_repo_root()\n",
        "sys.path.append(repo_root_dir)\n",
        "print(repo_root_dir)\n",
        "# \u83b7\u53d6repo\u6240\u5728\u7684\u6839\u76ee\u5f55\n",
        "root_dir = os.path.dirname(repo_root_dir)\n",
        "# \u83b7\u53d6\u5f53\u524d\u73af\u5883\u540d\u79f0\u4e0e\u5f53\u524d\u73af\u5883content\u8def\u5f84\n",
        "from func.env import detect_environment\n",
        "env_cb = detect_environment()\n",
        "env_name = env_cb['env_name']\n",
        "content_path = env_cb['content_path']"
      ]
    },
    {
      "cell_type": "markdown",
      "id": "f7867bc1-b17b-467c-8dbc-b63ed9a38242",
      "metadata": {
        "jp-MarkdownHeadingCollapsed": true
      },
      "source": [
        "## <i class=\"fa fa-plane-departure\"></i> \u5b66\u672f\u52a0\u901f\n",
        "\u9996\u5148\u8981\u8fdb\u884c\u5b66\u672f\u52a0\u901f\uff0c\u8fd9\u6709\u5229\u4e8e\u62c9\u53d6\u8d44\u6e90\uff0c\u8be6\u60c5\u8bf7\u770b\uff1ahttps://www.autodl.com/docs/network_turbo/  "
      ]
    },
    {
      "cell_type": "code",
      "execution_count": null,
      "id": "3a72210c-43bc-4f2d-9b1e-161db573ea3b",
      "metadata": {},
      "outputs": [],
      "source": [
        "import sys\n",
        "sys.path.append('../') # \u56e0\u4e3afunc\u4e0eipynb\u4f4d\u4e8e\u540c\u4e00\u4e2a\u76ee\u5f55\u4e0b\uff0c\u6240\u4ee5\u8981\u5f80\u4e0a\u4e00\u5c42\u8def\u5f84\u7d22\u5f15\n",
        "from func.env import setProxy\n",
        "cb=setProxy()\n",
        "proxy=cb['proxy']\n",
        "region=cb['region']"
      ]
    },
    {
      "cell_type": "markdown",
      "id": "0b85735b-9aa1-49eb-85ee-defd0f924d12",
      "metadata": {},
      "source": [
        "## <i class=\"fa fa-arrow-down\"></i> \u5b89\u88c5\u5fc5\u8981\u4f9d\u8d56"
      ]
    },
    {
      "cell_type": "code",
      "execution_count": null,
      "id": "ec9fbee5-aa7e-48e1-8676-423327390a21",
      "metadata": {},
      "outputs": [],
      "source": [
        "import subprocess\n",
        "\n",
        "libraries_to_install = [\n",
        "    \"pyyaml\",\n",
        "]\n",
        "\n",
        "tools_to_install = [\n",
        "    \n",
        "]\n",
        "\n",
        "installed_libraries = subprocess.run([\"pip\", \"freeze\"], capture_output=True).stdout.decode().split(\"\\n\")\n",
        "\n",
        "# \u5c1d\u8bd5\u5b89\u88c5\u6240\u6709\u672a\u5b89\u88c5\u7684\u5e93\n",
        "for library in libraries_to_install:\n",
        "    if library == \"black[jupyter]\" and any(\"black\" in installed_library for installed_library in installed_libraries):\n",
        "        print(f\"\u3010 {library} \u3011\u5df2\u7ecf\u5b89\u88c5\uff0c\u8df3\u8fc7\u5b89\u88c5\")\n",
        "        continue\n",
        "    elif not any(library in installed_library for installed_library in installed_libraries):\n",
        "        !pip install $library\n",
        "    else:\n",
        "        print(f\"\u3010 {library} \u3011\u5df2\u7ecf\u5b89\u88c5\uff0c\u8df3\u8fc7\u5b89\u88c5\")\n",
        "        \n",
        "# \u5c1d\u8bd5\u5b89\u88c5\u6240\u6709\u672a\u5b89\u88c5\u7684\u5de5\u5177\n",
        "update_needed = False\n",
        "for tool in tools_to_install:\n",
        "    exit_code = subprocess.run([\"dpkg\", \"-s\", tool], capture_output=True).returncode\n",
        "    if exit_code != 0:\n",
        "        update_needed = True\n",
        "        break\n",
        "    else:\n",
        "        print(f\"\u3010 {tool} \u3011\u5df2\u7ecf\u5b89\u88c5\uff0c\u8df3\u8fc7\u5b89\u88c5\")\n",
        "if update_needed:\n",
        "    !apt-get update\n",
        "    for tool in tools_to_install:\n",
        "        exit_code = subprocess.run([\"dpkg\", \"-s\", tool], capture_output=True).returncode\n",
        "        if exit_code != 0:\n",
        "            !apt-get install -y $tool\n",
        "    \n"
      ]
    },
    {
      "cell_type": "markdown",
      "id": "27f85a1e-f48f-41df-b477-4a63331b5b6f",
      "metadata": {},
      "source": [
        "## \u9009\u62e9\u9700\u8981\u5b89\u88c5\u7684\u6a21\u578b"
      ]
    },
    {
      "cell_type": "code",
      "execution_count": null,
      "id": "8c89ac62-5a76-4160-ad10-cc16c93942ef",
      "metadata": {},
      "outputs": [],
      "source": [
        "from IPython.display import display,clear_output\n",
        "from ipywidgets import Checkbox\n",
        "import yaml\n",
        "import os\n",
        "\n",
        "new_yaml_path = './temp/selected_hf_models.yaml'\n",
        "\n",
        "def create_folder(folder_name):\n",
        "    try:\n",
        "        os.makedirs(folder_name)\n",
        "        print(f\"{folder_name} created successfully\")\n",
        "    except:\n",
        "        print(f\"{folder_name} already exists\")\n",
        "\n",
        "folder_name = 'temp'\n",
        "create_folder(folder_name)\n",
        "clear_output()\n",
        "\n",
        "def generate_new_yaml(file_path, selected_keys, new_file_path):\n",
        "    with open(file_path, 'r') as file:\n",
        "        yaml_data = yaml.safe_load(file)\n",
        "    new_yaml = {}\n",
        "    for key in selected_keys:\n",
        "        new_yaml[key] = yaml_data[key]\n",
        "        # \u628arecommended\u503c\u90fd\u8bbe\u7f6e\u4e3aTrue\n",
        "        new_yaml[key]['recommended'] = True\n",
        "    with open(new_file_path, 'w') as file:\n",
        "        yaml.dump(new_yaml, file)\n",
        "\n",
        "def display_yaml_checkboxes(file_path, default_checked_keys=[]):\n",
        "    with open(file_path, 'r') as file:\n",
        "        yaml_data = yaml.safe_load(file)\n",
        "    checkboxes = []\n",
        "    selected_keys = []\n",
        "    def on_value_change(change):\n",
        "        if change['new']:\n",
        "            selected_keys.append(change['owner'].description)\n",
        "        else:\n",
        "            selected_keys.remove(change['owner'].description)\n",
        "        generate_new_yaml(file_path, selected_keys, new_yaml_path)\n",
        "    for key in yaml_data.keys():\n",
        "        checkbox = Checkbox(description=key, value=(key in default_checked_keys))\n",
        "        checkbox.observe(on_value_change, 'value')\n",
        "        checkboxes.append(checkbox)\n",
        "        display(checkbox)\n",
        "    # display(*checkboxes)\n",
        "    selected_keys += default_checked_keys\n",
        "    generate_new_yaml(file_path, selected_keys, new_yaml_path)\n",
        "    return selected_keys\n",
        "\n",
        "file_path = './hf_models_collection.yaml'\n",
        "\n",
        "default_checked_keys = [\n",
        "    \"anything-v4.0\",\n",
        "]\n",
        "display(\"\u8bf7\u6311\u9009\u9700\u8981\u5b89\u88c5\u7684\u6a21\u578b\")\n",
        "selected_keys = display_yaml_checkboxes(file_path, default_checked_keys)"
      ]
    }
  ],
  "metadata": {
    "kernelspec": {
      "display_name": "Python 3 (ipykernel)",
      "language": "python",
      "name": "python3"
    },
    "language_info": {
      "codemirror_mode": {
        "name": "ipython",
        "version": 3
      },
      "file_extension": ".py",
      "mimetype": "text/x-python",
      "name": "python",
      "nbconvert_exporter": "python",
      "pygments_lexer": "ipython3",
      "version": "3.8.10"
    }
  },
  "nbformat": 4,
  "nbformat_minor": 5
}