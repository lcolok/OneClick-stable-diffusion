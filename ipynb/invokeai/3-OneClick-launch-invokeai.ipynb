{
  "cells": [
    {
      "cell_type": "markdown",
      "id": "9b630f66-129b-4444-a794-3622c741661d",
      "metadata": {},
      "source": [
        "##  <i class=\"fa fa-spinner\"></i> \u88c5\u8f7d\u81ea\u5b9a\u4e49\u6a21\u5757\n",
        "\u628a\u5f53\u524drepo\u6839\u76ee\u5f55\u52a0\u5165 Python \u641c\u7d22\u6a21\u5757\u7684\u8def\u5f84\u5217\u8868\uff0c\u5e76\u6c42\u5f97\u6839\u76ee\u5f55"
      ]
    },
    {
      "cell_type": "code",
      "execution_count": null,
      "id": "cd4c4a10-177e-4961-afa4-6904e8ec400e",
      "metadata": {
        "jupyter": {
          "source_hidden": true
        }
      },
      "outputs": [],
      "source": [
        "import os,sys\n",
        "\n",
        "def find_repo_root():\n",
        "    # \u83b7\u53d6\u5f53\u524d\u811a\u672c\u7684\u7edd\u5bf9\u8def\u5f84\n",
        "    try:\n",
        "        # \u5982\u679c\u5f53\u524d\u8fd0\u884c\u73af\u5883\u662f Jupyter Notebook\uff0c\u4f7f\u7528\u5f53\u524d\u5de5\u4f5c\u76ee\u5f55\n",
        "        script_path = os.path.abspath('.')\n",
        "    except NameError:\n",
        "        # \u5426\u5219\uff0c\u4f7f\u7528 __file__ \u53d8\u91cf\n",
        "        script_path = os.path.abspath(__file__)\n",
        "    # \u5224\u65ad\u5f53\u524d\u811a\u672c\u76ee\u5f55\u662f\u5426\u5b58\u5728`.git`\u6587\u4ef6\u5939\n",
        "    if os.path.isdir(os.path.join(script_path, '.git')):\n",
        "        return script_path\n",
        "    # \u521d\u59cb\u5316\u5b58\u50a8\u7ed3\u679c\u7684\u53d8\u91cf\n",
        "    result = None\n",
        "    # \u5faa\u73af\u6c42\u5f53\u524d\u8def\u5f84\u7684\u7236\u76ee\u5f55\uff0c\u76f4\u5230\u627e\u5230`.git`\u6587\u4ef6\u5939\n",
        "    while True:\n",
        "        # \u5c06\u5f53\u524d\u8def\u5f84\u7684\u7236\u76ee\u5f55\u8d4b\u503c\u7ed9\u5f53\u524d\u8def\u5f84\n",
        "        script_path = os.path.dirname(script_path)\n",
        "        # \u5224\u65ad\u5f53\u524d\u8def\u5f84\u662f\u5426\u5b58\u5728`.git`\u6587\u4ef6\u5939\n",
        "        if os.path.isdir(os.path.join(script_path, '.git')):\n",
        "            # \u5982\u679c\u5b58\u5728\uff0c\u5c06\u5f53\u524d\u8def\u5f84\u5b58\u50a8\u5728\u7ed3\u679c\u53d8\u91cf\u4e2d\n",
        "            result = script_path\n",
        "        # \u5224\u65ad\u5f53\u524d\u8def\u5f84\u662f\u5426\u4e3a\u6839\u76ee\u5f55\uff08\u5373\u662f\u5426\u5df2\u7ecf\u641c\u7d22\u5230\u6700\u5916\u5c42\uff09\n",
        "        if script_path == '/':\n",
        "            # \u5982\u679c\u662f\uff0c\u8fd4\u56de\u7ed3\u679c\u53d8\u91cf\u7684\u503c\n",
        "            return result\n",
        "        \n",
        "repo_root_dir=find_repo_root()\n",
        "sys.path.append(repo_root_dir)\n",
        "print(repo_root_dir)\n",
        "# \u83b7\u53d6repo\u6240\u5728\u7684\u6839\u76ee\u5f55\n",
        "root_dir = os.path.dirname(repo_root_dir)\n",
        "# \u83b7\u53d6\u5f53\u524d\u73af\u5883\u540d\u79f0\u4e0e\u5f53\u524d\u73af\u5883content\u8def\u5f84\n",
        "from func.env import detect_environment\n",
        "env_cb = detect_environment()\n",
        "env_name = env_cb['env_name']\n",
        "content_path = env_cb['content_path']"
      ]
    },
    {
      "cell_type": "markdown",
      "id": "7f7a07dd-1e4d-42c4-a472-f0e4f0f19941",
      "metadata": {},
      "source": [
        "## <i class=\"fa fa-plane-departure\"></i> \u5b66\u672f\u52a0\u901f\n",
        "\u9996\u5148\u8981\u8fdb\u884c\u5b66\u672f\u52a0\u901f\uff0c\u8fd9\u6709\u5229\u4e8e\u62c9\u53d6\u8d44\u6e90\uff0c\u8be6\u60c5\u8bf7\u770b\uff1ahttps://www.autodl.com/docs/network_turbo/  "
      ]
    },
    {
      "cell_type": "code",
      "execution_count": null,
      "id": "1f113de7-2801-475c-be0a-c804fb6ae00b",
      "metadata": {
        "jupyter": {
          "source_hidden": true
        }
      },
      "outputs": [],
      "source": [
        "import sys\n",
        "sys.path.append('../') # \u56e0\u4e3afunc\u4e0eipynb\u4f4d\u4e8e\u540c\u4e00\u4e2a\u76ee\u5f55\u4e0b\uff0c\u6240\u4ee5\u8981\u5f80\u4e0a\u4e00\u5c42\u8def\u5f84\u7d22\u5f15\n",
        "from func.env import setProxy\n",
        "cb=setProxy()\n",
        "proxy=cb['proxy']\n",
        "region=cb['region']"
      ]
    },
    {
      "cell_type": "markdown",
      "id": "eb2ac90f-833a-4f33-a370-7d23c336cb4a",
      "metadata": {},
      "source": [
        "## <i class=\"fa fa-search\"></i> \u67e5\u627eInvokeAI\u8fd4\u56de\u9879\u76ee\u6240\u5728\u8def\u5f84"
      ]
    },
    {
      "cell_type": "code",
      "execution_count": null,
      "id": "e3b8164a-fc51-4e9e-a5c6-968bfd77d813",
      "metadata": {
        "jupyter": {
          "source_hidden": true
        }
      },
      "outputs": [],
      "source": [
        "import os\n",
        "from func.checksum import generate_checksum,find_folder\n",
        "\n",
        "def find_dir(root_dir, target_name):\n",
        "    paths = []\n",
        "    for dirpath, dirnames, filenames in os.walk(root_dir):\n",
        "        for dirname in dirnames:\n",
        "            if dirname == target_name:\n",
        "                path = os.path.join(dirpath, dirname)\n",
        "                paths.append(path)\n",
        "    paths.sort(key=len)\n",
        "    if paths:\n",
        "        return paths\n",
        "    else:\n",
        "        return None\n",
        "\n",
        "# print(generate_checksum('/root/InvokeAI'))\n",
        "# print(generate_checksum('/root/InvokeAI_runtime'))\n",
        "\n",
        "# \u901a\u8fc7\u6821\u9a8c\u548c\u7684\u65b9\u5f0f\u67e5\u627eInvokeAI\u7684github repo\u6587\u4ef6\u5939\n",
        "InvokeAI_dir = None\n",
        "# InvokeAI_dir = find_folder(root_dir,'827a2072f6f785ae0abf58be160b69b0e165b9a28eb2a69bae426eb268f90127')\n",
        "\n",
        "# \u5982\u679c\u627e\u4e0d\u5230\uff0c\u5219\u91c7\u7528\u4f4e\u9636\u7684\u529e\u6cd5\uff0c\u4e5f\u5c31\u662f\u6587\u4ef6\u5939\u540d\u79f0\u5b8c\u5168\u5339\u914d\u7684\u7248\u672c\u8fdb\u884c\u67e5\u627e\uff08\u56e0\u4e3arepo\u603b\u662f\u66f4\u65b0\uff0c\u4f1a\u5f71\u54cd\u6821\u9a8c\u548c\u7684\u7ed3\u679c\uff09\n",
        "if not InvokeAI_dir:\n",
        "    InvokeAI_dir=find_dir(root_dir, 'InvokeAI')[0]\n",
        "    \n",
        "print(InvokeAI_dir)\n",
        "    \n",
        "InvokeAI_runtime_dir = None\n",
        "# InvokeAI_runtime_dir = find_folder(root_dir,'c7dd5c092639d9ac32ea5d1bbcaa9ec4ed9ade22d2c0c5621d395af5c1cda267')\n",
        "if not InvokeAI_runtime_dir:\n",
        "    InvokeAI_runtime_dir=find_dir(root_dir, 'InvokeAI_runtime')[0]\n",
        "\n",
        "print(InvokeAI_runtime_dir)"
      ]
    },
    {
      "cell_type": "markdown",
      "id": "2daff019-2706-46e2-a87d-3cec853978a3",
      "metadata": {},
      "source": [
        "## <i class=\"fa fa-hammer\"></i> \u914d\u7f6einvokeai.init\u6587\u4ef6\n",
        "\u901a\u8fc7\u4fee\u6539\u8fd9\u91cc\u7684\u53c2\u6570\u6765\u81ea\u5b9a\u4e49invokeai\u7684\u914d\u7f6e\uff0c\u5728\u542f\u52a8invokeai\u7684\u65f6\u5019\u4f1a\u4f20\u5165\u5bf9\u5e94\u7684\u53c2\u6570\uff0c\u5982\u4fee\u6539--outdir\u6765\u6539\u53d8invokeai\u751f\u6210\u7684\u76ee\u6807\u8def\u5f84\uff0c\u4fee\u6539--port\u6765\u4fee\u6539\u8fd0\u884c\u7aef\u53e3"
      ]
    },
    {
      "cell_type": "code",
      "execution_count": null,
      "id": "c7d882c0-ad8c-4130-87b3-e1af72b5f997",
      "metadata": {
        "jupyter": {
          "source_hidden": true
        }
      },
      "outputs": [],
      "source": [
        "port = 6006\n",
        "\n",
        "if env_name == 'AutoDL':\n",
        "    invoke_outputs_dir='/root/autodl-nas/invoke_outputs'\n",
        "    invokeai_init_path=os.path.join(InvokeAI_runtime_dir,'./invokeai.init')\n",
        "elif env_name == 'OpenBayes':\n",
        "    invoke_outputs_dir=os.path.realpath(os.path.join(root_dir,'./invoke_outputs'))\n",
        "    invokeai_init_path=os.path.realpath(os.path.join(root_dir,'./invokeai/invokeai.init'))\n",
        "    \n",
        "import re\n",
        "\n",
        "def add_line(lines, line_to_add):\n",
        "    # \u5982\u679c\u5bf9\u5e94\u7684\u53c2\u6570\u548c\u6587\u672c\u4e0d\u5b58\u5728\uff0c\u5728\u6587\u4ef6\u672b\u5c3e\u589e\u52a0\u4e00\u884c\n",
        "    if not any(line.strip() == f'{line_to_add}' for line in lines):\n",
        "        lines.append(f'{line_to_add}\\n')\n",
        "\n",
        "# \u8bfb\u53d6\u6587\u4ef6\n",
        "with open(invokeai_init_path, 'r') as f:\n",
        "    lines = f.readlines()\n",
        "\n",
        "# \u8fdb\u884c\u6587\u672c\u66ff\u6362\n",
        "for i, line in enumerate(lines):\n",
        "    lines[i] = re.sub(r'--outdir=\"(.*)\"', f'--outdir=\"{invoke_outputs_dir}\"', line)\n",
        "\n",
        "#\u8ffd\u52a0\u989d\u5916\u7684\u53c2\u6570\n",
        "add_line(lines,'--no-nsfw_checker')\n",
        "add_line(lines,'--no-safety_checker')\n",
        "add_line(lines,f'--port={port}') #\u8bbe\u5b9a\u7aef\u53e3\n",
        "add_line(lines,'--web') #\u4ee5webui\u7684\u5f62\u5f0f\u542f\u52a8\n",
        "\n",
        "# \u53bb\u9664\u91cd\u590d\u7684\u884c\n",
        "seen = {}\n",
        "result = []\n",
        "for line in lines:\n",
        "    if line in seen:\n",
        "        continue\n",
        "    seen[line] = True\n",
        "    result.append(line)\n",
        "\n",
        "lines = result\n",
        "    \n",
        "# \u53bb\u9664\u91cd\u590d\u7684\u884c\uff0c\u4f46\u662f\u8fd9\u79cd\u505a\u6cd5\u4f1a\u5bfc\u81f4\u884c\u5e8f\u6253\u4e71\n",
        "# lines = list(set(lines))\n",
        "\n",
        "# \u5c06\u4fee\u6539\u540e\u7684\u5185\u5bb9\u5199\u56de\u6587\u4ef6\n",
        "with open(invokeai_init_path, 'w') as f:\n",
        "    f.writelines(lines)\n"
      ]
    },
    {
      "cell_type": "markdown",
      "id": "88fe77d4-54c8-49d6-89d4-c5fb1d27fad7",
      "metadata": {},
      "source": [
        "## <i class=\"fa fa-eye\"></i> \u4ee5WebUI\u7684\u5f62\u5f0f\u53bb\u542f\u52a8InvokeAI"
      ]
    },
    {
      "cell_type": "code",
      "execution_count": null,
      "id": "9e08c483-40f6-41e1-be01-4f0c013833de",
      "metadata": {
        "jupyter": {
          "source_hidden": true
        }
      },
      "outputs": [],
      "source": [
        "base_args = [\n",
        "    proxy,'&&',\n",
        "    'source activate','&&',\n",
        "    'conda activate invokeai','&&',\n",
        "    f'cd {InvokeAI_dir}','&&'\n",
        "]\n",
        "\n",
        "final_args = []\n",
        "final_args += base_args\n",
        "\n",
        "git_pull_args = base_args[:] + ['git pull']\n",
        "git_pull_cmd = (\" \").join(git_pull_args)\n",
        "\n",
        "git_pull_info = !$git_pull_cmd\n",
        "\n",
        "print(git_pull_info)\n",
        "\n",
        "if 'Already up to date.' not in git_pull_info:\n",
        "    print('\u51c6\u5907\u66f4\u65b0...')\n",
        "    final_args.append([\n",
        "        'conda env update','&&',\n",
        "        f'python scripts/configure_invokeai.py -y --skip-sd-weights --root_dir {InvokeAI_runtime_dir}'\n",
        "    ])\n",
        "else:\n",
        "    print('\u5df2\u7ecf\u66f4\u65b0\u5230\u6700\u65b0\uff0c\u76f4\u63a5\u542f\u52a8')\n",
        "    \n",
        "'''\n",
        "\u5728 Python \u4e2d\uff0c\u53ef\u4ee5\u4f7f\u7528\u4ee5\u4e0b\u51e0\u79cd\u65b9\u6cd5\u6765\u62fc\u63a5\u4e24\u4e2a\u5217\u8868\uff1a\n",
        "\u4f7f\u7528 + \u64cd\u4f5c\u7b26\uff1anew_list = list1 + list2\u3002\u8fd9\u4f1a\u521b\u5efa\u4e00\u4e2a\u65b0\u7684\u5217\u8868\uff0c\u5176\u4e2d\u5305\u542b\u539f\u59cb\u4e24\u4e2a\u5217\u8868\u4e2d\u7684\u6240\u6709\u5143\u7d20\u3002\n",
        "\u4f7f\u7528\u5185\u7f6e\u51fd\u6570 extend()\uff1alist1.extend(list2)\u3002\u8fd9\u4f1a\u5c06 list2 \u4e2d\u7684\u6240\u6709\u5143\u7d20\u6dfb\u52a0\u5230 list1 \u7684\u672b\u5c3e\u3002\n",
        "\u4f7f\u7528\u5185\u7f6e\u51fd\u6570 sum()\uff1anew_list = sum([list1, list2], [])\u3002\u8fd9\u4f1a\u5c06\u4e24\u4e2a\u5217\u8868\u62fc\u63a5\u8d77\u6765\uff0c\u5e76\u5c06\u7ed3\u679c\u4fdd\u5b58\u5230\u65b0\u7684\u5217\u8868\u4e2d\u3002\n",
        "'''\n",
        "\n",
        "final_args = base_args[:]\n",
        "final_args += [\n",
        "    f'python scripts/invoke.py --root_dir {InvokeAI_runtime_dir}',\n",
        "]\n",
        "\n",
        "final_cmd = (\" \").join(final_args)\n",
        "print(final_cmd)\n",
        "!$final_cmd"
      ]
    }
  ],
  "metadata": {
    "kernelspec": {
      "display_name": "Python 3 (ipykernel)",
      "language": "python",
      "name": "python3"
    },
    "language_info": {
      "codemirror_mode": {
        "name": "ipython",
        "version": 3
      },
      "file_extension": ".py",
      "mimetype": "text/x-python",
      "name": "python",
      "nbconvert_exporter": "python",
      "pygments_lexer": "ipython3",
      "version": "3.8.10"
    }
  },
  "nbformat": 4,
  "nbformat_minor": 5
}