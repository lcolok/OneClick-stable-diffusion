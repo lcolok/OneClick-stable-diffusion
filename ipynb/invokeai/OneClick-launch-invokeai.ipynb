{
  "cells": [
    {
      "cell_type": "markdown",
      "id": "9b630f66-129b-4444-a794-3622c741661d",
      "metadata": {},
      "source": [
        "##  <i class=\"fa fa-spinner\"></i> \u88c5\u8f7d\u81ea\u5b9a\u4e49\u6a21\u5757\n",
        "\u628a\u5f53\u524drepo\u6839\u76ee\u5f55\u52a0\u5165 Python \u641c\u7d22\u6a21\u5757\u7684\u8def\u5f84\u5217\u8868\uff0c\u5e76\u6c42\u5f97\u6839\u76ee\u5f55"
      ]
    },
    {
      "cell_type": "code",
      "execution_count": null,
      "id": "cd4c4a10-177e-4961-afa4-6904e8ec400e",
      "metadata": {},
      "outputs": [],
      "source": [
        "import os,sys\n",
        "\n",
        "def find_repo_root():\n",
        "    # \u83b7\u53d6\u5f53\u524d\u811a\u672c\u7684\u7edd\u5bf9\u8def\u5f84\n",
        "    try:\n",
        "        # \u5982\u679c\u5f53\u524d\u8fd0\u884c\u73af\u5883\u662f Jupyter Notebook\uff0c\u4f7f\u7528\u5f53\u524d\u5de5\u4f5c\u76ee\u5f55\n",
        "        script_path = os.path.abspath('.')\n",
        "    except NameError:\n",
        "        # \u5426\u5219\uff0c\u4f7f\u7528 __file__ \u53d8\u91cf\n",
        "        script_path = os.path.abspath(__file__)\n",
        "    # \u521d\u59cb\u5316\u5b58\u50a8\u7ed3\u679c\u7684\u53d8\u91cf\n",
        "    result = None\n",
        "    # \u5faa\u73af\u6c42\u5f53\u524d\u8def\u5f84\u7684\u7236\u76ee\u5f55\uff0c\u76f4\u5230\u627e\u5230`.git`\u6587\u4ef6\u5939\n",
        "    while True:\n",
        "        # \u5c06\u5f53\u524d\u8def\u5f84\u7684\u7236\u76ee\u5f55\u8d4b\u503c\u7ed9\u5f53\u524d\u8def\u5f84\n",
        "        script_path = os.path.dirname(script_path)\n",
        "        # \u5224\u65ad\u5f53\u524d\u8def\u5f84\u662f\u5426\u5b58\u5728`.git`\u6587\u4ef6\u5939\n",
        "        if os.path.isdir(os.path.join(script_path, '.git')):\n",
        "            # \u5982\u679c\u5b58\u5728\uff0c\u5c06\u5f53\u524d\u8def\u5f84\u5b58\u50a8\u5728\u7ed3\u679c\u53d8\u91cf\u4e2d\n",
        "            result = script_path\n",
        "        # \u5224\u65ad\u5f53\u524d\u8def\u5f84\u662f\u5426\u4e3a\u6839\u76ee\u5f55\uff08\u5373\u662f\u5426\u5df2\u7ecf\u641c\u7d22\u5230\u6700\u5916\u5c42\uff09\n",
        "        if script_path == '/':\n",
        "            # \u5982\u679c\u662f\uff0c\u8fd4\u56de\u7ed3\u679c\u53d8\u91cf\u7684\u503c\n",
        "            return result\n",
        "        \n",
        "repo_root_dir=find_repo_root()\n",
        "sys.path.append(repo_root_dir)\n",
        "# \u83b7\u53d6repo\u6240\u5728\u7684\u6839\u76ee\u5f55\n",
        "root_dir = os.path.dirname(repo_root_dir)"
      ]
    },
    {
      "cell_type": "markdown",
      "id": "7f7a07dd-1e4d-42c4-a472-f0e4f0f19941",
      "metadata": {},
      "source": [
        "## <i class=\"fa fa-plane-departure\"></i> \u5b66\u672f\u52a0\u901f\n",
        "\u9996\u5148\u8981\u8fdb\u884c\u5b66\u672f\u52a0\u901f\uff0c\u8fd9\u6709\u5229\u4e8e\u62c9\u53d6\u8d44\u6e90\uff0c\u8be6\u60c5\u8bf7\u770b\uff1ahttps://www.autodl.com/docs/network_turbo/  "
      ]
    },
    {
      "cell_type": "code",
      "execution_count": null,
      "id": "1f113de7-2801-475c-be0a-c804fb6ae00b",
      "metadata": {},
      "outputs": [],
      "source": [
        "import sys\n",
        "sys.path.append('../') # \u56e0\u4e3afunc\u4e0eipynb\u4f4d\u4e8e\u540c\u4e00\u4e2a\u76ee\u5f55\u4e0b\uff0c\u6240\u4ee5\u8981\u5f80\u4e0a\u4e00\u5c42\u8def\u5f84\u7d22\u5f15\n",
        "from func.env import setProxy\n",
        "cb=setProxy()\n",
        "proxy=cb['proxy']\n",
        "region=cb['region']"
      ]
    },
    {
      "cell_type": "markdown",
      "id": "88fe77d4-54c8-49d6-89d4-c5fb1d27fad7",
      "metadata": {},
      "source": [
        "## <i class=\"fa fa-eye\"></i> \u4ee5WebUI\u7684\u5f62\u5f0f\u53bb\u542f\u52a8InvokeAI"
      ]
    },
    {
      "cell_type": "code",
      "execution_count": null,
      "id": "9e08c483-40f6-41e1-be01-4f0c013833de",
      "metadata": {},
      "outputs": [],
      "source": [
        "import os\n",
        "\n",
        "invokeai_dir=os.path.join(root_dir,'InvokeAI')\n",
        "\n",
        "base_args = [\n",
        "    proxy,'&&',\n",
        "    'source activate','&&',\n",
        "    'conda activate invokeai','&&',\n",
        "    f'cd {invokeai_dir}','&&'\n",
        "]\n",
        "\n",
        "\n",
        "invoke_outputs_dir='/root/autodl-nas/invoke_outputs'\n",
        "\n",
        "git_pull_args = base_args[:] + ['git pull']\n",
        "git_pull_cmd = (\" \").join(git_pull_args)\n",
        "\n",
        "git_pull_info = !$git_pull_cmd\n",
        "\n",
        "if 'Already up to date.' not in git_pull_info:\n",
        "    print('\u51c6\u5907\u66f4\u65b0...')\n",
        "    final_args.append([\n",
        "        'conda env update','&&',\n",
        "        'python scripts/configure_invokeai.py -y --skip-sd-weights'\n",
        "    ])\n",
        "else:\n",
        "    print('\u5df2\u7ecf\u66f4\u65b0\u5230\u6700\u65b0\u7684\uff0c\u76f4\u63a5\u542f\u52a8')\n",
        "    \n",
        "'''\n",
        "\u5728 Python \u4e2d\uff0c\u53ef\u4ee5\u4f7f\u7528\u4ee5\u4e0b\u51e0\u79cd\u65b9\u6cd5\u6765\u62fc\u63a5\u4e24\u4e2a\u5217\u8868\uff1a\n",
        "\u4f7f\u7528 + \u64cd\u4f5c\u7b26\uff1anew_list = list1 + list2\u3002\u8fd9\u4f1a\u521b\u5efa\u4e00\u4e2a\u65b0\u7684\u5217\u8868\uff0c\u5176\u4e2d\u5305\u542b\u539f\u59cb\u4e24\u4e2a\u5217\u8868\u4e2d\u7684\u6240\u6709\u5143\u7d20\u3002\n",
        "\u4f7f\u7528\u5185\u7f6e\u51fd\u6570 extend()\uff1alist1.extend(list2)\u3002\u8fd9\u4f1a\u5c06 list2 \u4e2d\u7684\u6240\u6709\u5143\u7d20\u6dfb\u52a0\u5230 list1 \u7684\u672b\u5c3e\u3002\n",
        "\u4f7f\u7528\u5185\u7f6e\u51fd\u6570 sum()\uff1anew_list = sum([list1, list2], [])\u3002\u8fd9\u4f1a\u5c06\u4e24\u4e2a\u5217\u8868\u62fc\u63a5\u8d77\u6765\uff0c\u5e76\u5c06\u7ed3\u679c\u4fdd\u5b58\u5230\u65b0\u7684\u5217\u8868\u4e2d\u3002\n",
        "'''\n",
        "\n",
        "final_args = base_args[:]\n",
        "final_args += [\n",
        "    'python scripts/invoke.py',\n",
        "    '--web',\n",
        "    '--port 6006',\n",
        "    f'--outdir {invoke_outputs_dir}'\n",
        "    ]\n",
        "\n",
        "final_cmd = (\" \").join(final_args)\n",
        "!$final_cmd"
      ]
    }
  ],
  "metadata": {
    "kernelspec": {
      "display_name": "Python 3 (ipykernel)",
      "language": "python",
      "name": "python3"
    },
    "language_info": {
      "codemirror_mode": {
        "name": "ipython",
        "version": 3
      },
      "file_extension": ".py",
      "mimetype": "text/x-python",
      "name": "python",
      "nbconvert_exporter": "python",
      "pygments_lexer": "ipython3",
      "version": "3.8.10"
    }
  },
  "nbformat": 4,
  "nbformat_minor": 5
}