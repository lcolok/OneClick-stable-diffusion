{
  "cells": [
    {
      "cell_type": "markdown",
      "id": "be2170ee-a274-4317-98f8-0ef93906509f",
      "metadata": {
        "jp-MarkdownHeadingCollapsed": true
      },
      "source": [
        "##  <i class=\"fa fa-spinner\"></i> \u88c5\u8f7d\u81ea\u5b9a\u4e49\u6a21\u5757\n",
        "\u628a\u5f53\u524drepo\u6839\u76ee\u5f55\u52a0\u5165 Python \u641c\u7d22\u6a21\u5757\u7684\u8def\u5f84\u5217\u8868\uff0c\u5e76\u6c42\u5f97\u6839\u76ee\u5f55"
      ]
    },
    {
      "cell_type": "code",
      "execution_count": null,
      "id": "3ca06713-9d2e-47a6-a9c2-b87369df4fea",
      "metadata": {},
      "outputs": [],
      "source": [
        "import os,sys\n",
        "\n",
        "def find_repo_root():\n",
        "    # \u83b7\u53d6\u5f53\u524d\u811a\u672c\u7684\u7edd\u5bf9\u8def\u5f84\n",
        "    try:\n",
        "        # \u5982\u679c\u5f53\u524d\u8fd0\u884c\u73af\u5883\u662f Jupyter Notebook\uff0c\u4f7f\u7528\u5f53\u524d\u5de5\u4f5c\u76ee\u5f55\n",
        "        script_path = os.path.abspath('.')\n",
        "    except NameError:\n",
        "        # \u5426\u5219\uff0c\u4f7f\u7528 __file__ \u53d8\u91cf\n",
        "        script_path = os.path.abspath(__file__)\n",
        "    # \u5224\u65ad\u5f53\u524d\u811a\u672c\u76ee\u5f55\u662f\u5426\u5b58\u5728`.git`\u6587\u4ef6\u5939\n",
        "    if os.path.isdir(os.path.join(script_path, '.git')):\n",
        "        return script_path\n",
        "    # \u521d\u59cb\u5316\u5b58\u50a8\u7ed3\u679c\u7684\u53d8\u91cf\n",
        "    result = None\n",
        "    # \u5faa\u73af\u6c42\u5f53\u524d\u8def\u5f84\u7684\u7236\u76ee\u5f55\uff0c\u76f4\u5230\u627e\u5230`.git`\u6587\u4ef6\u5939\n",
        "    while True:\n",
        "        # \u5c06\u5f53\u524d\u8def\u5f84\u7684\u7236\u76ee\u5f55\u8d4b\u503c\u7ed9\u5f53\u524d\u8def\u5f84\n",
        "        script_path = os.path.dirname(script_path)\n",
        "        # \u5224\u65ad\u5f53\u524d\u8def\u5f84\u662f\u5426\u5b58\u5728`.git`\u6587\u4ef6\u5939\n",
        "        if os.path.isdir(os.path.join(script_path, '.git')):\n",
        "            # \u5982\u679c\u5b58\u5728\uff0c\u5c06\u5f53\u524d\u8def\u5f84\u5b58\u50a8\u5728\u7ed3\u679c\u53d8\u91cf\u4e2d\n",
        "            result = script_path\n",
        "        # \u5224\u65ad\u5f53\u524d\u8def\u5f84\u662f\u5426\u4e3a\u6839\u76ee\u5f55\uff08\u5373\u662f\u5426\u5df2\u7ecf\u641c\u7d22\u5230\u6700\u5916\u5c42\uff09\n",
        "        if script_path == '/':\n",
        "            # \u5982\u679c\u662f\uff0c\u8fd4\u56de\u7ed3\u679c\u53d8\u91cf\u7684\u503c\n",
        "            return result\n",
        "        \n",
        "repo_root_dir=find_repo_root()\n",
        "sys.path.append(repo_root_dir)\n",
        "print(repo_root_dir)\n",
        "# \u83b7\u53d6repo\u6240\u5728\u7684\u6839\u76ee\u5f55\n",
        "root_dir = os.path.dirname(repo_root_dir)\n",
        "# \u83b7\u53d6\u5f53\u524d\u73af\u5883\u540d\u79f0\u4e0e\u5f53\u524d\u73af\u5883content\u8def\u5f84\n",
        "from func.env import detect_environment\n",
        "env_cb = detect_environment()\n",
        "env_name = env_cb['env_name']\n",
        "content_path = env_cb['content_path']"
      ]
    },
    {
      "cell_type": "markdown",
      "id": "207b9e54-621c-4483-8f7e-7534df4ae520",
      "metadata": {
        "jp-MarkdownHeadingCollapsed": true
      },
      "source": [
        "## <i class=\"fa fa-plane-departure\"></i> \u5b66\u672f\u52a0\u901f\n",
        "\u9996\u5148\u8981\u8fdb\u884c\u5b66\u672f\u52a0\u901f\uff0c\u8fd9\u6709\u5229\u4e8e\u62c9\u53d6\u8d44\u6e90\uff0c\u8be6\u60c5\u8bf7\u770b\uff1ahttps://www.autodl.com/docs/network_turbo/  "
      ]
    },
    {
      "cell_type": "code",
      "execution_count": null,
      "id": "e61cc8c3-3ade-47b0-a8eb-f45cfedc2fde",
      "metadata": {},
      "outputs": [],
      "source": [
        "import sys\n",
        "sys.path.append('../') # \u56e0\u4e3afunc\u4e0eipynb\u4f4d\u4e8e\u540c\u4e00\u4e2a\u76ee\u5f55\u4e0b\uff0c\u6240\u4ee5\u8981\u5f80\u4e0a\u4e00\u5c42\u8def\u5f84\u7d22\u5f15\n",
        "from func.env import setProxy\n",
        "cb=setProxy()\n",
        "proxy=cb['proxy']\n",
        "region=cb['region']"
      ]
    },
    {
      "cell_type": "markdown",
      "id": "8dfc418a-56a0-4bff-8f27-5ed4ab30bdb9",
      "metadata": {
        "jp-MarkdownHeadingCollapsed": true
      },
      "source": [
        "## <i class=\"fa fa-arrow-down\"></i> \u5b89\u88c5\u5fc5\u8981\u4f9d\u8d56"
      ]
    },
    {
      "cell_type": "code",
      "execution_count": null,
      "id": "0ca32cef-a56b-4412-80ab-f5defdd6c848",
      "metadata": {},
      "outputs": [],
      "source": [
        "import subprocess\n",
        "\n",
        "libraries_to_install = [\n",
        "    \n",
        "]\n",
        "\n",
        "tools_to_install = [\n",
        "    \n",
        "]\n",
        "\n",
        "installed_libraries = subprocess.run([\"pip\", \"freeze\"], capture_output=True).stdout.decode().split(\"\\n\")\n",
        "\n",
        "# \u5c1d\u8bd5\u5b89\u88c5\u6240\u6709\u672a\u5b89\u88c5\u7684\u5e93\n",
        "for library in libraries_to_install:\n",
        "    if library == \"black[jupyter]\" and any(\"black\" in installed_library for installed_library in installed_libraries):\n",
        "        print(f\"\u3010 {library} \u3011\u5df2\u7ecf\u5b89\u88c5\uff0c\u8df3\u8fc7\u5b89\u88c5\")\n",
        "        continue\n",
        "    elif not any(library in installed_library for installed_library in installed_libraries):\n",
        "        !pip install $library\n",
        "    else:\n",
        "        print(f\"\u3010 {library} \u3011\u5df2\u7ecf\u5b89\u88c5\uff0c\u8df3\u8fc7\u5b89\u88c5\")\n",
        "        \n",
        "# \u5c1d\u8bd5\u5b89\u88c5\u6240\u6709\u672a\u5b89\u88c5\u7684\u5de5\u5177\n",
        "update_needed = False\n",
        "for tool in tools_to_install:\n",
        "    exit_code = subprocess.run([\"dpkg\", \"-s\", tool], capture_output=True).returncode\n",
        "    if exit_code != 0:\n",
        "        update_needed = True\n",
        "        break\n",
        "    else:\n",
        "        print(f\"\u3010 {tool} \u3011\u5df2\u7ecf\u5b89\u88c5\uff0c\u8df3\u8fc7\u5b89\u88c5\")\n",
        "if update_needed:\n",
        "    !apt-get update\n",
        "    for tool in tools_to_install:\n",
        "        exit_code = subprocess.run([\"dpkg\", \"-s\", tool], capture_output=True).returncode\n",
        "        if exit_code != 0:\n",
        "            !apt-get install -y $tool\n",
        "    \n"
      ]
    },
    {
      "cell_type": "markdown",
      "id": "e9efc59d-71ba-4e38-8e7e-eaf62ce3a1ec",
      "metadata": {},
      "source": [
        "## <i class=\"fa fa-search\"></i> \u67e5\u627eInvokeAI\u8fd4\u56de\u9879\u76ee\u6240\u5728\u8def\u5f84"
      ]
    },
    {
      "cell_type": "code",
      "execution_count": null,
      "id": "07ab9a94-db45-473c-b520-ddf2adf5cfa6",
      "metadata": {},
      "outputs": [],
      "source": [
        "import os\n",
        "from func.checksum import generate_checksum,find_folder\n",
        "\n",
        "def find_dir(root_dir, target_name):\n",
        "    paths = []\n",
        "    for dirpath, dirnames, filenames in os.walk(root_dir):\n",
        "        for dirname in dirnames:\n",
        "            if dirname == target_name:\n",
        "                path = os.path.join(dirpath, dirname)\n",
        "                paths.append(path)\n",
        "    paths.sort(key=len)\n",
        "    if paths:\n",
        "        return paths\n",
        "    else:\n",
        "        return None\n",
        "\n",
        "# print(generate_checksum('/root/InvokeAI'))\n",
        "# print(generate_checksum('/root/InvokeAI_runtime'))\n",
        "\n",
        "# \u901a\u8fc7\u6821\u9a8c\u548c\u7684\u65b9\u5f0f\u67e5\u627eInvokeAI\u7684github repo\u6587\u4ef6\u5939\n",
        "InvokeAI_dir = None\n",
        "# InvokeAI_dir = find_folder(root_dir,'827a2072f6f785ae0abf58be160b69b0e165b9a28eb2a69bae426eb268f90127')\n",
        "\n",
        "# \u5982\u679c\u627e\u4e0d\u5230\uff0c\u5219\u91c7\u7528\u4f4e\u9636\u7684\u529e\u6cd5\uff0c\u4e5f\u5c31\u662f\u6587\u4ef6\u5939\u540d\u79f0\u5b8c\u5168\u5339\u914d\u7684\u7248\u672c\u8fdb\u884c\u67e5\u627e\uff08\u56e0\u4e3arepo\u603b\u662f\u66f4\u65b0\uff0c\u4f1a\u5f71\u54cd\u6821\u9a8c\u548c\u7684\u7ed3\u679c\uff09\n",
        "if not InvokeAI_dir:\n",
        "    InvokeAI_dir=find_dir(root_dir, 'InvokeAI')[0]\n",
        "    \n",
        "print(InvokeAI_dir)\n",
        "    \n",
        "InvokeAI_runtime_dir = None\n",
        "# InvokeAI_runtime_dir = find_folder(root_dir,'c7dd5c092639d9ac32ea5d1bbcaa9ec4ed9ade22d2c0c5621d395af5c1cda267')\n",
        "if not InvokeAI_runtime_dir:\n",
        "    InvokeAI_runtime_dir=find_dir(root_dir, 'InvokeAI_runtime')[0]\n",
        "\n",
        "print(InvokeAI_runtime_dir)"
      ]
    },
    {
      "cell_type": "markdown",
      "id": "a1a69c4a-1391-4575-9e97-1fb3137e55fa",
      "metadata": {},
      "source": [
        "## \u67e5\u627e\u6587\u4ef6\n",
        "\u67e5\u627econfigure_invokeai.py\u548cINITIAL_MODELS.yaml"
      ]
    },
    {
      "cell_type": "code",
      "execution_count": null,
      "id": "22003a46-e2d1-4a02-9295-f4f413108ae6",
      "metadata": {},
      "outputs": [],
      "source": [
        "import os\n",
        "\n",
        "def find_file(root_dir, file_name):\n",
        "    paths = []\n",
        "    for dirpath, dirnames, filenames in os.walk(root_dir):\n",
        "        for filename in filenames:\n",
        "            if filename == file_name:\n",
        "                path = os.path.join(dirpath, filename)\n",
        "                paths.append(path)\n",
        "    paths.sort(key=len)\n",
        "    if paths:\n",
        "        return paths\n",
        "    else:\n",
        "        return None\n",
        "\n",
        "config_invokeai_paths = find_file(InvokeAI_dir, 'configure_invokeai.py')\n",
        "\n",
        "if config_invokeai_paths:\n",
        "    print(config_invokeai_paths)\n",
        "else:\n",
        "    print(\"Not Found.\")\n",
        "\n",
        "init_models_yaml_paths = find_file(root_dir, 'INITIAL_MODELS.yaml')\n",
        "\n",
        "if init_models_yaml_paths:\n",
        "    print(init_models_yaml_paths)\n",
        "else:\n",
        "    print(\"Not Found.\")\n",
        "\n"
      ]
    },
    {
      "cell_type": "markdown",
      "id": "e4b57366-beb3-421c-9747-da7c6a588017",
      "metadata": {},
      "source": [
        "## \u66ff\u6362YAML\u6587\u4ef6\n",
        "\u7528selected_hf_models.yaml\u8986\u76d6INITIAL_MODELS.yaml"
      ]
    },
    {
      "cell_type": "code",
      "execution_count": null,
      "id": "60f2eb91-e4c0-40f7-862c-c8dc87b28ff8",
      "metadata": {},
      "outputs": [],
      "source": [
        "import yaml\n",
        "\n",
        "with open('./temp/selected_hf_models.yaml', 'r') as t:\n",
        "    target_yaml_data = yaml.safe_load(t)\n",
        "\n",
        "for index,i in enumerate(init_models_yaml_paths):\n",
        "    filename=os.path.basename(i)\n",
        "    temp_filepath = os.path.join('./temp',filename + f'_{index}')\n",
        "    # \u5148\u8fdb\u884c\u5907\u4efd\n",
        "    !cp $i $temp_filepath\n",
        "    # \u518d\u628a\u6587\u4ef6\u8986\u76d6\n",
        "    !cp ./temp/selected_hf_models.yaml $i\n",
        "    \n",
        "    with open(i, 'r') as file:\n",
        "        yaml_data = yaml.safe_load(file)\n",
        "    if target_yaml_data == yaml_data:\n",
        "        print(f'{i}\u5df2\u7ecf\u66ff\u6362\u6210\u529f')\n"
      ]
    },
    {
      "cell_type": "markdown",
      "id": "b8e351e2-4e55-46e1-a348-d015f8153e15",
      "metadata": {},
      "source": [
        "## \u4e0b\u8f7d\u6a21\u578b"
      ]
    },
    {
      "cell_type": "code",
      "execution_count": null,
      "id": "af99ffc6-0ddd-4b73-9b75-9b58cb5a76e8",
      "metadata": {},
      "outputs": [],
      "source": [
        "base_args = [\n",
        "    proxy,'&&',\n",
        "    'source activate','&&',\n",
        "    'conda activate invokeai','&&',\n",
        "    f'cd {InvokeAI_dir}','&&'\n",
        "]\n",
        "\n",
        "run_configure_invokeai_args = base_args[:] + [f'python scripts/configure_invokeai.py -y --root_dir {InvokeAI_runtime_dir}']\n",
        "run_configure_invokeai_cmd = (\" \").join(run_configure_invokeai_args)\n",
        "\n",
        "!$run_configure_invokeai_cmd"
      ]
    },
    {
      "cell_type": "markdown",
      "id": "01c32599-bced-4f4c-bd61-8ae8d83762d7",
      "metadata": {},
      "source": [
        "# \u8fd8\u539fYAML\u6587\u4ef6\n",
        "\u5982\u679c\u4e0d\u8fd8\u539f\uff0c\u4f1a\u5f71\u54cdInvokeAI\u7684repo\u8fdb\u884cgit pull\uff0c\u8fd9\u6837\u9879\u76ee\u5c31\u4e0d\u80fd\u987a\u5229\u66f4\u65b0\u4e86"
      ]
    },
    {
      "cell_type": "code",
      "execution_count": null,
      "id": "8db7bb07-8b73-4034-aed1-229115e6a8a4",
      "metadata": {},
      "outputs": [],
      "source": [
        "for index,i in enumerate(init_models_yaml_paths):\n",
        "    filename=os.path.basename(i)\n",
        "    temp_filepath = os.path.join('./temp',filename + f'_{index}')\n",
        "    !cp $temp_filepath $i && rm $temp_filepath"
      ]
    }
  ],
  "metadata": {
    "kernelspec": {
      "display_name": "Python 3 (ipykernel)",
      "language": "python",
      "name": "python3"
    },
    "language_info": {
      "codemirror_mode": {
        "name": "ipython",
        "version": 3
      },
      "file_extension": ".py",
      "mimetype": "text/x-python",
      "name": "python",
      "nbconvert_exporter": "python",
      "pygments_lexer": "ipython3",
      "version": "3.8.10"
    }
  },
  "nbformat": 4,
  "nbformat_minor": 5
}