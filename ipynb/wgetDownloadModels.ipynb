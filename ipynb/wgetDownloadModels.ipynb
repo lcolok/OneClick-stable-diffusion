{
  "cells": [
    {
      "cell_type": "markdown",
      "id": "bda24e6d-835a-44c4-9c59-28ebadac7acd",
      "metadata": {},
      "source": [
        "# <i class=\"fa fa-download\"></i> \u4e0b\u8f7d\u6a21\u578b\u4e0eVAE\n",
        "\u5728\u9ed8\u8ba4\u7684\u7f51\u7edc\u73af\u5883\u4e0b\u6a21\u578b\u4e0eVAE\u7684\u62c9\u53d6\u901f\u5ea6\u8db3\u591f\u5feb\uff0c\u4e5f\u65b9\u4fbf\u66f4\u65b0\u548c\u66ff\u6362\u65b0\u7684\u6a21\u578b\uff0c\u4e14\u955c\u50cf\u90e8\u7f72\u5b8c\u6210\u4e4b\u540e\u518d\u4e0b\u8f7d\uff0c\u597d\u5904\u662f\u5728\u4e8e\u955c\u50cf\u603b\u4f53\u5305\u4f53\u5c0f\uff0c\u91cd\u7f6e\u901f\u5ea6\u5feb\uff0c\u62a2\u5360\u663e\u5361\u8d44\u6e90\u4e5f\u80fd\u9886\u5148\u4e00\u6b65"
      ]
    },
    {
      "cell_type": "code",
      "execution_count": null,
      "id": "0e25c704-c409-40f1-9a36-cd84d56bbde7",
      "metadata": {},
      "outputs": [],
      "source": [
        "import os,sys\n",
        "sys.path.append('../') # \u628a\u4e0a\u7ea7\u8def\u5f84\u4e5f\u52a0\u5165\u5230\u7cfb\u7edf\u8def\u5f84\u4e2d\uff0c\u8fd9\u6837\u5c31\u80fd\u591f\u627e\u5230func\n",
        "from func.env import getWebUIDir\n",
        "from IPython.display import display\n",
        "import ipywidgets as widgets\n",
        "\n",
        "successBTN = widgets.Button(\n",
        "    value=False,\n",
        "    description='\u4e0b\u8f7d\u6a21\u578b\u6210\u529f!',\n",
        "    disabled=False,\n",
        "    button_style='success', # 'success', 'info', 'warning', 'danger' or ''\n",
        "    tooltip='Description',\n",
        "    icon='running' # (FontAwesome names without the `fa-` prefix)\n",
        ")\n",
        "\n",
        "alreadyBTN = widgets.Button(\n",
        "    value=False,\n",
        "    description='\u6a21\u578b\u5df2\u5b58\u5728',\n",
        "    disabled=False,\n",
        "    button_style='info', # 'success', 'info', 'warning', 'danger' or ''\n",
        "    tooltip='Description',\n",
        "    icon='check' # (FontAwesome names without the `fa-` prefix)\n",
        ")\n",
        "\n",
        "vaeName='Anything-V3.0.vae.pt'\n",
        "vaeURL='https://huggingface.co/Linaqruf/anything-v3.0/resolve/main/Anything-V3.0.vae.pt'\n",
        "\n",
        "modelName='Anything-V3.0-pruned.ckpt'\n",
        "modelURL='https://huggingface.co/Linaqruf/anything-v3.0/resolve/main/Anything-V3.0-pruned.ckpt'\n",
        "\n",
        "webUIDir=getWebUIDir()\n",
        "vaeDir=os.path.join(webUIDir,'./models/VAE',vaeName)\n",
        "SDmodelsDir=os.path.join(webUIDir,'./models/Stable-diffusion',modelName)\n",
        "\n",
        "# print(vaeDir)\n",
        "# print(SDmodelsDir)\n",
        "\n",
        "if os.path.exists(vaeDir)==False:\n",
        "    print('\u6b63\u5728\u4e0b\u8f7dVAE')\n",
        "    !wget -O $vaeDir $vaeURL #\u4e0b\u8f7dvae\n",
        "    display(successBTN)\n",
        "else:\n",
        "    display(alreadyBTN)\n",
        "    \n",
        "if os.path.exists(SDmodelsDir)==False: \n",
        "    print('\u6b63\u5728\u4e0b\u8f7d\u6a21\u578b')\n",
        "    !wget -O $SDmodelsDir $modelURL #\u4e0b\u8f7d\u6a21\u578b\n",
        "    display(successBTN)\n",
        "else:\n",
        "    display(alreadyBTN)"
      ]
    }
  ],
  "metadata": {
    "kernelspec": {
      "display_name": "Python 3 (ipykernel)",
      "language": "python",
      "name": "python3"
    },
    "language_info": {
      "codemirror_mode": {
        "name": "ipython",
        "version": 3
      },
      "file_extension": ".py",
      "mimetype": "text/x-python",
      "name": "python",
      "nbconvert_exporter": "python",
      "pygments_lexer": "ipython3",
      "version": "3.8.10"
    }
  },
  "nbformat": 4,
  "nbformat_minor": 5
}