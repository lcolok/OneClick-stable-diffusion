{
 "cells": [
  {
   "cell_type": "markdown",
   "id": "bda24e6d-835a-44c4-9c59-28ebadac7acd",
   "metadata": {},
   "source": [
    "# <i class=\"fa fa-download\"></i> 下载模型与VAE\n",
    "在默认的网络环境下模型与VAE的拉取速度足够快，也方便更新和替换新的模型，且镜像部署完成之后再下载，好处是在于镜像总体包体小，重置速度快，抢占显卡资源也能领先一步"
   ]
  },
  {
   "cell_type": "code",
   "execution_count": 11,
   "id": "0e25c704-c409-40f1-9a36-cd84d56bbde7",
   "metadata": {},
   "outputs": [
    {
     "data": {
      "application/vnd.jupyter.widget-view+json": {
       "model_id": "158910bd5cdd4d7ab945cba9735b918c",
       "version_major": 2,
       "version_minor": 0
      },
      "text/plain": [
       "Button(button_style='info', description='模型已存在', icon='check', style=ButtonStyle(), tooltip='Description')"
      ]
     },
     "metadata": {},
     "output_type": "display_data"
    },
    {
     "data": {
      "application/vnd.jupyter.widget-view+json": {
       "model_id": "158910bd5cdd4d7ab945cba9735b918c",
       "version_major": 2,
       "version_minor": 0
      },
      "text/plain": [
       "Button(button_style='info', description='模型已存在', icon='check', style=ButtonStyle(), tooltip='Description')"
      ]
     },
     "metadata": {},
     "output_type": "display_data"
    }
   ],
   "source": [
    "import os,sys\n",
    "sys.path.append('../') # 把上级路径也加入到系统路径中，这样就能够找到func\n",
    "from func.env import getWebUIDir\n",
    "from IPython.display import display\n",
    "import ipywidgets as widgets\n",
    "\n",
    "successBTN = widgets.Button(\n",
    "    value=False,\n",
    "    description='下载模型成功!',\n",
    "    disabled=False,\n",
    "    button_style='success', # 'success', 'info', 'warning', 'danger' or ''\n",
    "    tooltip='Description',\n",
    "    icon='running' # (FontAwesome names without the `fa-` prefix)\n",
    ")\n",
    "\n",
    "alreadyBTN = widgets.Button(\n",
    "    value=False,\n",
    "    description='模型已存在',\n",
    "    disabled=False,\n",
    "    button_style='info', # 'success', 'info', 'warning', 'danger' or ''\n",
    "    tooltip='Description',\n",
    "    icon='check' # (FontAwesome names without the `fa-` prefix)\n",
    ")\n",
    "\n",
    "vaeName='Anything-V3.0.vae.pt'\n",
    "vaeURL='https://huggingface.co/Linaqruf/anything-v3.0/resolve/main/Anything-V3.0.vae.pt'\n",
    "\n",
    "modelName='Anything-V3.0-pruned.ckpt'\n",
    "modelURL='https://huggingface.co/Linaqruf/anything-v3.0/resolve/main/Anything-V3.0-pruned.ckpt'\n",
    "\n",
    "webUIDir=getWebUIDir()\n",
    "vaeDir=os.path.join(webUIDir,'./models/VAE',vaeName)\n",
    "SDmodelsDir=os.path.join(webUIDir,'./models/Stable-diffusion',modelName)\n",
    "\n",
    "# print(vaeDir)\n",
    "# print(SDmodelsDir)\n",
    "\n",
    "if os.path.exists(vaeDir)==False:\n",
    "    print('正在下载VAE')\n",
    "    !wget -O $vaeDir $vaeURL #下载vae\n",
    "    display(successBTN)\n",
    "else:\n",
    "    display(alreadyBTN)\n",
    "    \n",
    "if os.path.exists(SDmodelsDir)==False: \n",
    "    print('正在下载模型')\n",
    "    !wget -O $SDmodelsDir $modelURL #下载模型\n",
    "    display(successBTN)\n",
    "else:\n",
    "    display(alreadyBTN)"
   ]
  }
 ],
 "metadata": {
  "kernelspec": {
   "display_name": "Python 3 (ipykernel)",
   "language": "python",
   "name": "python3"
  },
  "language_info": {
   "codemirror_mode": {
    "name": "ipython",
    "version": 3
   },
   "file_extension": ".py",
   "mimetype": "text/x-python",
   "name": "python",
   "nbconvert_exporter": "python",
   "pygments_lexer": "ipython3",
   "version": "3.8.10"
  }
 },
 "nbformat": 4,
 "nbformat_minor": 5
}
