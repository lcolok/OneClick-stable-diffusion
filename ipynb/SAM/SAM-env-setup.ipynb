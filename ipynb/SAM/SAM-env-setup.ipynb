{
  "cells": [
    {
      "cell_type": "code",
      "execution_count": null,
      "id": "346e96e0-5b19-4bea-9165-4c08aa34d863",
      "metadata": {},
      "outputs": [],
      "source": [
        "!pip install git+https://github.com/facebookresearch/segment-anything.git"
      ]
    },
    {
      "cell_type": "code",
      "execution_count": null,
      "id": "70a1a010-eb70-47ac-93e2-4ac96910b7c8",
      "metadata": {},
      "outputs": [],
      "source": [
        "!pip install opencv-python pycocotools matplotlib onnxruntime onnx"
      ]
    },
    {
      "cell_type": "code",
      "execution_count": null,
      "id": "2090f3fb-e6c2-44bb-91e6-1b81db8d4844",
      "metadata": {},
      "outputs": [],
      "source": []
    }
  ],
  "metadata": {
    "kernelspec": {
      "display_name": "Python 3 (ipykernel)",
      "language": "python",
      "name": "python3"
    },
    "language_info": {
      "codemirror_mode": {
        "name": "ipython",
        "version": 3
      },
      "file_extension": ".py",
      "mimetype": "text/x-python",
      "name": "python",
      "nbconvert_exporter": "python",
      "pygments_lexer": "ipython3",
      "version": "3.8.15"
    }
  },
  "nbformat": 4,
  "nbformat_minor": 5
}