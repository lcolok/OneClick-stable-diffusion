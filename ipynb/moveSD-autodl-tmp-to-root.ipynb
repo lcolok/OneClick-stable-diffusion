{
 "cells": [
  {
   "cell_type": "markdown",
   "id": "3a649246-2bd6-4020-bc31-7f4bad66e231",
   "metadata": {},
   "source": [
    "# 移动SD路径————从autodl-tmp到根目录\n",
    "因为默认的系统盘只有25G，如果装上各种拓展和模型，很快就塞爆，所以建议首先把stable-diffusion-webui移动到autodl-tmp目录下，这里有50G的空间，而且这样做也方便当机器被占用时进行跨实例拷贝数据"
   ]
  },
  {
   "cell_type": "code",
   "execution_count": 4,
   "id": "f34677bb-9278-4ba3-a39d-272e4b06d82b",
   "metadata": {},
   "outputs": [
    {
     "data": {
      "application/vnd.jupyter.widget-view+json": {
       "model_id": "249d0c0c2ab94102ace70e77fd876e19",
       "version_major": 2,
       "version_minor": 0
      },
      "text/plain": [
       "Button(button_style='success', description='移动成功!', icon='running', style=ButtonStyle(), tooltip='Description'…"
      ]
     },
     "metadata": {},
     "output_type": "display_data"
    }
   ],
   "source": [
    "import os,sys\n",
    "sys.path.append('../') # 把上级路径也加入到系统路径中，这样就能够找到func\n",
    "from func.env import getWebUIDir\n",
    "from IPython.display import display\n",
    "import ipywidgets as widgets\n",
    "\n",
    "webUIDir=getWebUIDir()\n",
    "newDir='/root/stable-diffusion-webui'\n",
    "# print(webUIDir)\n",
    "\n",
    "successBTN = widgets.Button(\n",
    "    value=False,\n",
    "    description='移动成功!',\n",
    "    disabled=False,\n",
    "    button_style='success', # 'success', 'info', 'warning', 'danger' or ''\n",
    "    tooltip='Description',\n",
    "    icon='running' # (FontAwesome names without the `fa-` prefix)\n",
    ")\n",
    "\n",
    "alreadyBTN = widgets.Button(\n",
    "    value=False,\n",
    "    description='无需移动',\n",
    "    disabled=False,\n",
    "    button_style='info', # 'success', 'info', 'warning', 'danger' or ''\n",
    "    tooltip='Description',\n",
    "    icon='check' # (FontAwesome names without the `fa-` prefix)\n",
    ")\n",
    "\n",
    "if webUIDir!=newDir:\n",
    "    !mv $webUIDir $newDir\n",
    "    display(successBTN)\n",
    "else:\n",
    "    display(alreadyBTN)"
   ]
  }
 ],
 "metadata": {
  "kernelspec": {
   "display_name": "Python 3 (ipykernel)",
   "language": "python",
   "name": "python3"
  },
  "language_info": {
   "codemirror_mode": {
    "name": "ipython",
    "version": 3
   },
   "file_extension": ".py",
   "mimetype": "text/x-python",
   "name": "python",
   "nbconvert_exporter": "python",
   "pygments_lexer": "ipython3",
   "version": "3.8.10"
  }
 },
 "nbformat": 4,
 "nbformat_minor": 5
}
