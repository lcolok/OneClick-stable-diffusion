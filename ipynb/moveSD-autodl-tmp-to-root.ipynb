{
  "cells": [
    {
      "cell_type": "markdown",
      "id": "3a649246-2bd6-4020-bc31-7f4bad66e231",
      "metadata": {},
      "source": [
        "# \u79fb\u52a8SD\u8def\u5f84\u2014\u2014\u2014\u2014\u4eceautodl-tmp\u5230\u6839\u76ee\u5f55\n",
        "\u56e0\u4e3a\u9ed8\u8ba4\u7684\u7cfb\u7edf\u76d8\u53ea\u670925G\uff0c\u5982\u679c\u88c5\u4e0a\u5404\u79cd\u62d3\u5c55\u548c\u6a21\u578b\uff0c\u5f88\u5feb\u5c31\u585e\u7206\uff0c\u6240\u4ee5\u5efa\u8bae\u9996\u5148\u628astable-diffusion-webui\u79fb\u52a8\u5230autodl-tmp\u76ee\u5f55\u4e0b\uff0c\u8fd9\u91cc\u670950G\u7684\u7a7a\u95f4\uff0c\u800c\u4e14\u8fd9\u6837\u505a\u4e5f\u65b9\u4fbf\u5f53\u673a\u5668\u88ab\u5360\u7528\u65f6\u8fdb\u884c\u8de8\u5b9e\u4f8b\u62f7\u8d1d\u6570\u636e"
      ]
    },
    {
      "cell_type": "code",
      "execution_count": null,
      "id": "f34677bb-9278-4ba3-a39d-272e4b06d82b",
      "metadata": {},
      "outputs": [],
      "source": [
        "import os,sys\n",
        "sys.path.append('../') # \u628a\u4e0a\u7ea7\u8def\u5f84\u4e5f\u52a0\u5165\u5230\u7cfb\u7edf\u8def\u5f84\u4e2d\uff0c\u8fd9\u6837\u5c31\u80fd\u591f\u627e\u5230func\n",
        "from func.env import getWebUIDir\n",
        "from IPython.display import display\n",
        "import ipywidgets as widgets\n",
        "\n",
        "webUIDir=getWebUIDir()\n",
        "newDir='/root/stable-diffusion-webui'\n",
        "# print(webUIDir)\n",
        "\n",
        "successBTN = widgets.Button(\n",
        "    value=False,\n",
        "    description='\u79fb\u52a8\u6210\u529f!',\n",
        "    disabled=False,\n",
        "    button_style='success', # 'success', 'info', 'warning', 'danger' or ''\n",
        "    tooltip='Description',\n",
        "    icon='running' # (FontAwesome names without the `fa-` prefix)\n",
        ")\n",
        "\n",
        "alreadyBTN = widgets.Button(\n",
        "    value=False,\n",
        "    description='\u65e0\u9700\u79fb\u52a8',\n",
        "    disabled=False,\n",
        "    button_style='info', # 'success', 'info', 'warning', 'danger' or ''\n",
        "    tooltip='Description',\n",
        "    icon='check' # (FontAwesome names without the `fa-` prefix)\n",
        ")\n",
        "\n",
        "if webUIDir!=newDir:\n",
        "    !mv $webUIDir $newDir\n",
        "    display(successBTN)\n",
        "else:\n",
        "    display(alreadyBTN)"
      ]
    }
  ],
  "metadata": {
    "kernelspec": {
      "display_name": "Python 3 (ipykernel)",
      "language": "python",
      "name": "python3"
    },
    "language_info": {
      "codemirror_mode": {
        "name": "ipython",
        "version": 3
      },
      "file_extension": ".py",
      "mimetype": "text/x-python",
      "name": "python",
      "nbconvert_exporter": "python",
      "pygments_lexer": "ipython3",
      "version": "3.8.10"
    }
  },
  "nbformat": 4,
  "nbformat_minor": 5
}