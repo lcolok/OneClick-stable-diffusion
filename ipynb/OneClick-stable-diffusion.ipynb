{
  "cells": [
    {
      "cell_type": "markdown",
      "id": "21d7e8a1-2486-4574-b71e-af90301d5cde",
      "metadata": {},
      "source": [
        "# \u6b22\u8fce\u8bed\n",
        "\u66f4\u65b0\u65e5\u5fd7"
      ]
    },
    {
      "cell_type": "markdown",
      "id": "83025d61-3547-416b-a519-bad97f36f915",
      "metadata": {
        "tags": []
      },
      "source": [
        "# \u57fa\u7840\u914d\u7f6e"
      ]
    },
    {
      "cell_type": "code",
      "execution_count": null,
      "id": "2ce2fae8-24a6-400c-94ca-fd6cba45685f",
      "metadata": {
        "jupyter": {
          "source_hidden": true
        },
        "tags": [],
        "collapsed": true
      },
      "outputs": [],
      "source": [
        "#\u9700\u8981\u5b89\u88c5ipywidgets\uff0c\u6b64\u955c\u50cf\u5df2\u7ecf\u5b89\u88c5\u4e86\u5bf9\u5e94\u7684\u4f9d\u8d56\u5305\n",
        "# !conda install -c conda-forge jupyterlab \n",
        "# !conda install -c conda-forge ipywidgets\n",
        "# !conda install -c conda-forge ipython\n",
        "# !conda install -c conda-forge ipympl\n",
        "\n",
        "# \u5b9e\u73b0\u663e\u793a/\u9690\u85cf\u4ee3\u7801\u5757\u7684\u6b65\u9aa4\uff1a\n",
        "# \u5b89\u88c5jupyter_contrib_nbextentions\n",
        "# \uff08Ref: https://jupyter-contrib-nbextensions.readthedocs.io/en/latest/install.html#install-the-python-package\uff09\n",
        "# conda\u5b89\u88c5\u547d\u4ee4\uff1aconda install -c conda-forge jupyter_contrib_nbextensions\n",
        "# python\u5b89\u88c5\u547d\u4ee4\uff1apip install jupyter_contrib_nbextensions\n",
        "\n",
        "# \u5b89\u88c5jupyter_nbextentions_contributor\uff0c\u4ee5\u4fbf\u5728Jupyter Notebook\u9875\u9762\u8bbe\u7f6enbextentions\n",
        "# \uff08Ref: https://github.com/Jupyter-contrib/jupyter_nbextensions_configurator\uff09\n",
        "# conda\u5b89\u88c5\u547d\u4ee4\uff1aconda install -c conda-forge jupyter_nbextensions_configurator\n",
        "# python\u5b89\u88c5\u547d\u4ee4\uff1apip install jupyter_nbextensions_configurator\n",
        "\n",
        "# !apt-get update && apt install net-tools"
      ]
    },
    {
      "cell_type": "markdown",
      "id": "a586155e-1ce7-4cb9-b94e-c044fd85e15f",
      "metadata": {
        "tags": []
      },
      "source": [
        "## <i class=\"fa fa-plane-departure\"></i> \u5b66\u672f\u52a0\u901f\n",
        "\u9996\u5148\u8981\u8fdb\u884c\u5b66\u672f\u52a0\u901f\uff0c\u8fd9\u6709\u5229\u4e8e\u62c9\u53d6\u8d44\u6e90\uff0c\u8be6\u60c5\u8bf7\u770b\uff1ahttps://www.autodl.com/docs/network_turbo/  "
      ]
    },
    {
      "cell_type": "code",
      "execution_count": null,
      "id": "ef32d892-2010-4a1c-b429-7ad98a1ac17a",
      "metadata": {
        "tags": [],
        "collapsed": true
      },
      "outputs": [],
      "source": [
        "import sys\n",
        "sys.path.append('../') # \u56e0\u4e3afunc\u4e0eipynb\u4f4d\u4e8e\u540c\u4e00\u4e2a\u76ee\u5f55\u4e0b\uff0c\u6240\u4ee5\u8981\u5f80\u4e0a\u4e00\u5c42\u8def\u5f84\u7d22\u5f15\n",
        "from func.env import setProxy\n",
        "cb=setProxy()\n",
        "proxy=cb['proxy']\n",
        "region=cb['region']"
      ]
    },
    {
      "cell_type": "markdown",
      "id": "328c9e45-6087-44b2-a5d2-53230d0454f0",
      "metadata": {},
      "source": [
        "## <i class=\"fa fa-star\"></i> Notebook\u73af\u5883\u5207\u6362\n",
        "\u5728JupyterLab\u7684Notebook\u4e2d\u4f7f\u7528\u65b0\u7684Conda\u73af\u5883"
      ]
    },
    {
      "cell_type": "code",
      "execution_count": null,
      "id": "85cfa22d-8437-4508-87cf-57f7d13dcfc2",
      "metadata": {
        "jupyter": {
          "source_hidden": true
        },
        "tags": [],
        "collapsed": true
      },
      "outputs": [],
      "source": [
        "from subprocess import getoutput\n",
        "from IPython.display import clear_output\n",
        "import ipywidgets as widgets\n",
        "\n",
        "# s = getoutput('conda info --env')\n",
        "# if 'py3.10.6' not in s:\n",
        "#     print('\u5f53\u524d\u7cfb\u7edf\u4e2d\u6ca1\u6709py3.10.6\u73af\u5883\uff0c\u6b63\u5728\u5b89\u88c5')\n",
        "#     # \u521b\u5efaConda\u65b0\u7684\u865a\u62df\u73af\u5883\n",
        "#     # \u6784\u5efa\u4e00\u4e2a\u865a\u62df\u73af\u5883\uff0c\u540d\u4e3a: py3.10.6\n",
        "#     # \u66f4\u65b0bashrc\u4e2d\u7684\u73af\u5883\u53d8\u91cf\n",
        "#     !source ~/miniconda3/etc/profile.d/conda.sh &&\\\n",
        "#     conda create -n py3.10.6 python=3.10.6 &&\\\n",
        "#     conda init bash && source /root/.bashrc\n",
        "# else:\n",
        "#     print('\u5df2\u7ecf\u5b89\u88c5\u4e86py3.10.6\u73af\u5883')\n",
        "#     # !source activate &&\\\n",
        "#     # conda activate py3.10.6 &&\\\n",
        "#     # conda install ipykernel &&\\\n",
        "#     # ipython kernel install --user --name=py3.10.6 --display-name \"Python3.10.6\" # \u8bbe\u7f6ekernel\uff0c--user\u8868\u793a\u5f53\u524d\u7528\u6237\uff0c--name\u4e3a\u865a\u62df\u73af\u5883\u540d\u79f0\uff0c--display-name\u4e3a\u7b14\u8bb0\u672c\u663e\u793a\u540d\u79f0\n",
        "\n",
        "# clear_output(wait=True)\n",
        "# # print(\"Done!\")\n",
        "\n",
        "widgets.Button(\n",
        "    value=False,\n",
        "    description='\u73af\u5883\u90e8\u7f72\u6210\u529f!',\n",
        "    disabled=False,\n",
        "    button_style='success', # 'success', 'info', 'warning', 'danger' or ''\n",
        "    tooltip='Description',\n",
        "    icon='check' # (FontAwesome names without the `fa-` prefix)\n",
        ")"
      ]
    },
    {
      "cell_type": "markdown",
      "id": "3e392e78-580b-4d14-9fd7-26bcb2fdca7e",
      "metadata": {
        "tags": []
      },
      "source": [
        "## <i class=\"fa fa-download\"></i> \u66f4\u65b0\u672c\u4f53\u4e0e\u73af\u5883"
      ]
    },
    {
      "cell_type": "markdown",
      "id": "6545b20b-dd16-4c0b-ac59-a31398cd7f28",
      "metadata": {},
      "source": [
        "\u66f4\u65b0Stable-diffusion-WebUI\u672c\u4f53\u4e0e\u73af\u5883\u547d\u4ee4"
      ]
    },
    {
      "cell_type": "code",
      "execution_count": null,
      "id": "d7c84343-104b-4d97-bad4-66f37b14c3cc",
      "metadata": {
        "jupyter": {
          "source_hidden": true
        },
        "scrolled": true,
        "tags": [],
        "collapsed": true
      },
      "outputs": [],
      "source": [
        "import os,sys\n",
        "sys.path.append('../') # \u628a\u4e0a\u7ea7\u8def\u5f84\u4e5f\u52a0\u5165\u5230\u7cfb\u7edf\u8def\u5f84\u4e2d\uff0c\u8fd9\u6837\u5c31\u80fd\u591f\u627e\u5230func\n",
        "\n",
        "from IPython.display import display,clear_output\n",
        "clear_output()\n",
        "import ipywidgets as widgets\n",
        "from func.env import setProxy,getWebUIDir\n",
        "\n",
        "webUIDir=getWebUIDir()\n",
        "debugging=False\n",
        "\n",
        "alertBtn = widgets.Button(\n",
        "    value=False,\n",
        "    description='',\n",
        "    disabled=False,\n",
        "    button_style='', # 'success', 'info', 'warning', 'danger' or ''\n",
        "    tooltip='',\n",
        "    icon='' # (FontAwesome names without the `fa-` prefix)\n",
        ")\n",
        "\n",
        "try:\n",
        "    proxy,region\n",
        "except NameError:\n",
        "    cb=setProxy()\n",
        "    proxy=cb['proxy']\n",
        "    region=cb['region']\n",
        "    clear_output(wait=True)\n",
        "    \n",
        "display(alertBtn)\n",
        "    \n",
        "if os.path.exists(webUIDir):\n",
        "    \n",
        "    alertBtn.description='\u6b63\u5728\u66f4\u65b0...'\n",
        "    alertBtn.button_style='warning'\n",
        "    alertBtn.icon='upload'\n",
        "    \n",
        "    !source activate &&\\\n",
        "    conda activate py3.10.6 &&\\\n",
        "    $proxy &&\\\n",
        "    cd $webUIDir &&\\\n",
        "    git pull &&\\\n",
        "    python -V &&\\\n",
        "    python -m pip install -r requirements.txt\n",
        "    \n",
        "    if debugging==False:\n",
        "        clear_output()\n",
        "        display(alertBtn)\n",
        "    \n",
        "    alertBtn.description='\u66f4\u65b0\u5b8c\u6210!'\n",
        "    alertBtn.button_style='success'\n",
        "    alertBtn.icon='check'\n",
        "    \n",
        "#     r = !source activate &&\\\n",
        "#     conda activate py3.10.6 &&\\\n",
        "#     $proxy &&\\\n",
        "#     cd $webUIDir &&\\\n",
        "#     git pull &&\\\n",
        "#     python -V &&\\\n",
        "#     python -m pip install -r requirements.txt\n",
        "\n",
        "#     display(r)\n",
        "    \n",
        "#     if 'Already up to date.' in r:\n",
        "#         alertBtn.description='\u66f4\u65b0\u5b8c\u6210!'\n",
        "#         alertBtn.button_style='success'\n",
        "#         alertBtn.icon='check'\n",
        "#     else:\n",
        "#         alertBtn.description='\u66f4\u65b0\u5931\u8d25!'\n",
        "#         alertBtn.button_style='danger'\n",
        "#         alertBtn.icon='exclamation'\n",
        "\n",
        "\n",
        "# clear_output(wait=True)\n",
        "\n",
        "\n"
      ]
    },
    {
      "cell_type": "markdown",
      "id": "bb636268-b393-48f2-81a7-4059b0ab8678",
      "metadata": {
        "tags": []
      },
      "source": [
        "## <i class=\"fa fa-bolt\"></i> \u5b89\u88c5Xformers"
      ]
    },
    {
      "cell_type": "markdown",
      "id": "dfb660d1-1354-4604-9952-47421f256b5c",
      "metadata": {
        "tags": []
      },
      "source": [
        "\u5927\u5e45\u51cf\u5c11\u8ba1\u7b97\u65f6\u95f4\u548c\u663e\u5b58\u5360\u7528\uff0c\u4ee3\u4ef7\u662f\u751f\u6210\u7684\u56fe\u6bcf\u4e2a\u90fd\u6709\u70b9\u53d8\u5316\uff0c\u5f3a\u70c8\u63a8\u8350\u5b89\u88c5!  \n",
        "\u4f46\u4e0d\u540c\u6838\u5fc3\u4ee3\u53f7\u7684\u663e\u5361\u9700\u8981\u4e0d\u540c\u7684\u7f16\u8bd1\u5305\uff0c\u4e0d\u80fd\u6df7\u7528  \n",
        "\u5f53\u7136\u6b64\u7b14\u8bb0\u4f1a\u5e2e\u4f60\u81ea\u52a8\u68c0\u6d4b\u8fd9\u53f0\u673a\u5668\u662f\u5426\u9002\u5408\u5b89\u88c5\uff0c\u800c\u4e14\u4f1a\u81ea\u52a8\u5e2e\u4f60\u5b89\u88c5\u5408\u9002\u7684\u7f16\u8bd1\u5305"
      ]
    },
    {
      "cell_type": "code",
      "execution_count": 1,
      "id": "21d7715e-fac6-4e37-aac4-72dee6409a5f",
      "metadata": {
        "tags": [],
        "collapsed": true
      },
      "outputs": [],
      "source": [
        "import os,sys\n",
        "sys.path.append('../') # \u628a\u4e0a\u7ea7\u8def\u5f84\u4e5f\u52a0\u5165\u5230\u7cfb\u7edf\u8def\u5f84\u4e2d\uff0c\u8fd9\u6837\u5c31\u80fd\u591f\u627e\u5230func\n",
        "from func.xformers import installXformers\n",
        "from func.env import setProxy\n",
        "from IPython.display import clear_output\n",
        "\n",
        "\n",
        "try:\n",
        "    proxy,region\n",
        "except NameError:\n",
        "    cb=setProxy()\n",
        "    proxy=cb['proxy']\n",
        "    region=cb['region']\n",
        "    clear_output(wait=True)\n",
        "\n",
        "installXformers(proxy,region)"
      ]
    },
    {
      "cell_type": "markdown",
      "id": "7dfc12ac-31ff-47d5-8b0a-db537b198ed4",
      "metadata": {
        "tags": []
      },
      "source": [
        "## <i class=\"fa fa-language\"></i> \u5b89\u88c5\u4e2d\u6587\u8bed\u8a00\u5305"
      ]
    },
    {
      "cell_type": "code",
      "execution_count": null,
      "id": "a51570b5-d491-427f-8e8f-3e3b62b2829a",
      "metadata": {
        "jupyter": {
          "source_hidden": true
        },
        "scrolled": true,
        "tags": [],
        "collapsed": true
      },
      "outputs": [],
      "source": [
        "import os,sys\n",
        "sys.path.append('../') # \u628a\u4e0a\u7ea7\u8def\u5f84\u4e5f\u52a0\u5165\u5230\u7cfb\u7edf\u8def\u5f84\u4e2d\uff0c\u8fd9\u6837\u5c31\u80fd\u591f\u627e\u5230func\n",
        "from func.extensionsInstaller import install\n",
        "\n",
        "extURL='https://github.com/dtlnor/stable-diffusion-webui-localization-zh_CN'\n",
        "extFileSize=171055\n",
        "\n",
        "install(extURL,extFileSize)"
      ]
    },
    {
      "cell_type": "markdown",
      "id": "8f07ab33-d922-49f0-bb1c-7a2affbbd92c",
      "metadata": {
        "tags": []
      },
      "source": [
        "## <i class=\"fa fa-images\"></i> \u5b89\u88c5\u56fe\u5e93\u6d4f\u89c8\u5668"
      ]
    },
    {
      "cell_type": "code",
      "execution_count": null,
      "id": "16d6288c-f8a4-4b8d-9cf2-fce6f033316e",
      "metadata": {
        "jupyter": {
          "source_hidden": true
        },
        "scrolled": true,
        "tags": [],
        "collapsed": true
      },
      "outputs": [],
      "source": [
        "import os,sys\n",
        "sys.path.append('../') # \u628a\u4e0a\u7ea7\u8def\u5f84\u4e5f\u52a0\u5165\u5230\u7cfb\u7edf\u8def\u5f84\u4e2d\uff0c\u8fd9\u6837\u5c31\u80fd\u591f\u627e\u5230func\n",
        "from func.extensionsInstaller import install\n",
        "\n",
        "extURL='https://github.com/yfszzx/stable-diffusion-webui-images-browser'\n",
        "extFileSize=82945\n",
        "\n",
        "install(extURL,extFileSize)"
      ]
    },
    {
      "cell_type": "markdown",
      "id": "6ba69146-2487-4537-8dd8-a14970088878",
      "metadata": {},
      "source": [
        "# <i class=\"fa fa-rocket\"></i> \u542f\u52a8Stable-Diffusion-WebUI"
      ]
    },
    {
      "cell_type": "code",
      "execution_count": null,
      "id": "43bd2fb8-e193-4b6f-8530-d4b93cff5a19",
      "metadata": {
        "tags": [],
        "collapsed": true
      },
      "outputs": [],
      "source": [
        "import os,sys\n",
        "sys.path.append('../') # \u628a\u4e0a\u7ea7\u8def\u5f84\u4e5f\u52a0\u5165\u5230\u7cfb\u7edf\u8def\u5f84\u4e2d\uff0c\u8fd9\u6837\u5c31\u80fd\u591f\u627e\u5230func\n",
        "from func.env import setProxy,getWebUIDir,getExtDir,findDir,findFile,getDirSize,styleURL,getArch\n",
        "import ipywidgets as widgets\n",
        "from subprocess import getoutput\n",
        "from func.xformers import checkXformersInstalled\n",
        "from IPython.display import display,clear_output\n",
        "\n",
        "extDir=getExtDir()\n",
        "archCondition = False\n",
        "canUseXformers = False\n",
        "\n",
        "# cb = !source activate &&\\\n",
        "# conda activate py3.10.6 &&\\\n",
        "# python getArch.py\n",
        "\n",
        "cb = getArch()\n",
        "arch = cb['arch']\n",
        "gpu = cb['gpu']\n",
        "\n",
        "whiteList = ['sm80','sm75','sm70','sm86','sm89','sm61']\n",
        "\n",
        "if arch in whiteList:\n",
        "    archCondition = True\n",
        "else:\n",
        "    archCondition = False\n",
        "        \n",
        "if(checkXformersInstalled() and archCondition):\n",
        "    canUseXformers = True\n",
        "else:\n",
        "    canUseXformers = False\n",
        "\n",
        "canUseXformers = True\n",
        "\n",
        "webUIDir = getWebUIDir()\n",
        "\n",
        "args = [\n",
        "        'source activate','&&',\n",
        "        'conda activate py3.10.6','&&',\n",
        "        f'cd {webUIDir}','&&',\n",
        "        'python launch.py',\n",
        "        '--share',\n",
        "        '--opt-split-attention',\n",
        "        '--port 6006',\n",
        "        '--deepdanbooru',\n",
        "        '--administrator',\n",
        "        '--disable-safe-unpickle'\n",
        "       ]\n",
        "\n",
        "try:\n",
        "    proxy\n",
        "except NameError:\n",
        "    print(\"\u4e0d\u5b58\u5728proxy\")\n",
        "else:\n",
        "    if region=='\u672a\u77e5':\n",
        "        print(\"\u4e0d\u5b58\u5728proxy\")\n",
        "    else:\n",
        "        print(f\"\u5df2\u7ecf\u6302\u8f7d\u3010{region}\u3011proxy\")\n",
        "        args.insert(0,f\"{proxy} && env|grep -i proxy &&\")\n",
        "\n",
        "if(canUseXformers==True):\n",
        "    print(\"\u53ef\u4ee5\u4f7f\u7528Xformers\")\n",
        "    args.append(\"--xformers\")\n",
        "else:\n",
        "    print(f\"\u6682\u4e0d\u652f\u6301\u3010{gpu}\u3011\u8be5\u578b\u53f7GPU\uff0c\u4e0d\u4f7f\u7528Xformers\")\n",
        "    \n",
        "cmd = (\" \").join(args)\n",
        "\n",
        "!$cmd"
      ]
    }
  ],
  "metadata": {
    "kernelspec": {
      "display_name": "Python 3 (ipykernel)",
      "language": "python",
      "name": "python3"
    },
    "language_info": {
      "codemirror_mode": {
        "name": "ipython",
        "version": 3
      },
      "file_extension": ".py",
      "mimetype": "text/x-python",
      "name": "python",
      "nbconvert_exporter": "python",
      "pygments_lexer": "ipython3",
      "version": "3.8.10"
    },
    "toc-autonumbering": false,
    "toc-showmarkdowntxt": false,
    "toc-showtags": true,
    "vscode": {
      "interpreter": {
        "hash": "369f2c481f4da34e4445cda3fffd2e751bd1c4d706f27375911949ba6bb62e1c"
      }
    }
  },
  "nbformat": 4,
  "nbformat_minor": 5
}