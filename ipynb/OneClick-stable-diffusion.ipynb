{
 "cells": [
  {
   "cell_type": "markdown",
   "id": "21d7e8a1-2486-4574-b71e-af90301d5cde",
   "metadata": {},
   "source": [
    "# 欢迎语\n",
    "更新日志"
   ]
  },
  {
   "cell_type": "markdown",
   "id": "83025d61-3547-416b-a519-bad97f36f915",
   "metadata": {
    "tags": []
   },
   "source": [
    "# 基础配置"
   ]
  },
  {
   "cell_type": "code",
   "execution_count": 1,
   "id": "2ce2fae8-24a6-400c-94ca-fd6cba45685f",
   "metadata": {
    "tags": []
   },
   "outputs": [],
   "source": [
    "#需要安装ipywidgets，此镜像已经安装了对应的依赖包\n",
    "# !conda install -c conda-forge jupyterlab \n",
    "# !conda install -c conda-forge ipywidgets\n",
    "# !conda install -c conda-forge ipython\n",
    "# !conda install -c conda-forge ipympl\n",
    "\n",
    "# 实现显示/隐藏代码块的步骤：\n",
    "# 安装jupyter_contrib_nbextentions\n",
    "# （Ref: https://jupyter-contrib-nbextensions.readthedocs.io/en/latest/install.html#install-the-python-package）\n",
    "# conda安装命令：conda install -c conda-forge jupyter_contrib_nbextensions\n",
    "# python安装命令：pip install jupyter_contrib_nbextensions\n",
    "\n",
    "# 安装jupyter_nbextentions_contributor，以便在Jupyter Notebook页面设置nbextentions\n",
    "# （Ref: https://github.com/Jupyter-contrib/jupyter_nbextensions_configurator）\n",
    "# conda安装命令：conda install -c conda-forge jupyter_nbextensions_configurator\n",
    "# python安装命令：pip install jupyter_nbextensions_configurator\n",
    "\n",
    "# !apt-get update && apt install net-tools"
   ]
  },
  {
   "cell_type": "markdown",
   "id": "a586155e-1ce7-4cb9-b94e-c044fd85e15f",
   "metadata": {
    "tags": []
   },
   "source": [
    "## <i class=\"fa fa-plane-departure\"></i> 学术加速\n",
    "首先要进行学术加速，这有利于拉取资源，详情请看：https://www.autodl.com/docs/network_turbo/  "
   ]
  },
  {
   "cell_type": "code",
   "execution_count": 1,
   "id": "ef32d892-2010-4a1c-b429-7ad98a1ac17a",
   "metadata": {
    "tags": []
   },
   "outputs": [
    {
     "data": {
      "application/vnd.jupyter.widget-view+json": {
       "model_id": "a8242b747acc425eb3c93434d3621c18",
       "version_major": 2,
       "version_minor": 0
      },
      "text/plain": [
       "Button(button_style='info', description='在使用【北京】代理', style=ButtonStyle(), tooltip='请点击下方的区名')"
      ]
     },
     "metadata": {},
     "output_type": "display_data"
    },
    {
     "data": {
      "application/vnd.jupyter.widget-view+json": {
       "model_id": "cc12387409b34e55b2ba6e2642f98913",
       "version_major": 2,
       "version_minor": 0
      },
      "text/plain": [
       "Button(description='芜湖', style=ButtonStyle(), tooltip='Click me')"
      ]
     },
     "metadata": {},
     "output_type": "display_data"
    },
    {
     "data": {
      "application/vnd.jupyter.widget-view+json": {
       "model_id": "284488a329e94ace87703c1b4b75757e",
       "version_major": 2,
       "version_minor": 0
      },
      "text/plain": [
       "Button(button_style='success', description='北京', icon='check', style=ButtonStyle(), tooltip='Click me')"
      ]
     },
     "metadata": {},
     "output_type": "display_data"
    },
    {
     "data": {
      "application/vnd.jupyter.widget-view+json": {
       "model_id": "9e352843b040485f859c3d94e453adca",
       "version_major": 2,
       "version_minor": 0
      },
      "text/plain": [
       "Button(description='内蒙', style=ButtonStyle(), tooltip='Click me')"
      ]
     },
     "metadata": {},
     "output_type": "display_data"
    },
    {
     "data": {
      "application/vnd.jupyter.widget-view+json": {
       "model_id": "61b75047df674f2899aa1979054f1d2f",
       "version_major": 2,
       "version_minor": 0
      },
      "text/plain": [
       "Button(description='泉州', style=ButtonStyle(), tooltip='Click me')"
      ]
     },
     "metadata": {},
     "output_type": "display_data"
    },
    {
     "data": {
      "application/vnd.jupyter.widget-view+json": {
       "model_id": "da1f2c1d6b784292acb5c5893b73d56f",
       "version_major": 2,
       "version_minor": 0
      },
      "text/plain": [
       "Button(description='南京', style=ButtonStyle(), tooltip='Click me')"
      ]
     },
     "metadata": {},
     "output_type": "display_data"
    },
    {
     "data": {
      "application/vnd.jupyter.widget-view+json": {
       "model_id": "7d3042380970450394b7e6d198c280d5",
       "version_major": 2,
       "version_minor": 0
      },
      "text/plain": [
       "Button(description='佛山', style=ButtonStyle(), tooltip='Click me')"
      ]
     },
     "metadata": {},
     "output_type": "display_data"
    },
    {
     "data": {
      "application/vnd.jupyter.widget-view+json": {
       "model_id": "e42165027f6341c3bc5906c1778ad6a1",
       "version_major": 2,
       "version_minor": 0
      },
      "text/plain": [
       "Button(description='九天', style=ButtonStyle(), tooltip='Click me')"
      ]
     },
     "metadata": {},
     "output_type": "display_data"
    }
   ],
   "source": [
    "import sys\n",
    "sys.path.append('../') # 因为func与ipynb位于同一个目录下，所以要往上一层路径索引\n",
    "from func.env import setProxy\n",
    "cb=setProxy()\n",
    "proxy=cb['proxy']\n",
    "region=cb['region']"
   ]
  },
  {
   "cell_type": "markdown",
   "id": "328c9e45-6087-44b2-a5d2-53230d0454f0",
   "metadata": {},
   "source": [
    "## <i class=\"fa fa-star\"></i> Notebook环境切换\n",
    "在JupyterLab的Notebook中使用新的Conda环境"
   ]
  },
  {
   "cell_type": "code",
   "execution_count": 3,
   "id": "85cfa22d-8437-4508-87cf-57f7d13dcfc2",
   "metadata": {
    "tags": []
   },
   "outputs": [
    {
     "data": {
      "application/vnd.jupyter.widget-view+json": {
       "model_id": "c239b989732849cf8a0835c2dfdaf9f6",
       "version_major": 2,
       "version_minor": 0
      },
      "text/plain": [
       "Button(button_style='success', description='环境部署成功!', icon='check', style=ButtonStyle(), tooltip='Description'…"
      ]
     },
     "metadata": {},
     "output_type": "display_data"
    }
   ],
   "source": [
    "from subprocess import getoutput\n",
    "from IPython.display import clear_output\n",
    "import ipywidgets as widgets\n",
    "\n",
    "# s = getoutput('conda info --env')\n",
    "# if 'py3.10.6' not in s:\n",
    "#     print('当前系统中没有py3.10.6环境，正在安装')\n",
    "#     # 创建Conda新的虚拟环境\n",
    "#     # 构建一个虚拟环境，名为: py3.10.6\n",
    "#     # 更新bashrc中的环境变量\n",
    "#     !source ~/miniconda3/etc/profile.d/conda.sh &&\\\n",
    "#     conda create -n py3.10.6 python=3.10.6 &&\\\n",
    "#     conda init bash && source /root/.bashrc\n",
    "# else:\n",
    "#     print('已经安装了py3.10.6环境')\n",
    "#     # !source activate &&\\\n",
    "#     # conda activate py3.10.6 &&\\\n",
    "#     # conda install ipykernel &&\\\n",
    "#     # ipython kernel install --user --name=py3.10.6 --display-name \"Python3.10.6\" # 设置kernel，--user表示当前用户，--name为虚拟环境名称，--display-name为笔记本显示名称\n",
    "\n",
    "# clear_output(wait=True)\n",
    "# # print(\"Done!\")\n",
    "\n",
    "\n",
    "widgets.Button(\n",
    "    value=False,\n",
    "    description='环境部署成功!',\n",
    "    disabled=False,\n",
    "    button_style='success', # 'success', 'info', 'warning', 'danger' or ''\n",
    "    tooltip='Description',\n",
    "    icon='check' # (FontAwesome names without the `fa-` prefix)\n",
    ")\n",
    "\n"
   ]
  },
  {
   "cell_type": "markdown",
   "id": "3e392e78-580b-4d14-9fd7-26bcb2fdca7e",
   "metadata": {
    "tags": []
   },
   "source": [
    "## <i class=\"fa fa-download\"></i> 更新本体与环境"
   ]
  },
  {
   "cell_type": "markdown",
   "id": "6545b20b-dd16-4c0b-ac59-a31398cd7f28",
   "metadata": {},
   "source": [
    "更新Stable-diffusion-WebUI本体与环境命令"
   ]
  },
  {
   "cell_type": "code",
   "execution_count": 4,
   "id": "d7c84343-104b-4d97-bad4-66f37b14c3cc",
   "metadata": {
    "scrolled": true,
    "tags": []
   },
   "outputs": [
    {
     "data": {
      "application/vnd.jupyter.widget-view+json": {
       "model_id": "16ef9996a39149a1843b3d05b98d552c",
       "version_major": 2,
       "version_minor": 0
      },
      "text/plain": [
       "Button(style=ButtonStyle())"
      ]
     },
     "metadata": {},
     "output_type": "display_data"
    },
    {
     "name": "stdout",
     "output_type": "stream",
     "text": [
      "Already up to date.\n",
      "Python 3.10.6\n",
      "Looking in indexes: https://pypi.tuna.tsinghua.edu.cn/simple\n",
      "Requirement already satisfied: accelerate in /root/miniconda3/envs/py3.10.6/lib/python3.10/site-packages (from -r requirements.txt (line 1)) (0.14.0)\n",
      "Requirement already satisfied: basicsr in /root/miniconda3/envs/py3.10.6/lib/python3.10/site-packages (from -r requirements.txt (line 2)) (1.4.2)\n",
      "Requirement already satisfied: diffusers in /root/miniconda3/envs/py3.10.6/lib/python3.10/site-packages (from -r requirements.txt (line 3)) (0.3.0)\n",
      "Requirement already satisfied: fairscale==0.4.4 in /root/miniconda3/envs/py3.10.6/lib/python3.10/site-packages (from -r requirements.txt (line 4)) (0.4.4)\n",
      "Requirement already satisfied: fonts in /root/miniconda3/envs/py3.10.6/lib/python3.10/site-packages (from -r requirements.txt (line 5)) (0.0.3)\n",
      "Requirement already satisfied: font-roboto in /root/miniconda3/envs/py3.10.6/lib/python3.10/site-packages (from -r requirements.txt (line 6)) (0.0.1)\n",
      "Requirement already satisfied: gfpgan in /root/miniconda3/envs/py3.10.6/lib/python3.10/site-packages (from -r requirements.txt (line 7)) (1.3.8)\n",
      "Requirement already satisfied: gradio==3.9 in /root/miniconda3/envs/py3.10.6/lib/python3.10/site-packages (from -r requirements.txt (line 8)) (3.9)\n",
      "Requirement already satisfied: invisible-watermark in /root/miniconda3/envs/py3.10.6/lib/python3.10/site-packages (from -r requirements.txt (line 9)) (0.1.5)\n",
      "Requirement already satisfied: numpy in /root/miniconda3/envs/py3.10.6/lib/python3.10/site-packages (from -r requirements.txt (line 10)) (1.23.3)\n",
      "Requirement already satisfied: omegaconf in /root/miniconda3/envs/py3.10.6/lib/python3.10/site-packages (from -r requirements.txt (line 11)) (2.2.3)\n",
      "Requirement already satisfied: opencv-python in /root/miniconda3/envs/py3.10.6/lib/python3.10/site-packages (from -r requirements.txt (line 12)) (4.6.0.66)\n",
      "Requirement already satisfied: requests in /root/miniconda3/envs/py3.10.6/lib/python3.10/site-packages (from -r requirements.txt (line 13)) (2.25.1)\n",
      "Requirement already satisfied: piexif in /root/miniconda3/envs/py3.10.6/lib/python3.10/site-packages (from -r requirements.txt (line 14)) (1.1.3)\n",
      "Requirement already satisfied: Pillow in /root/miniconda3/envs/py3.10.6/lib/python3.10/site-packages (from -r requirements.txt (line 15)) (9.2.0)\n",
      "Requirement already satisfied: pytorch_lightning==1.7.7 in /root/miniconda3/envs/py3.10.6/lib/python3.10/site-packages (from -r requirements.txt (line 16)) (1.7.7)\n",
      "Requirement already satisfied: realesrgan in /root/miniconda3/envs/py3.10.6/lib/python3.10/site-packages (from -r requirements.txt (line 17)) (0.3.0)\n",
      "Requirement already satisfied: scikit-image>=0.19 in /root/miniconda3/envs/py3.10.6/lib/python3.10/site-packages (from -r requirements.txt (line 18)) (0.19.2)\n",
      "Requirement already satisfied: timm==0.4.12 in /root/miniconda3/envs/py3.10.6/lib/python3.10/site-packages (from -r requirements.txt (line 19)) (0.4.12)\n",
      "Requirement already satisfied: transformers==4.19.2 in /root/miniconda3/envs/py3.10.6/lib/python3.10/site-packages (from -r requirements.txt (line 20)) (4.19.2)\n",
      "Requirement already satisfied: torch in /root/miniconda3/envs/py3.10.6/lib/python3.10/site-packages (from -r requirements.txt (line 21)) (1.12.1)\n",
      "Requirement already satisfied: einops in /root/miniconda3/envs/py3.10.6/lib/python3.10/site-packages (from -r requirements.txt (line 22)) (0.4.1)\n",
      "Requirement already satisfied: jsonmerge in /root/miniconda3/envs/py3.10.6/lib/python3.10/site-packages (from -r requirements.txt (line 23)) (1.8.0)\n",
      "Requirement already satisfied: clean-fid in /root/miniconda3/envs/py3.10.6/lib/python3.10/site-packages (from -r requirements.txt (line 24)) (0.1.29)\n",
      "Requirement already satisfied: resize-right in /root/miniconda3/envs/py3.10.6/lib/python3.10/site-packages (from -r requirements.txt (line 25)) (0.0.2)\n",
      "Requirement already satisfied: torchdiffeq in /root/miniconda3/envs/py3.10.6/lib/python3.10/site-packages (from -r requirements.txt (line 26)) (0.2.3)\n",
      "Requirement already satisfied: kornia in /root/miniconda3/envs/py3.10.6/lib/python3.10/site-packages (from -r requirements.txt (line 27)) (0.6.7)\n",
      "Requirement already satisfied: lark in /root/miniconda3/envs/py3.10.6/lib/python3.10/site-packages (from -r requirements.txt (line 28)) (1.1.2)\n",
      "Requirement already satisfied: inflection in /root/miniconda3/envs/py3.10.6/lib/python3.10/site-packages (from -r requirements.txt (line 29)) (0.5.1)\n",
      "Requirement already satisfied: GitPython in /root/miniconda3/envs/py3.10.6/lib/python3.10/site-packages (from -r requirements.txt (line 30)) (3.1.29)\n",
      "Requirement already satisfied: uvicorn in /root/miniconda3/envs/py3.10.6/lib/python3.10/site-packages (from gradio==3.9->-r requirements.txt (line 8)) (0.19.0)\n",
      "Requirement already satisfied: httpx in /root/miniconda3/envs/py3.10.6/lib/python3.10/site-packages (from gradio==3.9->-r requirements.txt (line 8)) (0.23.0)\n",
      "Requirement already satisfied: pycryptodome in /root/miniconda3/envs/py3.10.6/lib/python3.10/site-packages (from gradio==3.9->-r requirements.txt (line 8)) (3.15.0)\n",
      "Requirement already satisfied: aiohttp in /root/miniconda3/envs/py3.10.6/lib/python3.10/site-packages (from gradio==3.9->-r requirements.txt (line 8)) (3.8.3)\n",
      "Requirement already satisfied: jinja2 in /root/miniconda3/envs/py3.10.6/lib/python3.10/site-packages (from gradio==3.9->-r requirements.txt (line 8)) (3.1.2)\n",
      "Requirement already satisfied: websockets in /root/miniconda3/envs/py3.10.6/lib/python3.10/site-packages (from gradio==3.9->-r requirements.txt (line 8)) (10.3)\n",
      "Requirement already satisfied: fsspec in /root/miniconda3/envs/py3.10.6/lib/python3.10/site-packages (from gradio==3.9->-r requirements.txt (line 8)) (2022.10.0)\n",
      "Requirement already satisfied: pydantic in /root/miniconda3/envs/py3.10.6/lib/python3.10/site-packages (from gradio==3.9->-r requirements.txt (line 8)) (1.10.2)\n",
      "Requirement already satisfied: ffmpy in /root/miniconda3/envs/py3.10.6/lib/python3.10/site-packages (from gradio==3.9->-r requirements.txt (line 8)) (0.3.0)\n",
      "Requirement already satisfied: pyyaml in /root/miniconda3/envs/py3.10.6/lib/python3.10/site-packages (from gradio==3.9->-r requirements.txt (line 8)) (6.0)\n",
      "Requirement already satisfied: python-multipart in /root/miniconda3/envs/py3.10.6/lib/python3.10/site-packages (from gradio==3.9->-r requirements.txt (line 8)) (0.0.4)\n",
      "Requirement already satisfied: h11<0.13,>=0.11 in /root/miniconda3/envs/py3.10.6/lib/python3.10/site-packages (from gradio==3.9->-r requirements.txt (line 8)) (0.12.0)\n",
      "Requirement already satisfied: orjson in /root/miniconda3/envs/py3.10.6/lib/python3.10/site-packages (from gradio==3.9->-r requirements.txt (line 8)) (3.8.0)\n",
      "Requirement already satisfied: markdown-it-py[linkify,plugins] in /root/miniconda3/envs/py3.10.6/lib/python3.10/site-packages (from gradio==3.9->-r requirements.txt (line 8)) (2.1.0)\n",
      "Requirement already satisfied: pandas in /root/miniconda3/envs/py3.10.6/lib/python3.10/site-packages (from gradio==3.9->-r requirements.txt (line 8)) (1.5.1)\n",
      "Requirement already satisfied: matplotlib in /root/miniconda3/envs/py3.10.6/lib/python3.10/site-packages (from gradio==3.9->-r requirements.txt (line 8)) (3.6.1)\n",
      "Requirement already satisfied: paramiko in /root/miniconda3/envs/py3.10.6/lib/python3.10/site-packages (from gradio==3.9->-r requirements.txt (line 8)) (2.11.0)\n",
      "Requirement already satisfied: fastapi in /root/miniconda3/envs/py3.10.6/lib/python3.10/site-packages (from gradio==3.9->-r requirements.txt (line 8)) (0.85.1)\n",
      "Requirement already satisfied: pydub in /root/miniconda3/envs/py3.10.6/lib/python3.10/site-packages (from gradio==3.9->-r requirements.txt (line 8)) (0.25.1)\n",
      "Requirement already satisfied: pyDeprecate>=0.3.1 in /root/miniconda3/envs/py3.10.6/lib/python3.10/site-packages (from pytorch_lightning==1.7.7->-r requirements.txt (line 16)) (0.3.2)\n",
      "Requirement already satisfied: packaging>=17.0 in /root/miniconda3/envs/py3.10.6/lib/python3.10/site-packages (from pytorch_lightning==1.7.7->-r requirements.txt (line 16)) (21.3)\n",
      "Requirement already satisfied: typing-extensions>=4.0.0 in /root/miniconda3/envs/py3.10.6/lib/python3.10/site-packages (from pytorch_lightning==1.7.7->-r requirements.txt (line 16)) (4.4.0)\n",
      "Requirement already satisfied: tqdm>=4.57.0 in /root/miniconda3/envs/py3.10.6/lib/python3.10/site-packages (from pytorch_lightning==1.7.7->-r requirements.txt (line 16)) (4.64.1)\n",
      "Requirement already satisfied: tensorboard>=2.9.1 in /root/miniconda3/envs/py3.10.6/lib/python3.10/site-packages (from pytorch_lightning==1.7.7->-r requirements.txt (line 16)) (2.10.1)\n",
      "Requirement already satisfied: torchmetrics>=0.7.0 in /root/miniconda3/envs/py3.10.6/lib/python3.10/site-packages (from pytorch_lightning==1.7.7->-r requirements.txt (line 16)) (0.10.0)\n",
      "Requirement already satisfied: torchvision in /root/miniconda3/envs/py3.10.6/lib/python3.10/site-packages (from timm==0.4.12->-r requirements.txt (line 19)) (0.13.1)\n",
      "Requirement already satisfied: filelock in /root/miniconda3/envs/py3.10.6/lib/python3.10/site-packages (from transformers==4.19.2->-r requirements.txt (line 20)) (3.8.0)\n",
      "Requirement already satisfied: huggingface-hub<1.0,>=0.1.0 in /root/miniconda3/envs/py3.10.6/lib/python3.10/site-packages (from transformers==4.19.2->-r requirements.txt (line 20)) (0.10.1)\n",
      "Requirement already satisfied: regex!=2019.12.17 in /root/miniconda3/envs/py3.10.6/lib/python3.10/site-packages (from transformers==4.19.2->-r requirements.txt (line 20)) (2022.9.13)\n",
      "Requirement already satisfied: tokenizers!=0.11.3,<0.13,>=0.11.1 in /root/miniconda3/envs/py3.10.6/lib/python3.10/site-packages (from transformers==4.19.2->-r requirements.txt (line 20)) (0.12.1)\n",
      "Requirement already satisfied: psutil in /root/miniconda3/envs/py3.10.6/lib/python3.10/site-packages (from accelerate->-r requirements.txt (line 1)) (5.9.4)\n",
      "Requirement already satisfied: addict in /root/miniconda3/envs/py3.10.6/lib/python3.10/site-packages (from basicsr->-r requirements.txt (line 2)) (2.4.0)\n",
      "Requirement already satisfied: scipy in /root/miniconda3/envs/py3.10.6/lib/python3.10/site-packages (from basicsr->-r requirements.txt (line 2)) (1.9.1)\n",
      "Requirement already satisfied: tb-nightly in /root/miniconda3/envs/py3.10.6/lib/python3.10/site-packages (from basicsr->-r requirements.txt (line 2)) (2.11.0a20221024)\n",
      "Requirement already satisfied: yapf in /root/miniconda3/envs/py3.10.6/lib/python3.10/site-packages (from basicsr->-r requirements.txt (line 2)) (0.32.0)\n",
      "Requirement already satisfied: future in /root/miniconda3/envs/py3.10.6/lib/python3.10/site-packages (from basicsr->-r requirements.txt (line 2)) (0.18.2)\n",
      "Requirement already satisfied: lmdb in /root/miniconda3/envs/py3.10.6/lib/python3.10/site-packages (from basicsr->-r requirements.txt (line 2)) (1.3.0)\n",
      "Requirement already satisfied: importlib-metadata in /root/miniconda3/envs/py3.10.6/lib/python3.10/site-packages (from diffusers->-r requirements.txt (line 3)) (4.11.4)\n",
      "Requirement already satisfied: facexlib>=0.2.5 in /root/miniconda3/envs/py3.10.6/lib/python3.10/site-packages (from gfpgan->-r requirements.txt (line 7)) (0.2.5)\n",
      "Requirement already satisfied: onnxruntime in /root/miniconda3/envs/py3.10.6/lib/python3.10/site-packages (from invisible-watermark->-r requirements.txt (line 9)) (1.13.1)\n",
      "Requirement already satisfied: PyWavelets>=1.1.1 in /root/miniconda3/envs/py3.10.6/lib/python3.10/site-packages (from invisible-watermark->-r requirements.txt (line 9)) (1.4.1)\n",
      "Requirement already satisfied: onnx in /root/miniconda3/envs/py3.10.6/lib/python3.10/site-packages (from invisible-watermark->-r requirements.txt (line 9)) (1.12.0)\n",
      "Requirement already satisfied: antlr4-python3-runtime==4.9.* in /root/miniconda3/envs/py3.10.6/lib/python3.10/site-packages (from omegaconf->-r requirements.txt (line 11)) (4.9.3)\n",
      "Requirement already satisfied: urllib3<1.27,>=1.21.1 in /root/miniconda3/envs/py3.10.6/lib/python3.10/site-packages (from requests->-r requirements.txt (line 13)) (1.26.11)\n",
      "Requirement already satisfied: chardet<5,>=3.0.2 in /root/miniconda3/envs/py3.10.6/lib/python3.10/site-packages (from requests->-r requirements.txt (line 13)) (4.0.0)\n",
      "Requirement already satisfied: idna<3,>=2.5 in /root/miniconda3/envs/py3.10.6/lib/python3.10/site-packages (from requests->-r requirements.txt (line 13)) (2.10)\n",
      "Requirement already satisfied: certifi>=2017.4.17 in /root/miniconda3/envs/py3.10.6/lib/python3.10/site-packages (from requests->-r requirements.txt (line 13)) (2022.9.24)\n",
      "Requirement already satisfied: networkx>=2.2 in /root/miniconda3/envs/py3.10.6/lib/python3.10/site-packages (from scikit-image>=0.19->-r requirements.txt (line 18)) (2.8.7)\n",
      "Requirement already satisfied: tifffile>=2019.7.26 in /root/miniconda3/envs/py3.10.6/lib/python3.10/site-packages (from scikit-image>=0.19->-r requirements.txt (line 18)) (2022.10.10)\n",
      "Requirement already satisfied: imageio>=2.4.1 in /root/miniconda3/envs/py3.10.6/lib/python3.10/site-packages (from scikit-image>=0.19->-r requirements.txt (line 18)) (2.22.2)\n",
      "Requirement already satisfied: jsonschema in /root/miniconda3/envs/py3.10.6/lib/python3.10/site-packages (from jsonmerge->-r requirements.txt (line 23)) (4.16.0)\n",
      "Requirement already satisfied: gitdb<5,>=4.0.1 in /root/miniconda3/envs/py3.10.6/lib/python3.10/site-packages (from GitPython->-r requirements.txt (line 30)) (4.0.9)\n",
      "Requirement already satisfied: filterpy in /root/miniconda3/envs/py3.10.6/lib/python3.10/site-packages (from facexlib>=0.2.5->gfpgan->-r requirements.txt (line 7)) (1.4.5)\n",
      "Requirement already satisfied: numba in /root/miniconda3/envs/py3.10.6/lib/python3.10/site-packages (from facexlib>=0.2.5->gfpgan->-r requirements.txt (line 7)) (0.56.3)\n",
      "Requirement already satisfied: aiosignal>=1.1.2 in /root/miniconda3/envs/py3.10.6/lib/python3.10/site-packages (from aiohttp->gradio==3.9->-r requirements.txt (line 8)) (1.2.0)\n",
      "Requirement already satisfied: multidict<7.0,>=4.5 in /root/miniconda3/envs/py3.10.6/lib/python3.10/site-packages (from aiohttp->gradio==3.9->-r requirements.txt (line 8)) (6.0.2)\n",
      "Requirement already satisfied: attrs>=17.3.0 in /root/miniconda3/envs/py3.10.6/lib/python3.10/site-packages (from aiohttp->gradio==3.9->-r requirements.txt (line 8)) (22.1.0)\n",
      "Requirement already satisfied: async-timeout<5.0,>=4.0.0a3 in /root/miniconda3/envs/py3.10.6/lib/python3.10/site-packages (from aiohttp->gradio==3.9->-r requirements.txt (line 8)) (4.0.2)\n",
      "Requirement already satisfied: frozenlist>=1.1.1 in /root/miniconda3/envs/py3.10.6/lib/python3.10/site-packages (from aiohttp->gradio==3.9->-r requirements.txt (line 8)) (1.3.1)\n",
      "Requirement already satisfied: charset-normalizer<3.0,>=2.0 in /root/miniconda3/envs/py3.10.6/lib/python3.10/site-packages (from aiohttp->gradio==3.9->-r requirements.txt (line 8)) (2.1.1)\n",
      "Requirement already satisfied: yarl<2.0,>=1.0 in /root/miniconda3/envs/py3.10.6/lib/python3.10/site-packages (from aiohttp->gradio==3.9->-r requirements.txt (line 8)) (1.7.2)\n",
      "Requirement already satisfied: smmap<6,>=3.0.1 in /root/miniconda3/envs/py3.10.6/lib/python3.10/site-packages (from gitdb<5,>=4.0.1->GitPython->-r requirements.txt (line 30)) (5.0.0)\n",
      "Requirement already satisfied: pyparsing!=3.0.5,>=2.0.2 in /root/miniconda3/envs/py3.10.6/lib/python3.10/site-packages (from packaging>=17.0->pytorch_lightning==1.7.7->-r requirements.txt (line 16)) (3.0.9)\n",
      "Requirement already satisfied: absl-py>=0.4 in /root/miniconda3/envs/py3.10.6/lib/python3.10/site-packages (from tensorboard>=2.9.1->pytorch_lightning==1.7.7->-r requirements.txt (line 16)) (1.3.0)\n",
      "Requirement already satisfied: tensorboard-plugin-wit>=1.6.0 in /root/miniconda3/envs/py3.10.6/lib/python3.10/site-packages (from tensorboard>=2.9.1->pytorch_lightning==1.7.7->-r requirements.txt (line 16)) (1.8.1)\n",
      "Requirement already satisfied: setuptools>=41.0.0 in /root/miniconda3/envs/py3.10.6/lib/python3.10/site-packages (from tensorboard>=2.9.1->pytorch_lightning==1.7.7->-r requirements.txt (line 16)) (65.5.0)\n",
      "Requirement already satisfied: wheel>=0.26 in /root/miniconda3/envs/py3.10.6/lib/python3.10/site-packages (from tensorboard>=2.9.1->pytorch_lightning==1.7.7->-r requirements.txt (line 16)) (0.37.1)\n",
      "Requirement already satisfied: grpcio>=1.24.3 in /root/miniconda3/envs/py3.10.6/lib/python3.10/site-packages (from tensorboard>=2.9.1->pytorch_lightning==1.7.7->-r requirements.txt (line 16)) (1.47.1)\n",
      "Requirement already satisfied: google-auth-oauthlib<0.5,>=0.4.1 in /root/miniconda3/envs/py3.10.6/lib/python3.10/site-packages (from tensorboard>=2.9.1->pytorch_lightning==1.7.7->-r requirements.txt (line 16)) (0.4.6)\n",
      "Requirement already satisfied: google-auth<3,>=1.6.3 in /root/miniconda3/envs/py3.10.6/lib/python3.10/site-packages (from tensorboard>=2.9.1->pytorch_lightning==1.7.7->-r requirements.txt (line 16)) (2.13.0)\n",
      "Requirement already satisfied: protobuf in /root/miniconda3/envs/py3.10.6/lib/python3.10/site-packages (from tensorboard>=2.9.1->pytorch_lightning==1.7.7->-r requirements.txt (line 16)) (3.20.1)\n",
      "Requirement already satisfied: tensorboard-data-server<0.7.0,>=0.6.0 in /root/miniconda3/envs/py3.10.6/lib/python3.10/site-packages (from tensorboard>=2.9.1->pytorch_lightning==1.7.7->-r requirements.txt (line 16)) (0.6.0)\n",
      "Requirement already satisfied: werkzeug>=1.0.1 in /root/miniconda3/envs/py3.10.6/lib/python3.10/site-packages (from tensorboard>=2.9.1->pytorch_lightning==1.7.7->-r requirements.txt (line 16)) (2.2.2)\n",
      "Requirement already satisfied: markdown>=2.6.8 in /root/miniconda3/envs/py3.10.6/lib/python3.10/site-packages (from tensorboard>=2.9.1->pytorch_lightning==1.7.7->-r requirements.txt (line 16)) (3.4.1)\n",
      "Requirement already satisfied: starlette==0.20.4 in /root/miniconda3/envs/py3.10.6/lib/python3.10/site-packages (from fastapi->gradio==3.9->-r requirements.txt (line 8)) (0.20.4)\n",
      "Requirement already satisfied: anyio<5,>=3.4.0 in /root/miniconda3/envs/py3.10.6/lib/python3.10/site-packages (from starlette==0.20.4->fastapi->gradio==3.9->-r requirements.txt (line 8)) (3.6.2)\n",
      "Requirement already satisfied: rfc3986[idna2008]<2,>=1.3 in /root/miniconda3/envs/py3.10.6/lib/python3.10/site-packages (from httpx->gradio==3.9->-r requirements.txt (line 8)) (1.5.0)\n",
      "Requirement already satisfied: httpcore<0.16.0,>=0.15.0 in /root/miniconda3/envs/py3.10.6/lib/python3.10/site-packages (from httpx->gradio==3.9->-r requirements.txt (line 8)) (0.15.0)\n",
      "Requirement already satisfied: sniffio in /root/miniconda3/envs/py3.10.6/lib/python3.10/site-packages (from httpx->gradio==3.9->-r requirements.txt (line 8)) (1.3.0)\n",
      "Requirement already satisfied: zipp>=0.5 in /root/miniconda3/envs/py3.10.6/lib/python3.10/site-packages (from importlib-metadata->diffusers->-r requirements.txt (line 3)) (3.9.0)\n",
      "Requirement already satisfied: MarkupSafe>=2.0 in /root/miniconda3/envs/py3.10.6/lib/python3.10/site-packages (from jinja2->gradio==3.9->-r requirements.txt (line 8)) (2.1.1)\n",
      "Requirement already satisfied: pyrsistent!=0.17.0,!=0.17.1,!=0.17.2,>=0.14.0 in /root/miniconda3/envs/py3.10.6/lib/python3.10/site-packages (from jsonschema->jsonmerge->-r requirements.txt (line 23)) (0.18.1)\n",
      "Requirement already satisfied: mdurl~=0.1 in /root/miniconda3/envs/py3.10.6/lib/python3.10/site-packages (from markdown-it-py[linkify,plugins]->gradio==3.9->-r requirements.txt (line 8)) (0.1.2)\n",
      "Requirement already satisfied: mdit-py-plugins in /root/miniconda3/envs/py3.10.6/lib/python3.10/site-packages (from markdown-it-py[linkify,plugins]->gradio==3.9->-r requirements.txt (line 8)) (0.3.1)\n",
      "Requirement already satisfied: linkify-it-py~=1.0 in /root/miniconda3/envs/py3.10.6/lib/python3.10/site-packages (from markdown-it-py[linkify,plugins]->gradio==3.9->-r requirements.txt (line 8)) (1.0.3)\n",
      "Requirement already satisfied: fonttools>=4.22.0 in /root/miniconda3/envs/py3.10.6/lib/python3.10/site-packages (from matplotlib->gradio==3.9->-r requirements.txt (line 8)) (4.38.0)\n",
      "Requirement already satisfied: python-dateutil>=2.7 in /root/miniconda3/envs/py3.10.6/lib/python3.10/site-packages (from matplotlib->gradio==3.9->-r requirements.txt (line 8)) (2.8.2)\n",
      "Requirement already satisfied: contourpy>=1.0.1 in /root/miniconda3/envs/py3.10.6/lib/python3.10/site-packages (from matplotlib->gradio==3.9->-r requirements.txt (line 8)) (1.0.5)\n",
      "Requirement already satisfied: cycler>=0.10 in /root/miniconda3/envs/py3.10.6/lib/python3.10/site-packages (from matplotlib->gradio==3.9->-r requirements.txt (line 8)) (0.11.0)\n",
      "Requirement already satisfied: kiwisolver>=1.0.1 in /root/miniconda3/envs/py3.10.6/lib/python3.10/site-packages (from matplotlib->gradio==3.9->-r requirements.txt (line 8)) (1.4.4)\n",
      "Requirement already satisfied: sympy in /root/miniconda3/envs/py3.10.6/lib/python3.10/site-packages (from onnxruntime->invisible-watermark->-r requirements.txt (line 9)) (1.11.1)\n",
      "Requirement already satisfied: coloredlogs in /root/miniconda3/envs/py3.10.6/lib/python3.10/site-packages (from onnxruntime->invisible-watermark->-r requirements.txt (line 9)) (15.0.1)\n",
      "Requirement already satisfied: flatbuffers in /root/miniconda3/envs/py3.10.6/lib/python3.10/site-packages (from onnxruntime->invisible-watermark->-r requirements.txt (line 9)) (2.0)\n",
      "Requirement already satisfied: pytz>=2020.1 in /root/miniconda3/envs/py3.10.6/lib/python3.10/site-packages (from pandas->gradio==3.9->-r requirements.txt (line 8)) (2022.5)\n",
      "Requirement already satisfied: cryptography>=2.5 in /root/miniconda3/envs/py3.10.6/lib/python3.10/site-packages (from paramiko->gradio==3.9->-r requirements.txt (line 8)) (38.0.2)\n",
      "Requirement already satisfied: bcrypt>=3.1.3 in /root/miniconda3/envs/py3.10.6/lib/python3.10/site-packages (from paramiko->gradio==3.9->-r requirements.txt (line 8)) (4.0.1)\n",
      "Requirement already satisfied: six in /root/miniconda3/envs/py3.10.6/lib/python3.10/site-packages (from paramiko->gradio==3.9->-r requirements.txt (line 8)) (1.16.0)\n",
      "Requirement already satisfied: pynacl>=1.0.1 in /root/miniconda3/envs/py3.10.6/lib/python3.10/site-packages (from paramiko->gradio==3.9->-r requirements.txt (line 8)) (1.5.0)\n",
      "Requirement already satisfied: click>=7.0 in /root/miniconda3/envs/py3.10.6/lib/python3.10/site-packages (from uvicorn->gradio==3.9->-r requirements.txt (line 8)) (8.1.3)\n",
      "Requirement already satisfied: cffi>=1.12 in /root/miniconda3/envs/py3.10.6/lib/python3.10/site-packages (from cryptography>=2.5->paramiko->gradio==3.9->-r requirements.txt (line 8)) (1.15.1)\n",
      "Requirement already satisfied: rsa<5,>=3.1.4 in /root/miniconda3/envs/py3.10.6/lib/python3.10/site-packages (from google-auth<3,>=1.6.3->tensorboard>=2.9.1->pytorch_lightning==1.7.7->-r requirements.txt (line 16)) (4.9)\n",
      "Requirement already satisfied: pyasn1-modules>=0.2.1 in /root/miniconda3/envs/py3.10.6/lib/python3.10/site-packages (from google-auth<3,>=1.6.3->tensorboard>=2.9.1->pytorch_lightning==1.7.7->-r requirements.txt (line 16)) (0.2.7)\n",
      "Requirement already satisfied: cachetools<6.0,>=2.0.0 in /root/miniconda3/envs/py3.10.6/lib/python3.10/site-packages (from google-auth<3,>=1.6.3->tensorboard>=2.9.1->pytorch_lightning==1.7.7->-r requirements.txt (line 16)) (5.2.0)\n",
      "Requirement already satisfied: requests-oauthlib>=0.7.0 in /root/miniconda3/envs/py3.10.6/lib/python3.10/site-packages (from google-auth-oauthlib<0.5,>=0.4.1->tensorboard>=2.9.1->pytorch_lightning==1.7.7->-r requirements.txt (line 16)) (1.3.1)\n",
      "Requirement already satisfied: uc-micro-py in /root/miniconda3/envs/py3.10.6/lib/python3.10/site-packages (from linkify-it-py~=1.0->markdown-it-py[linkify,plugins]->gradio==3.9->-r requirements.txt (line 8)) (1.0.1)\n",
      "Requirement already satisfied: humanfriendly>=9.1 in /root/miniconda3/envs/py3.10.6/lib/python3.10/site-packages (from coloredlogs->onnxruntime->invisible-watermark->-r requirements.txt (line 9)) (10.0)\n",
      "Requirement already satisfied: llvmlite<0.40,>=0.39.0dev0 in /root/miniconda3/envs/py3.10.6/lib/python3.10/site-packages (from numba->facexlib>=0.2.5->gfpgan->-r requirements.txt (line 7)) (0.39.1)\n",
      "Requirement already satisfied: mpmath>=0.19 in /root/miniconda3/envs/py3.10.6/lib/python3.10/site-packages (from sympy->onnxruntime->invisible-watermark->-r requirements.txt (line 9)) (1.2.1)\n",
      "Requirement already satisfied: pycparser in /root/miniconda3/envs/py3.10.6/lib/python3.10/site-packages (from cffi>=1.12->cryptography>=2.5->paramiko->gradio==3.9->-r requirements.txt (line 8)) (2.21)\n",
      "Requirement already satisfied: pyasn1<0.5.0,>=0.4.6 in /root/miniconda3/envs/py3.10.6/lib/python3.10/site-packages (from pyasn1-modules>=0.2.1->google-auth<3,>=1.6.3->tensorboard>=2.9.1->pytorch_lightning==1.7.7->-r requirements.txt (line 16)) (0.4.8)\n",
      "Requirement already satisfied: oauthlib>=3.0.0 in /root/miniconda3/envs/py3.10.6/lib/python3.10/site-packages (from requests-oauthlib>=0.7.0->google-auth-oauthlib<0.5,>=0.4.1->tensorboard>=2.9.1->pytorch_lightning==1.7.7->-r requirements.txt (line 16)) (3.2.2)\n",
      "\u001b[33mWARNING: Running pip as the 'root' user can result in broken permissions and conflicting behaviour with the system package manager. It is recommended to use a virtual environment instead: https://pip.pypa.io/warnings/venv\u001b[0m\u001b[33m\n",
      "\u001b[0m"
     ]
    }
   ],
   "source": [
    "import os,sys\n",
    "sys.path.append('../') # 把上级路径也加入到系统路径中，这样就能够找到func\n",
    "\n",
    "from IPython.display import display,clear_output\n",
    "import ipywidgets as widgets\n",
    "from func.env import setProxy,webUIDir\n",
    "\n",
    "alertBtn = widgets.Button(\n",
    "    value=False,\n",
    "    description='',\n",
    "    disabled=False,\n",
    "    button_style='', # 'success', 'info', 'warning', 'danger' or ''\n",
    "    tooltip='',\n",
    "    icon='' # (FontAwesome names without the `fa-` prefix)\n",
    ")\n",
    "\n",
    "try:\n",
    "    proxy,region\n",
    "except NameError:\n",
    "    cb=setProxy()\n",
    "    proxy=cb['proxy']\n",
    "    region=cb['region']\n",
    "    clear_output(wait=True)\n",
    "    \n",
    "display(alertBtn)\n",
    "    \n",
    "if os.path.exists(webUIDir):\n",
    "    \n",
    "    alertBtn.description='正在更新...'\n",
    "    alertBtn.button_style='warning'\n",
    "    alertBtn.icon='upload'\n",
    "    \n",
    "    !source activate &&\\\n",
    "    conda activate py3.10.6 &&\\\n",
    "    $proxy &&\\\n",
    "    cd $webUIDir &&\\\n",
    "    git pull &&\\\n",
    "    python -V &&\\\n",
    "    python -m pip install -r requirements.txt\n",
    "    \n",
    "    alertBtn.description='更新完成!'\n",
    "    alertBtn.button_style='success'\n",
    "    alertBtn.icon='check'\n",
    "    \n",
    "#     r = !source activate &&\\\n",
    "#     conda activate py3.10.6 &&\\\n",
    "#     $proxy &&\\\n",
    "#     cd $webUIDir &&\\\n",
    "#     git pull &&\\\n",
    "#     python -V &&\\\n",
    "#     python -m pip install -r requirements.txt\n",
    "\n",
    "#     display(r)\n",
    "    \n",
    "#     if 'Already up to date.' in r:\n",
    "#         alertBtn.description='更新完成!'\n",
    "#         alertBtn.button_style='success'\n",
    "#         alertBtn.icon='check'\n",
    "#     else:\n",
    "#         alertBtn.description='更新失败!'\n",
    "#         alertBtn.button_style='danger'\n",
    "#         alertBtn.icon='exclamation'\n",
    "\n",
    "\n",
    "# clear_output(wait=True)\n",
    "\n",
    "\n"
   ]
  },
  {
   "cell_type": "markdown",
   "id": "bb636268-b393-48f2-81a7-4059b0ab8678",
   "metadata": {
    "tags": []
   },
   "source": [
    "## <i class=\"fa fa-bolt\"></i> 安装Xformers"
   ]
  },
  {
   "cell_type": "markdown",
   "id": "dfb660d1-1354-4604-9952-47421f256b5c",
   "metadata": {
    "tags": []
   },
   "source": [
    "大幅减少计算时间和显存占用，代价是生成的图每个都有点变化，强烈推荐安装!  \n",
    "但不同核心代号的显卡需要不同的编译包，不能混用  \n",
    "当然此笔记会帮你自动检测这台机器是否适合安装，而且会自动帮你安装合适的编译包"
   ]
  },
  {
   "cell_type": "code",
   "execution_count": 2,
   "id": "21d7715e-fac6-4e37-aac4-72dee6409a5f",
   "metadata": {
    "tags": []
   },
   "outputs": [
    {
     "name": "stdout",
     "output_type": "stream",
     "text": [
      "本机GPU为【2080 Ti】，对应的英伟达架构名为【sm75】，已安装匹配【sm75】架构的Xformers预编译包\n"
     ]
    },
    {
     "data": {
      "application/vnd.jupyter.widget-view+json": {
       "model_id": "ad1730a995a84a979da5da8d3330581e",
       "version_major": 2,
       "version_minor": 0
      },
      "text/plain": [
       "Button(button_style='success', description='完成Xformers安装', icon='check', style=ButtonStyle(), tooltip='Descrip…"
      ]
     },
     "metadata": {},
     "output_type": "display_data"
    }
   ],
   "source": [
    "import os,sys\n",
    "sys.path.append('../') # 把上级路径也加入到系统路径中，这样就能够找到func\n",
    "from func.xformers import installXformers\n",
    "from func.env import setProxy\n",
    "from IPython.display import clear_output\n",
    "\n",
    "try:\n",
    "    proxy,region\n",
    "except NameError:\n",
    "    cb=setProxy()\n",
    "    proxy=cb['proxy']\n",
    "    region=cb['region']\n",
    "    clear_output(wait=True)\n",
    "\n",
    "installXformers(proxy,region)"
   ]
  },
  {
   "cell_type": "markdown",
   "id": "7dfc12ac-31ff-47d5-8b0a-db537b198ed4",
   "metadata": {
    "tags": []
   },
   "source": [
    "## <i class=\"fa fa-language\"></i> 安装中文语言包"
   ]
  },
  {
   "cell_type": "code",
   "execution_count": 6,
   "id": "a51570b5-d491-427f-8e8f-3e3b62b2829a",
   "metadata": {
    "scrolled": true,
    "tags": []
   },
   "outputs": [
    {
     "data": {
      "application/vnd.jupyter.widget-view+json": {
       "model_id": "b116f5512b9047c2b37f101433f362b9",
       "version_major": 2,
       "version_minor": 0
      },
      "text/plain": [
       "Button(description='安装中文语言包', style=ButtonStyle())"
      ]
     },
     "metadata": {},
     "output_type": "display_data"
    }
   ],
   "source": [
    "import os,sys\n",
    "sys.path.append('../') # 把上级路径也加入到系统路径中，这样就能够找到func\n",
    "from func.env import setProxy,webUIDir,extDir,findDir,getDirSize\n",
    "import ipywidgets as widgets\n",
    "from subprocess import getoutput\n",
    "from IPython.display import display,clear_output\n",
    "\n",
    "try:\n",
    "    proxy,region\n",
    "except NameError:\n",
    "    cb=setProxy()\n",
    "    proxy=cb['proxy']\n",
    "    region=cb['region']\n",
    "    clear_output(wait=True)\n",
    "\n",
    "btn = widgets.Button(\n",
    "    value=False,\n",
    "    description='安装中文语言包',\n",
    "    disabled=False,\n",
    "    button_style='', # 'success', 'info', 'warning', 'danger' or ''\n",
    "    # tooltip='Description',\n",
    "    # icon='check' # (FontAwesome names without the `fa-` prefix)\n",
    ")\n",
    "\n",
    "def checkInstalled(zhLocalDir,firstInstall):\n",
    "    fileSize = getDirSize(zhLocalDir)\n",
    "    if fileSize>=171055 :\n",
    "        if firstInstall==True:\n",
    "            btn.description='安装成功!'\n",
    "            btn.button_style='success'\n",
    "            btn.icon='check'\n",
    "        else:\n",
    "            btn.description='已经安装过'\n",
    "            btn.button_style='info'\n",
    "            btn.icon='check-circle'\n",
    "    else:\n",
    "        # !rm -rf {dirpath}\n",
    "        btn.description=\"安装失败\"\n",
    "        btn.button_style='danger'\n",
    "        btn.icon='exclamation-triangle'\n",
    "\n",
    "def install_language_pack(obj):\n",
    "    zhLocalDir = os.path.join(extDir,'stable-diffusion-webui-localization-zh_CN')\n",
    "    if os.path.exists(zhLocalDir):\n",
    "        checkInstalled(zhLocalDir,False)\n",
    "    else:\n",
    "        import subprocess\n",
    "        try:\n",
    "            btn.description='安装中...'\n",
    "            btn.button_style='warning'\n",
    "            btn.icon='download'\n",
    "            obj = subprocess.check_call(\n",
    "                f'{proxy} &&\\\n",
    "                cd {extDir} &&\\\n",
    "                git clone https://github.com/dtlnor/stable-diffusion-webui-localization-zh_CN',\n",
    "                shell=True,\n",
    "                universal_newlines=True,\n",
    "                stdin=subprocess.PIPE, stdout=subprocess.PIPE, stderr=subprocess.STDOUT,\n",
    "            )\n",
    "            if obj==0:\n",
    "                checkInstalled(zhLocalDir,True)\n",
    "        except subprocess.CalledProcessError as e:\n",
    "            print(\"Exception on process, rc=\", e.returncode, \"output=\", e.output)\n",
    "\n",
    "# btn.on_click(install_language_pack)\n",
    "display(btn)\n",
    "install_language_pack(btn)"
   ]
  },
  {
   "cell_type": "markdown",
   "id": "6ba69146-2487-4537-8dd8-a14970088878",
   "metadata": {},
   "source": [
    "# <i class=\"fa fa-rocket\"></i> 启动Stable-Diffusion-WebUI"
   ]
  },
  {
   "cell_type": "code",
   "execution_count": 3,
   "id": "43bd2fb8-e193-4b6f-8530-d4b93cff5a19",
   "metadata": {
    "tags": []
   },
   "outputs": [
    {
     "name": "stdout",
     "output_type": "stream",
     "text": [
      "已经挂载【北京】proxy\n",
      "可以使用Xformers\n",
      "https_proxy=http://100.72.64.19:12798\n",
      "http_proxy=http://100.72.64.19:12798\n",
      "Python 3.10.6 | packaged by conda-forge | (main, Aug 22 2022, 20:35:26) [GCC 10.4.0]\n",
      "Commit hash: 47a44c7e421b98ca07e92dbf88769b04c9e28f86\n",
      "Fetching updates for K-diffusion...\n",
      "Checking out commit for K-diffusion with hash: 60e5042ca0da89c14d1dd59d73883280f8fce991...\n",
      "Installing requirements for Web UI\n",
      "Launching Web UI with arguments: --share --opt-split-attention --port 6006 --deepdanbooru --administrator --xformers\n",
      "No checkpoints found. When searching for checkpoints, looked at:\n",
      " - file /root/stable-diffusion-webui/model.ckpt\n",
      " - directory /root/stable-diffusion-webui/models/Stable-diffusion\n",
      "Can't run without a checkpoint. Find and place a .ckpt file into any of those locations. The program will exit.\n"
     ]
    }
   ],
   "source": [
    "import os,sys\n",
    "sys.path.append('../') # 把上级路径也加入到系统路径中，这样就能够找到func\n",
    "from func.env import setProxy,webUIDir,extDir,findDir,findFile,getDirSize,styleURL,getArch,xformersDir\n",
    "import ipywidgets as widgets\n",
    "from subprocess import getoutput\n",
    "from IPython.display import display,clear_output\n",
    "from func.xformers import checkXformersInstalled\n",
    "\n",
    "archCondition = False\n",
    "canUseXformers = False\n",
    "\n",
    "# cb = !source activate &&\\\n",
    "# conda activate py3.10.6 &&\\\n",
    "# python getArch.py\n",
    "\n",
    "cb = getArch()\n",
    "arch = cb['arch']\n",
    "gpu = cb['gpu']\n",
    "\n",
    "whiteList = ['sm80','sm75','sm70','sm86','sm89','sm61']\n",
    "\n",
    "if arch in whiteList:\n",
    "    archCondition = True\n",
    "else:\n",
    "    archCondition = False\n",
    "        \n",
    "if(checkXformersInstalled() and archCondition):\n",
    "    canUseXformers = True\n",
    "else:\n",
    "    canUseXformers = False\n",
    "\n",
    "canUseXformers = True\n",
    "\n",
    "args = [\n",
    "        'source activate','&&',\n",
    "        'conda activate py3.10.6','&&',\n",
    "        f'cd {webUIDir}','&&',\n",
    "        'python launch.py',\n",
    "        '--share',\n",
    "        '--opt-split-attention',\n",
    "        '--port 6006',\n",
    "        '--deepdanbooru',\n",
    "        '--administrator'\n",
    "       ]\n",
    "\n",
    "try:\n",
    "    proxy\n",
    "except NameError:\n",
    "    print(\"不存在proxy\")\n",
    "else:\n",
    "    if region=='未知':\n",
    "        print(\"不存在proxy\")\n",
    "    else:\n",
    "        print(f\"已经挂载【{region}】proxy\")\n",
    "        args.insert(0,f\"{proxy} && env|grep -i proxy &&\")\n",
    "\n",
    "if(canUseXformers==True):\n",
    "    print(\"可以使用Xformers\")\n",
    "    args.append(\"--xformers\")\n",
    "else:\n",
    "    print(f\"暂不支持【{gpu}】该型号GPU，不使用Xformers\")\n",
    "    \n",
    "cmd = (\" \").join(args)\n",
    "\n",
    "!$cmd"
   ]
  },
  {
   "cell_type": "code",
   "execution_count": null,
   "id": "1872fe1f-36d7-4b40-bcae-e503c538a93f",
   "metadata": {},
   "outputs": [],
   "source": []
  }
 ],
 "metadata": {
  "kernelspec": {
   "display_name": "Python 3 (ipykernel)",
   "language": "python",
   "name": "python3"
  },
  "language_info": {
   "codemirror_mode": {
    "name": "ipython",
    "version": 3
   },
   "file_extension": ".py",
   "mimetype": "text/x-python",
   "name": "python",
   "nbconvert_exporter": "python",
   "pygments_lexer": "ipython3",
   "version": "3.8.10"
  },
  "toc-autonumbering": false,
  "toc-showmarkdowntxt": false,
  "toc-showtags": true,
  "vscode": {
   "interpreter": {
    "hash": "369f2c481f4da34e4445cda3fffd2e751bd1c4d706f27375911949ba6bb62e1c"
   }
  }
 },
 "nbformat": 4,
 "nbformat_minor": 5
}
