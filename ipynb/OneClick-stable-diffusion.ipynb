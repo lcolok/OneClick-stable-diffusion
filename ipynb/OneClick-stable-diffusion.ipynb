{
 "cells": [
  {
   "cell_type": "markdown",
   "id": "21d7e8a1-2486-4574-b71e-af90301d5cde",
   "metadata": {},
   "source": [
    "# 欢迎语\n",
    "更新日志"
   ]
  },
  {
   "cell_type": "markdown",
   "id": "83025d61-3547-416b-a519-bad97f36f915",
   "metadata": {
    "tags": []
   },
   "source": [
    "# 基础配置"
   ]
  },
  {
   "cell_type": "code",
   "execution_count": 1,
   "id": "2ce2fae8-24a6-400c-94ca-fd6cba45685f",
   "metadata": {
    "tags": []
   },
   "outputs": [],
   "source": [
    "#需要安装ipywidgets，此镜像已经安装了对应的依赖包\n",
    "# !conda install -c conda-forge jupyterlab \n",
    "# !conda install -c conda-forge ipywidgets\n",
    "# !conda install -c conda-forge ipython\n",
    "# !conda install -c conda-forge ipympl\n",
    "\n",
    "# 实现显示/隐藏代码块的步骤：\n",
    "# 安装jupyter_contrib_nbextentions\n",
    "# （Ref: https://jupyter-contrib-nbextensions.readthedocs.io/en/latest/install.html#install-the-python-package）\n",
    "# conda安装命令：conda install -c conda-forge jupyter_contrib_nbextensions\n",
    "# python安装命令：pip install jupyter_contrib_nbextensions\n",
    "\n",
    "# 安装jupyter_nbextentions_contributor，以便在Jupyter Notebook页面设置nbextentions\n",
    "# （Ref: https://github.com/Jupyter-contrib/jupyter_nbextensions_configurator）\n",
    "# conda安装命令：conda install -c conda-forge jupyter_nbextensions_configurator\n",
    "# python安装命令：pip install jupyter_nbextensions_configurator\n",
    "\n",
    "# !apt-get update && apt install net-tools"
   ]
  },
  {
   "cell_type": "markdown",
   "id": "a586155e-1ce7-4cb9-b94e-c044fd85e15f",
   "metadata": {
    "tags": []
   },
   "source": [
    "## <i class=\"fa fa-plane-departure\"></i> 学术加速\n",
    "首先要进行学术加速，这有利于拉取资源，详情请看：https://www.autodl.com/docs/network_turbo/  "
   ]
  },
  {
   "cell_type": "code",
   "execution_count": 2,
   "id": "ef32d892-2010-4a1c-b429-7ad98a1ac17a",
   "metadata": {
    "tags": []
   },
   "outputs": [
    {
     "data": {
      "application/vnd.jupyter.widget-view+json": {
       "model_id": "2722a3a964a04c5baf71a90c9a586aa1",
       "version_major": 2,
       "version_minor": 0
      },
      "text/plain": [
       "Button(button_style='info', description='在使用【北京】代理', style=ButtonStyle(), tooltip='请点击下方的区名')"
      ]
     },
     "metadata": {},
     "output_type": "display_data"
    },
    {
     "data": {
      "application/vnd.jupyter.widget-view+json": {
       "model_id": "b284eaa9b14845bea40d936b0c840051",
       "version_major": 2,
       "version_minor": 0
      },
      "text/plain": [
       "Button(description='芜湖', style=ButtonStyle(), tooltip='Click me')"
      ]
     },
     "metadata": {},
     "output_type": "display_data"
    },
    {
     "data": {
      "application/vnd.jupyter.widget-view+json": {
       "model_id": "0076b6968ee346d3a147aec5556bd922",
       "version_major": 2,
       "version_minor": 0
      },
      "text/plain": [
       "Button(button_style='success', description='北京', icon='check', style=ButtonStyle(), tooltip='Click me')"
      ]
     },
     "metadata": {},
     "output_type": "display_data"
    },
    {
     "data": {
      "application/vnd.jupyter.widget-view+json": {
       "model_id": "5f946efa799d4cae8f02d3bb08d64207",
       "version_major": 2,
       "version_minor": 0
      },
      "text/plain": [
       "Button(description='内蒙', style=ButtonStyle(), tooltip='Click me')"
      ]
     },
     "metadata": {},
     "output_type": "display_data"
    },
    {
     "data": {
      "application/vnd.jupyter.widget-view+json": {
       "model_id": "b2c398f1469f438a8b751cec649c1bc8",
       "version_major": 2,
       "version_minor": 0
      },
      "text/plain": [
       "Button(description='泉州', style=ButtonStyle(), tooltip='Click me')"
      ]
     },
     "metadata": {},
     "output_type": "display_data"
    },
    {
     "data": {
      "application/vnd.jupyter.widget-view+json": {
       "model_id": "5d98cde8589a4369b0d25f37d2add794",
       "version_major": 2,
       "version_minor": 0
      },
      "text/plain": [
       "Button(description='南京', style=ButtonStyle(), tooltip='Click me')"
      ]
     },
     "metadata": {},
     "output_type": "display_data"
    },
    {
     "data": {
      "application/vnd.jupyter.widget-view+json": {
       "model_id": "a5ecb31c8c204466a6941871618d8649",
       "version_major": 2,
       "version_minor": 0
      },
      "text/plain": [
       "Button(description='佛山', style=ButtonStyle(), tooltip='Click me')"
      ]
     },
     "metadata": {},
     "output_type": "display_data"
    }
   ],
   "source": [
    "import sys\n",
    "sys.path.append('../') # 因为func与ipynb位于同一个目录下，所以要往上一层路径索引\n",
    "from func.env import setProxy\n",
    "cb=setProxy()\n",
    "proxy=cb['proxy']\n",
    "region=cb['region']"
   ]
  },
  {
   "cell_type": "markdown",
   "id": "328c9e45-6087-44b2-a5d2-53230d0454f0",
   "metadata": {},
   "source": [
    "## <i class=\"fa fa-star\"></i> Notebook环境切换\n",
    "在JupyterLab的Notebook中使用新的Conda环境"
   ]
  },
  {
   "cell_type": "code",
   "execution_count": 3,
   "id": "85cfa22d-8437-4508-87cf-57f7d13dcfc2",
   "metadata": {
    "tags": []
   },
   "outputs": [
    {
     "data": {
      "application/vnd.jupyter.widget-view+json": {
       "model_id": "c3a660b781f74cd187274c04ba8a0b31",
       "version_major": 2,
       "version_minor": 0
      },
      "text/plain": [
       "Button(button_style='success', description='环境部署成功!', icon='check', style=ButtonStyle(), tooltip='Description'…"
      ]
     },
     "metadata": {},
     "output_type": "display_data"
    }
   ],
   "source": [
    "from subprocess import getoutput\n",
    "from IPython.display import clear_output\n",
    "import ipywidgets as widgets\n",
    "\n",
    "# s = getoutput('conda info --env')\n",
    "# if 'py3.10.6' not in s:\n",
    "#     print('当前系统中没有py3.10.6环境，正在安装')\n",
    "#     # 创建Conda新的虚拟环境\n",
    "#     # 构建一个虚拟环境，名为: py3.10.6\n",
    "#     # 更新bashrc中的环境变量\n",
    "#     !source ~/miniconda3/etc/profile.d/conda.sh &&\\\n",
    "#     conda create -n py3.10.6 python=3.10.6 &&\\\n",
    "#     conda init bash && source /root/.bashrc\n",
    "# else:\n",
    "#     print('已经安装了py3.10.6环境')\n",
    "#     # !source activate &&\\\n",
    "#     # conda activate py3.10.6 &&\\\n",
    "#     # conda install ipykernel &&\\\n",
    "#     # ipython kernel install --user --name=py3.10.6 --display-name \"Python3.10.6\" # 设置kernel，--user表示当前用户，--name为虚拟环境名称，--display-name为笔记本显示名称\n",
    "\n",
    "# clear_output(wait=True)\n",
    "# # print(\"Done!\")\n",
    "\n",
    "widgets.Button(\n",
    "    value=False,\n",
    "    description='环境部署成功!',\n",
    "    disabled=False,\n",
    "    button_style='success', # 'success', 'info', 'warning', 'danger' or ''\n",
    "    tooltip='Description',\n",
    "    icon='check' # (FontAwesome names without the `fa-` prefix)\n",
    ")"
   ]
  },
  {
   "cell_type": "markdown",
   "id": "3e392e78-580b-4d14-9fd7-26bcb2fdca7e",
   "metadata": {
    "tags": []
   },
   "source": [
    "## <i class=\"fa fa-download\"></i> 更新本体与环境"
   ]
  },
  {
   "cell_type": "markdown",
   "id": "6545b20b-dd16-4c0b-ac59-a31398cd7f28",
   "metadata": {},
   "source": [
    "更新Stable-diffusion-WebUI本体与环境命令"
   ]
  },
  {
   "cell_type": "code",
   "execution_count": 4,
   "id": "d7c84343-104b-4d97-bad4-66f37b14c3cc",
   "metadata": {
    "scrolled": true,
    "tags": []
   },
   "outputs": [
    {
     "data": {
      "application/vnd.jupyter.widget-view+json": {
       "model_id": "1f70f3f64fd54807b23bb5dd0df85a6d",
       "version_major": 2,
       "version_minor": 0
      },
      "text/plain": [
       "Button(button_style='warning', description='正在更新...', icon='upload', style=ButtonStyle())"
      ]
     },
     "metadata": {},
     "output_type": "display_data"
    }
   ],
   "source": [
    "import os,sys\n",
    "sys.path.append('../') # 把上级路径也加入到系统路径中，这样就能够找到func\n",
    "\n",
    "from IPython.display import display,clear_output\n",
    "clear_output()\n",
    "import ipywidgets as widgets\n",
    "from func.env import setProxy,webUIDir\n",
    "\n",
    "debugging=False\n",
    "\n",
    "alertBtn = widgets.Button(\n",
    "    value=False,\n",
    "    description='',\n",
    "    disabled=False,\n",
    "    button_style='', # 'success', 'info', 'warning', 'danger' or ''\n",
    "    tooltip='',\n",
    "    icon='' # (FontAwesome names without the `fa-` prefix)\n",
    ")\n",
    "\n",
    "try:\n",
    "    proxy,region\n",
    "except NameError:\n",
    "    cb=setProxy()\n",
    "    proxy=cb['proxy']\n",
    "    region=cb['region']\n",
    "    clear_output(wait=True)\n",
    "    \n",
    "display(alertBtn)\n",
    "    \n",
    "if os.path.exists(webUIDir):\n",
    "    \n",
    "    alertBtn.description='正在更新...'\n",
    "    alertBtn.button_style='warning'\n",
    "    alertBtn.icon='upload'\n",
    "    \n",
    "    !source activate &&\\\n",
    "    conda activate py3.10.6 &&\\\n",
    "    $proxy &&\\\n",
    "    cd $webUIDir &&\\\n",
    "    git pull &&\\\n",
    "    python -V &&\\\n",
    "    python -m pip install -r requirements.txt\n",
    "    \n",
    "    if debugging==False:\n",
    "        clear_output()\n",
    "        display(alertBtn)\n",
    "    \n",
    "    alertBtn.description='更新完成!'\n",
    "    alertBtn.button_style='success'\n",
    "    alertBtn.icon='check'\n",
    "    \n",
    "#     r = !source activate &&\\\n",
    "#     conda activate py3.10.6 &&\\\n",
    "#     $proxy &&\\\n",
    "#     cd $webUIDir &&\\\n",
    "#     git pull &&\\\n",
    "#     python -V &&\\\n",
    "#     python -m pip install -r requirements.txt\n",
    "\n",
    "#     display(r)\n",
    "    \n",
    "#     if 'Already up to date.' in r:\n",
    "#         alertBtn.description='更新完成!'\n",
    "#         alertBtn.button_style='success'\n",
    "#         alertBtn.icon='check'\n",
    "#     else:\n",
    "#         alertBtn.description='更新失败!'\n",
    "#         alertBtn.button_style='danger'\n",
    "#         alertBtn.icon='exclamation'\n",
    "\n",
    "\n",
    "# clear_output(wait=True)\n",
    "\n",
    "\n"
   ]
  },
  {
   "cell_type": "markdown",
   "id": "bb636268-b393-48f2-81a7-4059b0ab8678",
   "metadata": {
    "tags": []
   },
   "source": [
    "## <i class=\"fa fa-bolt\"></i> 安装Xformers"
   ]
  },
  {
   "cell_type": "markdown",
   "id": "dfb660d1-1354-4604-9952-47421f256b5c",
   "metadata": {
    "tags": []
   },
   "source": [
    "大幅减少计算时间和显存占用，代价是生成的图每个都有点变化，强烈推荐安装!  \n",
    "但不同核心代号的显卡需要不同的编译包，不能混用  \n",
    "当然此笔记会帮你自动检测这台机器是否适合安装，而且会自动帮你安装合适的编译包"
   ]
  },
  {
   "cell_type": "code",
   "execution_count": 5,
   "id": "21d7715e-fac6-4e37-aac4-72dee6409a5f",
   "metadata": {
    "tags": []
   },
   "outputs": [
    {
     "name": "stdout",
     "output_type": "stream",
     "text": [
      "本机GPU为【2080 Ti】，对应的英伟达架构名为【sm75】，已安装匹配【sm75】架构的Xformers预编译包\n"
     ]
    },
    {
     "data": {
      "application/vnd.jupyter.widget-view+json": {
       "model_id": "40b4e44ff8ba4b6ca098198a5e8d57db",
       "version_major": 2,
       "version_minor": 0
      },
      "text/plain": [
       "Button(button_style='success', description='已经预装', icon='check', style=ButtonStyle(), tooltip='Description')"
      ]
     },
     "metadata": {},
     "output_type": "display_data"
    }
   ],
   "source": [
    "import os,sys\n",
    "sys.path.append('../') # 把上级路径也加入到系统路径中，这样就能够找到func\n",
    "from func.xformers import installXformers\n",
    "from func.env import setProxy\n",
    "from IPython.display import clear_output\n",
    "\n",
    "\n",
    "try:\n",
    "    proxy,region\n",
    "except NameError:\n",
    "    cb=setProxy()\n",
    "    proxy=cb['proxy']\n",
    "    region=cb['region']\n",
    "    clear_output(wait=True)\n",
    "\n",
    "installXformers(proxy,region)"
   ]
  },
  {
   "cell_type": "markdown",
   "id": "7dfc12ac-31ff-47d5-8b0a-db537b198ed4",
   "metadata": {
    "tags": []
   },
   "source": [
    "## <i class=\"fa fa-language\"></i> 安装中文语言包"
   ]
  },
  {
   "cell_type": "code",
   "execution_count": 6,
   "id": "a51570b5-d491-427f-8e8f-3e3b62b2829a",
   "metadata": {
    "scrolled": true,
    "tags": []
   },
   "outputs": [
    {
     "data": {
      "application/vnd.jupyter.widget-view+json": {
       "model_id": "2a359b20032b4c7a99c34c0c6023df3a",
       "version_major": 2,
       "version_minor": 0
      },
      "text/plain": [
       "Button(description='安装中文语言包', style=ButtonStyle())"
      ]
     },
     "metadata": {},
     "output_type": "display_data"
    }
   ],
   "source": [
    "import os,sys\n",
    "sys.path.append('../') # 把上级路径也加入到系统路径中，这样就能够找到func\n",
    "from func.env import setProxy,webUIDir,extDir,findDir,getDirSize\n",
    "import ipywidgets as widgets\n",
    "from subprocess import getoutput\n",
    "from IPython.display import display,clear_output\n",
    "\n",
    "try:\n",
    "    proxy,region\n",
    "except NameError:\n",
    "    cb=setProxy()\n",
    "    proxy=cb['proxy']\n",
    "    region=cb['region']\n",
    "    clear_output(wait=True)\n",
    "\n",
    "btn = widgets.Button(\n",
    "    value=False,\n",
    "    description='安装中文语言包',\n",
    "    disabled=False,\n",
    "    button_style='', # 'success', 'info', 'warning', 'danger' or ''\n",
    "    # tooltip='Description',\n",
    "    # icon='check' # (FontAwesome names without the `fa-` prefix)\n",
    ")\n",
    "\n",
    "def checkInstalled(zhLocalDir,firstInstall):\n",
    "    fileSize = getDirSize(zhLocalDir)\n",
    "    if fileSize>=171055 :\n",
    "        if firstInstall==True:\n",
    "            btn.description='安装成功!'\n",
    "            btn.button_style='success'\n",
    "            btn.icon='check'\n",
    "        else:\n",
    "            btn.description='已经安装过'\n",
    "            btn.button_style='info'\n",
    "            btn.icon='check-circle'\n",
    "    else:\n",
    "        # !rm -rf {dirpath}\n",
    "        btn.description=\"安装失败\"\n",
    "        btn.button_style='danger'\n",
    "        btn.icon='exclamation-triangle'\n",
    "\n",
    "def install_language_pack(obj):\n",
    "    zhLocalDir = os.path.join(extDir,'stable-diffusion-webui-localization-zh_CN')\n",
    "    if os.path.exists(zhLocalDir):\n",
    "        checkInstalled(zhLocalDir,False)\n",
    "    else:\n",
    "        import subprocess\n",
    "        try:\n",
    "            btn.description='安装中...'\n",
    "            btn.button_style='warning'\n",
    "            btn.icon='download'\n",
    "            obj = subprocess.check_call(\n",
    "                f'{proxy} &&\\\n",
    "                cd {extDir} &&\\\n",
    "                git clone https://github.com/dtlnor/stable-diffusion-webui-localization-zh_CN',\n",
    "                shell=True,\n",
    "                universal_newlines=True,\n",
    "                stdin=subprocess.PIPE, stdout=subprocess.PIPE, stderr=subprocess.STDOUT,\n",
    "            )\n",
    "            if obj==0:\n",
    "                checkInstalled(zhLocalDir,True)\n",
    "        except subprocess.CalledProcessError as e:\n",
    "            print(\"Exception on process, rc=\", e.returncode, \"output=\", e.output)\n",
    "\n",
    "# btn.on_click(install_language_pack)\n",
    "display(btn)\n",
    "install_language_pack(btn)"
   ]
  },
  {
   "cell_type": "markdown",
   "id": "6ba69146-2487-4537-8dd8-a14970088878",
   "metadata": {},
   "source": [
    "# <i class=\"fa fa-rocket\"></i> 启动Stable-Diffusion-WebUI"
   ]
  },
  {
   "cell_type": "code",
   "execution_count": null,
   "id": "43bd2fb8-e193-4b6f-8530-d4b93cff5a19",
   "metadata": {
    "tags": []
   },
   "outputs": [
    {
     "name": "stdout",
     "output_type": "stream",
     "text": [
      "已经挂载【北京】proxy\n",
      "可以使用Xformers\n",
      "https_proxy=http://100.72.64.19:12798\n",
      "http_proxy=http://100.72.64.19:12798\n",
      "Python 3.10.6 | packaged by conda-forge | (main, Aug 22 2022, 20:35:26) [GCC 10.4.0]\n",
      "Commit hash: 47a44c7e421b98ca07e92dbf88769b04c9e28f86\n",
      "Installing requirements for Web UI\n",
      "Launching Web UI with arguments: --share --opt-split-attention --port 6006 --deepdanbooru --administrator --xformers\n",
      "LatentDiffusion: Running in eps-prediction mode\n",
      "DiffusionWrapper has 859.52 M params.\n",
      "making attention of type 'vanilla' with 512 in_channels\n",
      "Working with z of shape (1, 4, 32, 32) = 4096 dimensions.\n",
      "making attention of type 'vanilla' with 512 in_channels\n",
      "Loading weights [2700c435] from /root/autodl-tmp/stable-diffusion-webui/models/Stable-diffusion/Anything-V3.0-pruned.ckpt\n",
      "Applying xformers cross attention optimization.\n",
      "Model loaded.\n",
      "Loaded a total of 0 textual inversion embeddings.\n",
      "Embeddings: \n",
      "Running on local URL:  http://127.0.0.1:6006\n",
      "Running on public URL: https://a2f51637d41c75be.gradio.app\n",
      "\n",
      "This share link expires in 72 hours. For free permanent hosting and GPU upgrades (NEW!), check out Spaces: https://huggingface.co/spaces\n",
      "Loading VAE weights from: /root/autodl-tmp/stable-diffusion-webui/models/VAE/Anything-V3.0.vae.pt\n",
      "Applying xformers cross attention optimization.\n",
      "VAE Weights loaded.\n",
      "  0%|                                                    | 0/28 [00:00<?, ?it/s]\n",
      "  4%|█▌                                          | 1/28 [00:00<00:21,  1.24it/s]\u001b[A\n",
      " 11%|████▋                                       | 3/28 [00:01<00:06,  3.71it/s]\u001b[A\n",
      " 18%|███████▊                                    | 5/28 [00:01<00:03,  5.82it/s]\u001b[A\n",
      " 25%|███████████                                 | 7/28 [00:01<00:02,  7.26it/s]\u001b[A\n",
      " 32%|██████████████▏                             | 9/28 [00:01<00:02,  8.11it/s]\u001b[A\n",
      " 36%|███████████████▎                           | 10/28 [00:01<00:02,  8.37it/s]\u001b[A\n",
      " 39%|████████████████▉                          | 11/28 [00:01<00:01,  8.57it/s]\u001b[A\n",
      " 43%|██████████████████▍                        | 12/28 [00:02<00:01,  8.71it/s]\u001b[A\n",
      " 46%|███████████████████▉                       | 13/28 [00:02<00:01,  8.81it/s]\u001b[A\n",
      " 50%|█████████████████████▌                     | 14/28 [00:02<00:01,  8.88it/s]\u001b[A\n",
      " 54%|███████████████████████                    | 15/28 [00:02<00:01,  8.92it/s]\u001b[A\n",
      " 57%|████████████████████████▌                  | 16/28 [00:02<00:01,  8.96it/s]\u001b[A\n",
      " 61%|██████████████████████████                 | 17/28 [00:02<00:01,  8.99it/s]\u001b[A\n",
      " 64%|███████████████████████████▋               | 18/28 [00:02<00:01,  8.99it/s]\u001b[A\n",
      " 68%|█████████████████████████████▏             | 19/28 [00:02<00:00,  9.00it/s]\u001b[A\n",
      " 71%|██████████████████████████████▋            | 20/28 [00:02<00:00,  9.01it/s]\u001b[A\n",
      " 75%|████████████████████████████████▎          | 21/28 [00:03<00:00,  9.01it/s]\u001b[A\n",
      " 79%|█████████████████████████████████▊         | 22/28 [00:03<00:00,  9.01it/s]\u001b[A\n",
      " 82%|███████████████████████████████████▎       | 23/28 [00:03<00:00,  9.02it/s]\u001b[A\n",
      " 86%|████████████████████████████████████▊      | 24/28 [00:03<00:00,  9.02it/s]\u001b[A\n",
      " 89%|██████████████████████████████████████▍    | 25/28 [00:03<00:00,  9.02it/s]\u001b[A\n",
      " 93%|███████████████████████████████████████▉   | 26/28 [00:03<00:00,  9.03it/s]\u001b[A\n",
      " 96%|█████████████████████████████████████████▍ | 27/28 [00:03<00:00,  9.02it/s]\u001b[A\n",
      "100%|███████████████████████████████████████████| 28/28 [00:03<00:00,  7.35it/s]\u001b[A\n",
      "Total progress: 100%|███████████████████████████| 28/28 [00:04<00:00,  6.89it/s]\n",
      "  0%|                                                    | 0/28 [00:00<?, ?it/s]\n",
      "  4%|█▌                                          | 1/28 [00:00<00:03,  7.17it/s]\u001b[A\n",
      " 11%|████▋                                       | 3/28 [00:00<00:03,  8.02it/s]\u001b[A\n",
      " 18%|███████▊                                    | 5/28 [00:00<00:02,  8.61it/s]\u001b[A\n",
      " 25%|███████████                                 | 7/28 [00:00<00:02,  8.84it/s]\u001b[A\n",
      " 29%|████████████▌                               | 8/28 [00:00<00:02,  8.88it/s]\u001b[A\n",
      " 32%|██████████████▏                             | 9/28 [00:01<00:02,  8.93it/s]\u001b[A\n",
      " 36%|███████████████▎                           | 10/28 [00:01<00:02,  8.96it/s]\u001b[A\n",
      " 39%|████████████████▉                          | 11/28 [00:01<00:01,  8.98it/s]\u001b[A\n",
      " 43%|██████████████████▍                        | 12/28 [00:01<00:01,  8.98it/s]\u001b[A\n",
      " 46%|███████████████████▉                       | 13/28 [00:01<00:01,  8.98it/s]\u001b[A\n",
      " 50%|█████████████████████▌                     | 14/28 [00:01<00:01,  8.98it/s]\u001b[A\n",
      " 54%|███████████████████████                    | 15/28 [00:01<00:01,  8.98it/s]\u001b[A\n",
      " 57%|████████████████████████▌                  | 16/28 [00:01<00:01,  9.00it/s]\u001b[A\n",
      " 61%|██████████████████████████                 | 17/28 [00:01<00:01,  8.99it/s]\u001b[A\n",
      " 64%|███████████████████████████▋               | 18/28 [00:02<00:01,  8.99it/s]\u001b[A\n",
      " 68%|█████████████████████████████▏             | 19/28 [00:02<00:01,  8.98it/s]\u001b[A\n",
      " 71%|██████████████████████████████▋            | 20/28 [00:02<00:00,  9.00it/s]\u001b[A\n",
      " 75%|████████████████████████████████▎          | 21/28 [00:02<00:00,  8.91it/s]\u001b[A\n",
      " 79%|█████████████████████████████████▊         | 22/28 [00:02<00:00,  8.92it/s]\u001b[A\n",
      " 82%|███████████████████████████████████▎       | 23/28 [00:02<00:00,  8.95it/s]\u001b[A\n",
      " 86%|████████████████████████████████████▊      | 24/28 [00:02<00:00,  8.95it/s]\u001b[A\n",
      " 89%|██████████████████████████████████████▍    | 25/28 [00:02<00:00,  8.96it/s]\u001b[A\n",
      " 93%|███████████████████████████████████████▉   | 26/28 [00:02<00:00,  8.97it/s]\u001b[A\n",
      " 96%|█████████████████████████████████████████▍ | 27/28 [00:03<00:00,  8.97it/s]\u001b[A\n",
      "100%|███████████████████████████████████████████| 28/28 [00:03<00:00,  8.84it/s]\u001b[A\n",
      "Total progress: 100%|███████████████████████████| 28/28 [00:04<00:00,  5.97it/s]\n",
      "  0%|                                                    | 0/28 [00:00<?, ?it/s]\n",
      "  4%|█▌                                          | 1/28 [00:00<00:03,  6.97it/s]\u001b[A\n",
      " 11%|████▋                                       | 3/28 [00:00<00:03,  7.97it/s]\u001b[A\n",
      " 18%|███████▊                                    | 5/28 [00:00<00:02,  8.58it/s]\u001b[A\n",
      " 25%|███████████                                 | 7/28 [00:00<00:02,  8.82it/s]\u001b[A\n",
      " 29%|████████████▌                               | 8/28 [00:00<00:02,  8.88it/s]\u001b[A\n",
      " 32%|██████████████▏                             | 9/28 [00:01<00:02,  8.92it/s]\u001b[A\n",
      " 36%|███████████████▎                           | 10/28 [00:01<00:02,  8.95it/s]\u001b[A\n",
      " 39%|████████████████▉                          | 11/28 [00:01<00:01,  8.96it/s]\u001b[A\n",
      " 43%|██████████████████▍                        | 12/28 [00:01<00:01,  8.97it/s]\u001b[A\n",
      " 46%|███████████████████▉                       | 13/28 [00:01<00:01,  8.97it/s]\u001b[A\n",
      " 50%|█████████████████████▌                     | 14/28 [00:01<00:01,  8.97it/s]\u001b[A\n",
      " 54%|███████████████████████                    | 15/28 [00:01<00:01,  8.98it/s]\u001b[A\n",
      " 57%|████████████████████████▌                  | 16/28 [00:01<00:01,  8.99it/s]\u001b[A\n",
      " 61%|██████████████████████████                 | 17/28 [00:01<00:01,  9.00it/s]\u001b[A\n",
      " 64%|███████████████████████████▋               | 18/28 [00:02<00:01,  8.99it/s]\u001b[A\n",
      " 68%|█████████████████████████████▏             | 19/28 [00:02<00:00,  9.00it/s]\u001b[A\n",
      " 71%|██████████████████████████████▋            | 20/28 [00:02<00:00,  9.00it/s]\u001b[A\n",
      " 75%|████████████████████████████████▎          | 21/28 [00:02<00:00,  9.01it/s]\u001b[A\n",
      " 79%|█████████████████████████████████▊         | 22/28 [00:02<00:00,  9.00it/s]\u001b[A\n",
      " 82%|███████████████████████████████████▎       | 23/28 [00:02<00:00,  9.00it/s]\u001b[A\n",
      " 86%|████████████████████████████████████▊      | 24/28 [00:02<00:00,  8.99it/s]\u001b[A\n",
      " 89%|██████████████████████████████████████▍    | 25/28 [00:02<00:00,  9.00it/s]\u001b[A\n",
      " 93%|███████████████████████████████████████▉   | 26/28 [00:02<00:00,  9.00it/s]\u001b[A\n",
      " 96%|█████████████████████████████████████████▍ | 27/28 [00:03<00:00,  9.00it/s]\u001b[A\n",
      "100%|███████████████████████████████████████████| 28/28 [00:03<00:00,  8.84it/s]\u001b[A\n",
      "Total progress: 100%|███████████████████████████| 28/28 [00:04<00:00,  5.68it/s]\n"
     ]
    }
   ],
   "source": [
    "import os,sys\n",
    "sys.path.append('../') # 把上级路径也加入到系统路径中，这样就能够找到func\n",
    "from func.env import setProxy,getWebUIDir,extDir,findDir,findFile,getDirSize,styleURL,getArch,xformersDir\n",
    "import ipywidgets as widgets\n",
    "from subprocess import getoutput\n",
    "from func.xformers import checkXformersInstalled\n",
    "from IPython.display import display,clear_output\n",
    "\n",
    "archCondition = False\n",
    "canUseXformers = False\n",
    "\n",
    "# cb = !source activate &&\\\n",
    "# conda activate py3.10.6 &&\\\n",
    "# python getArch.py\n",
    "\n",
    "cb = getArch()\n",
    "arch = cb['arch']\n",
    "gpu = cb['gpu']\n",
    "\n",
    "whiteList = ['sm80','sm75','sm70','sm86','sm89','sm61']\n",
    "\n",
    "if arch in whiteList:\n",
    "    archCondition = True\n",
    "else:\n",
    "    archCondition = False\n",
    "        \n",
    "if(checkXformersInstalled() and archCondition):\n",
    "    canUseXformers = True\n",
    "else:\n",
    "    canUseXformers = False\n",
    "\n",
    "canUseXformers = True\n",
    "\n",
    "webUIDir = getWebUIDir()\n",
    "\n",
    "args = [\n",
    "        'source activate','&&',\n",
    "        'conda activate py3.10.6','&&',\n",
    "        f'cd {webUIDir}','&&',\n",
    "        'python launch.py',\n",
    "        '--share',\n",
    "        '--opt-split-attention',\n",
    "        '--port 6006',\n",
    "        '--deepdanbooru',\n",
    "        '--administrator'\n",
    "       ]\n",
    "\n",
    "try:\n",
    "    proxy\n",
    "except NameError:\n",
    "    print(\"不存在proxy\")\n",
    "else:\n",
    "    if region=='未知':\n",
    "        print(\"不存在proxy\")\n",
    "    else:\n",
    "        print(f\"已经挂载【{region}】proxy\")\n",
    "        args.insert(0,f\"{proxy} && env|grep -i proxy &&\")\n",
    "\n",
    "if(canUseXformers==True):\n",
    "    print(\"可以使用Xformers\")\n",
    "    args.append(\"--xformers\")\n",
    "else:\n",
    "    print(f\"暂不支持【{gpu}】该型号GPU，不使用Xformers\")\n",
    "    \n",
    "cmd = (\" \").join(args)\n",
    "\n",
    "!$cmd"
   ]
  }
 ],
 "metadata": {
  "kernelspec": {
   "display_name": "Python 3 (ipykernel)",
   "language": "python",
   "name": "python3"
  },
  "language_info": {
   "codemirror_mode": {
    "name": "ipython",
    "version": 3
   },
   "file_extension": ".py",
   "mimetype": "text/x-python",
   "name": "python",
   "nbconvert_exporter": "python",
   "pygments_lexer": "ipython3",
   "version": "3.8.10"
  },
  "toc-autonumbering": false,
  "toc-showmarkdowntxt": false,
  "toc-showtags": true,
  "vscode": {
   "interpreter": {
    "hash": "369f2c481f4da34e4445cda3fffd2e751bd1c4d706f27375911949ba6bb62e1c"
   }
  }
 },
 "nbformat": 4,
 "nbformat_minor": 5
}
