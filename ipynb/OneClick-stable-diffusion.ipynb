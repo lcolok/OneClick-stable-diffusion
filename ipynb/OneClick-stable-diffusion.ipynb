{
 "cells": [
  {
   "cell_type": "markdown",
   "id": "21d7e8a1-2486-4574-b71e-af90301d5cde",
   "metadata": {},
   "source": [
    "# 欢迎语\n",
    "更新日志"
   ]
  },
  {
   "cell_type": "markdown",
   "id": "83025d61-3547-416b-a519-bad97f36f915",
   "metadata": {
    "tags": []
   },
   "source": [
    "# 基础配置"
   ]
  },
  {
   "cell_type": "code",
   "execution_count": null,
   "id": "2ce2fae8-24a6-400c-94ca-fd6cba45685f",
   "metadata": {
    "jupyter": {
     "source_hidden": true
    },
    "tags": []
   },
   "outputs": [],
   "source": [
    "#需要安装ipywidgets，此镜像已经安装了对应的依赖包\n",
    "# !conda install -c conda-forge jupyterlab \n",
    "# !conda install -c conda-forge ipywidgets\n",
    "# !conda install -c conda-forge ipython\n",
    "# !conda install -c conda-forge ipympl\n",
    "\n",
    "# 实现显示/隐藏代码块的步骤：\n",
    "# 安装jupyter_contrib_nbextentions\n",
    "# （Ref: https://jupyter-contrib-nbextensions.readthedocs.io/en/latest/install.html#install-the-python-package）\n",
    "# conda安装命令：conda install -c conda-forge jupyter_contrib_nbextensions\n",
    "# python安装命令：pip install jupyter_contrib_nbextensions\n",
    "\n",
    "# 安装jupyter_nbextentions_contributor，以便在Jupyter Notebook页面设置nbextentions\n",
    "# （Ref: https://github.com/Jupyter-contrib/jupyter_nbextensions_configurator）\n",
    "# conda安装命令：conda install -c conda-forge jupyter_nbextensions_configurator\n",
    "# python安装命令：pip install jupyter_nbextensions_configurator\n",
    "\n",
    "# !apt-get update && apt install net-tools"
   ]
  },
  {
   "cell_type": "markdown",
   "id": "a586155e-1ce7-4cb9-b94e-c044fd85e15f",
   "metadata": {
    "tags": []
   },
   "source": [
    "## <i class=\"fa fa-plane-departure\"></i> 学术加速\n",
    "首先要进行学术加速，这有利于拉取资源，详情请看：https://www.autodl.com/docs/network_turbo/  "
   ]
  },
  {
   "cell_type": "code",
   "execution_count": null,
   "id": "ef32d892-2010-4a1c-b429-7ad98a1ac17a",
   "metadata": {
    "jupyter": {
     "source_hidden": true
    },
    "tags": []
   },
   "outputs": [],
   "source": [
    "import sys\n",
    "sys.path.append('../') # 因为func与ipynb位于同一个目录下，所以要往上一层路径索引\n",
    "from func.env import setProxy\n",
    "cb=setProxy()\n",
    "proxy=cb['proxy']\n",
    "region=cb['region']"
   ]
  },
  {
   "cell_type": "markdown",
   "id": "328c9e45-6087-44b2-a5d2-53230d0454f0",
   "metadata": {},
   "source": [
    "## <i class=\"fa fa-star\"></i> Notebook环境切换\n",
    "在JupyterLab的Notebook中使用新的Conda环境"
   ]
  },
  {
   "cell_type": "code",
   "execution_count": null,
   "id": "85cfa22d-8437-4508-87cf-57f7d13dcfc2",
   "metadata": {
    "jupyter": {
     "source_hidden": true
    },
    "tags": []
   },
   "outputs": [],
   "source": [
    "from subprocess import getoutput\n",
    "from IPython.display import clear_output\n",
    "import ipywidgets as widgets\n",
    "\n",
    "# s = getoutput('conda info --env')\n",
    "# if 'py3.10.6' not in s:\n",
    "#     print('当前系统中没有py3.10.6环境，正在安装')\n",
    "#     # 创建Conda新的虚拟环境\n",
    "#     # 构建一个虚拟环境，名为: py3.10.6\n",
    "#     # 更新bashrc中的环境变量\n",
    "#     !source ~/miniconda3/etc/profile.d/conda.sh &&\\\n",
    "#     conda create -n py3.10.6 python=3.10.6 &&\\\n",
    "#     conda init bash && source /root/.bashrc\n",
    "# else:\n",
    "#     print('已经安装了py3.10.6环境')\n",
    "#     # !source activate &&\\\n",
    "#     # conda activate py3.10.6 &&\\\n",
    "#     # conda install ipykernel &&\\\n",
    "#     # ipython kernel install --user --name=py3.10.6 --display-name \"Python3.10.6\" # 设置kernel，--user表示当前用户，--name为虚拟环境名称，--display-name为笔记本显示名称\n",
    "\n",
    "# clear_output(wait=True)\n",
    "# # print(\"Done!\")\n",
    "\n",
    "widgets.Button(\n",
    "    value=False,\n",
    "    description='环境部署成功!',\n",
    "    disabled=False,\n",
    "    button_style='success', # 'success', 'info', 'warning', 'danger' or ''\n",
    "    tooltip='Description',\n",
    "    icon='check' # (FontAwesome names without the `fa-` prefix)\n",
    ")"
   ]
  },
  {
   "cell_type": "markdown",
   "id": "3e392e78-580b-4d14-9fd7-26bcb2fdca7e",
   "metadata": {
    "tags": []
   },
   "source": [
    "## <i class=\"fa fa-download\"></i> 更新本体与环境"
   ]
  },
  {
   "cell_type": "markdown",
   "id": "6545b20b-dd16-4c0b-ac59-a31398cd7f28",
   "metadata": {},
   "source": [
    "更新Stable-diffusion-WebUI本体与环境命令"
   ]
  },
  {
   "cell_type": "code",
   "execution_count": null,
   "id": "d7c84343-104b-4d97-bad4-66f37b14c3cc",
   "metadata": {
    "jupyter": {
     "source_hidden": true
    },
    "scrolled": true,
    "tags": []
   },
   "outputs": [],
   "source": [
    "import os,sys\n",
    "sys.path.append('../') # 把上级路径也加入到系统路径中，这样就能够找到func\n",
    "\n",
    "from IPython.display import display,clear_output\n",
    "clear_output()\n",
    "import ipywidgets as widgets\n",
    "from func.env import setProxy,webUIDir\n",
    "\n",
    "debugging=False\n",
    "\n",
    "alertBtn = widgets.Button(\n",
    "    value=False,\n",
    "    description='',\n",
    "    disabled=False,\n",
    "    button_style='', # 'success', 'info', 'warning', 'danger' or ''\n",
    "    tooltip='',\n",
    "    icon='' # (FontAwesome names without the `fa-` prefix)\n",
    ")\n",
    "\n",
    "try:\n",
    "    proxy,region\n",
    "except NameError:\n",
    "    cb=setProxy()\n",
    "    proxy=cb['proxy']\n",
    "    region=cb['region']\n",
    "    clear_output(wait=True)\n",
    "    \n",
    "display(alertBtn)\n",
    "    \n",
    "if os.path.exists(webUIDir):\n",
    "    \n",
    "    alertBtn.description='正在更新...'\n",
    "    alertBtn.button_style='warning'\n",
    "    alertBtn.icon='upload'\n",
    "    \n",
    "    !source activate &&\\\n",
    "    conda activate py3.10.6 &&\\\n",
    "    $proxy &&\\\n",
    "    cd $webUIDir &&\\\n",
    "    git pull &&\\\n",
    "    python -V &&\\\n",
    "    python -m pip install -r requirements.txt\n",
    "    \n",
    "    if debugging==False:\n",
    "        clear_output()\n",
    "        display(alertBtn)\n",
    "    \n",
    "    alertBtn.description='更新完成!'\n",
    "    alertBtn.button_style='success'\n",
    "    alertBtn.icon='check'\n",
    "    \n",
    "#     r = !source activate &&\\\n",
    "#     conda activate py3.10.6 &&\\\n",
    "#     $proxy &&\\\n",
    "#     cd $webUIDir &&\\\n",
    "#     git pull &&\\\n",
    "#     python -V &&\\\n",
    "#     python -m pip install -r requirements.txt\n",
    "\n",
    "#     display(r)\n",
    "    \n",
    "#     if 'Already up to date.' in r:\n",
    "#         alertBtn.description='更新完成!'\n",
    "#         alertBtn.button_style='success'\n",
    "#         alertBtn.icon='check'\n",
    "#     else:\n",
    "#         alertBtn.description='更新失败!'\n",
    "#         alertBtn.button_style='danger'\n",
    "#         alertBtn.icon='exclamation'\n",
    "\n",
    "\n",
    "# clear_output(wait=True)\n",
    "\n",
    "\n"
   ]
  },
  {
   "cell_type": "markdown",
   "id": "bb636268-b393-48f2-81a7-4059b0ab8678",
   "metadata": {
    "tags": []
   },
   "source": [
    "## <i class=\"fa fa-bolt\"></i> 安装Xformers"
   ]
  },
  {
   "cell_type": "markdown",
   "id": "dfb660d1-1354-4604-9952-47421f256b5c",
   "metadata": {
    "tags": []
   },
   "source": [
    "大幅减少计算时间和显存占用，代价是生成的图每个都有点变化，强烈推荐安装!  \n",
    "但不同核心代号的显卡需要不同的编译包，不能混用  \n",
    "当然此笔记会帮你自动检测这台机器是否适合安装，而且会自动帮你安装合适的编译包"
   ]
  },
  {
   "cell_type": "code",
   "execution_count": null,
   "id": "21d7715e-fac6-4e37-aac4-72dee6409a5f",
   "metadata": {
    "jupyter": {
     "source_hidden": true
    },
    "tags": []
   },
   "outputs": [],
   "source": [
    "import os,sys\n",
    "sys.path.append('../') # 把上级路径也加入到系统路径中，这样就能够找到func\n",
    "from func.xformers import installXformers\n",
    "from func.env import setProxy\n",
    "from IPython.display import clear_output\n",
    "\n",
    "\n",
    "try:\n",
    "    proxy,region\n",
    "except NameError:\n",
    "    cb=setProxy()\n",
    "    proxy=cb['proxy']\n",
    "    region=cb['region']\n",
    "    clear_output(wait=True)\n",
    "\n",
    "installXformers(proxy,region)"
   ]
  },
  {
   "cell_type": "markdown",
   "id": "7dfc12ac-31ff-47d5-8b0a-db537b198ed4",
   "metadata": {
    "tags": []
   },
   "source": [
    "## <i class=\"fa fa-language\"></i> 安装中文语言包"
   ]
  },
  {
   "cell_type": "code",
   "execution_count": null,
   "id": "a51570b5-d491-427f-8e8f-3e3b62b2829a",
   "metadata": {
    "jupyter": {
     "source_hidden": true
    },
    "scrolled": true,
    "tags": []
   },
   "outputs": [],
   "source": [
    "import os,sys\n",
    "sys.path.append('../') # 把上级路径也加入到系统路径中，这样就能够找到func\n",
    "from func.extensionsInstaller import install\n",
    "\n",
    "extName='stable-diffusion-webui-localization-zh_CN'\n",
    "extURL='https://github.com/dtlnor/stable-diffusion-webui-localization-zh_CN'\n",
    "extFileSize=171055\n",
    "\n",
    "install(extName,extURL,extFileSize)"
   ]
  },
  {
   "cell_type": "markdown",
   "id": "8f07ab33-d922-49f0-bb1c-7a2affbbd92c",
   "metadata": {
    "tags": []
   },
   "source": [
    "## <i class=\"fa fa-images\"></i> 安装图库浏览器"
   ]
  },
  {
   "cell_type": "code",
   "execution_count": null,
   "id": "16d6288c-f8a4-4b8d-9cf2-fce6f033316e",
   "metadata": {
    "jupyter": {
     "source_hidden": true
    },
    "scrolled": true,
    "tags": []
   },
   "outputs": [],
   "source": [
    "import os,sys\n",
    "sys.path.append('../') # 把上级路径也加入到系统路径中，这样就能够找到func\n",
    "from func.extensionsInstaller import install\n",
    "\n",
    "extName='stable-diffusion-webui-images-browser'\n",
    "extURL='https://github.com/yfszzx/stable-diffusion-webui-images-browser'\n",
    "extFileSize=82945\n",
    "\n",
    "install(extName,extURL,extFileSize)"
   ]
  },
  {
   "cell_type": "markdown",
   "id": "6ba69146-2487-4537-8dd8-a14970088878",
   "metadata": {},
   "source": [
    "# <i class=\"fa fa-rocket\"></i> 启动Stable-Diffusion-WebUI"
   ]
  },
  {
   "cell_type": "code",
   "execution_count": null,
   "id": "43bd2fb8-e193-4b6f-8530-d4b93cff5a19",
   "metadata": {
    "jupyter": {
     "source_hidden": true
    },
    "tags": []
   },
   "outputs": [],
   "source": [
    "import os,sys\n",
    "sys.path.append('../') # 把上级路径也加入到系统路径中，这样就能够找到func\n",
    "from func.env import setProxy,getWebUIDir,extDir,findDir,findFile,getDirSize,styleURL,getArch,xformersDir\n",
    "import ipywidgets as widgets\n",
    "from subprocess import getoutput\n",
    "from func.xformers import checkXformersInstalled\n",
    "from IPython.display import display,clear_output\n",
    "\n",
    "archCondition = False\n",
    "canUseXformers = False\n",
    "\n",
    "# cb = !source activate &&\\\n",
    "# conda activate py3.10.6 &&\\\n",
    "# python getArch.py\n",
    "\n",
    "cb = getArch()\n",
    "arch = cb['arch']\n",
    "gpu = cb['gpu']\n",
    "\n",
    "whiteList = ['sm80','sm75','sm70','sm86','sm89','sm61']\n",
    "\n",
    "if arch in whiteList:\n",
    "    archCondition = True\n",
    "else:\n",
    "    archCondition = False\n",
    "        \n",
    "if(checkXformersInstalled() and archCondition):\n",
    "    canUseXformers = True\n",
    "else:\n",
    "    canUseXformers = False\n",
    "\n",
    "canUseXformers = True\n",
    "\n",
    "webUIDir = getWebUIDir()\n",
    "\n",
    "args = [\n",
    "        'source activate','&&',\n",
    "        'conda activate py3.10.6','&&',\n",
    "        f'cd {webUIDir}','&&',\n",
    "        'python launch.py',\n",
    "        '--share',\n",
    "        '--opt-split-attention',\n",
    "        '--port 6006',\n",
    "        '--deepdanbooru',\n",
    "        '--administrator'\n",
    "       ]\n",
    "\n",
    "try:\n",
    "    proxy\n",
    "except NameError:\n",
    "    print(\"不存在proxy\")\n",
    "else:\n",
    "    if region=='未知':\n",
    "        print(\"不存在proxy\")\n",
    "    else:\n",
    "        print(f\"已经挂载【{region}】proxy\")\n",
    "        args.insert(0,f\"{proxy} && env|grep -i proxy &&\")\n",
    "\n",
    "if(canUseXformers==True):\n",
    "    print(\"可以使用Xformers\")\n",
    "    args.append(\"--xformers\")\n",
    "else:\n",
    "    print(f\"暂不支持【{gpu}】该型号GPU，不使用Xformers\")\n",
    "    \n",
    "cmd = (\" \").join(args)\n",
    "\n",
    "!$cmd"
   ]
  }
 ],
 "metadata": {
  "kernelspec": {
   "display_name": "Python 3 (ipykernel)",
   "language": "python",
   "name": "python3"
  },
  "language_info": {
   "codemirror_mode": {
    "name": "ipython",
    "version": 3
   },
   "file_extension": ".py",
   "mimetype": "text/x-python",
   "name": "python",
   "nbconvert_exporter": "python",
   "pygments_lexer": "ipython3",
   "version": "3.8.10"
  },
  "toc-autonumbering": false,
  "toc-showmarkdowntxt": false,
  "toc-showtags": true,
  "vscode": {
   "interpreter": {
    "hash": "369f2c481f4da34e4445cda3fffd2e751bd1c4d706f27375911949ba6bb62e1c"
   }
  }
 },
 "nbformat": 4,
 "nbformat_minor": 5
}
