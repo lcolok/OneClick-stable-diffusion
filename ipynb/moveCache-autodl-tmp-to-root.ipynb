{
 "cells": [
  {
   "cell_type": "markdown",
   "id": "3a649246-2bd6-4020-bc31-7f4bad66e231",
   "metadata": {},
   "source": [
    "# <i class=\"fa fa-running\"></i> 移动.cache路径，并构建软链接————从根目录到autodl-tmp\n",
    "因为默认的系统盘只有25G，如果装上各种拓展和模型，第一次运行webUI的时候，会下载huggingface的相关模型到根目录中的.cache目录下，而且这是一个隐藏目录，无法通过GUI界面管理文件，随着webUI的运行（生成的图片足够多，不知道为何也会增加.cache的占用），系统盘很快就塞爆，所以建议首先把.cache移动到autodl-tmp目录下，这里有50G的空间，而且这样做也方便当机器被占用时进行跨实例拷贝数据"
   ]
  },
  {
   "cell_type": "code",
   "execution_count": 11,
   "id": "f34677bb-9278-4ba3-a39d-272e4b06d82b",
   "metadata": {},
   "outputs": [
    {
     "data": {
      "application/vnd.jupyter.widget-view+json": {
       "model_id": "55e2446d093e4be0a4717b14fb50db75",
       "version_major": 2,
       "version_minor": 0
      },
      "text/plain": [
       "Button(button_style='success', description='移动成功!', icon='running', style=ButtonStyle(), tooltip='Description'…"
      ]
     },
     "metadata": {},
     "output_type": "display_data"
    }
   ],
   "source": [
    "import os,sys\n",
    "sys.path.append('../') # 把上级路径也加入到系统路径中，这样就能够找到func\n",
    "from func.env import getWebUIDir\n",
    "from IPython.display import display\n",
    "import ipywidgets as widgets\n",
    "\n",
    "originDir='/root/.cache'\n",
    "targetDir='/root/autodl-tmp/.cache'\n",
    "# print(webUIDir)\n",
    "\n",
    "successBTN = widgets.Button(\n",
    "    value=False,\n",
    "    description='移动成功!',\n",
    "    disabled=False,\n",
    "    button_style='success', # 'success', 'info', 'warning', 'danger' or ''\n",
    "    tooltip='Description',\n",
    "    icon='running' # (FontAwesome names without the `fa-` prefix)\n",
    ")\n",
    "\n",
    "alreadyBTN = widgets.Button(\n",
    "    value=False,\n",
    "    description='无需移动',\n",
    "    disabled=False,\n",
    "    button_style='info', # 'success', 'info', 'warning', 'danger' or ''\n",
    "    tooltip='Description',\n",
    "    icon='check' # (FontAwesome names without the `fa-` prefix)\n",
    ")\n",
    "\n",
    "# if webUIDir!=newDir:\n",
    "#     !mv $webUIDir $newDir\n",
    "#     display(successBTN)\n",
    "# else:\n",
    "#     display(alreadyBTN)\n",
    "\n",
    "if os.path.islink(originDir)==True:\n",
    "    print('根目录下的.cache是软连接，因此进行删除')\n",
    "    realPath=os.readlink(originDir)\n",
    "    !rm -f $originDir\n",
    "    print('把autodl-tmp目录下的.cache移动到根目录')\n",
    "    !mv $realPath $originDir # 移动文件\n",
    "    display(successBTN)\n",
    "else:\n",
    "    print('根目录下的.cache不是软连接，所以不作任何改动')\n",
    "    display(alreadyBTN)"
   ]
  },
  {
   "cell_type": "code",
   "execution_count": null,
   "id": "d0eebb04-5bd2-49ca-a483-839011a3cfb3",
   "metadata": {},
   "outputs": [],
   "source": []
  }
 ],
 "metadata": {
  "kernelspec": {
   "display_name": "Python 3 (ipykernel)",
   "language": "python",
   "name": "python3"
  },
  "language_info": {
   "codemirror_mode": {
    "name": "ipython",
    "version": 3
   },
   "file_extension": ".py",
   "mimetype": "text/x-python",
   "name": "python",
   "nbconvert_exporter": "python",
   "pygments_lexer": "ipython3",
   "version": "3.8.10"
  }
 },
 "nbformat": 4,
 "nbformat_minor": 5
}
