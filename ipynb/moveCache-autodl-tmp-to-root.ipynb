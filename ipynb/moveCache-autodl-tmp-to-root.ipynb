{
  "cells": [
    {
      "cell_type": "markdown",
      "id": "3a649246-2bd6-4020-bc31-7f4bad66e231",
      "metadata": {},
      "source": [
        "# <i class=\"fa fa-running\"></i> \u79fb\u52a8.cache\u8def\u5f84\uff0c\u5e76\u6784\u5efa\u8f6f\u94fe\u63a5\u2014\u2014\u2014\u2014\u4ece\u6839\u76ee\u5f55\u5230autodl-tmp\n",
        "\u56e0\u4e3a\u9ed8\u8ba4\u7684\u7cfb\u7edf\u76d8\u53ea\u670925G\uff0c\u5982\u679c\u88c5\u4e0a\u5404\u79cd\u62d3\u5c55\u548c\u6a21\u578b\uff0c\u7b2c\u4e00\u6b21\u8fd0\u884cwebUI\u7684\u65f6\u5019\uff0c\u4f1a\u4e0b\u8f7dhuggingface\u7684\u76f8\u5173\u6a21\u578b\u5230\u6839\u76ee\u5f55\u4e2d\u7684.cache\u76ee\u5f55\u4e0b\uff0c\u800c\u4e14\u8fd9\u662f\u4e00\u4e2a\u9690\u85cf\u76ee\u5f55\uff0c\u65e0\u6cd5\u901a\u8fc7GUI\u754c\u9762\u7ba1\u7406\u6587\u4ef6\uff0c\u968f\u7740webUI\u7684\u8fd0\u884c\uff08\u751f\u6210\u7684\u56fe\u7247\u8db3\u591f\u591a\uff0c\u4e0d\u77e5\u9053\u4e3a\u4f55\u4e5f\u4f1a\u589e\u52a0.cache\u7684\u5360\u7528\uff09\uff0c\u7cfb\u7edf\u76d8\u5f88\u5feb\u5c31\u585e\u7206\uff0c\u6240\u4ee5\u5efa\u8bae\u9996\u5148\u628a.cache\u79fb\u52a8\u5230autodl-tmp\u76ee\u5f55\u4e0b\uff0c\u8fd9\u91cc\u670950G\u7684\u7a7a\u95f4\uff0c\u800c\u4e14\u8fd9\u6837\u505a\u4e5f\u65b9\u4fbf\u5f53\u673a\u5668\u88ab\u5360\u7528\u65f6\u8fdb\u884c\u8de8\u5b9e\u4f8b\u62f7\u8d1d\u6570\u636e"
      ],
      "outputs": [],
      "execution_count": null
    },
    {
      "cell_type": "code",
      "execution_count": null,
      "id": "f34677bb-9278-4ba3-a39d-272e4b06d82b",
      "metadata": {},
      "outputs": [],
      "source": [
        "import os,sys\n",
        "sys.path.append('../') # \u628a\u4e0a\u7ea7\u8def\u5f84\u4e5f\u52a0\u5165\u5230\u7cfb\u7edf\u8def\u5f84\u4e2d\uff0c\u8fd9\u6837\u5c31\u80fd\u591f\u627e\u5230func\n",
        "from func.env import getWebUIDir\n",
        "from IPython.display import display\n",
        "import ipywidgets as widgets\n",
        "\n",
        "originDir='/root/.cache'\n",
        "targetDir='/root/autodl-tmp/.cache'\n",
        "# print(webUIDir)\n",
        "\n",
        "successBTN = widgets.Button(\n",
        "    value=False,\n",
        "    description='\u79fb\u52a8\u6210\u529f!',\n",
        "    disabled=False,\n",
        "    button_style='success', # 'success', 'info', 'warning', 'danger' or ''\n",
        "    tooltip='Description',\n",
        "    icon='running' # (FontAwesome names without the `fa-` prefix)\n",
        ")\n",
        "\n",
        "alreadyBTN = widgets.Button(\n",
        "    value=False,\n",
        "    description='\u65e0\u9700\u79fb\u52a8',\n",
        "    disabled=False,\n",
        "    button_style='info', # 'success', 'info', 'warning', 'danger' or ''\n",
        "    tooltip='Description',\n",
        "    icon='check' # (FontAwesome names without the `fa-` prefix)\n",
        ")\n",
        "\n",
        "# if webUIDir!=newDir:\n",
        "#     !mv $webUIDir $newDir\n",
        "#     display(successBTN)\n",
        "# else:\n",
        "#     display(alreadyBTN)\n",
        "\n",
        "if os.path.islink(originDir)==True:\n",
        "    print('\u6839\u76ee\u5f55\u4e0b\u7684.cache\u662f\u8f6f\u8fde\u63a5\uff0c\u56e0\u6b64\u8fdb\u884c\u5220\u9664')\n",
        "    realPath=os.readlink(originDir)\n",
        "    !rm -rf $originDir\n",
        "    print('\u628aautodl-tmp\u76ee\u5f55\u4e0b\u7684.cache\u79fb\u52a8\u5230\u6839\u76ee\u5f55')\n",
        "    !mv $realPath $originDir # \u79fb\u52a8\u6587\u4ef6\n",
        "    display(successBTN)\n",
        "else:\n",
        "    print('\u6839\u76ee\u5f55\u4e0b\u7684.cache\u4e0d\u662f\u8f6f\u8fde\u63a5\uff0c\u6240\u4ee5\u4e0d\u4f5c\u4efb\u4f55\u6539\u52a8')\n",
        "    display(alreadyBTN)"
      ]
    },
    {
      "cell_type": "code",
      "execution_count": null,
      "id": "d0eebb04-5bd2-49ca-a483-839011a3cfb3",
      "metadata": {},
      "outputs": [],
      "source": []
    }
  ],
  "metadata": {
    "kernelspec": {
      "display_name": "Python 3 (ipykernel)",
      "language": "python",
      "name": "python3"
    },
    "language_info": {
      "codemirror_mode": {
        "name": "ipython",
        "version": 3
      },
      "file_extension": ".py",
      "mimetype": "text/x-python",
      "name": "python",
      "nbconvert_exporter": "python",
      "pygments_lexer": "ipython3",
      "version": "3.8.10"
    }
  },
  "nbformat": 4,
  "nbformat_minor": 5
}