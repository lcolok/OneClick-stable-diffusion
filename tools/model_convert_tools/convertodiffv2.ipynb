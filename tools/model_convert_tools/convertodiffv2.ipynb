{
  "cells": [
    {
      "cell_type": "markdown",
      "id": "22f6082c-d222-4661-ba96-946803c06d9e",
      "metadata": {},
      "source": [
        "# \u628av2.1\u6807\u51c6\u6a21\u578b\u4ececkpt\u7248\u8f6c\u5316\u6210diffusers\u7248"
      ]
    },
    {
      "cell_type": "markdown",
      "id": "74f259e1-0003-4995-860d-afa37b64e22d",
      "metadata": {},
      "source": [
        "# \u5b89\u88c5Transformers"
      ]
    },
    {
      "cell_type": "code",
      "execution_count": null,
      "id": "04cddc92-37c6-47f9-b0f2-fb12005fe9e5",
      "metadata": {
        "tags": []
      },
      "outputs": [],
      "source": [
        "import subprocess\n",
        "\n",
        "libraries_to_install = [\n",
        "    \"transformers\",\n",
        "    \"accelerate\"\n",
        "]\n",
        "\n",
        "tools_to_install = [\n",
        "    # \"tree\"\n",
        "    \"iputils-ping\"\n",
        "]\n",
        "\n",
        "installed_libraries = subprocess.run([\"pip\", \"freeze\"], capture_output=True).stdout.decode().split(\"\\n\")\n",
        "\n",
        "# \u5c1d\u8bd5\u5b89\u88c5\u6240\u6709\u672a\u5b89\u88c5\u7684\u5e93\n",
        "for library in libraries_to_install:\n",
        "    if library == \"black[jupyter]\" and any(\"black\" in installed_library for installed_library in installed_libraries):\n",
        "        print(f\"\u3010 {library} \u3011\u5df2\u7ecf\u5b89\u88c5\uff0c\u8df3\u8fc7\u5b89\u88c5\")\n",
        "        continue\n",
        "    elif not any(library in installed_library for installed_library in installed_libraries):\n",
        "        !pip install $library\n",
        "    else:\n",
        "        print(f\"\u3010 {library} \u3011\u5df2\u7ecf\u5b89\u88c5\uff0c\u8df3\u8fc7\u5b89\u88c5\")\n",
        "        \n",
        "# \u5c1d\u8bd5\u5b89\u88c5\u6240\u6709\u672a\u5b89\u88c5\u7684\u5de5\u5177\n",
        "update_needed = False\n",
        "for tool in tools_to_install:\n",
        "    exit_code = subprocess.run([\"dpkg\", \"-s\", tool], capture_output=True).returncode\n",
        "    if exit_code != 0:\n",
        "        update_needed = True\n",
        "        break\n",
        "    else:\n",
        "        print(f\"\u3010 {tool} \u3011\u5df2\u7ecf\u5b89\u88c5\uff0c\u8df3\u8fc7\u5b89\u88c5\")\n",
        "if update_needed:\n",
        "    !apt-get update\n",
        "    for tool in tools_to_install:\n",
        "        exit_code = subprocess.run([\"dpkg\", \"-s\", tool], capture_output=True).returncode\n",
        "        if exit_code != 0:\n",
        "            !apt-get install -y $tool\n",
        "    \n"
      ]
    },
    {
      "cell_type": "markdown",
      "id": "600e5ff6-c563-4df4-ae8d-3ad68723d326",
      "metadata": {},
      "source": [
        "# \u5b89\u88c5Diffusers"
      ]
    },
    {
      "cell_type": "code",
      "execution_count": null,
      "id": "44c1fae9-c8ab-485d-9707-e860612813da",
      "metadata": {
        "tags": []
      },
      "outputs": [],
      "source": [
        "import os\n",
        "import subprocess\n",
        "\n",
        "!pip uninstall -y diffusers\n",
        "\n",
        "# \u8c03\u7528\u547d\u4ee4\u884c\u5de5\u5177git rev-parse\uff0c\u83b7\u53d6git\u9879\u76ee\u7684\u6839\u76ee\u5f55\n",
        "git_root = subprocess.run(\n",
        "    [\"git\", \"rev-parse\", \"--show-toplevel\"],\n",
        "    capture_output=True,\n",
        "    text=True,\n",
        ").stdout.strip()\n",
        "\n",
        "# \u83b7\u53d6\u6839\u76ee\u5f55\u7684\u7236\u76ee\u5f55\n",
        "parent_dir = os.path.dirname(git_root)\n",
        "\n",
        "content_folder=parent_dir\n",
        "\n",
        "# \u68c0\u6d4b diffusers \u76ee\u5f55\u662f\u5426\u5b58\u5728\n",
        "if not os.path.exists(os.path.join(content_folder, 'diffusers')):\n",
        "    # \u5982\u679c diffusers \u76ee\u5f55\u4e0d\u5b58\u5728\uff0c\u5219\u8fdb\u884c clone\n",
        "    !cd $content_folder &&\\\n",
        "    git clone --branch updt https://github.com/TheLastBen/diffusers\n",
        "else:\n",
        "    # \u5982\u679c diffusers \u76ee\u5f55\u5df2\u7ecf\u5b58\u5728\uff0c\u5219\u4e0d\u8fdb\u884c clone\uff0c\u76f4\u63a5\u8f93\u51fa\u63d0\u793a\u4fe1\u606f\n",
        "    print('diffusers \u76ee\u5f55\u5df2\u7ecf\u5b58\u5728\uff0c\u4e0d\u8fdb\u884c clone \u64cd\u4f5c\u3002')\n",
        "  \n",
        "!pip install --user $content_folder/diffusers\n",
        "print('\u001b[1;32mDONE !')"
      ]
    },
    {
      "cell_type": "markdown",
      "id": "4b56c219-0a03-4057-8a48-f4d79a778e95",
      "metadata": {},
      "source": [
        "# \u4e0b\u8f7dConvert To Diff v2\u548cConvert To SD v2\u7684python\u811a\u672c"
      ]
    },
    {
      "cell_type": "code",
      "execution_count": null,
      "id": "67d4bdd5-9099-4639-91a9-ddbfd8546643",
      "metadata": {
        "tags": []
      },
      "outputs": [],
      "source": [
        "# \u5bfc\u5165 os \u6a21\u5757\n",
        "import os\n",
        "\n",
        "# \u521b\u5efa\u4e34\u65f6\u76ee\u5f55 temp\n",
        "if not os.path.exists('temp'):\n",
        "    os.makedirs('temp')\n",
        "\n",
        "# \u4e0b\u8f7d .py \u811a\u672c\u5e76\u4fdd\u5b58\u5230 temp \u76ee\u5f55\u4e0b\n",
        "!wget -O temp/convertodiff.py https://raw.githubusercontent.com/TheLastBen/fast-stable-diffusion/main/Dreambooth/convertodiffv2.py\n",
        "!wget -O temp/convertosdv2.py https://raw.githubusercontent.com/TheLastBen/diffusers/main/scripts/convertosdv2.py"
      ]
    },
    {
      "cell_type": "markdown",
      "id": "24da739b-7029-4344-8096-f8fdf81fa5f3",
      "metadata": {},
      "source": [
        "# \u628ainput0\u4e2d\u7684diffusers\u6743\u91cd\u8f6c\u5316\u6210ckpt\u683c\u5f0f\u7684\u6a21\u578b"
      ]
    },
    {
      "cell_type": "code",
      "execution_count": null,
      "id": "99fbc5ad-cd9a-4d63-9160-20b57e8c5c92",
      "metadata": {
        "tags": []
      },
      "outputs": [],
      "source": [
        "prc=\"--fp16\"\n",
        "WEIGHT_DIR='/input0'\n",
        "CKPT_DIR='/output/v2-1_768-nonema-pruned.ckpt'\n",
        "\n",
        "import time\n",
        "from datetime import timedelta\n",
        "\n",
        "# \u811a\u672c\u5f00\u59cb\u6267\u884c\u7684\u65f6\u95f4\n",
        "start_time = time.time()\n",
        "\n",
        "# \u8fd9\u91cc\u662f\u4f60\u7684\u811a\u672c\u4ee3\u7801\n",
        "!python ./temp/convertosdv2.py $prc $WEIGHT_DIR $CKPT_DIR\n",
        "\n",
        "# \u811a\u672c\u6267\u884c\u5b8c\u6210\u7684\u65f6\u95f4\n",
        "end_time = time.time()\n",
        "# \u811a\u672c\u6267\u884c\u7684\u603b\u8017\u65f6\n",
        "elapsed_time = end_time - start_time\n",
        "# \u5c06\u811a\u672c\u6267\u884c\u7684\u603b\u8017\u65f6\u8f6c\u6362\u4e3a\u65f6\u5206\u79d2\u7684\u8868\u793a\u5f62\u5f0f\n",
        "elapsed_time_str = str(timedelta(seconds=elapsed_time))\n",
        "print(\"\u8f6c\u5316\u603b\u8017\u65f6\uff1a\", elapsed_time_str)\n",
        "\n",
        "!du -sh $CKPT_DIR"
      ]
    },
    {
      "cell_type": "markdown",
      "id": "450103f2-a6fc-465d-a51f-47eefad419eb",
      "metadata": {},
      "source": [
        "# \u628ackpt\u683c\u5f0f\u7684\u6a21\u578b\u8f6c\u5316\u4e3adiffusers\u6743\u91cd"
      ]
    },
    {
      "cell_type": "code",
      "execution_count": null,
      "id": "268833fa-81fe-4647-852e-6a860fbb9577",
      "metadata": {
        "tags": []
      },
      "outputs": [],
      "source": [
        "WEIGHT_DIR='/output/stable-diffusion-custom'\n",
        "CKPT_DIR='/output/v2-1_768-nonema-pruned.ckpt'\n",
        "\n",
        "import time\n",
        "from datetime import timedelta\n",
        "\n",
        "# \u811a\u672c\u5f00\u59cb\u6267\u884c\u7684\u65f6\u95f4\n",
        "start_time = time.time()\n",
        "\n",
        "# \u8fd9\u91cc\u662f\u4f60\u7684\u811a\u672c\u4ee3\u7801\n",
        "!python ./temp/convertodiff.py $CKPT_DIR $WEIGHT_DIR --v2 --reference_model stabilityai/stable-diffusion-2-1\n",
        "\n",
        "# \u811a\u672c\u6267\u884c\u5b8c\u6210\u7684\u65f6\u95f4\n",
        "end_time = time.time()\n",
        "# \u811a\u672c\u6267\u884c\u7684\u603b\u8017\u65f6\n",
        "elapsed_time = end_time - start_time\n",
        "# \u5c06\u811a\u672c\u6267\u884c\u7684\u603b\u8017\u65f6\u8f6c\u6362\u4e3a\u65f6\u5206\u79d2\u7684\u8868\u793a\u5f62\u5f0f\n",
        "elapsed_time_str = str(timedelta(seconds=elapsed_time))\n",
        "print(\"\u8f6c\u5316\u603b\u8017\u65f6\uff1a\", elapsed_time_str)\n",
        "\n",
        "!du -sh $WEIGHT_DIR"
      ]
    }
  ],
  "metadata": {
    "kernelspec": {
      "display_name": "Python 3 (ipykernel)",
      "language": "python",
      "name": "python3"
    },
    "language_info": {
      "codemirror_mode": {
        "name": "ipython",
        "version": 3
      },
      "file_extension": ".py",
      "mimetype": "text/x-python",
      "name": "python",
      "nbconvert_exporter": "python",
      "pygments_lexer": "ipython3",
      "version": "3.8.13"
    }
  },
  "nbformat": 4,
  "nbformat_minor": 5
}