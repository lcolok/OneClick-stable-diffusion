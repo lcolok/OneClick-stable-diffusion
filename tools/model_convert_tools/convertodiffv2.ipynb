{
  "cells": [
    {
      "cell_type": "markdown",
      "id": "22f6082c-d222-4661-ba96-946803c06d9e",
      "metadata": {},
      "source": [
        "# \u628av2.1\u6807\u51c6\u6a21\u578b\u4ececkpt\u7248\u8f6c\u5316\u6210diffusers\u7248"
      ]
    },
    {
      "cell_type": "code",
      "execution_count": null,
      "id": "67d4bdd5-9099-4639-91a9-ddbfd8546643",
      "metadata": {
        "tags": []
      },
      "outputs": [],
      "source": [
        "# \u5bfc\u5165 os \u6a21\u5757\n",
        "import os\n",
        "\n",
        "# \u521b\u5efa\u4e34\u65f6\u76ee\u5f55 temp\n",
        "if not os.path.exists('temp'):\n",
        "    os.makedirs('temp')\n",
        "\n",
        "# \u4e0b\u8f7d .py \u811a\u672c\u5e76\u4fdd\u5b58\u5230 temp \u76ee\u5f55\u4e0b\n",
        "!wget -O temp/convertodiff.py https://raw.githubusercontent.com/TheLastBen/fast-stable-diffusion/main/Dreambooth/convertodiffv2.py\n"
      ]
    },
    {
      "cell_type": "code",
      "execution_count": null,
      "id": "7539c4ef-0f3a-443d-8781-393567bb1f08",
      "metadata": {
        "tags": []
      },
      "outputs": [],
      "source": [
        "CKPT_DIR='/output/v2-1_768-nonema-pruned.ckpt'\n",
        "!python ./temp/convertodiff.py $CKPT_DIR /openbayes/home/stable-diffusion-custom --v2 --reference_model stabilityai/stable-diffusion-2-1"
      ]
    },
    {
      "cell_type": "code",
      "execution_count": null,
      "id": "99fbc5ad-cd9a-4d63-9160-20b57e8c5c92",
      "metadata": {
        "tags": []
      },
      "outputs": [],
      "source": [
        "!python ./temp/convertodiff.py /input0 /output/v2-1_768.ckpt --v2 --reference_model stabilityai/stable-diffusion-2-1\n",
        "!du -sh /output/v2-1_768.ckpt"
      ]
    }
  ],
  "metadata": {
    "kernelspec": {
      "display_name": "Python 3 (ipykernel)",
      "language": "python",
      "name": "python3"
    },
    "language_info": {
      "codemirror_mode": {
        "name": "ipython",
        "version": 3
      },
      "file_extension": ".py",
      "mimetype": "text/x-python",
      "name": "python",
      "nbconvert_exporter": "python",
      "pygments_lexer": "ipython3",
      "version": "3.8.13"
    }
  },
  "nbformat": 4,
  "nbformat_minor": 5
}