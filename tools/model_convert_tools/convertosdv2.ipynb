{
  "cells": [
    {
      "cell_type": "markdown",
      "id": "2ea8806c-fdc9-4e4d-a404-494a9d2fc30d",
      "metadata": {},
      "source": [
        "# \u5b89\u88c5Diffusers\u5e76\u7acb\u9a6c\u628av2.1\u6807\u51c6\u6a21\u578b\u4ecediffusers\u7248\u8f6c\u5316\u6210ckpt\u7248"
      ],
      "outputs": [],
      "execution_count": null
    },
    {
      "cell_type": "code",
      "execution_count": null,
      "id": "1c3c73b3-85d2-4eb3-9a1f-e0a744edbd92",
      "metadata": {},
      "outputs": [],
      "source": [
        "prc=\"--fp16\"\n",
        "OUTPUT_DIR='/input0'\n",
        "CKPT_DIR='/output/v2-1_768-nonema-pruned'\n",
        "\n",
        "import os\n",
        "import subprocess\n",
        "\n",
        "!pip uninstall -y diffusers\n",
        "\n",
        "# \u8c03\u7528\u547d\u4ee4\u884c\u5de5\u5177git rev-parse\uff0c\u83b7\u53d6git\u9879\u76ee\u7684\u6839\u76ee\u5f55\n",
        "git_root = subprocess.run(\n",
        "    [\"git\", \"rev-parse\", \"--show-toplevel\"],\n",
        "    capture_output=True,\n",
        "    text=True,\n",
        ").stdout.strip()\n",
        "\n",
        "# \u83b7\u53d6\u6839\u76ee\u5f55\u7684\u7236\u76ee\u5f55\n",
        "parent_dir = os.path.dirname(git_root)\n",
        "\n",
        "content_folder=parent_dir\n",
        "\n",
        "# \u68c0\u6d4b diffusers \u76ee\u5f55\u662f\u5426\u5b58\u5728\n",
        "if not os.path.exists(os.path.join(content_folder, 'diffusers')):\n",
        "    # \u5982\u679c diffusers \u76ee\u5f55\u4e0d\u5b58\u5728\uff0c\u5219\u8fdb\u884c clone\n",
        "    !cd $content_folder &&\\\n",
        "    git clone --branch updt https://github.com/TheLastBen/diffusers\n",
        "else:\n",
        "    # \u5982\u679c diffusers \u76ee\u5f55\u5df2\u7ecf\u5b58\u5728\uff0c\u5219\u4e0d\u8fdb\u884c clone\uff0c\u76f4\u63a5\u8f93\u51fa\u63d0\u793a\u4fe1\u606f\n",
        "    print('diffusers \u76ee\u5f55\u5df2\u7ecf\u5b58\u5728\uff0c\u4e0d\u8fdb\u884c clone \u64cd\u4f5c\u3002')\n",
        "  \n",
        "!pip install --user $content_folder/diffusers\n",
        "\n",
        "!python $content_folder/diffusers/scripts/convertosdv2.py $prc $OUTPUT_DIR $CKPT_DIR\".ckpt\"\n",
        "!du -sh $CKPT_DIR\".ckpt\"\n",
        "\n",
        "print('\u001b[1;32mDONE !')\n"
      ]
    }
  ],
  "metadata": {
    "kernelspec": {
      "display_name": "Python 3 (ipykernel)",
      "language": "python",
      "name": "python3"
    },
    "language_info": {
      "codemirror_mode": {
        "name": "ipython",
        "version": 3
      },
      "file_extension": ".py",
      "mimetype": "text/x-python",
      "name": "python",
      "nbconvert_exporter": "python",
      "pygments_lexer": "ipython3",
      "version": "3.8.13"
    }
  },
  "nbformat": 4,
  "nbformat_minor": 5
}