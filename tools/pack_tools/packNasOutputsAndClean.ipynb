{
  "cells": [
    {
      "cell_type": "markdown",
      "id": "67eaeb18-19c3-479a-a0e9-e4227225a73b",
      "metadata": {},
      "source": [
        "# \u628a\u5f53\u524drepo\u6839\u76ee\u5f55\u52a0\u5165 Python \u641c\u7d22\u6a21\u5757\u7684\u8def\u5f84\u5217\u8868"
      ]
    },
    {
      "cell_type": "code",
      "execution_count": null,
      "id": "c21ef33d-daa5-4499-90b4-9daff7527c57",
      "metadata": {},
      "outputs": [],
      "source": [
        "import os,sys\n",
        "\n",
        "def find_repo_root():\n",
        "    # \u83b7\u53d6\u5f53\u524d\u811a\u672c\u7684\u7edd\u5bf9\u8def\u5f84\n",
        "    try:\n",
        "        # \u5982\u679c\u5f53\u524d\u8fd0\u884c\u73af\u5883\u662f Jupyter Notebook\uff0c\u4f7f\u7528\u5f53\u524d\u5de5\u4f5c\u76ee\u5f55\n",
        "        script_path = os.path.abspath('.')\n",
        "    except NameError:\n",
        "        # \u5426\u5219\uff0c\u4f7f\u7528 __file__ \u53d8\u91cf\n",
        "        script_path = os.path.abspath(__file__)\n",
        "    # \u521d\u59cb\u5316\u5b58\u50a8\u7ed3\u679c\u7684\u53d8\u91cf\n",
        "    result = None\n",
        "    # \u5faa\u73af\u6c42\u5f53\u524d\u8def\u5f84\u7684\u7236\u76ee\u5f55\uff0c\u76f4\u5230\u627e\u5230`.git`\u6587\u4ef6\u5939\n",
        "    while True:\n",
        "        # \u5c06\u5f53\u524d\u8def\u5f84\u7684\u7236\u76ee\u5f55\u8d4b\u503c\u7ed9\u5f53\u524d\u8def\u5f84\n",
        "        script_path = os.path.dirname(script_path)\n",
        "        # \u5224\u65ad\u5f53\u524d\u8def\u5f84\u662f\u5426\u5b58\u5728`.git`\u6587\u4ef6\u5939\n",
        "        if os.path.isdir(os.path.join(script_path, '.git')):\n",
        "            # \u5982\u679c\u5b58\u5728\uff0c\u5c06\u5f53\u524d\u8def\u5f84\u5b58\u50a8\u5728\u7ed3\u679c\u53d8\u91cf\u4e2d\n",
        "            result = script_path\n",
        "        # \u5224\u65ad\u5f53\u524d\u8def\u5f84\u662f\u5426\u4e3a\u6839\u76ee\u5f55\uff08\u5373\u662f\u5426\u5df2\u7ecf\u641c\u7d22\u5230\u6700\u5916\u5c42\uff09\n",
        "        if script_path == '/':\n",
        "            # \u5982\u679c\u662f\uff0c\u8fd4\u56de\u7ed3\u679c\u53d8\u91cf\u7684\u503c\n",
        "            return result\n",
        "        \n",
        "repo_root_dir=find_repo_root()\n",
        "sys.path.append(repo_root_dir)"
      ]
    },
    {
      "cell_type": "markdown",
      "id": "15e30545-fc31-4486-bc9a-d6367163ccc2",
      "metadata": {},
      "source": [
        "# \u67e5\u627e\u4f60\u7684outputs\u8def\u5f84\u5230\u5e95\u653e\u5728\u54ea"
      ]
    },
    {
      "cell_type": "code",
      "execution_count": null,
      "id": "1e7a9834-742a-4f22-b695-a156cee36dc4",
      "metadata": {},
      "outputs": [],
      "source": [
        "# \u5bfc\u5165checksum\u51fd\u6570\n",
        "from func.checksum import generate_checksum,find_folder,generate_checksum_onlyDir,find_folder_onlyDir\n",
        "\n",
        "# \u751f\u4ea7\u73af\u5883\u65e0\u9700\u8fd0\u884c\u4ee5\u4e0b\u4ee3\u7801\n",
        "# code=generate_checksum_onlyDir('/root/autodl-nas/outputs',True)\n",
        "# print(code)\n",
        "\n",
        "# \u6839\u636e\u6587\u4ef6\u5939\u7ed3\u6784\u7279\u5f81\u904d\u5386\u6839\u76ee\u5f55\u627e\u5230outputs\u6240\u5728\u7684\u76ee\u5f55\uff0coutputs\u8bbe\u5b9a\u5728\u4efb\u610f\u4f4d\u7f6e\u90fd\u80fd\u627e\u5230\n",
        "outputs_dir=find_folder_onlyDir('/root', '87029d70236838226e4fda55be532049a39c30cdfcbc2c38994c9f36d10e9cff')"
      ]
    },
    {
      "cell_type": "code",
      "execution_count": null,
      "id": "0bb6d6be-ac93-456b-8e10-dfcf96fa4043",
      "metadata": {},
      "outputs": [],
      "source": [
        "!cd $outputs_dir && ls"
      ]
    },
    {
      "cell_type": "markdown",
      "id": "30260a67-49ad-4ce7-9bc7-703b594b60d6",
      "metadata": {},
      "source": [
        "# \u4f7f\u7528tar\u6253\u5305\u538b\u7f29outputs\u6587\u4ef6\u5939\u4e0b\u591a\u4e2a\u6587\u4ef6\u5939"
      ]
    },
    {
      "cell_type": "code",
      "execution_count": null,
      "id": "12622fc3-4390-446c-9747-267c5925ce64",
      "metadata": {
        "tags": []
      },
      "outputs": [],
      "source": [
        "!cd $outputs_dir &&\\\n",
        "tar -czvf 'download.tar.gz' txt2img-images txt2img-grids img2img-images img2img-grids extras-images &&\\\n",
        "du -sh 'download.tar.gz'"
      ]
    }
  ],
  "metadata": {
    "kernelspec": {
      "display_name": "Python 3 (ipykernel)",
      "language": "python",
      "name": "python3"
    },
    "language_info": {
      "codemirror_mode": {
        "name": "ipython",
        "version": 3
      },
      "file_extension": ".py",
      "mimetype": "text/x-python",
      "name": "python",
      "nbconvert_exporter": "python",
      "pygments_lexer": "ipython3",
      "version": "3.8.10"
    }
  },
  "nbformat": 4,
  "nbformat_minor": 5
}