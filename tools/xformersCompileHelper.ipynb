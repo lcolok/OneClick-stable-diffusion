{
  "cells": [
    {
      "cell_type": "code",
      "execution_count": null,
      "id": "677ec52f-fa9f-4466-9ae3-5f56463c814f",
      "metadata": {},
      "outputs": [],
      "source": [
        "# \u539f\u6587\u5730\u5740\uff1ahttps://github.com/facebookresearch/xformers/issues/473\n",
        "# \u8fd9\u662f\u4e00\u4e2a\u6307\u5bfc\u8bf4\u660e\uff0c\u63cf\u8ff0\u4e86\u5982\u4f55\u5728\u672c\u5730\u5b89\u88c5\u548c\u4f7f\u7528 Facebook Research \u7684 xformers \u5e93\u3002\u5b83\u5efa\u8bae\u5728\u865a\u62df\u73af\u5883\u4e2d\u5b89\u88c5\u3002\n",
        "\n",
        "# \u9996\u5148\uff0c\u786e\u4fdd Pytorch \u7248\u672c\u4e0e\u4f60\u7684 CUDA \u517c\u5bb9\u3002\u5982\u679c\u4e0d\u517c\u5bb9\uff0c\u8bf7\u5b89\u88c5\u6216\u91cd\u65b0\u5b89\u88c5 Pytorch\u3002\u4f60\u53ef\u4ee5\u5c1d\u8bd5\u8bbf\u95ee\u8fd9\u4e2a\u7f51\u7ad9\uff08\u4e5f\u786e\u4fdd PyTorch \u7248\u672c >= 1.12.0\uff09\uff1ahttps://pytorch.org/get-started/locally/\n",
        "# \u7136\u540e\u5b89\u88c5\u5176\u4ed6\u8f6f\u4ef6\u5305\uff1a\n",
        "\n",
        "!pip install pyre-extensions==0.0.23\n",
        "!pip install numpy"
      ]
    },
    {
      "cell_type": "code",
      "execution_count": null,
      "id": "57c6d052-79b6-4e10-85eb-7c7a668c681d",
      "metadata": {},
      "outputs": [],
      "source": [
        "#\u4ea4\u4ee3\u4e00\u4e2a\u5de5\u4f5c\u8def\u5f84\n",
        "working_dir='/output/xformers_compile'\n",
        "!mkdir $working_dir"
      ]
    },
    {
      "cell_type": "code",
      "execution_count": null,
      "id": "4ca5d576-c95f-493b-8cf5-3fc8753a7439",
      "metadata": {
        "tags": []
      },
      "outputs": [],
      "source": [
        "# \u6700\u540e\uff0c\u4f7f\u7528 git \u514b\u9686\u6b64\u5b58\u50a8\u5e93\u5e76\u8fdb\u884c\u7f16\u8bd1\uff1a\n",
        "\n",
        "!cd $working_dir && \\\n",
        "git clone https://github.com/facebookresearch/xformers/ && \\\n",
        "cd xformers && \\\n",
        "git submodule update --init --recursive && \\\n",
        "pip install --verbose --no-deps -e .\n",
        "\n",
        "# \u4f5c\u8005\u4e4b\u6240\u4ee5\u4f7f\u7528 --no-deps \u5e76\u9996\u5148\u5b89\u88c5\u6240\u9700\u7684\u8f6f\u4ef6\u5305\uff0c\u662f\u56e0\u4e3a\u5982\u679c PyTorch \u4e0e\u6211\u4eec\u62e5\u6709\u7684 CUDA \u4e0d\u517c\u5bb9\uff0c\u4f5c\u8005\u5e0c\u671b\u907f\u514d\u7528\u5b89\u88c5\u7684 PyTorch \u66ff\u6362\u5df2\u5b89\u88c5\u7684 PyTorch\u3002"
      ]
    },
    {
      "cell_type": "code",
      "execution_count": null,
      "id": "23afda52-c620-491a-9d19-3fd18f2a082e",
      "metadata": {
        "scrolled": true,
        "tags": []
      },
      "outputs": [],
      "source": [
        "# \u5982\u679c\u5b8c\u6210\u4e86\u4e0a\u8ff0\u6b65\u9aa4\uff0c\u4f60\u8fd8\u53ef\u4ee5\u5c06\u5176\u6253\u5305\u6210 wheel \u6587\u4ef6\uff0c\u4ee5\u4fbf\u5728\u5c06\u6765\u4e0d\u9700\u8981\u91cd\u65b0\u7f16\u8bd1\u3002\n",
        "# \u4ecd\u5728 xformers \u4f4d\u7f6e\n",
        "!cd $working_dir && \\\n",
        "cd xformers && \\\n",
        "python setup.py bdist_wheel --universal\n",
        "# \u8f93\u51fa\u6587\u4ef6\u4f4d\u4e8e xformers/dist \u76ee\u5f55\u4e2d\u3002"
      ]
    },
    {
      "cell_type": "code",
      "execution_count": null,
      "id": "ec613986-97fd-468b-9b99-b06c0e610afc",
      "metadata": {
        "tags": []
      },
      "outputs": [],
      "source": [
        "# \u91cd\u542f\u5185\u6838\u540e\uff0c\u9a8c\u8bc1xformers\u662f\u5426\u5df2\u7ecf\u5b89\u88c5\u6210\u529f\n",
        "import xformers\n",
        "!pip freeze | grep xformers"
      ]
    },
    {
      "cell_type": "code",
      "execution_count": null,
      "id": "88f0b852-e361-4449-9526-043993080d39",
      "metadata": {
        "tags": []
      },
      "outputs": [],
      "source": [
        "# \u4f7f\u7528Wheel\u6765\u8fdb\u884c\u5b89\u88c5\uff08\u8def\u5f84\u53ef\u80fd\u6709\u66f4\u6539\uff09\n",
        "!pip install /output/xformers_compile/xformers/dist/xformers-0.0.15+ea1048b.d20221221-cp38-cp38-linux_x86_64.whl"
      ]
    },
    {
      "cell_type": "code",
      "execution_count": null,
      "id": "fb47bce3-30fa-4a7c-919d-1d2cf11dc7b4",
      "metadata": {
        "tags": []
      },
      "outputs": [],
      "source": [
        "!pip uninstall -y xformers"
      ]
    },
    {
      "cell_type": "code",
      "execution_count": null,
      "id": "87b9ace9-840a-4d2c-bc7d-08a5eb28fa1d",
      "metadata": {
        "tags": []
      },
      "outputs": [],
      "source": [
        "!pip install xformers==0.0.16rc392\n",
        "!pip install flash-attn"
      ]
    },
    {
      "cell_type": "code",
      "execution_count": null,
      "id": "cf50dbb2-44a6-4911-b1f4-a9f6643cdf6d",
      "metadata": {},
      "outputs": [],
      "source": []
    }
  ],
  "metadata": {
    "kernelspec": {
      "display_name": "Python 3 (ipykernel)",
      "language": "python",
      "name": "python3"
    },
    "language_info": {
      "codemirror_mode": {
        "name": "ipython",
        "version": 3
      },
      "file_extension": ".py",
      "mimetype": "text/x-python",
      "name": "python",
      "nbconvert_exporter": "python",
      "pygments_lexer": "ipython3",
      "version": "3.8.13"
    }
  },
  "nbformat": 4,
  "nbformat_minor": 5
}