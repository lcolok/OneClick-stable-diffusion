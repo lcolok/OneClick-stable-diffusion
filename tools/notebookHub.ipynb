{
 "cells": [
  {
   "cell_type": "markdown",
   "id": "93ba28fb-8b2f-4232-a02e-579fe4180adf",
   "metadata": {
    "tags": []
   },
   "source": [
    "# <i class=\"fa fa-plane-departure\"></i> 学术加速\n",
    "首先要进行学术加速，这有利于拉取资源，详情请看：https://www.autodl.com/docs/network_turbo/  "
   ]
  },
  {
   "cell_type": "code",
   "execution_count": 1,
   "id": "2b9c8fe4-ab0e-43e3-9983-9487044b951b",
   "metadata": {
    "tags": []
   },
   "outputs": [
    {
     "data": {
      "application/vnd.jupyter.widget-view+json": {
       "model_id": "1ecbae03d67945f99f16a9549abb333a",
       "version_major": 2,
       "version_minor": 0
      },
      "text/plain": [
       "Button(button_style='info', description='在使用【北京】代理', style=ButtonStyle(), tooltip='请点击下方的区名')"
      ]
     },
     "metadata": {},
     "output_type": "display_data"
    },
    {
     "data": {
      "application/vnd.jupyter.widget-view+json": {
       "model_id": "ae242d9a10b647e7a2f1ee7a12c2fe11",
       "version_major": 2,
       "version_minor": 0
      },
      "text/plain": [
       "Button(description='芜湖', style=ButtonStyle(), tooltip='Click me')"
      ]
     },
     "metadata": {},
     "output_type": "display_data"
    },
    {
     "data": {
      "application/vnd.jupyter.widget-view+json": {
       "model_id": "d555d5cb1b32424599565f354f485378",
       "version_major": 2,
       "version_minor": 0
      },
      "text/plain": [
       "Button(button_style='success', description='北京', icon='check', style=ButtonStyle(), tooltip='Click me')"
      ]
     },
     "metadata": {},
     "output_type": "display_data"
    },
    {
     "data": {
      "application/vnd.jupyter.widget-view+json": {
       "model_id": "0d1e9df510254523b508efc88bde5634",
       "version_major": 2,
       "version_minor": 0
      },
      "text/plain": [
       "Button(description='内蒙', style=ButtonStyle(), tooltip='Click me')"
      ]
     },
     "metadata": {},
     "output_type": "display_data"
    },
    {
     "data": {
      "application/vnd.jupyter.widget-view+json": {
       "model_id": "307a3737a95c44f9907159ae109f9736",
       "version_major": 2,
       "version_minor": 0
      },
      "text/plain": [
       "Button(description='泉州', style=ButtonStyle(), tooltip='Click me')"
      ]
     },
     "metadata": {},
     "output_type": "display_data"
    },
    {
     "data": {
      "application/vnd.jupyter.widget-view+json": {
       "model_id": "926740a9ad0547308d336e1f3c32b1bb",
       "version_major": 2,
       "version_minor": 0
      },
      "text/plain": [
       "Button(description='南京', style=ButtonStyle(), tooltip='Click me')"
      ]
     },
     "metadata": {},
     "output_type": "display_data"
    },
    {
     "data": {
      "application/vnd.jupyter.widget-view+json": {
       "model_id": "6d8a8b768c3f41c18faf56b228f32644",
       "version_major": 2,
       "version_minor": 0
      },
      "text/plain": [
       "Button(description='佛山', style=ButtonStyle(), tooltip='Click me')"
      ]
     },
     "metadata": {},
     "output_type": "display_data"
    },
    {
     "data": {
      "application/vnd.jupyter.widget-view+json": {
       "model_id": "3f5e0769946541da8850511cdb0427de",
       "version_major": 2,
       "version_minor": 0
      },
      "text/plain": [
       "Button(description='九天', style=ButtonStyle(), tooltip='Click me')"
      ]
     },
     "metadata": {},
     "output_type": "display_data"
    }
   ],
   "source": [
    "from func.env import setProxy\n",
    "cb=setProxy()\n",
    "proxy=cb['proxy']\n",
    "region=cb['region']"
   ]
  },
  {
   "cell_type": "markdown",
   "id": "bf2f7d90-a0df-4c49-9eea-38063b0caad1",
   "metadata": {
    "tags": []
   },
   "source": [
    "# <i class=\"fa fa-download\"></i> 更新"
   ]
  },
  {
   "cell_type": "markdown",
   "id": "8614f068-9345-443d-a71a-7c6dc8c0dbd1",
   "metadata": {},
   "source": [
    "更新OneClick-stale-diffusion本体"
   ]
  },
  {
   "cell_type": "code",
   "execution_count": 2,
   "id": "eff3185f-7c98-4f0a-a641-7ae7f4731f8e",
   "metadata": {
    "scrolled": true,
    "tags": []
   },
   "outputs": [
    {
     "name": "stdout",
     "output_type": "stream",
     "text": [
      "Already up to date.\n"
     ]
    }
   ],
   "source": [
    "!{proxy} &&\\\n",
    "cd /root/OneClick-stable-diffusion/ &&\\\n",
    "git pull"
   ]
  },
  {
   "cell_type": "markdown",
   "id": "77facabb-c3f5-488a-b0e7-1d51a15c2501",
   "metadata": {},
   "source": [
    "# <i class=\"fa fa-list\"></i> 所有脚本列表"
   ]
  },
  {
   "cell_type": "code",
   "execution_count": 3,
   "id": "7556bfc0-c3b3-42fd-bc19-6a262252444d",
   "metadata": {
    "tags": []
   },
   "outputs": [
    {
     "data": {
      "application/vnd.jupyter.widget-view+json": {
       "model_id": "",
       "version_major": 2,
       "version_minor": 0
      },
      "text/plain": [
       "Button(description='启动 SD WebUI', icon='globe', style=ButtonStyle(), tooltip='Click me')"
      ]
     },
     "metadata": {},
     "output_type": "display_data"
    },
    {
     "data": {
      "application/vnd.jupyter.widget-view+json": {
       "model_id": "",
       "version_major": 2,
       "version_minor": 0
      },
      "text/plain": [
       "Button(description='启动 SD WebUI', icon='globe', style=ButtonStyle(), tooltip='Click me')"
      ]
     },
     "metadata": {},
     "output_type": "display_data"
    }
   ],
   "source": [
    "from ipywidgets import interact, widgets\n",
    "from IPython.display import display, clear_output\n",
    "# from IPython.core.interactiveshell import InteractiveShell\n",
    "# InteractiveShell.ast_node_interactivity = \"all\"\n",
    "\n",
    "ipynbDict = {\n",
    "    'oneClick_SD_WebUI':{\n",
    "        'description':'启动 SD WebUI',\n",
    "        'dirpath':'./ipynb/OneClick-stable-diffusion.ipynb'\n",
    "    },\n",
    "    '2':{\n",
    "        'description':'启动 SD WebUI',\n",
    "        'dirpath':'./ipynb/OneClick-stable-diffusion.ipynb'\n",
    "    }\n",
    "}\n",
    "\n",
    "ipynbBtnDict=[]\n",
    "\n",
    "def btn_eventhandle(obj):\n",
    "    for eachone in ipynbBtnDict:\n",
    "        eachone.close()\n",
    "    !jupyter run $dirpath\n",
    "\n",
    "for key in ipynbDict:\n",
    "    ipynb=ipynbDict[key]\n",
    "    description = ipynb['description']\n",
    "    dirpath = ipynb['dirpath']\n",
    "    btn = widgets.Button(\n",
    "        value=False,\n",
    "        description=description,\n",
    "        disabled=False,\n",
    "        button_style='',  # 'success', 'info', 'warning', 'danger' or ''\n",
    "        tooltip='Click me',\n",
    "        icon='globe', # (FontAwesome names without the `fa-` prefix)\n",
    "    )\n",
    "    btn.on_click(btn_eventhandle)\n",
    "    ipynbBtnDict.append(btn)\n",
    "    display(btn)\n",
    "    \n",
    "# for eachBtn in ipynbBtnDict:\n",
    "#     display(eachBtn)\n",
    "\n",
    "# %run ./ipynb/OneClick-stable-diffusion.ipynb"
   ]
  }
 ],
 "metadata": {
  "kernelspec": {
   "display_name": "Python 3 (ipykernel)",
   "language": "python",
   "name": "python3"
  },
  "language_info": {
   "codemirror_mode": {
    "name": "ipython",
    "version": 3
   },
   "file_extension": ".py",
   "mimetype": "text/x-python",
   "name": "python",
   "nbconvert_exporter": "python",
   "pygments_lexer": "ipython3",
   "version": "3.8.10"
  }
 },
 "nbformat": 4,
 "nbformat_minor": 5
}
