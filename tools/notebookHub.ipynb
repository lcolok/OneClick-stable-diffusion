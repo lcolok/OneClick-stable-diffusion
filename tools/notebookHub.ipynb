{
  "cells": [
    {
      "cell_type": "markdown",
      "id": "93ba28fb-8b2f-4232-a02e-579fe4180adf",
      "metadata": {
        "tags": []
      },
      "source": [
        "# <i class=\"fa fa-plane-departure\"></i> \u5b66\u672f\u52a0\u901f\n",
        "\u9996\u5148\u8981\u8fdb\u884c\u5b66\u672f\u52a0\u901f\uff0c\u8fd9\u6709\u5229\u4e8e\u62c9\u53d6\u8d44\u6e90\uff0c\u8be6\u60c5\u8bf7\u770b\uff1ahttps://www.autodl.com/docs/network_turbo/  "
      ]
    },
    {
      "cell_type": "code",
      "execution_count": null,
      "id": "2b9c8fe4-ab0e-43e3-9983-9487044b951b",
      "metadata": {
        "tags": []
      },
      "outputs": [],
      "source": [
        "from func.env import setProxy\n",
        "cb=setProxy()\n",
        "proxy=cb['proxy']\n",
        "region=cb['region']"
      ]
    },
    {
      "cell_type": "markdown",
      "id": "bf2f7d90-a0df-4c49-9eea-38063b0caad1",
      "metadata": {
        "tags": []
      },
      "source": [
        "# <i class=\"fa fa-download\"></i> \u66f4\u65b0"
      ]
    },
    {
      "cell_type": "markdown",
      "id": "8614f068-9345-443d-a71a-7c6dc8c0dbd1",
      "metadata": {},
      "source": [
        "\u66f4\u65b0OneClick-stale-diffusion\u672c\u4f53"
      ]
    },
    {
      "cell_type": "code",
      "execution_count": null,
      "id": "eff3185f-7c98-4f0a-a641-7ae7f4731f8e",
      "metadata": {
        "scrolled": true,
        "tags": []
      },
      "outputs": [],
      "source": [
        "!{proxy} &&\\\n",
        "cd /root/OneClick-stable-diffusion/ &&\\\n",
        "git pull"
      ]
    },
    {
      "cell_type": "markdown",
      "id": "77facabb-c3f5-488a-b0e7-1d51a15c2501",
      "metadata": {},
      "source": [
        "# <i class=\"fa fa-list\"></i> \u6240\u6709\u811a\u672c\u5217\u8868"
      ]
    },
    {
      "cell_type": "code",
      "execution_count": null,
      "id": "7556bfc0-c3b3-42fd-bc19-6a262252444d",
      "metadata": {
        "tags": []
      },
      "outputs": [],
      "source": [
        "from ipywidgets import interact, widgets\n",
        "from IPython.display import display, clear_output\n",
        "# from IPython.core.interactiveshell import InteractiveShell\n",
        "# InteractiveShell.ast_node_interactivity = \"all\"\n",
        "\n",
        "ipynbDict = {\n",
        "    'oneClick_SD_WebUI':{\n",
        "        'description':'\u542f\u52a8 SD WebUI',\n",
        "        'dirpath':'./ipynb/OneClick-stable-diffusion.ipynb'\n",
        "    },\n",
        "    '2':{\n",
        "        'description':'\u542f\u52a8 SD WebUI',\n",
        "        'dirpath':'./ipynb/OneClick-stable-diffusion.ipynb'\n",
        "    }\n",
        "}\n",
        "\n",
        "ipynbBtnDict=[]\n",
        "\n",
        "def btn_eventhandle(obj):\n",
        "    for eachone in ipynbBtnDict:\n",
        "        eachone.close()\n",
        "    !jupyter run $dirpath\n",
        "\n",
        "for key in ipynbDict:\n",
        "    ipynb=ipynbDict[key]\n",
        "    description = ipynb['description']\n",
        "    dirpath = ipynb['dirpath']\n",
        "    btn = widgets.Button(\n",
        "        value=False,\n",
        "        description=description,\n",
        "        disabled=False,\n",
        "        button_style='',  # 'success', 'info', 'warning', 'danger' or ''\n",
        "        tooltip='Click me',\n",
        "        icon='globe', # (FontAwesome names without the `fa-` prefix)\n",
        "    )\n",
        "    btn.on_click(btn_eventhandle)\n",
        "    ipynbBtnDict.append(btn)\n",
        "    display(btn)\n",
        "    \n",
        "# for eachBtn in ipynbBtnDict:\n",
        "#     display(eachBtn)\n",
        "\n",
        "# %run ./ipynb/OneClick-stable-diffusion.ipynb"
      ]
    }
  ],
  "metadata": {
    "kernelspec": {
      "display_name": "Python 3 (ipykernel)",
      "language": "python",
      "name": "python3"
    },
    "language_info": {
      "codemirror_mode": {
        "name": "ipython",
        "version": 3
      },
      "file_extension": ".py",
      "mimetype": "text/x-python",
      "name": "python",
      "nbconvert_exporter": "python",
      "pygments_lexer": "ipython3",
      "version": "3.8.10"
    }
  },
  "nbformat": 4,
  "nbformat_minor": 5
}