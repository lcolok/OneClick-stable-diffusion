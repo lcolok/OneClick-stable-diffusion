{
 "cells": [
  {
   "cell_type": "code",
   "execution_count": null,
   "id": "13b00591-6e63-4a69-82bb-0dcdd849ae1f",
   "metadata": {},
   "outputs": [],
   "source": [
    "!time dd if=/root/autodl-nas/models/Anime/Anything-V3.0-pruned.ckpt of=/root/stable-diffusion-webui/models/Stable-diffusion/Anything-V3.0-pruned.ckpt bs=64k"
   ]
  },
  {
   "cell_type": "code",
   "execution_count": null,
   "id": "8ac2944b-dffe-4a24-9914-424893f01c18",
   "metadata": {},
   "outputs": [],
   "source": [
    "!time dd if=/root/autodl-nas/vae/Anything-V3.0.vae.pt of=/root/stable-diffusion-webui/models/VAE/Anything-V3.0.vae.pt bs=64k"
   ]
  }
 ],
 "metadata": {
  "kernelspec": {
   "display_name": "Python 3 (ipykernel)",
   "language": "python",
   "name": "python3"
  },
  "language_info": {
   "codemirror_mode": {
    "name": "ipython",
    "version": 3
   },
   "file_extension": ".py",
   "mimetype": "text/x-python",
   "name": "python",
   "nbconvert_exporter": "python",
   "pygments_lexer": "ipython3",
   "version": "3.8.10"
  }
 },
 "nbformat": 4,
 "nbformat_minor": 5
}
