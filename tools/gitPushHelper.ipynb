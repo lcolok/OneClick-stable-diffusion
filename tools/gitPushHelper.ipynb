{
 "cells": [
  {
   "cell_type": "markdown",
   "id": "f096a789-147c-4347-a407-2d4cf737c799",
   "metadata": {
    "tags": []
   },
   "source": [
    "## <i class=\"fa fa-plane-departure\"></i> 学术加速\n",
    "首先要进行学术加速，这有利于拉取资源，详情请看：https://www.autodl.com/docs/network_turbo/  "
   ]
  },
  {
   "cell_type": "code",
   "execution_count": 1,
   "id": "e7cd415e-9e19-48ff-96a7-6a57a0f86da5",
   "metadata": {
    "tags": [],
    "vscode": {
     "languageId": "python"
    }
   },
   "outputs": [
    {
     "data": {
      "application/vnd.jupyter.widget-view+json": {
       "model_id": "86ad16047dcb4f3da9cd4a7f8d6ecb45",
       "version_major": 2,
       "version_minor": 0
      },
      "text/plain": [
       "Button(button_style='info', description='在使用【佛山】代理', style=ButtonStyle(), tooltip='请点击下方的区名')"
      ]
     },
     "metadata": {},
     "output_type": "display_data"
    },
    {
     "data": {
      "application/vnd.jupyter.widget-view+json": {
       "model_id": "6102ca708cd24cdf98c1f7968adf6a54",
       "version_major": 2,
       "version_minor": 0
      },
      "text/plain": [
       "Button(description='芜湖', style=ButtonStyle(), tooltip='Click me')"
      ]
     },
     "metadata": {},
     "output_type": "display_data"
    },
    {
     "data": {
      "application/vnd.jupyter.widget-view+json": {
       "model_id": "e86a7e1e26e942d98138955e5fddefe3",
       "version_major": 2,
       "version_minor": 0
      },
      "text/plain": [
       "Button(description='北京', style=ButtonStyle(), tooltip='Click me')"
      ]
     },
     "metadata": {},
     "output_type": "display_data"
    },
    {
     "data": {
      "application/vnd.jupyter.widget-view+json": {
       "model_id": "2fee865f4613498c90f521f267426d8f",
       "version_major": 2,
       "version_minor": 0
      },
      "text/plain": [
       "Button(description='内蒙', style=ButtonStyle(), tooltip='Click me')"
      ]
     },
     "metadata": {},
     "output_type": "display_data"
    },
    {
     "data": {
      "application/vnd.jupyter.widget-view+json": {
       "model_id": "31549887ad9c4536b61669cb13d8bab9",
       "version_major": 2,
       "version_minor": 0
      },
      "text/plain": [
       "Button(description='泉州', style=ButtonStyle(), tooltip='Click me')"
      ]
     },
     "metadata": {},
     "output_type": "display_data"
    },
    {
     "data": {
      "application/vnd.jupyter.widget-view+json": {
       "model_id": "0264915af892450caa9eb8bf9ba9fb75",
       "version_major": 2,
       "version_minor": 0
      },
      "text/plain": [
       "Button(description='南京', style=ButtonStyle(), tooltip='Click me')"
      ]
     },
     "metadata": {},
     "output_type": "display_data"
    },
    {
     "data": {
      "application/vnd.jupyter.widget-view+json": {
       "model_id": "bc7d710ab5b9480c81da85f6865ea1eb",
       "version_major": 2,
       "version_minor": 0
      },
      "text/plain": [
       "Button(button_style='success', description='佛山', icon='check', style=ButtonStyle(), tooltip='Click me')"
      ]
     },
     "metadata": {},
     "output_type": "display_data"
    }
   ],
   "source": [
    "import os,subprocess\n",
    "from ipywidgets import interact,widgets\n",
    "from IPython.display import display,clear_output\n",
    "\n",
    "btnArray = []\n",
    "region = '未知'\n",
    "proxy = 'cd ./' #一句没有实际作用的命令作为占位\n",
    "\n",
    "ipDict = {\n",
    "            '芜湖':'192.168.0.91',\n",
    "            '北京':'100.72.64.19',\n",
    "            '内蒙':'192.168.1.174',\n",
    "            '泉州':'10.55.146.88',\n",
    "            '南京':'172.181.217.43',\n",
    "            '佛山':'192.168.126.12',\n",
    "         }\n",
    "\n",
    "def autoRegion():\n",
    "    for key in ipDict:\n",
    "        ip = ipDict[key]\n",
    "        if(os.system(f'ping -c 1 -w 1 {ip}')==0):\n",
    "            print('OK')\n",
    "            global region,proxy\n",
    "            region = key\n",
    "            proxy = makeCLI(ip)\n",
    "            clear_output(wait=True)\n",
    "            break\n",
    "        else:\n",
    "            print('Connection failed')\n",
    "            continue\n",
    "            \n",
    "def makeCLI(ip):\n",
    "    return f'export http_proxy=http://{ip}:12798 && export https_proxy=http://{ip}:12798'\n",
    "\n",
    "def printSuccess(region):\n",
    "    # print(f'已挂载【{region}】对应的代理')\n",
    "    picked.button_style='info'\n",
    "    picked.description = f'在使用【{region}】代理'\n",
    "    # picked.icon = 'check'\n",
    "\n",
    "def printFail():\n",
    "    # print(f'已挂载【{region}】对应的代理')\n",
    "    picked.button_style='warning'\n",
    "    picked.description = f'没有合适的代理'\n",
    "    picked.icon = 'exclamation-triangle'\n",
    "\n",
    "def autoClick(region):\n",
    "    for o in btnArray:#取消所有按钮被选中的样式\n",
    "        o.button_style=''\n",
    "        o.icon=''\n",
    "    printSuccess(region)\n",
    "    for k in btnArray:\n",
    "        if k.description == region:            \n",
    "            k.button_style='success'\n",
    "            k.icon = 'check'\n",
    "    \n",
    "def btn_eventhandle(obj):\n",
    "    global region,proxy\n",
    "    for o in btnArray:#取消所有按钮被选中的样式\n",
    "        o.button_style=''\n",
    "        o.icon=''\n",
    "    obj.button_style='success'\n",
    "    obj.icon = 'check'\n",
    "    region = obj.description\n",
    "    ip = ipDict[region]\n",
    "    proxy = makeCLI(ip)\n",
    "    printSuccess(obj.description)\n",
    "\n",
    "picked = widgets.Button(\n",
    "    value=False,\n",
    "    description=f'自动侦测中...',\n",
    "    disabled=False,\n",
    "    button_style='warning', # 'success', 'info', 'warning', 'danger' or ''\n",
    "    tooltip='请点击下方的区名',\n",
    "    icon='question-circle' # (FontAwesome names without the `fa-` prefix)\n",
    ")\n",
    "    \n",
    "for i in ipDict:\n",
    "    btn =  widgets.Button(\n",
    "            description=i,\n",
    "            disabled=False,\n",
    "            button_style='', # 'success', 'info', 'warning', 'danger' or ''\n",
    "            tooltip='Click me',\n",
    "            # icon='check' # (FontAwesome names without the `fa-` prefix)\n",
    "            )\n",
    "    btn.on_click(btn_eventhandle)\n",
    "    btnArray.append(btn)\n",
    "\n",
    "btnArray.insert(0,picked)\n",
    "\n",
    "for e in btnArray:\n",
    "    display(e)\n",
    "    \n",
    "autoRegion()\n",
    "if region!='未知':\n",
    "    autoClick(region)\n",
    "else:\n",
    "    clear_output(wait=True)\n",
    "    printFail()\n",
    "\n",
    "for e in btnArray:\n",
    "    display(e)"
   ]
  },
  {
   "cell_type": "code",
   "execution_count": 5,
   "metadata": {
    "vscode": {
     "languageId": "python"
    }
   },
   "outputs": [
    {
     "name": "stdout",
     "output_type": "stream",
     "text": [
      "export http_proxy=http://192.168.126.12:12798 && export https_proxy=http://192.168.126.12:12798 && cd /root/OneClick-stable-diffusion && git push\n"
     ]
    }
   ],
   "source": [
    "r = f'{proxy} && cd /root/OneClick-stable-diffusion && git push'\n",
    "print(r)"
   ]
  },
  {
   "cell_type": "code",
   "execution_count": null,
   "metadata": {
    "vscode": {
     "languageId": "python"
    }
   },
   "outputs": [],
   "source": []
  }
 ],
 "metadata": {
  "kernelspec": {
   "display_name": "Python3.10.6",
   "language": "python",
   "name": "py3.10.6"
  },
  "orig_nbformat": 4
 },
 "nbformat": 4,
 "nbformat_minor": 2
}
