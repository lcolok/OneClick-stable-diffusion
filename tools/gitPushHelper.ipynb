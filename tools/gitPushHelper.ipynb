{
 "cells": [
  {
   "cell_type": "markdown",
   "metadata": {
    "tags": []
   },
   "source": [
    "## <i class=\"fa fa-plane-departure\"></i> 学术加速\n",
    "首先要进行学术加速，这有利于拉取资源，详情请看：https://www.autodl.com/docs/network_turbo/  "
   ]
  },
  {
   "cell_type": "code",
   "execution_count": null,
   "metadata": {
    "jupyter": {
     "source_hidden": true
    },
    "tags": []
   },
   "outputs": [],
   "source": [
    "import os,subprocess\n",
    "from ipywidgets import interact,widgets\n",
    "from IPython.display import display,clear_output\n",
    "\n",
    "btnArray = []\n",
    "region = '未知'\n",
    "proxy = 'cd ./' #一句没有实际作用的命令作为占位\n",
    "\n",
    "ipDict = {\n",
    "            '芜湖':'192.168.0.91',\n",
    "            '北京':'100.72.64.19',\n",
    "            '内蒙':'192.168.1.174',\n",
    "            '泉州':'10.55.146.88',\n",
    "            '南京':'172.181.217.43',\n",
    "            '佛山':'192.168.126.12',\n",
    "         }\n",
    "\n",
    "def autoRegion():\n",
    "    for key in ipDict:\n",
    "        ip = ipDict[key]\n",
    "        if(os.system(f'ping -c 1 -w 1 {ip}')==0):\n",
    "            print('OK')\n",
    "            global region,proxy\n",
    "            region = key\n",
    "            proxy = makeCLI(ip)\n",
    "            clear_output(wait=True)\n",
    "            break\n",
    "        else:\n",
    "            print('Connection failed')\n",
    "            continue\n",
    "            \n",
    "def makeCLI(ip):\n",
    "    return f'export http_proxy=http://{ip}:12798 && export https_proxy=http://{ip}:12798'\n",
    "\n",
    "def printSuccess(region):\n",
    "    # print(f'已挂载【{region}】对应的代理')\n",
    "    picked.button_style='info'\n",
    "    picked.description = f'在使用【{region}】代理'\n",
    "    # picked.icon = 'check'\n",
    "\n",
    "def printFail():\n",
    "    # print(f'已挂载【{region}】对应的代理')\n",
    "    picked.button_style='warning'\n",
    "    picked.description = f'没有合适的代理'\n",
    "    picked.icon = 'exclamation-triangle'\n",
    "\n",
    "def autoClick(region):\n",
    "    for o in btnArray:#取消所有按钮被选中的样式\n",
    "        o.button_style=''\n",
    "        o.icon=''\n",
    "    printSuccess(region)\n",
    "    for k in btnArray:\n",
    "        if k.description == region:            \n",
    "            k.button_style='success'\n",
    "            k.icon = 'check'\n",
    "    \n",
    "def btn_eventhandle(obj):\n",
    "    global region,proxy\n",
    "    for o in btnArray:#取消所有按钮被选中的样式\n",
    "        o.button_style=''\n",
    "        o.icon=''\n",
    "    obj.button_style='success'\n",
    "    obj.icon = 'check'\n",
    "    region = obj.description\n",
    "    ip = ipDict[region]\n",
    "    proxy = makeCLI(ip)\n",
    "    printSuccess(obj.description)\n",
    "\n",
    "picked = widgets.Button(\n",
    "    value=False,\n",
    "    description=f'自动侦测中...',\n",
    "    disabled=False,\n",
    "    button_style='warning', # 'success', 'info', 'warning', 'danger' or ''\n",
    "    tooltip='请点击下方的区名',\n",
    "    icon='question-circle' # (FontAwesome names without the `fa-` prefix)\n",
    ")\n",
    "    \n",
    "for i in ipDict:\n",
    "    btn =  widgets.Button(\n",
    "            description=i,\n",
    "            disabled=False,\n",
    "            button_style='', # 'success', 'info', 'warning', 'danger' or ''\n",
    "            tooltip='Click me',\n",
    "            # icon='check' # (FontAwesome names without the `fa-` prefix)\n",
    "            )\n",
    "    btn.on_click(btn_eventhandle)\n",
    "    btnArray.append(btn)\n",
    "\n",
    "btnArray.insert(0,picked)\n",
    "\n",
    "for e in btnArray:\n",
    "    display(e)\n",
    "    \n",
    "autoRegion()\n",
    "if region!='未知':\n",
    "    autoClick(region)\n",
    "else:\n",
    "    clear_output(wait=True)\n",
    "    printFail()\n",
    "\n",
    "for e in btnArray:\n",
    "    display(e)"
   ]
  },
  {
   "cell_type": "code",
   "execution_count": null,
   "metadata": {
    "tags": []
   },
   "outputs": [],
   "source": [
    "r = f'{proxy} && cd /root/OneClick-stable-diffusion && git push'\n",
    "print(r)"
   ]
  }
 ],
 "metadata": {
  "kernelspec": {
   "display_name": "Python 3 (ipykernel)",
   "language": "python",
   "name": "python3"
  },
  "language_info": {
   "codemirror_mode": {
    "name": "ipython",
    "version": 3
   },
   "file_extension": ".py",
   "mimetype": "text/x-python",
   "name": "python",
   "nbconvert_exporter": "python",
   "pygments_lexer": "ipython3",
   "version": "3.8.10"
  },
  "vscode": {
   "interpreter": {
    "hash": "369f2c481f4da34e4445cda3fffd2e751bd1c4d706f27375911949ba6bb62e1c"
   }
  }
 },
 "nbformat": 4,
 "nbformat_minor": 4
}
