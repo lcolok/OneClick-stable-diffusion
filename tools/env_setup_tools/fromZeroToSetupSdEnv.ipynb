{
  "cells": [
    {
      "cell_type": "markdown",
      "id": "f3a780b7-4e86-440a-9a80-c9e98aadb259",
      "metadata": {},
      "source": [
        "# \u5b89\u88c5\u5fc5\u5907\u5de5\u5177"
      ]
    },
    {
      "cell_type": "code",
      "execution_count": null,
      "id": "e9147748-fee1-49d4-a51d-e4662f663302",
      "metadata": {
        "tags": []
      },
      "outputs": [],
      "source": [
        "import subprocess\n",
        "\n",
        "libraries_to_install = [\n",
        "\n",
        "]\n",
        "\n",
        "tools_to_install = [\n",
        "\n",
        "    \"iputils-ping\",\n",
        "    \n",
        "]\n",
        "\n",
        "installed_libraries = subprocess.run([\"pip\", \"freeze\"], capture_output=True).stdout.decode().split(\"\\n\")\n",
        "\n",
        "# \u5c1d\u8bd5\u5b89\u88c5\u6240\u6709\u672a\u5b89\u88c5\u7684\u5e93\n",
        "for library in libraries_to_install:\n",
        "    if library == \"black[jupyter]\" and any(\"black\" in installed_library for installed_library in installed_libraries):\n",
        "        print(f\"\u3010 {library} \u3011\u5df2\u7ecf\u5b89\u88c5\uff0c\u8df3\u8fc7\u5b89\u88c5\")\n",
        "        continue\n",
        "    elif not any(library in installed_library for installed_library in installed_libraries):\n",
        "        !pip install $library\n",
        "    else:\n",
        "        print(f\"\u3010 {library} \u3011\u5df2\u7ecf\u5b89\u88c5\uff0c\u8df3\u8fc7\u5b89\u88c5\")\n",
        "        \n",
        "# \u5c1d\u8bd5\u5b89\u88c5\u6240\u6709\u672a\u5b89\u88c5\u7684\u5de5\u5177\n",
        "update_needed = False\n",
        "for tool in tools_to_install:\n",
        "    exit_code = subprocess.run([\"dpkg\", \"-s\", tool], capture_output=True).returncode\n",
        "    if exit_code != 0:\n",
        "        update_needed = True\n",
        "        break\n",
        "    else:\n",
        "        print(f\"\u3010 {tool} \u3011\u5df2\u7ecf\u5b89\u88c5\uff0c\u8df3\u8fc7\u5b89\u88c5\")\n",
        "if update_needed:\n",
        "    !apt-get update\n",
        "    for tool in tools_to_install:\n",
        "        exit_code = subprocess.run([\"dpkg\", \"-s\", tool], capture_output=True).returncode\n",
        "        if exit_code != 0:\n",
        "            !apt-get install -y $tool\n",
        "    \n"
      ]
    },
    {
      "cell_type": "markdown",
      "id": "1b87f841-9829-4349-867e-856e035142d6",
      "metadata": {},
      "source": [
        "# \u4eceGitHub\u514b\u9686OneClick-stable-diffusion\u9879\u76ee"
      ]
    },
    {
      "cell_type": "code",
      "execution_count": null,
      "id": "7f8683c9-9c7f-480a-9e40-7b8ef7a868b7",
      "metadata": {
        "tags": []
      },
      "outputs": [],
      "source": [
        "# import os\n",
        "# root_dir = os.path.abspath(os.sep)\n",
        "# !cd $root_dir && git clone https://github.com/lcolok/OneClick-stable-diffusion"
      ]
    },
    {
      "cell_type": "markdown",
      "id": "7012a06d-5406-4f68-93ca-eeb285eae9c0",
      "metadata": {},
      "source": [
        "# \u4eceGitHub\u514b\u9686stable-diffusion-webui\u9879\u76ee"
      ]
    },
    {
      "cell_type": "code",
      "execution_count": null,
      "id": "4b3b04d5-cda1-470b-860b-fa0717fe863a",
      "metadata": {
        "tags": []
      },
      "outputs": [],
      "source": [
        "import subprocess\n",
        "import os\n",
        "from urllib.parse import urlparse\n",
        "\n",
        "# \u8bbe\u7f6eGitHub\u9879\u76ee\u7684URL\n",
        "repo_url = \"https://github.com/AUTOMATIC1111/stable-diffusion-webui.git\"\n",
        "\n",
        "def get_project_name_from_url(url: str) -> str:\n",
        "    \"\"\"\n",
        "    \u83b7\u53d6GitHub\u9879\u76ee\u7684\u540d\u79f0\u3002\n",
        "    :param url: GitHub\u9879\u76ee\u7684URL\n",
        "    :return: GitHub\u9879\u76ee\u7684\u540d\u79f0\n",
        "    \"\"\"\n",
        "    # \u89e3\u6790URL\n",
        "    parsed_url = urlparse(url)\n",
        "    # \u83b7\u53d6\u8def\u5f84\u90e8\u5206\n",
        "    extPath = parsed_url.path\n",
        "    (_, project_name) = os.path.split(extPath)\n",
        "    \n",
        "    if '.git' in project_name:\n",
        "        project_name = project_name.split(\".git\")[0]\n",
        "    \n",
        "    return project_name\n",
        "\n",
        "# \u8c03\u7528\u547d\u4ee4\u884c\u5de5\u5177git rev-parse\uff0c\u83b7\u53d6git\u9879\u76ee\u7684\u6839\u76ee\u5f55\n",
        "git_root = subprocess.run(\n",
        "    [\"git\", \"rev-parse\", \"--show-toplevel\"],\n",
        "    capture_output=True,\n",
        "    text=True,\n",
        ").stdout.strip()\n",
        "\n",
        "# \u83b7\u53d6\u6839\u76ee\u5f55\u7684\u7236\u76ee\u5f55\n",
        "parent_dir = os.path.dirname(git_root)\n",
        "\n",
        "# \u8c03\u7528\u51fd\u6570\uff0c\u83b7\u53d6\u76ee\u6807\u8def\u5f84\u7684\u6587\u4ef6\u540d\n",
        "destination_path = get_project_name_from_url(repo_url)\n",
        "\n",
        "# \u5c06\u6587\u4ef6\u540d\u4e0e\u6839\u76ee\u5f55\u7684\u7236\u76ee\u5f55\u62fc\u63a5\u8d77\u6765\uff0c\u5f97\u5230\u5b8c\u6574\u7684\u76ee\u6807\u8def\u5f84\n",
        "destination_path = os.path.join(parent_dir, destination_path)\n",
        "\n",
        "# \u5224\u65ad\u76ee\u6807\u8def\u5f84\u662f\u5426\u5df2\u5b58\u5728\n",
        "if os.path.exists(destination_path):\n",
        "    # \u5982\u679c\u76ee\u6807\u8def\u5f84\u5df2\u5b58\u5728\uff0c\u5224\u65ad\u5b83\u662f\u5426\u662f\u76ee\u5f55\n",
        "    if os.path.isdir(destination_path):\n",
        "        # \u5982\u679c\u662f\u76ee\u5f55\uff0c\u5219\u4e0d\u6267\u884cgit clone\u547d\u4ee4\n",
        "        print(\"\u76ee\u6807\u8def\u5f84\u5df2\u5b58\u5728\u5e76\u4e14\u662f\u76ee\u5f55\u3002\u8df3\u8fc7git clone\u3002\")\n",
        "    else:\n",
        "        # \u5982\u679c\u4e0d\u662f\u76ee\u5f55\uff0c\u5219\u629b\u51fa\u5f02\u5e38\n",
        "        raise Exception(\"\u76ee\u6807\u8def\u5f84\u5df2\u5b58\u5728\uff0c\u4f46\u4e0d\u662f\u76ee\u5f55\u3002\")\n",
        "else:\n",
        "    # \u5982\u679c\u76ee\u6807\u8def\u5f84\u4e0d\u5b58\u5728\uff0c\u5219\u6267\u884cgit clone\u547d\u4ee4\n",
        "    !cd $parent_dir && git clone $repo_url"
      ]
    },
    {
      "cell_type": "markdown",
      "id": "d4f2e743-88f8-4f99-bae8-b0eaaeb63f38",
      "metadata": {},
      "source": [
        "# 2. \u6dfb\u52a0 conda \u6e05\u534e\u6e90"
      ]
    },
    {
      "cell_type": "code",
      "execution_count": null,
      "id": "5bf02b40-fcfb-4365-9eb7-9214dfd36469",
      "metadata": {
        "tags": []
      },
      "outputs": [],
      "source": [
        "# !source activate && conda env list &&\\\n",
        "# conda config --add channels https://mirrors.tuna.tsinghua.edu.cn/anaconda/pkgs/free/ &&\\\n",
        "# conda config --add channels https://mirrors.tuna.tsinghua.edu.cn/anaconda/pkgs/main/ &&\\\n",
        "# conda config --add channels https://mirrors.tuna.tsinghua.edu.cn/anaconda/cloud/conda-forge/ &&\\\n",
        "# conda config --add channels https://mirrors.tuna.tsinghua.edu.cn/anaconda/cloud/msys2/ &&\\\n",
        "# conda config --add channels https://mirrors.tuna.tsinghua.edu.cn/anaconda/cloud/pytorch/ &&\\\n",
        "# conda config --set show_channel_urls yes"
      ]
    },
    {
      "cell_type": "markdown",
      "id": "7b91f90f-f667-4257-8665-da1910dadfc9",
      "metadata": {
        "tags": []
      },
      "source": [
        "# 3. \u56e0\u4e3a webui \u8981\u6c42 py3.10\uff0c\u65b0\u5efa\u73af\u5883"
      ]
    },
    {
      "cell_type": "code",
      "execution_count": null,
      "id": "e671ec8c-2d48-41b0-bba9-9a031b13a815",
      "metadata": {
        "tags": []
      },
      "outputs": [],
      "source": [
        "import subprocess\n",
        "\n",
        "def install_conda_env(env_name):\n",
        "    # \u68c0\u67e5 conda \u662f\u5426\u5df2\u7ecf\u5b89\u88c5\n",
        "    try:\n",
        "        subprocess.run([\"conda\", \"env\", \"list\"], check=True)\n",
        "    except subprocess.CalledProcessError:\n",
        "        print(\"\u7cfb\u7edf\u4e0a\u6ca1\u6709\u5b89\u88c5 Conda\u3002\u8bf7\u5148\u5b89\u88c5\u3002\")\n",
        "        return\n",
        "\n",
        "    # \u68c0\u67e5\u73af\u5883\u662f\u5426\u5df2\u7ecf\u5b58\u5728\n",
        "    env_exists = False\n",
        "    output = subprocess.run([\"conda\", \"env\", \"list\"], capture_output=True).stdout.decode()\n",
        "    for line in output.split(\"\\n\"):\n",
        "        if env_name in line:\n",
        "            env_exists = True\n",
        "            break\n",
        "\n",
        "    # \u5982\u679c\u73af\u5883\u4e0d\u5b58\u5728\uff0c\u5219\u521b\u5efa\u65b0\u73af\u5883\n",
        "    if env_exists:\n",
        "        print(f\"\u73af\u5883 {env_name} \u5df2\u7ecf\u5b58\u5728\uff0c\u8df3\u8fc7\u521b\u5efa\u3002\")\n",
        "    else:\n",
        "        subprocess.run([\"conda\", \"create\", \"-n\", env_name, \"python=3.10.6\", \"-y\"], check=True)\n",
        "        print(f\"\u5df2\u521b\u5efa\u73af\u5883 {env_name}\u3002\")\n",
        "\n",
        "install_conda_env(\"py3.10.6\")\n"
      ]
    },
    {
      "cell_type": "markdown",
      "id": "507ae146-1498-4088-a921-862997d9f94a",
      "metadata": {},
      "source": [
        "# 4. \u7528 os \u6a21\u5757\u7684 system \u51fd\u6570\u6267\u884c Bash \u547d\u4ee4\uff0c\u8981\u5c06\u65b0\u73af\u5883\u8bbe\u7f6e\u4e3a\u9ed8\u8ba4\u542f\u52a8"
      ]
    },
    {
      "cell_type": "code",
      "execution_count": null,
      "id": "99c30841-5ac9-4368-a6ff-cf9e78cc3c81",
      "metadata": {},
      "outputs": [],
      "source": [
        "import os\n",
        "\n",
        "# \u8bfb\u53d6 /root/.bashrc \u6587\u4ef6\u7684\u5185\u5bb9\n",
        "with open(\"/root/.bashrc\", \"r\") as f:\n",
        "    bashrc_content = f.read()\n",
        "\n",
        "# \u5982\u679c /root/.bashrc \u6587\u4ef6\u4e2d\u5305\u542b\u4e86\u591a\u4f59\u7684 \"conda activate py3.10.6\" \u8fd9\u4e00\u884c\uff0c\u5c31\u5220\u9664\u8fd9\u4e9b\u884c\n",
        "if \"conda activate py3.10.6\" in bashrc_content.splitlines():\n",
        "    # \u5220\u9664 \"conda activate py3.10.6\" \u8fd9\u4e00\u884c\n",
        "    bashrc_content = \"\\n\".join([line for line in bashrc_content.splitlines() if line != \"conda activate py3.10.6\"])\n",
        "    # \u628a\u4fee\u6539\u540e\u7684\u5185\u5bb9\u5199\u56de /root/.bashrc \u6587\u4ef6\n",
        "    with open(\"/root/.bashrc\", \"w\") as f:\n",
        "        f.write(bashrc_content)\n",
        "# \u5426\u5219\uff0c\u5728 /root/.bashrc \u6587\u4ef6\u672b\u5c3e\u6dfb\u52a0 \"conda activate py3.10.6\" \u8fd9\u4e00\u884c\n",
        "else:\n",
        "    with open(\"/root/.bashrc\", \"a\") as f:\n",
        "        f.write(\"\\nconda activate py3.10.6\")\n",
        "\n",
        "print(\"/root/.bashrc \u5df2\u7ecf\u4fee\u6539\u597d\u4e86\uff01\")"
      ]
    },
    {
      "cell_type": "code",
      "execution_count": null,
      "id": "9711353b-1a9e-4d94-b082-e227f72a26a4",
      "metadata": {
        "tags": []
      },
      "outputs": [],
      "source": [
        "!source activate && conda init bash && source /root/.bashrc"
      ]
    },
    {
      "cell_type": "markdown",
      "id": "02118f9e-82cf-425c-8210-fbfd6a13e92a",
      "metadata": {},
      "source": [
        "# 7. \u5b89\u88c5\u4f9d\u8d56\u2014\u2014tensorflow\u3001pytorch\u3001torchvision\u3001cudatoolkit"
      ]
    },
    {
      "cell_type": "code",
      "execution_count": null,
      "id": "7e2ed0e6-55ea-4c17-9175-74ad135f5df5",
      "metadata": {
        "tags": []
      },
      "outputs": [],
      "source": [
        "!source activate &&\\\n",
        "conda activate py3.10.6 &&\\\n",
        "pip install pip -U &&\\\n",
        "pip config set global.index-url \"\" &&\\\n",
        "conda install -y tensorflow=2.10.0 cudatoolkit=11.7 &&\\\n",
        "pip install torch torchvision --extra-index-url https://download.pytorch.org/whl/cu117\n",
        "# conda install pytorch==1.12.1 torchvision==0.13.1 -c pytorch -c nvidia -y\n",
        "# conda install pytorch torchvision pytorch-cuda=11.3 -c pytorch -c nvidia"
      ]
    },
    {
      "cell_type": "markdown",
      "id": "3b26143e-fcc7-4aa4-9fa7-4e2711ced454",
      "metadata": {},
      "source": [
        "# 9. \u590d\u5236\u4e00\u4e2a\u6587\u4ef6\uff0c\u4e0d\u7136\u4ee5\u540e\u542f\u52a8webui\u4f1a\u62a5\u9519"
      ]
    },
    {
      "cell_type": "code",
      "execution_count": null,
      "id": "2bb58e98-6b0c-4927-be0d-68b29733058a",
      "metadata": {
        "tags": []
      },
      "outputs": [],
      "source": [
        "import os\n",
        "\n",
        "# \u67e5\u8be2\u672c\u673a conda \u5b89\u88c5\u7684\u76ee\u5f55\n",
        "conda_dir = os.popen(\"conda info --base\").read().strip()\n",
        "print(f\"\u5f53\u524d conda \u5b89\u88c5\u7684\u76ee\u5f55\uff1a{conda_dir}\")\n",
        "\n",
        "# \u8bbe\u7f6e py3.10.6 \u73af\u5883\u7684\u76ee\u5f55\n",
        "env_dir = os.path.join(conda_dir, \"envs\", \"py3.10.6\")\n",
        "print(f\"py3.10.6 \u73af\u5883\u7684\u76ee\u5f55\uff1a{env_dir}\")\n",
        "\n",
        "# \u8bbe\u7f6e\u76ee\u6807\u76ee\u5f55\n",
        "target_dir = \"/usr/lib/x86_64-linux-gnu/\"\n",
        "\n",
        "# \u8bbe\u7f6e\u6e90\u6587\u4ef6\u8def\u5f84\n",
        "source_file = os.path.join(env_dir, 'lib', 'libstdc++.so.6.0.30')\n",
        "\n",
        "# \u8bbe\u7f6e\u76ee\u6807\u6587\u4ef6\u8def\u5f84\n",
        "target_file = os.path.join(target_dir, 'libstdc++.so.6.0.30')\n",
        "\n",
        "cmd=f\"cp {source_file} {target_dir} && cd {target_dir} && rm libstdc++.so.6 && ln {target_file} libstdc++.so.6\"\n",
        "print(cmd)\n",
        "\n",
        "# \u6267\u884c\u547d\u4ee4\u884c\n",
        "os.system(cmd)\n",
        "\n",
        "print(\"\u547d\u4ee4\u6267\u884c\u5b8c\u6210\uff01\")\n"
      ]
    },
    {
      "cell_type": "markdown",
      "id": "5b1f8d9c-d51a-4ce8-992b-0d9cbd1d8946",
      "metadata": {},
      "source": [
        "# \u67e5\u770b\u4e00\u4e0b\u4f4d\u4e8eenv\u76ee\u5f55\u4e0b\u7684py3.10.6\u6587\u4ef6\u4f53\u79ef\u4e3a\u591a\u5c11"
      ]
    },
    {
      "cell_type": "code",
      "execution_count": null,
      "id": "ed9daa57-5ade-49fb-b7ac-118e604326ab",
      "metadata": {
        "tags": []
      },
      "outputs": [],
      "source": [
        "import os\n",
        "\n",
        "# \u67e5\u8be2\u672c\u673a conda \u5b89\u88c5\u7684\u76ee\u5f55\n",
        "conda_dir = os.popen(\"conda info --base\").read().strip()\n",
        "print(f\"\u5f53\u524d conda \u5b89\u88c5\u7684\u76ee\u5f55\uff1a{conda_dir}\")\n",
        "\n",
        "# \u8bbe\u7f6e conda \u73af\u5883\u76ee\u5f55\n",
        "env_dir = os.path.join(conda_dir, \"envs\")\n",
        "print(f\"conda \u73af\u5883\u76ee\u5f55\uff1a{env_dir}\")\n",
        "\n",
        "# \u8bbe\u7f6e py3.10.6 \u73af\u5883\u7684\u76ee\u5f55\n",
        "py_316_dir = os.path.join(env_dir, \"py3.10.6\")\n",
        "print(f\"py3.10.6 \u73af\u5883\u7684\u76ee\u5f55\uff1a{py_316_dir}\")\n",
        "\n",
        "!du -sh $py_316_dir\n",
        "\n",
        "py_316_clone_dir='/output/py3.10.6'\n",
        "\n",
        "if not os.path.exists(py_316_clone_dir):\n",
        "    !cp -r $py_316_dir $py_316_clone_dir\n",
        "else:\n",
        "    print(f'{py_316_clone_dir} \u5df2\u7ecf\u590d\u5236\u4e86')\n",
        "!du -sh $py_316_clone_dir"
      ]
    },
    {
      "cell_type": "markdown",
      "id": "87ed6124-dd53-478e-8188-ddf52af6866c",
      "metadata": {},
      "source": [
        "# \u5feb\u901f\u8fdb\u884cpy3.10.6\u73af\u5883\u7684\u6302\u8f7d"
      ]
    },
    {
      "cell_type": "code",
      "execution_count": null,
      "id": "a4d997f1-a32a-448a-b73e-8f41900520c3",
      "metadata": {
        "tags": []
      },
      "outputs": [],
      "source": [
        "py_316_clone_dir='/output/py3.10.6'\n",
        "if os.path.exists(py_316_dir):\n",
        "    !rm -rf $py_316_dir\n",
        "!ln -s $py_316_clone_dir $py_316_dir"
      ]
    },
    {
      "cell_type": "code",
      "execution_count": null,
      "id": "bfbf39c8-846d-4bd1-842e-0d7cd8d11797",
      "metadata": {
        "tags": []
      },
      "outputs": [],
      "source": [
        "!conda env list"
      ]
    },
    {
      "cell_type": "markdown",
      "id": "75ea237e-ca7d-47bd-8521-6ec5a86d33e2",
      "metadata": {},
      "source": [
        "# 10.(\u53ef\u9009) \u6d4b\u8bd5\u4e00\u4e0btf\u548cpytorch\u662f\u5426\u53ef\u7528"
      ]
    },
    {
      "cell_type": "code",
      "execution_count": null,
      "id": "058217fd-7dec-44c0-8f91-f0dbfefb3a24",
      "metadata": {
        "tags": []
      },
      "outputs": [],
      "source": [
        "!source activate &&\\\n",
        "conda activate py3.10.6 &&\\\n",
        "python -c 'import tensorflow;tensorflow.test.is_gpu_available();' &&\\\n",
        "python -c 'import torch;torch.cuda.is_available();'\n"
      ]
    },
    {
      "cell_type": "markdown",
      "id": "47de93d0-10b9-4206-884b-22b97cc2c35c",
      "metadata": {},
      "source": [
        "# 11. \u5220\u6389\u591a\u4f59\u7684\u7f13\u5b58"
      ]
    },
    {
      "cell_type": "code",
      "execution_count": null,
      "id": "d651001c-c97b-4ed1-9bec-2bcf2177547b",
      "metadata": {
        "tags": []
      },
      "outputs": [],
      "source": [
        "!rm -rf /usr/local/pkgs"
      ]
    },
    {
      "cell_type": "markdown",
      "id": "69c22744-a74a-4d24-8af7-2ae8ea893065",
      "metadata": {},
      "source": [
        "# 12. \u522b\u5fd8\u8bb0\u5b89\u88c5\u6216\u8005\u81ea\u884c\u7f16\u8bd1\u5bf9\u5e94\u663e\u5361\u6838\u5fc3\u4ee3\u53f7\u7684xformers\uff01"
      ]
    },
    {
      "cell_type": "markdown",
      "id": "70a9ddc1-4d55-45f9-a46f-bba03d6987d6",
      "metadata": {
        "tags": []
      },
      "source": [
        "## <i class=\"fa fa-bolt\"></i> \u5b89\u88c5Xformers"
      ]
    },
    {
      "cell_type": "markdown",
      "id": "1b7f86d7-950c-40e5-8de1-89ad89e40ceb",
      "metadata": {
        "tags": []
      },
      "source": [
        "\u5927\u5e45\u51cf\u5c11\u8ba1\u7b97\u65f6\u95f4\u548c\u663e\u5b58\u5360\u7528\uff0c\u4ee3\u4ef7\u662f\u751f\u6210\u7684\u56fe\u6bcf\u4e2a\u90fd\u6709\u70b9\u53d8\u5316\uff0c\u5f3a\u70c8\u63a8\u8350\u5b89\u88c5!  \n",
        "\u4f46\u4e0d\u540c\u6838\u5fc3\u4ee3\u53f7\u7684\u663e\u5361\u9700\u8981\u4e0d\u540c\u7684\u7f16\u8bd1\u5305\uff0c\u4e0d\u80fd\u6df7\u7528  \n",
        "\u5f53\u7136\u6b64\u7b14\u8bb0\u4f1a\u5e2e\u4f60\u81ea\u52a8\u68c0\u6d4b\u8fd9\u53f0\u673a\u5668\u662f\u5426\u9002\u5408\u5b89\u88c5\uff0c\u800c\u4e14\u4f1a\u81ea\u52a8\u5e2e\u4f60\u5b89\u88c5\u5408\u9002\u7684\u7f16\u8bd1\u5305"
      ]
    },
    {
      "cell_type": "code",
      "execution_count": null,
      "id": "586250ec-228f-4dd8-88d2-626d8da76616",
      "metadata": {
        "tags": []
      },
      "outputs": [],
      "source": [
        "import os,sys\n",
        "# \u8c03\u7528\u547d\u4ee4\u884c\u5de5\u5177git rev-parse\uff0c\u83b7\u53d6git\u9879\u76ee\u7684\u6839\u76ee\u5f55\uff0c\u8fd9\u6837\u65e0\u8bbaipynb\u653e\u5728\u54ea\u4e2a\u4f4d\u7f6e\uff0c\u5b83\u90fd\u80fd\u627e\u5230\u6839\u76ee\u5f55\u4e2d\u7684func\n",
        "git_root = subprocess.run(\n",
        "    [\"git\", \"rev-parse\", \"--show-toplevel\"],\n",
        "    capture_output=True,\n",
        "    text=True,\n",
        ").stdout.strip()\n",
        "# \u628a\u4e0a\u7ea7\u8def\u5f84\u4e5f\u52a0\u5165\u5230\u7cfb\u7edf\u8def\u5f84\u4e2d\uff0c\u8fd9\u6837\u5c31\u80fd\u591f\u627e\u5230func\n",
        "sys.path.append(git_root) \n",
        "\n",
        "from func.xformers import installXformers\n",
        "from func.env import setProxy\n",
        "from IPython.display import clear_output\n",
        "\n",
        "try:\n",
        "    proxy,region\n",
        "except NameError:\n",
        "    cb=setProxy()\n",
        "    proxy=cb['proxy']\n",
        "    region=cb['region']\n",
        "    clear_output(wait=True)\n",
        "\n",
        "installXformers(proxy,region)"
      ]
    },
    {
      "cell_type": "markdown",
      "id": "e2555d30-313a-432b-95e6-2c2bc0ac7e38",
      "metadata": {},
      "source": [
        "# \u4fee\u6539can_run_as_root\u53c2\u6570\uff0c\u4f7f\u811a\u672c\u53ef\u4ee5\u5728root\u7528\u6237\u73af\u5883\u4e0b\u8fd0\u884c"
      ]
    },
    {
      "cell_type": "code",
      "execution_count": null,
      "id": "30be44ca-40fc-4774-9765-8791bfba8ad4",
      "metadata": {
        "tags": []
      },
      "outputs": [],
      "source": [
        "import os\n",
        "import re\n",
        "\n",
        "pattern = re.compile(r'^([^\\s=]+)\\s*=\\s*(\"*.*\"*)$')\n",
        "\n",
        "file_path = None\n",
        "modified = False\n",
        "\n",
        "root_dir = os.path.abspath(os.sep)\n",
        "for root, dirs, files in os.walk(root_dir):\n",
        "    for file in files:\n",
        "        if file.endswith('.sh') and file == 'webui.sh':\n",
        "            file_path = os.path.join(root, file)\n",
        "            with open(file_path) as f:\n",
        "                lines = f.readlines()\n",
        "            with open(file_path, 'w') as f:\n",
        "                for line in lines:\n",
        "                    match = pattern.match(line)\n",
        "                    if match and match.group(1) == 'can_run_as_root':                        \n",
        "                        value = match.group(2)\n",
        "                        if value == \"0\":\n",
        "                            modified = True\n",
        "                            line = f'{match.group(1)}={1}\\n'\n",
        "                        else:\n",
        "                            modified = False\n",
        "                    f.write(line)\n",
        "\n",
        "# \u68c0\u67e5\u4fee\u6539\u662f\u5426\u6210\u529f\n",
        "with open(file_path) as f:\n",
        "    contents = f.read()\n",
        "if modified and 'can_run_as_root=1' in contents:\n",
        "    print(f'\\033[32m\u6587\u4ef6 {file_path} \u4fee\u6539\u6210\u529f\u3002\\033[0m')\n",
        "elif not modified and 'can_run_as_root=1' in contents:\n",
        "    print(f'\\033[32m\u6587\u4ef6 {file_path} \u7b26\u5408\u9884\u671f\u7ed3\u679c\uff0c\u4f46\u5e76\u4e0d\u662f\u672c\u6b21\u6267\u884c\u7684\u4fee\u6539\u3002\\033[0m')\n",
        "else:\n",
        "    print(f'\\033[31m\u6587\u4ef6 {file_path} \u4fee\u6539\u4e0d\u6210\u529f\u3002\\033[0m')\n"
      ]
    },
    {
      "cell_type": "markdown",
      "id": "a53f73e3-f598-4302-8a3f-c4c724759ee9",
      "metadata": {},
      "source": [
        "# \u4e3awebui-user.sh\u6dfb\u52a0\u5404\u79cdargs"
      ]
    },
    {
      "cell_type": "code",
      "execution_count": null,
      "id": "ef43db89-96e3-45f1-bd9a-1850cdaa8b8d",
      "metadata": {
        "tags": []
      },
      "outputs": [],
      "source": [
        "import os\n",
        "import re\n",
        "\n",
        "pattern = re.compile(r'(^\\s*#*\\s*export\\s+COMMANDLINE_ARGS\\s*=\\s*\".*\")')\n",
        "args = [\n",
        "    '--share',\n",
        "    '--opt-split-attention',\n",
        "    '--port 6006',\n",
        "    '--deepdanbooru',\n",
        "    '--administrator',\n",
        "    '--disable-safe-unpickle',\n",
        "    '--xformers'\n",
        "   ]\n",
        "replacement = 'export COMMANDLINE_ARGS=\"' + ' '.join(args) + '\"'\n",
        "\n",
        "modified = False\n",
        "\n",
        "root_dir = os.path.abspath(os.sep)\n",
        "for root, dirs, files in os.walk(root_dir):\n",
        "    for file in files:\n",
        "        if file.endswith('.sh') and 'webui-user' in file:\n",
        "            file_path = os.path.join(root, file)\n",
        "            try:\n",
        "                with open(file_path) as f:\n",
        "                    lines = f.readlines()\n",
        "                with open(file_path, 'w') as f:\n",
        "                    for line in lines:\n",
        "                        match = pattern.match(line)\n",
        "                        if match:\n",
        "                            target = match.group(1)\n",
        "                            line = line.replace(target, replacement)\n",
        "                            modified = True\n",
        "                        f.write(line)\n",
        "            except FileNotFoundError:\n",
        "                print(f'\\033[31m\u6587\u4ef6 {file_path} \u4e0d\u5b58\u5728\u3002\\033[0m')\n",
        "\n",
        "# \u68c0\u67e5\u4fee\u6539\u662f\u5426\u6210\u529f\n",
        "for root, dirs, files in os.walk(root_dir):\n",
        "    for file in files:\n",
        "        if file.endswith('.sh') and 'webui-user' in file:\n",
        "            file_path = os.path.join(root, file)\n",
        "           \n",
        "            with open(file_path) as f:\n",
        "                contents = f.read()\n",
        "            if replacement in contents:\n",
        "                print(f'\\033[32m\u6587\u4ef6 {file_path} \u4fee\u6539\u6210\u529f\u3002\\033[0m')\n",
        "            else:\n",
        "                print(f'\\033[31m\u6587\u4ef6 {file_path} \u4fee\u6539\u4e0d\u6210\u529f\u3002\\033[0m')\n"
      ]
    },
    {
      "cell_type": "code",
      "execution_count": null,
      "id": "b40f1ef2-0adb-469f-b3b3-c73dbf294f96",
      "metadata": {
        "tags": []
      },
      "outputs": [],
      "source": [
        "!source activate && conda activate py3.10.6 && python -c 'import sys;print(sys.executable)'"
      ]
    },
    {
      "cell_type": "markdown",
      "id": "f311059f-c702-4d1b-b7cb-37199bd3cf5d",
      "metadata": {},
      "source": [
        "# \u6302\u8f7d\u6570\u636e\u96c6\u4e2d\u7684ckpt\u5230SD_WebUI\u6a21\u578b\u6240\u5728\u7684\u8def\u5f84"
      ]
    },
    {
      "cell_type": "code",
      "execution_count": null,
      "id": "c8a1879e-e8d1-49a5-bed1-431f3978d9b8",
      "metadata": {
        "tags": []
      },
      "outputs": [],
      "source": [
        "!ln -s /input1/FuXingHao768.ckpt /output/stable-diffusion-webui/models/Stable-diffusion/FuXingHao768.ckpt"
      ]
    },
    {
      "cell_type": "code",
      "execution_count": null,
      "id": "cc28da8a-1734-4bea-9be4-ccd1342bb426",
      "metadata": {},
      "outputs": [],
      "source": [
        "# !cp /input1/FuXingHao768.ckpt /output/stable-diffusion-webui/models/Stable-diffusion/FuXingHao768.ckpt"
      ]
    }
  ],
  "metadata": {
    "kernelspec": {
      "display_name": "Python 3 (ipykernel)",
      "language": "python",
      "name": "python3"
    },
    "language_info": {
      "codemirror_mode": {
        "name": "ipython",
        "version": 3
      },
      "file_extension": ".py",
      "mimetype": "text/x-python",
      "name": "python",
      "nbconvert_exporter": "python",
      "pygments_lexer": "ipython3",
      "version": "3.8.13"
    }
  },
  "nbformat": 4,
  "nbformat_minor": 5
}