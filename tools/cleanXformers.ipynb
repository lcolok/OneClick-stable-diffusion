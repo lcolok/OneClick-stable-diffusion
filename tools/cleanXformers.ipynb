{
 "cells": [
  {
   "cell_type": "markdown",
   "id": "c77a8a20-f701-4c6c-ab77-f0141cb28bae",
   "metadata": {},
   "source": [
    "# 删除Xformers代码，仅仅用于开发调试，请勿随意运行下面的代码"
   ]
  },
  {
   "cell_type": "code",
   "execution_count": 1,
   "id": "c63ee242-5d0b-4ede-950d-ac6124ac2577",
   "metadata": {},
   "outputs": [
    {
     "name": "stdout",
     "output_type": "stream",
     "text": [
      "\u001b[33mWARNING: Skipping xformers as it is not installed.\u001b[0m\n",
      "\u001b[33mWARNING: Running pip as the 'root' user can result in broken permissions and conflicting behaviour with the system package manager. It is recommended to use a virtual environment instead: https://pip.pypa.io/warnings/venv\u001b[0m\n"
     ]
    }
   ],
   "source": [
    "!pip uninstall xformers && rm -rf /root/autodl-tmp/pkg/Xformers_precompiled"
   ]
  }
 ],
 "metadata": {
  "kernelspec": {
   "display_name": "Python 3 (ipykernel)",
   "language": "python",
   "name": "python3"
  },
  "language_info": {
   "codemirror_mode": {
    "name": "ipython",
    "version": 3
   },
   "file_extension": ".py",
   "mimetype": "text/x-python",
   "name": "python",
   "nbconvert_exporter": "python",
   "pygments_lexer": "ipython3",
   "version": "3.8.10"
  }
 },
 "nbformat": 4,
 "nbformat_minor": 5
}
