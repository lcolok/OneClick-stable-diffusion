{
  "cells": [
    {
      "cell_type": "markdown",
      "id": "c77a8a20-f701-4c6c-ab77-f0141cb28bae",
      "metadata": {},
      "source": [
        "# \u5220\u9664Xformers\u4ee3\u7801\uff0c\u4ec5\u4ec5\u7528\u4e8e\u5f00\u53d1\u8c03\u8bd5\uff0c\u8bf7\u52ff\u968f\u610f\u8fd0\u884c\u4e0b\u9762\u7684\u4ee3\u7801"
      ]
    },
    {
      "cell_type": "code",
      "execution_count": null,
      "id": "c63ee242-5d0b-4ede-950d-ac6124ac2577",
      "metadata": {},
      "outputs": [],
      "source": [
        "!pip uninstall xformers && rm -rf /root/autodl-tmp/pkg/Xformers_precompiled"
      ]
    }
  ],
  "metadata": {
    "kernelspec": {
      "display_name": "Python 3 (ipykernel)",
      "language": "python",
      "name": "python3"
    },
    "language_info": {
      "codemirror_mode": {
        "name": "ipython",
        "version": 3
      },
      "file_extension": ".py",
      "mimetype": "text/x-python",
      "name": "python",
      "nbconvert_exporter": "python",
      "pygments_lexer": "ipython3",
      "version": "3.8.10"
    }
  },
  "nbformat": 4,
  "nbformat_minor": 5
}